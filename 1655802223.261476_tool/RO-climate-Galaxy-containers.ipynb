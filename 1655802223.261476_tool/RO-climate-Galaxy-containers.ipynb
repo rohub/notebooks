{
 "cells": [
  {
   "cell_type": "markdown",
   "id": "d0658a85-bc5f-465e-8d17-4e28f90223b1",
   "metadata": {},
   "source": [
    "# Update Research Object for paper \"Containers to run Earth System Models on High Performance Computers and foster reproducible research\""
   ]
  },
  {
   "cell_type": "code",
   "execution_count": 1,
   "id": "9a2dd7b9-eca9-43b9-a801-99fa642de20c",
   "metadata": {},
   "outputs": [
    {
     "name": "stdout",
     "output_type": "stream",
     "text": [
      "Collecting rohub\n",
      "  Using cached rohub-1.0.5.post1-py3-none-any.whl\n",
      "Requirement already satisfied: pandas in /opt/conda/lib/python3.8/site-packages (from rohub) (1.2.4)\n",
      "Requirement already satisfied: requests in /opt/conda/lib/python3.8/site-packages (from rohub) (2.25.1)\n",
      "Requirement already satisfied: python-dateutil>=2.7.3 in /opt/conda/lib/python3.8/site-packages (from pandas->rohub) (2.8.1)\n",
      "Requirement already satisfied: pytz>=2017.3 in /opt/conda/lib/python3.8/site-packages (from pandas->rohub) (2021.1)\n",
      "Requirement already satisfied: numpy>=1.16.5 in /opt/conda/lib/python3.8/site-packages (from pandas->rohub) (1.19.5)\n",
      "Requirement already satisfied: six>=1.5 in /opt/conda/lib/python3.8/site-packages (from python-dateutil>=2.7.3->pandas->rohub) (1.15.0)\n",
      "Requirement already satisfied: idna<3,>=2.5 in /opt/conda/lib/python3.8/site-packages (from requests->rohub) (2.10)\n",
      "Requirement already satisfied: chardet<5,>=3.0.2 in /opt/conda/lib/python3.8/site-packages (from requests->rohub) (4.0.0)\n",
      "Requirement already satisfied: certifi>=2017.4.17 in /opt/conda/lib/python3.8/site-packages (from requests->rohub) (2021.10.8)\n",
      "Requirement already satisfied: urllib3<1.27,>=1.21.1 in /opt/conda/lib/python3.8/site-packages (from requests->rohub) (1.26.4)\n",
      "Installing collected packages: rohub\n",
      "Successfully installed rohub-1.0.5.post1\n",
      "Note: you may need to restart the kernel to use updated packages.\n"
     ]
    }
   ],
   "source": [
    "pip install rohub"
   ]
  },
  {
   "cell_type": "code",
   "execution_count": 2,
   "id": "b1e80a31-9f9e-4224-a523-fa88c0ac2f6d",
   "metadata": {},
   "outputs": [],
   "source": [
    "import rohub\n",
    "import os"
   ]
  },
  {
   "cell_type": "code",
   "execution_count": 3,
   "id": "0bd5514c-d883-42b1-b551-64d34b4b09a4",
   "metadata": {},
   "outputs": [],
   "source": [
    "rohub_user = open(os.path.join(os.environ['HOME'],\"rohub-user\")).read().rstrip()\n",
    "rohub_pwd = open(os.path.join(os.environ['HOME'],\"rohub-pwd\")).read().rstrip()"
   ]
  },
  {
   "cell_type": "code",
   "execution_count": 4,
   "id": "0d759665-ca38-4164-8fbb-c97088efe25d",
   "metadata": {},
   "outputs": [
    {
     "name": "stdout",
     "output_type": "stream",
     "text": [
      "Logged successfully as annefou@geo.uio.no.\n"
     ]
    }
   ],
   "source": [
    "rohub.login(username=rohub_user, password=rohub_pwd)"
   ]
  },
  {
   "cell_type": "code",
   "execution_count": 5,
   "id": "77442445-54de-4a8c-a14b-33bd7d51063b",
   "metadata": {},
   "outputs": [],
   "source": [
    "id = 'f55e746b-6a1e-4712-ac21-a3c99869783d'"
   ]
  },
  {
   "cell_type": "code",
   "execution_count": 6,
   "id": "5f42c8bc-4c8c-4c47-973d-a7042cf1caf2",
   "metadata": {},
   "outputs": [
    {
     "name": "stdout",
     "output_type": "stream",
     "text": [
      "Research Object was successfully loaded with id = f55e746b-6a1e-4712-ac21-a3c99869783d\n"
     ]
    }
   ],
   "source": [
    "ro = rohub.ros_load(identifier=id)"
   ]
  },
  {
   "cell_type": "code",
   "execution_count": 7,
   "id": "f4b19d5b-6301-438d-a15c-65beabd3b88f",
   "metadata": {},
   "outputs": [
    {
     "data": {
      "text/plain": [
       "{'identifier': 'f55e746b-6a1e-4712-ac21-a3c99869783d',\n",
       " 'shared_link': 'https://w3id.org/ro-id/f55e746b-6a1e-4712-ac21-a3c99869783d',\n",
       " 'title': 'Docker Climate Analysis Jupyter Container',\n",
       " 'description': '🐳 🔬 📚 Jupyter running in a docker container. This image can be used to integrate Jupyter into Galaxy. This Jupyter Docker container is used by the Galaxy Project and can be installed from the quay.io index (https://quay.io/repository/nordicesmhub/docker-climate-notebook).',\n",
       " 'status': 'LIVE',\n",
       " 'access_mode': 'PUBLIC',\n",
       " 'type': 'Executable Research Object',\n",
       " 'template': 'Executable Research Object folders structure',\n",
       " 'created': '2022-03-26T09:45:54.364171Z',\n",
       " 'creator': 'annefou@geo.uio.no',\n",
       " 'modificator': 'service-account-enrichment',\n",
       " 'modified': '2022-03-28T14:26:52.539185Z',\n",
       " 'importer': None,\n",
       " 'research_areas': ['Applied sciences', 'Climatology'],\n",
       " 'owner': 'annefou@geo.uio.no',\n",
       " 'editors': ['annefou@geo.uio.no'],\n",
       " 'readers': [],\n",
       " 'rating': '0.00',\n",
       " 'number_of_ratings': 0,\n",
       " 'number_of_likes': 0,\n",
       " 'number_of_dislikes': 0,\n",
       " 'completness': 43,\n",
       " 'size': 7999,\n",
       " 'creation_mode': 'MANUAL',\n",
       " 'doi': None,\n",
       " 'api_link': 'https://api.rohub.org/api/ros/f55e746b-6a1e-4712-ac21-a3c99869783d/'}"
      ]
     },
     "execution_count": 7,
     "metadata": {},
     "output_type": "execute_result"
    }
   ],
   "source": [
    "ro.show_metadata()"
   ]
  },
  {
   "cell_type": "code",
   "execution_count": 8,
   "id": "7a542f57-39b3-495a-82fa-0725dee518cb",
   "metadata": {},
   "outputs": [
    {
     "data": {
      "text/html": [
       "<div>\n",
       "<style scoped>\n",
       "    .dataframe tbody tr th:only-of-type {\n",
       "        vertical-align: middle;\n",
       "    }\n",
       "\n",
       "    .dataframe tbody tr th {\n",
       "        vertical-align: top;\n",
       "    }\n",
       "\n",
       "    .dataframe thead th {\n",
       "        text-align: right;\n",
       "    }\n",
       "</style>\n",
       "<table border=\"1\" class=\"dataframe\">\n",
       "  <thead>\n",
       "    <tr style=\"text-align: right;\">\n",
       "      <th></th>\n",
       "      <th>identifier</th>\n",
       "      <th>organization_id</th>\n",
       "      <th>display_name</th>\n",
       "      <th>email</th>\n",
       "      <th>url</th>\n",
       "      <th>ror_identifier</th>\n",
       "    </tr>\n",
       "  </thead>\n",
       "  <tbody>\n",
       "    <tr>\n",
       "      <th>0</th>\n",
       "      <td>fbd9bdcf-4a1d-4ae8-9a90-6b9ec5a3b8b2</td>\n",
       "      <td>https://ror.org/04jcwf484</td>\n",
       "      <td>Nordic e-Infrastructure Collaboration</td>\n",
       "      <td>None</td>\n",
       "      <td>https://neic.no/</td>\n",
       "      <td>04jcwf484</td>\n",
       "    </tr>\n",
       "    <tr>\n",
       "      <th>1</th>\n",
       "      <td>b1893a50-9f9b-49e8-8ab7-114152e29b9e</td>\n",
       "      <td>https://neic.no/</td>\n",
       "      <td>Nordic e-Infrastructure Collaboration</td>\n",
       "      <td></td>\n",
       "      <td>https://neic.no/</td>\n",
       "      <td>04jcwf484</td>\n",
       "    </tr>\n",
       "  </tbody>\n",
       "</table>\n",
       "</div>"
      ],
      "text/plain": [
       "                             identifier            organization_id  \\\n",
       "0  fbd9bdcf-4a1d-4ae8-9a90-6b9ec5a3b8b2  https://ror.org/04jcwf484   \n",
       "1  b1893a50-9f9b-49e8-8ab7-114152e29b9e           https://neic.no/   \n",
       "\n",
       "                            display_name email               url  \\\n",
       "0  Nordic e-Infrastructure Collaboration  None  https://neic.no/   \n",
       "1  Nordic e-Infrastructure Collaboration        https://neic.no/   \n",
       "\n",
       "  ror_identifier  \n",
       "0      04jcwf484  \n",
       "1      04jcwf484  "
      ]
     },
     "execution_count": 8,
     "metadata": {},
     "output_type": "execute_result"
    }
   ],
   "source": [
    "organizations=rohub.organizations_find(search=\"Nordic\")\n",
    "organizations"
   ]
  },
  {
   "cell_type": "code",
   "execution_count": 9,
   "id": "95bb25a8-781d-406d-8b9b-487ca366ac79",
   "metadata": {},
   "outputs": [
    {
     "data": {
      "text/plain": [
       "'https://ror.org/04jcwf484'"
      ]
     },
     "execution_count": 9,
     "metadata": {},
     "output_type": "execute_result"
    }
   ],
   "source": [
    "neic_org = organizations.loc[0,\"organization_id\"]\n",
    "neic_org"
   ]
  },
  {
   "cell_type": "code",
   "execution_count": 10,
   "id": "6a10052c-4912-4d31-ad39-a595be63795b",
   "metadata": {},
   "outputs": [
    {
     "data": {
      "text/html": [
       "<div>\n",
       "<style scoped>\n",
       "    .dataframe tbody tr th:only-of-type {\n",
       "        vertical-align: middle;\n",
       "    }\n",
       "\n",
       "    .dataframe tbody tr th {\n",
       "        vertical-align: top;\n",
       "    }\n",
       "\n",
       "    .dataframe thead th {\n",
       "        text-align: right;\n",
       "    }\n",
       "</style>\n",
       "<table border=\"1\" class=\"dataframe\">\n",
       "  <thead>\n",
       "    <tr style=\"text-align: right;\">\n",
       "      <th></th>\n",
       "      <th>identifier</th>\n",
       "      <th>organization_id</th>\n",
       "      <th>display_name</th>\n",
       "      <th>email</th>\n",
       "      <th>url</th>\n",
       "      <th>ror_identifier</th>\n",
       "    </tr>\n",
       "  </thead>\n",
       "  <tbody>\n",
       "    <tr>\n",
       "      <th>0</th>\n",
       "      <td>1d581e9d-25e2-4029-bdeb-6c055a0db8e4</td>\n",
       "      <td>https://ror.org/01xtthb56</td>\n",
       "      <td>University of Oslo</td>\n",
       "      <td>None</td>\n",
       "      <td>http://www.uio.no/english/</td>\n",
       "      <td>01xtthb56</td>\n",
       "    </tr>\n",
       "    <tr>\n",
       "      <th>1</th>\n",
       "      <td>f8b4ad0c-a4b1-4595-81a0-dcf42db083d4</td>\n",
       "      <td>http://www.uio.no/english/</td>\n",
       "      <td>University of Oslo</td>\n",
       "      <td></td>\n",
       "      <td>http://www.uio.no/english/</td>\n",
       "      <td>01xtthb56</td>\n",
       "    </tr>\n",
       "  </tbody>\n",
       "</table>\n",
       "</div>"
      ],
      "text/plain": [
       "                             identifier             organization_id  \\\n",
       "0  1d581e9d-25e2-4029-bdeb-6c055a0db8e4   https://ror.org/01xtthb56   \n",
       "1  f8b4ad0c-a4b1-4595-81a0-dcf42db083d4  http://www.uio.no/english/   \n",
       "\n",
       "         display_name email                         url ror_identifier  \n",
       "0  University of Oslo  None  http://www.uio.no/english/      01xtthb56  \n",
       "1  University of Oslo        http://www.uio.no/english/      01xtthb56  "
      ]
     },
     "execution_count": 10,
     "metadata": {},
     "output_type": "execute_result"
    }
   ],
   "source": [
    "organizations=rohub.organizations_find(search=\"Oslo\")\n",
    "organizations"
   ]
  },
  {
   "cell_type": "code",
   "execution_count": 11,
   "id": "e5d7bc4a-af28-404f-a1b8-47035fcacd8b",
   "metadata": {},
   "outputs": [
    {
     "data": {
      "text/plain": [
       "'https://ror.org/01xtthb56'"
      ]
     },
     "execution_count": 11,
     "metadata": {},
     "output_type": "execute_result"
    }
   ],
   "source": [
    "uio_org = organizations.loc[0,\"organization_id\"]\n",
    "uio_org"
   ]
  },
  {
   "cell_type": "code",
   "execution_count": 12,
   "id": "483e1e1b-6eb5-454d-b228-8962ffde907c",
   "metadata": {},
   "outputs": [],
   "source": [
    "list_publishers = [uio_org, neic_org]"
   ]
  },
  {
   "cell_type": "code",
   "execution_count": 13,
   "id": "e9cbd820-dfcf-4fc0-ab8e-c0f5c049c5ed",
   "metadata": {
    "tags": []
   },
   "outputs": [
    {
     "name": "stdout",
     "output_type": "stream",
     "text": [
      "Agent: https://ror.org/01xtthb56 recognized in the system.\n",
      "Agent: https://ror.org/04jcwf484 recognized in the system.\n"
     ]
    },
    {
     "data": {
      "text/plain": [
       "[{'identifier': '1d581e9d-25e2-4029-bdeb-6c055a0db8e4',\n",
       "  'username': 'https://ror.org/01xtthb56',\n",
       "  'name': 'https://ror.org/01xtthb56',\n",
       "  'type': 'Organization',\n",
       "  'order': 0,\n",
       "  'display_name': 'University of Oslo'},\n",
       " {'identifier': 'fbd9bdcf-4a1d-4ae8-9a90-6b9ec5a3b8b2',\n",
       "  'username': 'https://ror.org/04jcwf484',\n",
       "  'name': 'https://ror.org/04jcwf484',\n",
       "  'type': 'Organization',\n",
       "  'order': 1,\n",
       "  'display_name': 'Nordic e-Infrastructure Collaboration'}]"
      ]
     },
     "execution_count": 13,
     "metadata": {},
     "output_type": "execute_result"
    }
   ],
   "source": [
    "ro.set_publishers(agents=list_publishers)"
   ]
  },
  {
   "cell_type": "code",
   "execution_count": 14,
   "id": "a673b602-7d74-4141-88c4-146902701ab4",
   "metadata": {},
   "outputs": [],
   "source": [
    "list_copyright_holders = [uio_org]"
   ]
  },
  {
   "cell_type": "code",
   "execution_count": 15,
   "id": "2c958946-22ed-4f34-898c-2c1777c2642a",
   "metadata": {
    "tags": []
   },
   "outputs": [
    {
     "name": "stdout",
     "output_type": "stream",
     "text": [
      "Agent: https://ror.org/01xtthb56 recognized in the system.\n"
     ]
    },
    {
     "data": {
      "text/plain": [
       "[{'identifier': '1d581e9d-25e2-4029-bdeb-6c055a0db8e4',\n",
       "  'username': 'https://ror.org/01xtthb56',\n",
       "  'name': 'https://ror.org/01xtthb56',\n",
       "  'type': 'Organization',\n",
       "  'order': 0,\n",
       "  'display_name': 'University of Oslo'}]"
      ]
     },
     "execution_count": 15,
     "metadata": {},
     "output_type": "execute_result"
    }
   ],
   "source": [
    "ro.set_copyright_holders(agents=list_copyright_holders)"
   ]
  },
  {
   "cell_type": "code",
   "execution_count": 16,
   "id": "80f0a5e8-630c-467c-9686-7f9efce69198",
   "metadata": {},
   "outputs": [],
   "source": [
    "funded_by = {\n",
    "\"grant_id\": \"857652\",\n",
    "\"grant_Name\": \"EOSC-Nordic\",\n",
    "\"grant_title\": \"EOSC-Nordic\",\n",
    "\"funder_name\": \"European Commission\",\n",
    "\"funder_doi\": \"10.13039/501100000781\",\n",
    "}"
   ]
  },
  {
   "cell_type": "code",
   "execution_count": 17,
   "id": "d443020f-8d5e-4b96-99c1-cc61438dd1f8",
   "metadata": {},
   "outputs": [
    {
     "data": {
      "text/plain": [
       "'6209c466-29be-4cf7-a974-72ecda1a42a6'"
      ]
     },
     "execution_count": 17,
     "metadata": {},
     "output_type": "execute_result"
    }
   ],
   "source": [
    "ro.add_funding(grant_identifier=funded_by[\"grant_id\"], grant_name=funded_by[\"grant_Name\"],\n",
    "                   funder_name=funded_by[\"funder_name\"], grant_title=funded_by[\"grant_title\"],\n",
    "                   funder_doi=funded_by[\"funder_doi\"])"
   ]
  },
  {
   "cell_type": "markdown",
   "id": "cd20859f-f222-4e69-833e-80918d8a8b52",
   "metadata": {},
   "source": [
    "## Add collaborators/contributors"
   ]
  },
  {
   "cell_type": "code",
   "execution_count": 28,
   "id": "dfbe44c0-6055-44d3-9014-1aa32e319b46",
   "metadata": {},
   "outputs": [
    {
     "name": "stdout",
     "output_type": "stream",
     "text": [
      "Agent for: {'display_name': 'Björn Grüning', 'email': 'bjoern.gruening@gmail.com', 'orcid_id': '0000-0002-3079-6586', 'affiliation': 'University of Freiburg, Freiburg (Germany)'} does not exist in the system, creating a new one based on the input data...\n",
      "User successfully created with internal id: 34ba1c96-25b9-4c66-8acf-2951dbe1403d!\n"
     ]
    },
    {
     "data": {
      "text/plain": [
       "[{'identifier': '34ba1c96-25b9-4c66-8acf-2951dbe1403d',\n",
       "  'username': 'https://orcid.org/0000-0002-3079-6586',\n",
       "  'name': 'https://orcid.org/0000-0002-3079-6586',\n",
       "  'type': 'ExternalUser',\n",
       "  'order': 0,\n",
       "  'display_name': 'Björn Grüning',\n",
       "  'orcid_identifier': '0000-0002-3079-6586',\n",
       "  'affiliation': 'University of Freiburg, Freiburg (Germany)'}]"
      ]
     },
     "execution_count": 28,
     "metadata": {},
     "output_type": "execute_result"
    }
   ],
   "source": [
    "ro.set_contributors(agents=[{ \"display_name\": \"Björn Grüning\", \n",
    "                             \"email\":\"bjoern.gruening@gmail.com\",\n",
    "                             \"orcid_id\":\"0000-0002-3079-6586\",\n",
    "                             \"affiliation\": \"University of Freiburg, Freiburg (Germany)\"}\n",
    "                           ])"
   ]
  },
  {
   "cell_type": "code",
   "execution_count": 18,
   "id": "91f0a14c-ebc6-42b3-876f-1076750351a2",
   "metadata": {},
   "outputs": [
    {
     "data": {
      "text/html": [
       "<div>\n",
       "<style scoped>\n",
       "    .dataframe tbody tr th:only-of-type {\n",
       "        vertical-align: middle;\n",
       "    }\n",
       "\n",
       "    .dataframe tbody tr th {\n",
       "        vertical-align: top;\n",
       "    }\n",
       "\n",
       "    .dataframe thead th {\n",
       "        text-align: right;\n",
       "    }\n",
       "</style>\n",
       "<table border=\"1\" class=\"dataframe\">\n",
       "  <thead>\n",
       "    <tr style=\"text-align: right;\">\n",
       "      <th></th>\n",
       "      <th>identifier</th>\n",
       "      <th>name</th>\n",
       "      <th>description</th>\n",
       "      <th>creator</th>\n",
       "      <th>created_on</th>\n",
       "      <th>modified_on</th>\n",
       "      <th>path</th>\n",
       "    </tr>\n",
       "  </thead>\n",
       "  <tbody>\n",
       "    <tr>\n",
       "      <th>0</th>\n",
       "      <td>bf116be4-6527-40c0-8204-782e09a22ec1</td>\n",
       "      <td>biblio</td>\n",
       "      <td>None</td>\n",
       "      <td>annefou@geo.uio.no</td>\n",
       "      <td>2022-03-28T14:12:33.619158+0000</td>\n",
       "      <td>2022-03-28T14:12:33.621288+0000</td>\n",
       "      <td>biblio</td>\n",
       "    </tr>\n",
       "    <tr>\n",
       "      <th>1</th>\n",
       "      <td>d8ba1d34-be89-44cb-a825-d77292886992</td>\n",
       "      <td>input</td>\n",
       "      <td>None</td>\n",
       "      <td>annefou@geo.uio.no</td>\n",
       "      <td>2022-03-28T14:12:33.619857+0000</td>\n",
       "      <td>2022-03-28T14:12:33.621508+0000</td>\n",
       "      <td>input</td>\n",
       "    </tr>\n",
       "    <tr>\n",
       "      <th>2</th>\n",
       "      <td>02dfc471-762e-4b51-8b12-f6bc779f6d29</td>\n",
       "      <td>output</td>\n",
       "      <td>None</td>\n",
       "      <td>annefou@geo.uio.no</td>\n",
       "      <td>2022-03-28T14:12:33.620064+0000</td>\n",
       "      <td>2022-03-28T14:12:33.621641+0000</td>\n",
       "      <td>output</td>\n",
       "    </tr>\n",
       "    <tr>\n",
       "      <th>3</th>\n",
       "      <td>3f495ef4-ea88-4021-a0a9-6cd20939849f</td>\n",
       "      <td>tool</td>\n",
       "      <td>None</td>\n",
       "      <td>annefou@geo.uio.no</td>\n",
       "      <td>2022-03-28T14:12:33.620208+0000</td>\n",
       "      <td>2022-03-28T14:12:33.621761+0000</td>\n",
       "      <td>tool</td>\n",
       "    </tr>\n",
       "  </tbody>\n",
       "</table>\n",
       "</div>"
      ],
      "text/plain": [
       "                             identifier    name description  \\\n",
       "0  bf116be4-6527-40c0-8204-782e09a22ec1  biblio        None   \n",
       "1  d8ba1d34-be89-44cb-a825-d77292886992   input        None   \n",
       "2  02dfc471-762e-4b51-8b12-f6bc779f6d29  output        None   \n",
       "3  3f495ef4-ea88-4021-a0a9-6cd20939849f    tool        None   \n",
       "\n",
       "              creator                       created_on  \\\n",
       "0  annefou@geo.uio.no  2022-03-28T14:12:33.619158+0000   \n",
       "1  annefou@geo.uio.no  2022-03-28T14:12:33.619857+0000   \n",
       "2  annefou@geo.uio.no  2022-03-28T14:12:33.620064+0000   \n",
       "3  annefou@geo.uio.no  2022-03-28T14:12:33.620208+0000   \n",
       "\n",
       "                       modified_on    path  \n",
       "0  2022-03-28T14:12:33.621288+0000  biblio  \n",
       "1  2022-03-28T14:12:33.621508+0000   input  \n",
       "2  2022-03-28T14:12:33.621641+0000  output  \n",
       "3  2022-03-28T14:12:33.621761+0000    tool  "
      ]
     },
     "execution_count": 18,
     "metadata": {},
     "output_type": "execute_result"
    }
   ],
   "source": [
    "myfolders = ro.list_folders()\n",
    "myfolders"
   ]
  },
  {
   "cell_type": "markdown",
   "id": "d1e42155-8e8d-4037-9a98-af453b48cd0a",
   "metadata": {},
   "source": [
    "## Aggregate resources in the RO"
   ]
  },
  {
   "cell_type": "code",
   "execution_count": 19,
   "id": "93ecfb2b-aac2-4276-9ee5-adc1ebcbc4f5",
   "metadata": {},
   "outputs": [
    {
     "name": "stdout",
     "output_type": "stream",
     "text": [
      "Resource was successfully created with id = a6ec89f1-f9fe-4edb-979c-aad24b30ad79\n"
     ]
    },
    {
     "data": {
      "text/plain": [
       "Resource(identifier=a6ec89f1-f9fe-4edb-979c-aad24b30ad79, post_request=False)"
      ]
     },
     "execution_count": 19,
     "metadata": {},
     "output_type": "execute_result"
    }
   ],
   "source": [
    "res_file_url = 'https://raw.githubusercontent.com/NordicESMhub/docker-climate-notebook/ie2/climate-jupyter-galaxy_web.gif'\n",
    "res_type = \"Sketch\"\n",
    "res_title = \"How to start Galaxy Climate JupyterLab (gif animated)\"\n",
    "res_description=\"This is a gif animated image showing how to start the Galaxy Climate JupyterLab in Galaxy Europe\"\n",
    "res_folder =  'biblio'\n",
    "\n",
    "ro.add_external_resource(res_type=res_type, input_url=res_file_url, title=res_title, description=res_description, folder=res_folder)"
   ]
  },
  {
   "cell_type": "code",
   "execution_count": 20,
   "id": "47acb37d-165d-43f7-b369-c938c5d5e5b2",
   "metadata": {},
   "outputs": [
    {
     "name": "stdout",
     "output_type": "stream",
     "text": [
      "Resource was successfully created with id = 75dbcc7c-d00c-4d51-94e4-c4f358e24c39\n"
     ]
    },
    {
     "data": {
      "text/plain": [
       "Resource(identifier=75dbcc7c-d00c-4d51-94e4-c4f358e24c39, post_request=False)"
      ]
     },
     "execution_count": 20,
     "metadata": {},
     "output_type": "execute_result"
    }
   ],
   "source": [
    "res_file_url = 'https://raw.githubusercontent.com/NordicESMhub/docker-climate-notebook/ie2/map_vis_Galaxy.gif'\n",
    "res_type = \"Sketch\"\n",
    "res_title = \"Demo of some of the functionalities of the Galaxy Climate JupyterLab (gif animated)\"\n",
    "res_description=\"This is a gif animated image showing some of the functionalities of the Galaxy Climate JupyterLab\"\n",
    "res_folder =  'biblio'\n",
    "\n",
    "ro.add_external_resource(res_type=res_type, input_url=res_file_url, title=res_title, description=res_description, folder=res_folder)"
   ]
  },
  {
   "cell_type": "code",
   "execution_count": 22,
   "id": "059c08f2-6e74-4c1e-b35d-21aebc96675a",
   "metadata": {},
   "outputs": [
    {
     "name": "stdout",
     "output_type": "stream",
     "text": [
      "Resource was successfully created with id = 77bcf3c7-6300-48e5-80af-57cbb11cefa5\n"
     ]
    },
    {
     "data": {
      "text/plain": [
       "Resource(identifier=77bcf3c7-6300-48e5-80af-57cbb11cefa5, post_request=False)"
      ]
     },
     "execution_count": 22,
     "metadata": {},
     "output_type": "execute_result"
    }
   ],
   "source": [
    "res_file_url = 'https://quay.io/repository/nordicesmhub/docker-climate-notebook'\n",
    "res_type = \"Image\"\n",
    "res_title = \"Docker images for Galaxy Climate JupyterLab (Quay Container Registry)\"\n",
    "res_description=\"\"\"These docker images (different tags) correspond to the docker images built for Galaxy Climate JupyterLab.\n",
    "The docker images can be used within Galaxy and as standalone docker images.\n",
    "You can use the same images we use in Galaxy on your local computer or any other platform:\n",
    "\n",
    "1. Pull an existing image locally\n",
    "\n",
    "docker pull quay.io/nordicesmhub/docker-climate-notebook\n",
    "\n",
    "2. Run a pre-build image from docker registry\n",
    "\n",
    "3. To start your JupyterLab:\n",
    "\n",
    "docker run -p 7777:8888 quay.io/nordicesmhub/docker-climate-notebook\n",
    "\n",
    "and you will top open a new terminal and start your favorite web browser.\n",
    "\n",
    "your running Jupyter Notebook instance on http://localhost:7777/ipython/.\n",
    "\n",
    "Remark: for reproducibility purpose, we suggest you use a specific tag e.g.\n",
    "\n",
    "docker pull quay.io/nordicesmhub/docker-climate-notebook:2021-03-18\n",
    "\n",
    "Then use the same tag when starting your JupyterLab application:\n",
    "\n",
    "docker run -p 7777:8888 quay.io/nordicesmhub/docker-climate-notebook:2021-03-18\n",
    "\"\"\"\n",
    "res_folder =  'output'\n",
    "\n",
    "ro.add_external_resource(res_type=res_type, input_url=res_file_url, title=res_title, description=res_description, folder=res_folder)"
   ]
  },
  {
   "cell_type": "code",
   "execution_count": 24,
   "id": "ddc4e8ee-46b3-4b37-b8b3-3284dd0091fe",
   "metadata": {},
   "outputs": [
    {
     "name": "stdout",
     "output_type": "stream",
     "text": [
      "Resource was successfully created with id = 624d5550-3498-47ea-96fb-f9d5603336a7\n"
     ]
    },
    {
     "data": {
      "text/plain": [
       "Resource(identifier=624d5550-3498-47ea-96fb-f9d5603336a7, post_request=False)"
      ]
     },
     "execution_count": 24,
     "metadata": {},
     "output_type": "execute_result"
    }
   ],
   "source": [
    "res_file_url = 'https://github.com/NordicESMhub/docker-climate-notebook'\n",
    "res_type = \"Software source code\"\n",
    "res_title = \"Source code for building the docker container (github repository)\"\n",
    "res_description=\"This github repository contains all the sources required for building the docker containers that are made available in Quay Container Registry.\"\n",
    "res_folder =  'tool'\n",
    "\n",
    "ro.add_external_resource(res_type=res_type, input_url=res_file_url, title=res_title, description=res_description, folder=res_folder)"
   ]
  },
  {
   "cell_type": "markdown",
   "id": "d93b3646-ea81-4585-8912-469d6e0fde89",
   "metadata": {},
   "source": [
    "## Add internal resources"
   ]
  },
  {
   "cell_type": "code",
   "execution_count": 26,
   "id": "60b146b0-509f-4f04-9dec-c5931a02802e",
   "metadata": {},
   "outputs": [
    {
     "name": "stdout",
     "output_type": "stream",
     "text": [
      "Resource was successfully created with id = 1ed42fe1-b9ab-45aa-93fa-e4711e59ee46\n"
     ]
    },
    {
     "data": {
      "text/plain": [
       "Resource(identifier=1ed42fe1-b9ab-45aa-93fa-e4711e59ee46, post_request=False)"
      ]
     },
     "execution_count": 26,
     "metadata": {},
     "output_type": "execute_result"
    }
   ],
   "source": [
    "res_file_path = 'interactivetool_climate_notebook.xml'\n",
    "\n",
    "res_res_type = \"Script\"\n",
    "res_title = \"Galaxy Climate JupyterLab Tool wrapper (xml)\"\n",
    "res_description = \"\"\"\n",
    "This is the Galaxy Climate JupyterLab tool wrapper used by Galaxy to start the Galaxy Climate JupyterLab on a Galaxy instance. \n",
    "\"\"\"\n",
    "res_folder =  'tool'\n",
    "\n",
    "ro.add_internal_resource(res_type=res_res_type, file_path=res_file_path, title=res_title, description=res_description, folder=res_folder)"
   ]
  },
  {
   "cell_type": "code",
   "execution_count": 27,
   "id": "5bf6eea1-c84a-4fff-8a8b-e1bef0a09690",
   "metadata": {},
   "outputs": [
    {
     "name": "stdout",
     "output_type": "stream",
     "text": [
      "Resource was successfully created with id = c54e557e-c1b7-4964-9989-9261fe5fd80c\n"
     ]
    },
    {
     "data": {
      "text/plain": [
       "Resource(identifier=c54e557e-c1b7-4964-9989-9261fe5fd80c, post_request=False)"
      ]
     },
     "execution_count": 27,
     "metadata": {},
     "output_type": "execute_result"
    }
   ],
   "source": [
    "res_file_path = 'default_notebook.ipynb'\n",
    "\n",
    "res_res_type = \"Jupyter Notebook\"\n",
    "res_title = \"Default Jupyter Notebook for Galaxy Climate JupyterLab\"\n",
    "res_description = \"\"\"\n",
    "Default Jupyter Notebook used when starting Galaxy Climate JupyterLab if no other Jupyter Notebook is passed by the user. \n",
    "\"\"\"\n",
    "res_folder =  'input'\n",
    "\n",
    "ro.add_internal_resource(res_type=res_res_type, file_path=res_file_path, title=res_title, description=res_description, folder=res_folder)"
   ]
  },
  {
   "cell_type": "code",
   "execution_count": null,
   "id": "9bdcde99-c810-42b7-b836-a42bda6efb9a",
   "metadata": {},
   "outputs": [],
   "source": []
  }
 ],
 "metadata": {
  "kernelspec": {
   "display_name": "Python 3",
   "language": "python",
   "name": "python3"
  },
  "language_info": {
   "codemirror_mode": {
    "name": "ipython",
    "version": 3
   },
   "file_extension": ".py",
   "mimetype": "text/x-python",
   "name": "python",
   "nbconvert_exporter": "python",
   "pygments_lexer": "ipython3",
   "version": "3.8.8"
  }
 },
 "nbformat": 4,
 "nbformat_minor": 5
}
