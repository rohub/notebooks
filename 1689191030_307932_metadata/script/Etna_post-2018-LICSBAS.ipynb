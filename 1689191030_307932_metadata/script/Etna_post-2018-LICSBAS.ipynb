{
 "cells": [
  {
   "cell_type": "markdown",
   "id": "dfc7b4cf-aea3-4df2-bca3-d815e3d73071",
   "metadata": {},
   "source": [
    "<img src=\"../AUXFILE/Reliance-logo.jpg\" width=\"300\" align=\"center\">"
   ]
  },
  {
   "cell_type": "markdown",
   "id": "966a9c86-e6c2-4482-a233-130769f7da65",
   "metadata": {},
   "source": [
    "# LiCSBAS on Etna Volcano \n",
    "### The current workflow is a run of LiCSBAS code to extract the mean ground velocity map and the associated time-series of displacement, of the post eruption phase relevant to the December 2018 event on Etna volcano"
   ]
  },
  {
   "cell_type": "markdown",
   "id": "606c1bf3-e721-4d3d-9899-5831e8406130",
   "metadata": {},
   "source": [
    "### Data are available from **COMET-LiCS** Sentinel-1 *InSAR* portal: \n"
   ]
  },
  {
   "cell_type": "markdown",
   "id": "f57c5e14-5336-4be1-ad87-9042035bd79d",
   "metadata": {},
   "source": [
    "<img src=\"../AUXFILE//COMET_Horizontal_Colour-300x113.jpg\" width=\"250\" align=\"up\">\n",
    "\n",
    "<https://comet.nerc.ac.uk/COMET-LiCS-portal/>"
   ]
  },
  {
   "cell_type": "markdown",
   "id": "0dd2425c-21ef-4034-891a-069bb676fc48",
   "metadata": {
    "tags": []
   },
   "source": [
    "## setup of environment variables fo LiCSBAS execution and missing libs "
   ]
  },
  {
   "cell_type": "code",
   "execution_count": null,
   "id": "b33bf592-6f1b-415e-9c4a-2571fd7eac85",
   "metadata": {},
   "outputs": [],
   "source": [
    "import sys, os\n",
    "from IPython.display import Image"
   ]
  },
  {
   "cell_type": "code",
   "execution_count": null,
   "id": "971d7265-fc03-4f62-9507-73abf0446baa",
   "metadata": {},
   "outputs": [],
   "source": [
    "# setup of evnironment variables\n",
    "os.environ ['LICSBAS_PATH']='/home/jovyan/MYLICS/LiCSBAS-master'\n",
    "a = os.getenv('PATH')\n",
    "b = os.getenv('LICSBAS_PATH')\n",
    "c = os.getenv('PYTHONPATH')\n",
    "os.environ ['PATH'] = f'{a}:{b}/bin'\n",
    "d = f'{b}/LiCSBAS_lib'\n",
    "os.environ ['PYTHONPATH'] = f'{c}:{d}'"
   ]
  },
  {
   "cell_type": "code",
   "execution_count": null,
   "id": "e49efedb-8b7b-45cf-899f-c753fefd168d",
   "metadata": {},
   "outputs": [],
   "source": [
    "#install missing libs\n",
    "! pip install astropy"
   ]
  },
  {
   "cell_type": "markdown",
   "id": "e693f605-e5b9-4d3e-b88c-c9cd730db874",
   "metadata": {},
   "source": [
    "### check LiCSBAS installation"
   ]
  },
  {
   "cell_type": "code",
   "execution_count": null,
   "id": "c326d5b7-89dc-4a3b-9687-368b0d328df8",
   "metadata": {},
   "outputs": [],
   "source": [
    "\n",
    "! LiCSBAS_check_install.py"
   ]
  },
  {
   "cell_type": "markdown",
   "id": "62aa6847-3fea-4191-ad93-401171b1a689",
   "metadata": {},
   "source": [
    "## create processing folder with the name of the selected frame"
   ]
  },
  {
   "cell_type": "code",
   "execution_count": null,
   "id": "1f6502bd-eeb0-4d14-9a28-e86c31331b57",
   "metadata": {},
   "outputs": [],
   "source": [
    "os.chdir('/home/jovyan/MYLICS/')"
   ]
  },
  {
   "cell_type": "code",
   "execution_count": null,
   "id": "dd6d782a-759b-4cd8-9296-1645036d2b3e",
   "metadata": {},
   "outputs": [],
   "source": [
    "frame = '124D_05291_081406' # descending set on Etna volcano\n",
    "os.mkdir(frame)"
   ]
  },
  {
   "cell_type": "code",
   "execution_count": null,
   "id": "8a57619e-e02c-40aa-9154-be60b50c8787",
   "metadata": {},
   "outputs": [],
   "source": [
    "os.chdir(frame)\n",
    "os.getcwd()"
   ]
  },
  {
   "cell_type": "markdown",
   "id": "d77a86dd-3501-4ee6-8483-9459ec84e3fa",
   "metadata": {},
   "source": [
    "## STEP 01 - Inteferograms download"
   ]
  },
  {
   "cell_type": "code",
   "execution_count": null,
   "id": "1bebf36c-612e-452e-8fa6-37b80075172c",
   "metadata": {
    "tags": []
   },
   "outputs": [],
   "source": [
    "#dowload the interferograms from COMET database\n",
    "! LiCSBAS01_get_geotiff.py -s 20190101 -e 20211231"
   ]
  },
  {
   "cell_type": "markdown",
   "id": "b8c0d286-bcf5-42a8-9e92-6121a055d206",
   "metadata": {},
   "source": [
    "## STEP 02 - Multi-looking and data conversion"
   ]
  },
  {
   "cell_type": "code",
   "execution_count": null,
   "id": "a3cc626f-f5bb-447c-99ec-ce1bd5ffb665",
   "metadata": {
    "tags": []
   },
   "outputs": [],
   "source": [
    "# multi-looking and file format conversion\n",
    "! LiCSBAS02_ml_prep.py -i GEOC -o GEOCml2 -n 2 "
   ]
  },
  {
   "cell_type": "markdown",
   "id": "edd5ef14-5f89-4837-be16-ac70263f6d0d",
   "metadata": {},
   "source": [
    "## STEP 04&03 - Optonal steps for atmo correction wiht GACOS and masking undesired areas"
   ]
  },
  {
   "cell_type": "code",
   "execution_count": null,
   "id": "f6721c32-dd47-4534-b450-c931f3db2a6c",
   "metadata": {},
   "outputs": [],
   "source": [
    "# these steps have been skipped\n",
    "# LiCSBAS03op_GACOS.py\n",
    "# LiCSBAS04op_mask_unw.py"
   ]
  },
  {
   "cell_type": "markdown",
   "id": "1420d463-ce78-4b50-9e77-8335db105f58",
   "metadata": {},
   "source": [
    "## STEP 05 - Clip data over the AOI"
   ]
  },
  {
   "cell_type": "code",
   "execution_count": null,
   "id": "8160e308-edc1-473b-87a9-72ac36138fd1",
   "metadata": {
    "tags": []
   },
   "outputs": [],
   "source": [
    "#clip data around Etna volcano\n",
    "! LiCSBAS05op_clip_unw.py -i GEOCml2 -o GEOCclip -g 14.7/15.3/37.44/37.95\n",
    "# and check the data clipped..."
   ]
  },
  {
   "cell_type": "code",
   "execution_count": null,
   "id": "2c799c32-fd54-49ca-a394-77db9ef59cfc",
   "metadata": {},
   "outputs": [],
   "source": [
    "Image(filename='GEOCclip/hgt.png') "
   ]
  },
  {
   "cell_type": "markdown",
   "id": "c881ab6b-45e8-4781-8b11-6784d31c3231",
   "metadata": {},
   "source": [
    "## STEP 11 - Quality check"
   ]
  },
  {
   "cell_type": "code",
   "execution_count": null,
   "id": "65637e76-ce49-4e4e-97b3-9ea06e0d9d00",
   "metadata": {
    "tags": []
   },
   "outputs": [],
   "source": [
    "# quality check\n",
    "#! LiCSBAS11_check_unw.py -h\n",
    "! LiCSBAS11_check_unw.py -d GEOCclip -c 0.1 -u 0.3"
   ]
  },
  {
   "cell_type": "code",
   "execution_count": null,
   "id": "32cba4a2-0722-4086-b164-813908e2f143",
   "metadata": {
    "tags": []
   },
   "outputs": [],
   "source": [
    "# check network after step 11\n",
    "Image(filename='TS_GEOCclip/network/network11.png')"
   ]
  },
  {
   "cell_type": "code",
   "execution_count": null,
   "id": "74e5ff29-c8a3-4c0a-a5f8-be725c1b923c",
   "metadata": {},
   "outputs": [],
   "source": [
    "# check outputs of step 11\n",
    "# list of bad ifg\n",
    "!  head -n 10 TS_GEOCclip/info/11bad_ifg.txt"
   ]
  },
  {
   "cell_type": "code",
   "execution_count": null,
   "id": "bb1fe8ac-0188-44cb-9215-701fb96f6437",
   "metadata": {
    "tags": []
   },
   "outputs": [],
   "source": [
    "# ... and visualize some of them: change the ifg pair!!!\n",
    "Image(filename='TS_GEOCclip/11bad_ifg_ras/20210128_20210209.unw.png')"
   ]
  },
  {
   "cell_type": "markdown",
   "id": "c0dc5d00-23a9-4150-9cd9-a57ffe8d11e0",
   "metadata": {},
   "source": [
    "## STEP 12 - Loop closure analysis"
   ]
  },
  {
   "cell_type": "code",
   "execution_count": null,
   "id": "6b93d064-cca6-4684-b068-1b4e9f324e7b",
   "metadata": {
    "tags": []
   },
   "outputs": [],
   "source": [
    "# loop closure analysis\n",
    "!LiCSBAS12_loop_closure.py -d GEOCclip -t TS_GEOCclip -l 1.5 --multi_prime"
   ]
  },
  {
   "cell_type": "code",
   "execution_count": null,
   "id": "fd2057e2-4dba-4283-8ea3-b56d079bbae3",
   "metadata": {},
   "outputs": [],
   "source": [
    "# check outputs of step 12\n",
    "# list of bad ifg\n",
    "!  head -n 10 TS_GEOCclip/info/12bad_ifg.txt"
   ]
  },
  {
   "cell_type": "code",
   "execution_count": null,
   "id": "e228e5dc-b1a8-4192-95cf-8e5ab6b91fed",
   "metadata": {
    "tags": []
   },
   "outputs": [],
   "source": [
    "# ... and visualize some of them: change the ifg pair!!!\n",
    "Image(filename='TS_GEOCclip/12bad_ifg_ras/20200209_20200316.unw.png')"
   ]
  },
  {
   "cell_type": "code",
   "execution_count": null,
   "id": "018fdc99-91b0-4224-b191-b550b9072b2e",
   "metadata": {
    "tags": []
   },
   "outputs": [],
   "source": [
    "#check triplet too ...\n",
    "! ls TS_GEOCclip/12loop/bad_loop_png/"
   ]
  },
  {
   "cell_type": "code",
   "execution_count": null,
   "id": "745db09f-4961-4e66-83a2-886b0ba2180b",
   "metadata": {},
   "outputs": [],
   "source": [
    "# ... and visualize some of them: \n",
    "Image(filename='TS_GEOCclip/12loop/bad_loop_png/20200122_20200128_20200215_loop.png')"
   ]
  },
  {
   "cell_type": "code",
   "execution_count": null,
   "id": "ac5517bc-46b7-4863-bac9-f7e721fead95",
   "metadata": {},
   "outputs": [],
   "source": [
    "# check network after step 12\n",
    "Image(filename='TS_GEOCclip/network/network12.png')"
   ]
  },
  {
   "cell_type": "markdown",
   "id": "ab99d78b-10a2-4f6f-bda0-8418858d3eb4",
   "metadata": {},
   "source": [
    "## STEP 13 - SVD inversion"
   ]
  },
  {
   "cell_type": "code",
   "execution_count": null,
   "id": "45d7574a-0727-4b51-b410-09bc7b029890",
   "metadata": {},
   "outputs": [],
   "source": [
    "# SVD inversion\n",
    "! LiCSBAS13_sb_inv.py -d GEOCclip -t TS_GEOCclip \n",
    "# check network after step 13\n",
    "Image(filename='TS_GEOCclip/network/network13.png')"
   ]
  },
  {
   "cell_type": "code",
   "execution_count": null,
   "id": "7a6984da-5448-4d93-b848-a6898780c5b3",
   "metadata": {},
   "outputs": [],
   "source": [
    "# and see the first estimation of velocity\n",
    "Image(filename='TS_GEOCclip/results/vel.png')"
   ]
  },
  {
   "cell_type": "markdown",
   "id": "088b0c9b-1119-431f-9369-3286bd725a65",
   "metadata": {},
   "source": [
    "## STEP 14 - Estimate of Standard deviation of veloctites"
   ]
  },
  {
   "cell_type": "code",
   "execution_count": null,
   "id": "31d54655-ea95-4402-af1e-de6549d4a386",
   "metadata": {},
   "outputs": [],
   "source": [
    "# bootstrap for Velocity error estimation\n",
    "! LiCSBAS14_vel_std.py -t TS_GEOCclip"
   ]
  },
  {
   "cell_type": "code",
   "execution_count": null,
   "id": "45a2ee49-98bd-4bc9-90ce-2a6584b9a8c1",
   "metadata": {},
   "outputs": [],
   "source": [
    "# and see the estimation of velocity error\n",
    "Image(filename='TS_GEOCclip/results/vstd.png')"
   ]
  },
  {
   "cell_type": "markdown",
   "id": "33ea9ac8-9357-4c9a-ba39-53d9e22a802d",
   "metadata": {},
   "source": [
    "## STEP 15 and 16 - Masking and Filtering\n",
    "### these two steps can be executed several times changing the input parameters, in order to identify the best final solution"
   ]
  },
  {
   "cell_type": "code",
   "execution_count": null,
   "id": "63f06424-00fa-4ee2-824e-a54226ebcbaa",
   "metadata": {},
   "outputs": [],
   "source": [
    "# masking time serires\n",
    "! LiCSBAS15_mask_ts.py -h"
   ]
  },
  {
   "cell_type": "code",
   "execution_count": null,
   "id": "9141ba85-d248-4465-a5d9-fcea25aa3934",
   "metadata": {
    "tags": []
   },
   "outputs": [],
   "source": [
    "# masking time serires\n",
    "! LiCSBAS15_mask_ts.py -t TS_GEOCclip -c 0.3 -u 1.5 -v 50 -T 1 -g 10 -s 5 -i 50 -l 5 -r 3\n",
    "Image(filename='TS_GEOCclip/mask_ts.png')"
   ]
  },
  {
   "cell_type": "code",
   "execution_count": null,
   "id": "c21a953f-6df9-42dd-8e70-6881e21939ff",
   "metadata": {},
   "outputs": [],
   "source": [
    "# filtering!\n",
    "! LiCSBAS16_filt_ts.py -t TS_GEOCclip -s 2 --hgt_linear --hgt_min 500 --hgt_max 2000\n",
    "Image(filename='TS_GEOCclip/results/vel.filt.mskd.png')"
   ]
  },
  {
   "cell_type": "markdown",
   "id": "679f2530-b66d-49cb-9fac-5316dd307992",
   "metadata": {},
   "source": [
    "## Create my own map of velocity wiht preferred colorbar and velo ranges"
   ]
  },
  {
   "cell_type": "code",
   "execution_count": null,
   "id": "40e4fd4f-5d1d-4e47-95ac-089ff51ddcb1",
   "metadata": {},
   "outputs": [],
   "source": [
    "# create my own map of velocity\n",
    "! LiCSBAS_disp_img.py -i TS_GEOCclip/results/vel.filt.mskd -p  TS_GEOCclip/info/EQA.dem_par -c jet --cmin -40 --cmax 40 --png velo_final.png\n",
    "Image(filename='velo_final.png')"
   ]
  },
  {
   "cell_type": "markdown",
   "id": "50249fa8-2419-46f3-b5a5-0e37326b3b01",
   "metadata": {},
   "source": [
    "## Packing the final results "
   ]
  },
  {
   "cell_type": "code",
   "execution_count": null,
   "id": "0ad6411e-a534-42fd-a7e5-3225c10223a8",
   "metadata": {},
   "outputs": [],
   "source": [
    "# zip the final h5 file \n",
    "! tar -czf Etna_results.tar.gz TS_GEOCclip/cum_filt.h5\n",
    "print('DONE')"
   ]
  }
 ],
 "metadata": {
  "kernelspec": {
   "display_name": "Python 3",
   "language": "python",
   "name": "python3"
  },
  "language_info": {
   "codemirror_mode": {
    "name": "ipython",
    "version": 3
   },
   "file_extension": ".py",
   "mimetype": "text/x-python",
   "name": "python",
   "nbconvert_exporter": "python",
   "pygments_lexer": "ipython3",
   "version": "3.8.8"
  }
 },
 "nbformat": 4,
 "nbformat_minor": 5
}
