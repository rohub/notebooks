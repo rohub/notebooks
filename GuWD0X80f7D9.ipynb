{
 "cells": [
  {
   "cell_type": "markdown",
   "id": "2108a51a-28c2-48de-9257-b40771fa6a96",
   "metadata": {},
   "source": [
    "##  Get shared link from datahub instructions\n",
    "\n",
    "1. EGI Notebooks provides a ready to use access token that can be accessed from your notebooks and is automatically refreshed so you can always have a valid one.\n",
    "\n",
    "The token is available at /var/run/secrets/egi.eu/access_token\n",
    "\n",
    "2. Copy and paste the two functions below in your Jupyter Notebook or code.\n",
    "\n",
    "3. You are READY to go. Retrieve EGI DataHub file shared links as in the example usage. \n",
    "\n",
    "## Documentation\n",
    "https://docs.egi.eu/users/dev-env/notebooks/integration/#egi-services-access-tokens\n",
    "https://docs.egi.eu/users/data/management/datahub/api/\n"
   ]
  },
  {
   "cell_type": "markdown",
   "id": "49bbbbaa-f82b-49fc-aa86-c9ee56d4fa2c",
   "metadata": {},
   "source": [
    "## EGI Datahub functions to initialize EGI datahub and get shared link"
   ]
  },
  {
   "cell_type": "code",
   "execution_count": 7,
   "id": "7717caf9-a5f8-4e49-8a31-4daaa3429a1b",
   "metadata": {},
   "outputs": [],
   "source": [
    "def egi_datahub_init():\n",
    "    import requests, json, datetime\n",
    "    \n",
    "    ONEZONE_ENDPOINT=\"https://datahub.egi.eu/api/v3/onezone/\"\n",
    "    ONEPROVIDER_ENDPOINT=\"https://cesnet-oneprovider-01.datahub.egi.eu/api/v3/oneprovider/\"\n",
    "    \n",
    "    with open(\"/var/run/secrets/egi.eu/access_token\") as f:\n",
    "        EGI_TOKEN = f.read()\n",
    "        try:\n",
    "            # get DATAHUB token\n",
    "            headers = {\n",
    "                'X-Auth-Token': f\"egi:\" + EGI_TOKEN,\n",
    "                'Content-type': 'application/json',\n",
    "            }\n",
    "            # get current timestamp\n",
    "            ts = datetime.datetime.now().timestamp()\n",
    "            data = json.dumps({ \n",
    "                'name': 'REST and CDMI access token ' + str(ts), \n",
    "                'type': { \n",
    "                    'accessToken': {} \n",
    "                }, \n",
    "                'caveats': [ { \n",
    "                    'type': 'interface', \n",
    "                    'interface': 'rest' \n",
    "                }] \n",
    "            })\n",
    "            response = requests.post(ONEZONE_ENDPOINT+'user/tokens/named', headers=headers, data=data)\n",
    "            print(json.dumps(response.json(), indent=2))\n",
    "            DATAHUB_TOKEN=response.json()['token']              \n",
    "            return DATAHUB_TOKEN\n",
    "        except:\n",
    "            print(\"EGI Datahub Authentication problem: check your credentials\")"
   ]
  },
  {
   "cell_type": "code",
   "execution_count": 8,
   "id": "8d9e9b95-9d2e-43ac-a15f-623265aff6d3",
   "metadata": {},
   "outputs": [],
   "source": [
    "def egi_datahub_getlink(datahub_token, filename):\n",
    "    import requests, json, os\n",
    "    OIDC_ENDPOINT=\"https://aai.egi.eu/oidc/\"\n",
    "    ONEZONE_ENDPOINT=\"https://datahub.egi.eu/api/v3/onezone/\"\n",
    "    ONEPROVIDER_ENDPOINT=\"https://cesnet-oneprovider-01.datahub.egi.eu/api/v3/oneprovider/\"\n",
    "    \n",
    "    bname = os.path.basename(filename)\n",
    "    hname = filename.split('datahub/')[1]\n",
    "    ## get file id\n",
    "    headers = { \n",
    "        'X-Auth-Token': datahub_token \n",
    "    }\n",
    "    response = requests.post(ONEPROVIDER_ENDPOINT+'lookup-file-id/'+hname, headers=headers)\n",
    "    dh_fileid = response.json()['fileId']\n",
    "    ## get shared link \n",
    "    headers = { 'X-Auth-Token': datahub_token, 'Content-Type': 'application/json',}\n",
    "    data = json.dumps({ \n",
    "        'name': bname,\n",
    "        'fileId': dh_fileid\n",
    "    })\n",
    "    response = requests.post(ONEPROVIDER_ENDPOINT+'shares', headers=headers, data=data)\n",
    "    shareIdGenerated=response.json()['shareId']\n",
    "    # get shared link details\n",
    "    headers = {\n",
    "        'X-Auth-Token': datahub_token\n",
    "    }\n",
    "    response = requests.get(ONEPROVIDER_ENDPOINT+'shares/'+shareIdGenerated, headers=headers)\n",
    "    publicURL=response.json()['publicUrl'] #publicURL is nice link but to webpage where you can download file, not the actual file\n",
    "    contentURL= ONEZONE_ENDPOINT+'shares/data/'+response.json()['rootFileId']+'/content' #use this link to aggregate Jupyter Notebooks\n",
    "    return (publicURL, contentURL)"
   ]
  },
  {
   "cell_type": "markdown",
   "id": "24cd396b-0f59-4b58-8e63-3a6c30ed044b",
   "metadata": {},
   "source": [
    "## example usage"
   ]
  },
  {
   "cell_type": "markdown",
   "id": "34d36d3f-5088-4532-817d-97db8f1a08d7",
   "metadata": {},
   "source": [
    "### EGI DataHub initialization"
   ]
  },
  {
   "cell_type": "code",
   "execution_count": 9,
   "id": "9aa15530-e1b6-4d46-99b6-0c7041c31fcb",
   "metadata": {},
   "outputs": [
    {
     "name": "stdout",
     "output_type": "stream",
     "text": [
      "{\n",
      "  \"tokenId\": \"a11770898daf997e6b4221bbc732a2f3ch00e1\",\n",
      "  \"token\": \"MDAxY2xvY2F00aW9uIGRhdGFodWIuZWdpLmV1CjAwNmJpZGVudGlmaWVyIDIvbm1kL3Vzci1mMDZmOWZmNDZjOWFjNGFhNjAyNDIwMmVmYmE5Mzc5MWNoOWFjNC9hY3QvYTExNzcwODk4ZGFmOTk3ZTZiNDIyMWJiYzczMmEyZjNjaDAwZTEKMDAxOWNpZCBpbnRlcmZhY2UgPSByZXN00CjAwMmZzaWduYXR1cmUgw658by6LPw00PBE2CRYh6z74yJxu1BJqBF01RfsPJaAMsK\"\n",
      "}\n"
     ]
    }
   ],
   "source": [
    "DATAHUB_TOKEN = egi_datahub_init()"
   ]
  },
  {
   "cell_type": "markdown",
   "id": "65cb4dd5-507c-46d4-8e57-11bb2d2f1851",
   "metadata": {},
   "source": [
    "### get shared link to content"
   ]
  },
  {
   "cell_type": "code",
   "execution_count": 10,
   "id": "9fbddd2e-df54-453d-bd5d-b5e2aa66fe73",
   "metadata": {},
   "outputs": [
    {
     "name": "stdout",
     "output_type": "stream",
     "text": [
      "/home/jovyan/datahub/Reliance/Geohazard_Santorini2/input/obs_sar.txt\n",
      "https://datahub.egi.eu/share/e38fdf855d984239afda07c13ed5c769ch22a3\n",
      "https://datahub.egi.eu/api/v3/onezone/shares/data/00000000007E1D76736861726547756964236665626130323533646361663965316432316135346465353737336237323766636838393662233732356634616233366362323664306662666330633132346337373565666565636865653439236533386664663835356439383432333961666461303763313365643563373639636832326133/content\n"
     ]
    }
   ],
   "source": [
    "import os\n",
    "volcano = 'Santorini2'\n",
    "WORKDIR_FOLDER = os.path.join(os.environ['HOME'], \"datahub/Reliance/Geohazard\" + '_' + volcano)\n",
    "INPUT_DATA_DIR  = os.path.join(WORKDIR_FOLDER, 'input')\n",
    "\n",
    "myfilename = 'obs_sar.txt'\n",
    "shared_res_path = os.path.join(INPUT_DATA_DIR, myfilename)\n",
    "print(shared_res_path)\n",
    "links = egi_datahub_getlink(DATAHUB_TOKEN, shared_res_path)\n",
    "# we can aggregate either the publicURL or the contentURL as external resource in the research object\n",
    "# the publicURL redirects to the EGI DataHub Webpage of the resource, where you can download the resource\n",
    "# the contentURL redirects to the file contents directly. \n",
    "# NOTE: YOU NEED TO USE contentURL to aggregate JupyterNoteboks to be able to execute them from ROHub\n",
    "res_file_url_public = links[0] \n",
    "print (res_file_url_public)\n",
    "res_file_url_content = links[1] \n",
    "print (res_file_url_content)"
   ]
  },
  {
   "cell_type": "code",
   "execution_count": null,
   "id": "37a741f8-f4a2-4088-a1b5-59771317cf5f",
   "metadata": {},
   "outputs": [],
   "source": []
  }
 ],
 "metadata": {
  "kernelspec": {
   "display_name": "Python 3",
   "language": "python",
   "name": "python3"
  },
  "language_info": {
   "codemirror_mode": {
    "name": "ipython",
    "version": 3
   },
   "file_extension": ".py",
   "mimetype": "text/x-python",
   "name": "python",
   "nbconvert_exporter": "python",
   "pygments_lexer": "ipython3",
   "version": "3.8.8"
  }
 },
 "nbformat": 4,
 "nbformat_minor": 5
}
