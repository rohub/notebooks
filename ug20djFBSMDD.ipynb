{
 "cells": [
  {
   "cell_type": "markdown",
   "metadata": {},
   "source": [
    "# Coastal Wast monitoring"
   ]
  },
  {
   "cell_type": "markdown",
   "metadata": {},
   "source": [
    "### 1- Load my libraries "
   ]
  },
  {
   "cell_type": "code",
   "execution_count": 4,
   "metadata": {},
   "outputs": [],
   "source": [
    "import pandas as pd\n",
    "import numpy as np\n",
    "import matplotlib\n",
    "import os\n",
    "from matplotlib import pyplot as plt\n",
    "from matplotlib.ticker import StrMethodFormatter\n",
    "from matplotlib.ticker import FuncFormatter"
   ]
  },
  {
   "cell_type": "markdown",
   "metadata": {},
   "source": [
    "### 2- Load my data"
   ]
  },
  {
   "cell_type": "code",
   "execution_count": 5,
   "metadata": {},
   "outputs": [],
   "source": [
    "file = 'monitoring_items_mb.csv'\n",
    "filename = os.path.join('./', file)"
   ]
  },
  {
   "cell_type": "code",
   "execution_count": 6,
   "metadata": {},
   "outputs": [],
   "source": [
    "#Open the file\n",
    "infile = open(filename, 'r') # 'r' says we are opening the file to read, infile is the opened file object that we will read from"
   ]
  },
  {
   "cell_type": "code",
   "execution_count": 7,
   "metadata": {},
   "outputs": [],
   "source": [
    "#Store the data from the file in a variable\n",
    "data = infile.read()\n"
   ]
  },
  {
   "cell_type": "code",
   "execution_count": 8,
   "metadata": {},
   "outputs": [
    {
     "data": {
      "text/html": [
       "<div>\n",
       "<style scoped>\n",
       "    .dataframe tbody tr th:only-of-type {\n",
       "        vertical-align: middle;\n",
       "    }\n",
       "\n",
       "    .dataframe tbody tr th {\n",
       "        vertical-align: top;\n",
       "    }\n",
       "\n",
       "    .dataframe thead th {\n",
       "        text-align: right;\n",
       "    }\n",
       "</style>\n",
       "<table border=\"1\" class=\"dataframe\">\n",
       "  <thead>\n",
       "    <tr style=\"text-align: right;\">\n",
       "      <th></th>\n",
       "      <th>ID</th>\n",
       "      <th>MonitoringID</th>\n",
       "      <th>Lat</th>\n",
       "      <th>Lon</th>\n",
       "      <th>Datetime</th>\n",
       "      <th>Quantity</th>\n",
       "      <th>WasteCategory</th>\n",
       "      <th>WasteCode</th>\n",
       "      <th>User</th>\n",
       "    </tr>\n",
       "  </thead>\n",
       "  <tbody>\n",
       "    <tr>\n",
       "      <th>0</th>\n",
       "      <td>1189</td>\n",
       "      <td>Monitoraggio Alberoni WWF</td>\n",
       "      <td>45.348295</td>\n",
       "      <td>12.329182</td>\n",
       "      <td>10/04/2022 13:20</td>\n",
       "      <td>2</td>\n",
       "      <td>PLASTICS</td>\n",
       "      <td>G87</td>\n",
       "      <td>David Poletto</td>\n",
       "    </tr>\n",
       "    <tr>\n",
       "      <th>1</th>\n",
       "      <td>1186</td>\n",
       "      <td>Monitoraggio Alberoni WWF</td>\n",
       "      <td>45.348295</td>\n",
       "      <td>12.329182</td>\n",
       "      <td>10/04/2022 13:20</td>\n",
       "      <td>7</td>\n",
       "      <td>PLASTICS</td>\n",
       "      <td>G79</td>\n",
       "      <td>David Poletto</td>\n",
       "    </tr>\n",
       "    <tr>\n",
       "      <th>2</th>\n",
       "      <td>1188</td>\n",
       "      <td>Monitoraggio Alberoni WWF</td>\n",
       "      <td>45.348295</td>\n",
       "      <td>12.329182</td>\n",
       "      <td>10/04/2022 13:19</td>\n",
       "      <td>13</td>\n",
       "      <td>PLASTICS</td>\n",
       "      <td>G4</td>\n",
       "      <td>David Poletto</td>\n",
       "    </tr>\n",
       "    <tr>\n",
       "      <th>3</th>\n",
       "      <td>1187</td>\n",
       "      <td>Monitoraggio Alberoni WWF</td>\n",
       "      <td>45.348295</td>\n",
       "      <td>12.329182</td>\n",
       "      <td>10/04/2022 13:18</td>\n",
       "      <td>1</td>\n",
       "      <td>PLASTICS</td>\n",
       "      <td>G73</td>\n",
       "      <td>David Poletto</td>\n",
       "    </tr>\n",
       "    <tr>\n",
       "      <th>4</th>\n",
       "      <td>1185</td>\n",
       "      <td>Monitoraggio Alberoni WWF</td>\n",
       "      <td>45.348295</td>\n",
       "      <td>12.329182</td>\n",
       "      <td>10/04/2022 13:18</td>\n",
       "      <td>1</td>\n",
       "      <td>PLASTICS</td>\n",
       "      <td>G82</td>\n",
       "      <td>David Poletto</td>\n",
       "    </tr>\n",
       "  </tbody>\n",
       "</table>\n",
       "</div>"
      ],
      "text/plain": [
       "     ID               MonitoringID        Lat        Lon          Datetime  \\\n",
       "0  1189  Monitoraggio Alberoni WWF  45.348295  12.329182  10/04/2022 13:20   \n",
       "1  1186  Monitoraggio Alberoni WWF  45.348295  12.329182  10/04/2022 13:20   \n",
       "2  1188  Monitoraggio Alberoni WWF  45.348295  12.329182  10/04/2022 13:19   \n",
       "3  1187  Monitoraggio Alberoni WWF  45.348295  12.329182  10/04/2022 13:18   \n",
       "4  1185  Monitoraggio Alberoni WWF  45.348295  12.329182  10/04/2022 13:18   \n",
       "\n",
       "   Quantity WasteCategory WasteCode           User  \n",
       "0         2      PLASTICS       G87  David Poletto  \n",
       "1         7      PLASTICS       G79  David Poletto  \n",
       "2        13      PLASTICS       G4   David Poletto  \n",
       "3         1      PLASTICS       G73  David Poletto  \n",
       "4         1      PLASTICS       G82  David Poletto  "
      ]
     },
     "execution_count": 8,
     "metadata": {},
     "output_type": "execute_result"
    }
   ],
   "source": [
    "import pandas as pd\n",
    "df = pd.read_csv(filename, sep = ';')\n",
    "# Print the Data\n",
    "df.head()"
   ]
  },
  {
   "cell_type": "markdown",
   "metadata": {},
   "source": [
    "### 3- Descriptive statistics  "
   ]
  },
  {
   "cell_type": "code",
   "execution_count": 9,
   "metadata": {},
   "outputs": [
    {
     "data": {
      "text/html": [
       "<div>\n",
       "<style scoped>\n",
       "    .dataframe tbody tr th:only-of-type {\n",
       "        vertical-align: middle;\n",
       "    }\n",
       "\n",
       "    .dataframe tbody tr th {\n",
       "        vertical-align: top;\n",
       "    }\n",
       "\n",
       "    .dataframe thead th {\n",
       "        text-align: right;\n",
       "    }\n",
       "</style>\n",
       "<table border=\"1\" class=\"dataframe\">\n",
       "  <thead>\n",
       "    <tr style=\"text-align: right;\">\n",
       "      <th></th>\n",
       "      <th>WasteCategory</th>\n",
       "      <th>count</th>\n",
       "      <th>mean</th>\n",
       "      <th>std</th>\n",
       "      <th>min</th>\n",
       "      <th>25%</th>\n",
       "      <th>50%</th>\n",
       "      <th>75%</th>\n",
       "      <th>max</th>\n",
       "    </tr>\n",
       "  </thead>\n",
       "  <tbody>\n",
       "    <tr>\n",
       "      <th>0</th>\n",
       "      <td>GLASS/CERAMIC</td>\n",
       "      <td>9.0</td>\n",
       "      <td>2.000000</td>\n",
       "      <td>1.322876</td>\n",
       "      <td>1.0</td>\n",
       "      <td>1.0</td>\n",
       "      <td>1.0</td>\n",
       "      <td>3.00</td>\n",
       "      <td>4.0</td>\n",
       "    </tr>\n",
       "    <tr>\n",
       "      <th>1</th>\n",
       "      <td>METAL</td>\n",
       "      <td>4.0</td>\n",
       "      <td>1.500000</td>\n",
       "      <td>1.000000</td>\n",
       "      <td>1.0</td>\n",
       "      <td>1.0</td>\n",
       "      <td>1.0</td>\n",
       "      <td>1.50</td>\n",
       "      <td>3.0</td>\n",
       "    </tr>\n",
       "    <tr>\n",
       "      <th>2</th>\n",
       "      <td>PLASTICS</td>\n",
       "      <td>138.0</td>\n",
       "      <td>6.137681</td>\n",
       "      <td>10.686093</td>\n",
       "      <td>1.0</td>\n",
       "      <td>1.0</td>\n",
       "      <td>2.0</td>\n",
       "      <td>7.00</td>\n",
       "      <td>77.0</td>\n",
       "    </tr>\n",
       "    <tr>\n",
       "      <th>3</th>\n",
       "      <td>PROCESSED/WORKED WOOD</td>\n",
       "      <td>2.0</td>\n",
       "      <td>3.000000</td>\n",
       "      <td>2.828427</td>\n",
       "      <td>1.0</td>\n",
       "      <td>2.0</td>\n",
       "      <td>3.0</td>\n",
       "      <td>4.00</td>\n",
       "      <td>5.0</td>\n",
       "    </tr>\n",
       "    <tr>\n",
       "      <th>4</th>\n",
       "      <td>RUBBER</td>\n",
       "      <td>6.0</td>\n",
       "      <td>1.166667</td>\n",
       "      <td>0.408248</td>\n",
       "      <td>1.0</td>\n",
       "      <td>1.0</td>\n",
       "      <td>1.0</td>\n",
       "      <td>1.00</td>\n",
       "      <td>2.0</td>\n",
       "    </tr>\n",
       "    <tr>\n",
       "      <th>5</th>\n",
       "      <td>TEXTILE</td>\n",
       "      <td>4.0</td>\n",
       "      <td>1.250000</td>\n",
       "      <td>0.500000</td>\n",
       "      <td>1.0</td>\n",
       "      <td>1.0</td>\n",
       "      <td>1.0</td>\n",
       "      <td>1.25</td>\n",
       "      <td>2.0</td>\n",
       "    </tr>\n",
       "  </tbody>\n",
       "</table>\n",
       "</div>"
      ],
      "text/plain": [
       "           WasteCategory  count      mean        std  min  25%  50%   75%  \\\n",
       "0          GLASS/CERAMIC    9.0  2.000000   1.322876  1.0  1.0  1.0  3.00   \n",
       "1                  METAL    4.0  1.500000   1.000000  1.0  1.0  1.0  1.50   \n",
       "2               PLASTICS  138.0  6.137681  10.686093  1.0  1.0  2.0  7.00   \n",
       "3  PROCESSED/WORKED WOOD    2.0  3.000000   2.828427  1.0  2.0  3.0  4.00   \n",
       "4                 RUBBER    6.0  1.166667   0.408248  1.0  1.0  1.0  1.00   \n",
       "5                TEXTILE    4.0  1.250000   0.500000  1.0  1.0  1.0  1.25   \n",
       "\n",
       "    max  \n",
       "0   4.0  \n",
       "1   3.0  \n",
       "2  77.0  \n",
       "3   5.0  \n",
       "4   2.0  \n",
       "5   2.0  "
      ]
     },
     "execution_count": 9,
     "metadata": {},
     "output_type": "execute_result"
    }
   ],
   "source": [
    "#Summary statistics by waste category\n",
    "df.groupby(\"WasteCategory\")['Quantity'].describe().reset_index()"
   ]
  },
  {
   "cell_type": "markdown",
   "metadata": {},
   "source": [
    "### 4- Plot data "
   ]
  },
  {
   "cell_type": "code",
   "execution_count": 13,
   "metadata": {},
   "outputs": [
    {
     "data": {
      "image/png": "[encoded data removed]",
      "text/plain": [
       "<Figure size 640x400 with 1 Axes>"
      ]
     },
     "metadata": {
      "needs_background": "light"
     },
     "output_type": "display_data"
    }
   ],
   "source": [
    "#let's compare the distribution of waste quantity for the 6 waste category\n",
    "\n",
    "#transform quantity into log\n",
    "df['log_vals'] = np.log(df['Quantity'])\n",
    "\n",
    "plt.figure(figsize=(8,5), dpi= 80)\n",
    "\n",
    "for g in pd.unique(df['WasteCategory']):\n",
    "    df.loc[df['WasteCategory']==g,'log_vals'].hist(bins=10, alpha=0.65, label=g, density=True)\n",
    "    #groupby('WasteCategory')['log_vals'].hist(bins=10, alpha=0.65, density=True)\n",
    "    plt.gca().set(title='Histogram Waste ditribution by category (10/04/2022)/ Alberoni ')\n",
    "    plt.legend(loc='upper right')\n",
    "    plt.savefig('Waste_ditribution.png')"
   ]
  },
  {
   "cell_type": "code",
   "execution_count": 14,
   "metadata": {},
   "outputs": [
    {
     "data": {
      "text/plain": [
       "array([[<matplotlib.axes._subplots.AxesSubplot object at 0x000001163F3C53C8>,\n",
       "        <matplotlib.axes._subplots.AxesSubplot object at 0x000001163F3D8390>],\n",
       "       [<matplotlib.axes._subplots.AxesSubplot object at 0x000001163F30F9B0>,\n",
       "        <matplotlib.axes._subplots.AxesSubplot object at 0x000001163F451FD0>],\n",
       "       [<matplotlib.axes._subplots.AxesSubplot object at 0x000001163F5D0668>,\n",
       "        <matplotlib.axes._subplots.AxesSubplot object at 0x000001163F5FECC0>]],\n",
       "      dtype=object)"
      ]
     },
     "execution_count": 14,
     "metadata": {},
     "output_type": "execute_result"
    },
    {
     "data": {
      "image/png": "[encoded data removed]",
      "text/plain": [
       "<Figure size 576x576 with 6 Axes>"
      ]
     },
     "metadata": {
      "needs_background": "light"
     },
     "output_type": "display_data"
    }
   ],
   "source": [
    "#plot multiple plots of the different wate categories\n",
    "df['log_vals'].hist(bins=10, by=df['WasteCategory'], \n",
    "                     alpha=0.8, figsize=(8,8))"
   ]
  },
  {
   "cell_type": "code",
   "execution_count": 41,
   "metadata": {},
   "outputs": [],
   "source": [
    "#compute sum per category\n",
    "sum_byCategory= df.groupby(['WasteCategory']).sum('Quantity');\n",
    "\n",
    "#create new dataframe\n",
    "# Create the pandas DataFrame with column name is provided explicitly\n",
    "df_new = pd.DataFrame(sum_byCategory, columns=[ 'Quantity'])\n"
   ]
  },
  {
   "cell_type": "code",
   "execution_count": 70,
   "metadata": {},
   "outputs": [
    {
     "data": {
      "text/plain": [
       "WasteCategory\n",
       "GLASS/CERAMIC             18\n",
       "METAL                      6\n",
       "PLASTICS                 847\n",
       "PROCESSED/WORKED WOOD      6\n",
       "RUBBER                     7\n",
       "TEXTILE                    5\n",
       "Name: Quantity, dtype: int64"
      ]
     },
     "execution_count": 70,
     "metadata": {},
     "output_type": "execute_result"
    }
   ],
   "source": [
    "Quantity = df_new['Quantity']\n",
    "Quantity"
   ]
  },
  {
   "cell_type": "code",
   "execution_count": 74,
   "metadata": {},
   "outputs": [
    {
     "name": "stderr",
     "output_type": "stream",
     "text": [
      "No handles with labels found to put in legend.\n"
     ]
    },
    {
     "data": {
      "image/png": "[encoded data removed]",
      "text/plain": [
       "<Figure size 880x640 with 1 Axes>"
      ]
     },
     "metadata": {
      "needs_background": "light"
     },
     "output_type": "display_data"
    }
   ],
   "source": [
    "\n",
    " plt.figure(figsize=(11,8), dpi= 80)\n",
    "\n",
    "# create dataset\n",
    "Quantity = df_new['Quantity']\n",
    "bars =['GLASS/CERAMIC', 'METAL','PLASTICS', 'PROCESSED WOOD','RUBBER', 'TEXTILE']\n",
    "\n",
    "x_pos = np.arange(len(bars))\n",
    " \n",
    "# Create bars and choose color\n",
    "plt.bar(x_pos, Quantity, color = ['g','b','r', 'deeppink','orange','dodgerblue'])\n",
    "\n",
    "# Add title and axis names\n",
    "plt.title('My title')\n",
    "plt.xlabel('categories')\n",
    "plt.ylabel('Total Quantity')\n",
    "# Create names on the x axis\n",
    "plt.xticks(x_pos, bars)\n",
    "plt.gca().set(title='Total Waste quantity by category (10/04/2022)/ Alberoni ')\n",
    "plt.legend(loc='upper right')\n",
    "plt.savefig('total_Waste_ditribution.png')\n",
    "# Show graph\n",
    "plt.show()"
   ]
  },
  {
   "cell_type": "code",
   "execution_count": null,
   "metadata": {},
   "outputs": [],
   "source": []
  }
 ],
 "metadata": {
  "kernelspec": {
   "display_name": "Python 3",
   "language": "python",
   "name": "python3"
  },
  "language_info": {
   "codemirror_mode": {
    "name": "ipython",
    "version": 3
   },
   "file_extension": ".py",
   "mimetype": "text/x-python",
   "name": "python",
   "nbconvert_exporter": "python",
   "pygments_lexer": "ipython3",
   "version": "3.7.3"
  }
 },
 "nbformat": 4,
 "nbformat_minor": 2
}
