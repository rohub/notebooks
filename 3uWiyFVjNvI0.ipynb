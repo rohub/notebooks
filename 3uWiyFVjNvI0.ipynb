{
 "cells": [
  {
   "cell_type": "markdown",
   "id": "brown-wiring",
   "metadata": {},
   "source": [
    "<img src=\"https://reliance.rohub.org/static/media/Reliance-logo.f1fd2415.png\" width=\"250\" align=\"left\">\n",
    "<img src=\"https://git.man.poznan.pl/stash/projects/ROHUB/repos/rohub-api/browse/rohub_logo.png?raw=\" width=\"200\" align=\"right\">"
   ]
  },
  {
   "cell_type": "markdown",
   "id": "authorized-column",
   "metadata": {},
   "source": [
    "# Creation of a Research Object with the Reliance (rohub) library aggregating resources from local and from the EGI notebook\n",
    "\n",
    "Steps \n",
    "- Create a RO\n",
    "- Add metadata - collateral information\n",
    "- Add resources as internal\n",
    "- Add resources as external by generating sharable links in the datahub\n",
    "\n",
    "----"
   ]
  },
  {
   "cell_type": "code",
   "execution_count": null,
   "id": "b1392993-4054-4dc0-bde2-54d300fdf534",
   "metadata": {},
   "outputs": [],
   "source": [
    "pip install rohub"
   ]
  },
  {
   "cell_type": "code",
   "execution_count": null,
   "id": "composite-spring",
   "metadata": {},
   "outputs": [],
   "source": [
    "import os\n",
    "from rohub import rohub, settings\n",
    "import pathlib\n",
    "from zipfile import ZipFile\n",
    "import json\n",
    "import requests\n",
    "import datetime\n",
    "import shutil"
   ]
  },
  {
   "cell_type": "markdown",
   "id": "entitled-opera",
   "metadata": {},
   "source": [
    "## Sign in"
   ]
  },
  {
   "cell_type": "code",
   "execution_count": null,
   "id": "5c4a33a1-68e8-4ab7-a61a-1b5abe0b3de0",
   "metadata": {},
   "outputs": [],
   "source": [
    "import getpass\n",
    "rohub_user = \"ADD USERNAME\""
   ]
  },
  {
   "cell_type": "code",
   "execution_count": null,
   "id": "fc973d3b-28a6-40b0-a8a8-dfb3e20a4a9f",
   "metadata": {},
   "outputs": [],
   "source": [
    "rohub_pwd = getpass.getpass(prompt=\"Enter ROHub password: \")"
   ]
  },
  {
   "cell_type": "code",
   "execution_count": null,
   "id": "874aaffe-5714-4b39-8eea-f40a407d3227",
   "metadata": {},
   "outputs": [],
   "source": [
    "rohub.login(username=rohub_user, password=rohub_pwd)"
   ]
  },
  {
   "cell_type": "markdown",
   "id": "fundamental-marriage",
   "metadata": {},
   "source": [
    "## Check my last ROs"
   ]
  },
  {
   "cell_type": "code",
   "execution_count": null,
   "id": "raised-oregon",
   "metadata": {},
   "outputs": [],
   "source": [
    "myros=rohub.list_my_ros()\n",
    "myros[0:10]"
   ]
  },
  {
   "cell_type": "markdown",
   "id": "proper-middle",
   "metadata": {},
   "source": [
    "## Create a new RO"
   ]
  },
  {
   "cell_type": "code",
   "execution_count": null,
   "id": "flying-directory",
   "metadata": {
    "tags": []
   },
   "outputs": [],
   "source": [
    "# RO TYPE\n",
    "#'Basic Research Object', 'Process-centric Research Object', 'Workflow-centric Research Object', 'Bibliography-centric Research Object', \n",
    "# 'Executable Research Object', 'Service-centric Research Object', 'Software-centric Research Object', 'Data-centric Research Object'\n",
    "\n",
    "ro_title=\"ADD TITLE\"\n",
    "ro_research_areas=[\"ADD AREAS\"]\n",
    "ro_type='ADD TYPE'\n",
    "\n",
    "ro = rohub.ros_create(title=ro_title, research_areas=ro_research_areas, ros_type=ro_type,use_template=True)"
   ]
  },
  {
   "cell_type": "markdown",
   "id": "rational-expression",
   "metadata": {},
   "source": [
    "## ...or Load a existing RO"
   ]
  },
  {
   "cell_type": "code",
   "execution_count": null,
   "id": "intended-cricket",
   "metadata": {
    "tags": []
   },
   "outputs": [],
   "source": [
    "ro_id=myros.loc[0,\"identifier\"]\n",
    "ro=rohub.ros_load(identifier=ro_id)"
   ]
  },
  {
   "cell_type": "markdown",
   "id": "molecular-wales",
   "metadata": {},
   "source": [
    "### Show metadata"
   ]
  },
  {
   "cell_type": "code",
   "execution_count": null,
   "id": "academic-freeware",
   "metadata": {},
   "outputs": [],
   "source": [
    "ro.show_metadata()"
   ]
  },
  {
   "cell_type": "markdown",
   "id": "academic-operation",
   "metadata": {},
   "source": [
    "### Add description to the RO"
   ]
  },
  {
   "cell_type": "code",
   "execution_count": null,
   "id": "unnecessary-entrance",
   "metadata": {},
   "outputs": [],
   "source": [
    "ro.description=\"ADD DESCRIPTION\"\n",
    "\n",
    "ro.update()"
   ]
  },
  {
   "cell_type": "markdown",
   "id": "26dd2187-20fe-46df-b7cc-9140deb15b63",
   "metadata": {
    "tags": []
   },
   "source": [
    "### Add authors/contributors/publishers/copyrightHolders"
   ]
  },
  {
   "cell_type": "code",
   "execution_count": null,
   "id": "07f598fb-a592-4ccb-8a08-4f6f6d7899df",
   "metadata": {},
   "outputs": [],
   "source": [
    "usernames=rohub.users_find(search=\"NAME1\")\n",
    "usernames"
   ]
  },
  {
   "cell_type": "code",
   "execution_count": null,
   "id": "4b1d5394-9728-4161-939a-e6d51c62785c",
   "metadata": {},
   "outputs": [],
   "source": [
    "user_id_N1=usernames.loc[0,\"username\"]"
   ]
  },
  {
   "cell_type": "code",
   "execution_count": null,
   "id": "efb8a6fa-a1fa-47bb-8110-262532aa7ebc",
   "metadata": {},
   "outputs": [],
   "source": [
    "usernames=rohub.users_find(search=\"NAME2\")\n",
    "usernames"
   ]
  },
  {
   "cell_type": "code",
   "execution_count": null,
   "id": "435b3233-f7ef-428c-82be-82b0785dcab3",
   "metadata": {},
   "outputs": [],
   "source": [
    "user_id_N2=usernames.loc[2,\"username\"]"
   ]
  },
  {
   "cell_type": "code",
   "execution_count": null,
   "id": "b6ec8d3f-aca5-47e8-a6f0-65320731542b",
   "metadata": {},
   "outputs": [],
   "source": [
    "ro.set_authors(agents=[user_id_N1,user_id_N1])"
   ]
  },
  {
   "cell_type": "markdown",
   "id": "angry-travel",
   "metadata": {},
   "source": [
    "### Add Funder"
   ]
  },
  {
   "cell_type": "code",
   "execution_count": null,
   "id": "directed-progressive",
   "metadata": {},
   "outputs": [],
   "source": [
    "funded_by = {\n",
    "\"grant_id\": \"ID\",\n",
    "\"grant_Name\": \"NAME\",\n",
    "\"grant_title\": \"TITLE\",\n",
    "\"funder_name\": \"FUNDER\",\n",
    "\"funder_doi\": \"DOI\",\n",
    "}\n",
    "\n",
    "if funded_by:\n",
    "    ro.add_funding(grant_identifier=funded_by[\"grant_id\"], grant_name=funded_by[\"grant_Name\"],\n",
    "                   funder_name=funded_by[\"funder_name\"], grant_title=funded_by[\"grant_title\"],\n",
    "                   funder_doi=funded_by[\"funder_doi\"])"
   ]
  },
  {
   "cell_type": "markdown",
   "id": "ignored-compiler",
   "metadata": {},
   "source": [
    "### See licenses"
   ]
  },
  {
   "cell_type": "code",
   "execution_count": null,
   "id": "offshore-cursor",
   "metadata": {},
   "outputs": [],
   "source": [
    "licenses = rohub.list_available_licenses()\n",
    "licenses"
   ]
  },
  {
   "cell_type": "markdown",
   "id": "ca481244-fb34-41c0-81c3-5b84e103adfa",
   "metadata": {},
   "source": [
    "## Add license"
   ]
  },
  {
   "cell_type": "code",
   "execution_count": null,
   "id": "892cee63-dd99-4208-a593-c701bbe99693",
   "metadata": {},
   "outputs": [],
   "source": [
    "license = 'LICENSE'\n",
    "\n",
    "ro.set_license(license_id=license) "
   ]
  },
  {
   "cell_type": "markdown",
   "id": "4c56005d-89bd-453a-bde0-6757222aaea4",
   "metadata": {
    "tags": []
   },
   "source": [
    "# Add resources to the RO"
   ]
  },
  {
   "cell_type": "markdown",
   "id": "3ad70a6e-5320-4bae-a641-2c4845b9cedf",
   "metadata": {},
   "source": [
    "## Define folders"
   ]
  },
  {
   "cell_type": "code",
   "execution_count": null,
   "id": "b28878f6-e5ff-4ff0-a875-f12f05ac9eab",
   "metadata": {
    "tags": []
   },
   "outputs": [],
   "source": [
    "WORKDIR_FOLDER = \"ADD PATH\"\n",
    "print(\"WORKDIR FOLDER: \", WORKDIR_FOLDER)"
   ]
  },
  {
   "cell_type": "code",
   "execution_count": null,
   "id": "fb32273a-541c-4a25-b6ac-0fdaeb94ff6e",
   "metadata": {},
   "outputs": [],
   "source": [
    "INPUT_DATA_DIR  = \"ADD PATH\"\n",
    "OUTPUT_DATA_DIR = \"ADD PATH\"\n",
    "TOOL_DATA_DIR   = \"ADD PATH\""
   ]
  },
  {
   "cell_type": "markdown",
   "id": "2f760430-4923-4b7e-ad4f-9cf7281c1010",
   "metadata": {},
   "source": [
    "## Add folders"
   ]
  },
  {
   "cell_type": "code",
   "execution_count": null,
   "id": "bbf7a1de-d2b3-472b-af8a-adc87d300769",
   "metadata": {},
   "outputs": [],
   "source": [
    "ro.add_folders(name=\"FOLDER1\")\n",
    "myfolders = ro.list_folders()"
   ]
  },
  {
   "cell_type": "markdown",
   "id": "acceptable-kelly",
   "metadata": {},
   "source": [
    "## Add Sketch - Internal resource"
   ]
  },
  {
   "cell_type": "code",
   "execution_count": null,
   "id": "indoor-mirror",
   "metadata": {
    "tags": []
   },
   "outputs": [],
   "source": [
    "resi_res_type = \"Sketch\"\n",
    "resi_file_path = \"ADD PATH\"\n",
    "resi_title=\"TITLE\"\n",
    "resi_folder=\"FOLDER\"\n",
    "resi_description=resi_title\n",
    "\n",
    "ro.add_internal_resource(res_type=resi_res_type,\n",
    "                         file_path=resi_file_path,\n",
    "                         title=resi_title,\n",
    "                         description=resi_description,\n",
    "                         folder=resi_folder)"
   ]
  },
  {
   "cell_type": "markdown",
   "id": "4ec9eaed-6a6d-4d6c-abff-40ec3d85079e",
   "metadata": {},
   "source": [
    "## or from external resource"
   ]
  },
  {
   "cell_type": "code",
   "execution_count": null,
   "id": "8601abe9-2a38-43d7-81b6-e5cb766015cb",
   "metadata": {},
   "outputs": [],
   "source": [
    "resi_res_type = \"Sketch\"\n",
    "resi_file_url = \"URL\"\n",
    "resi_title=\"TITLE\"\n",
    "resi_folder=\"FOLDER\"\n",
    "resi_description=resi_title\n",
    "\n",
    "ro.add_external_resource(res_type=resi_res_type,\n",
    "                         input_url=resi_file_url,\n",
    "                         title=resi_title,\n",
    "                         description = resi_description,\n",
    "                         folder=resi_folder)"
   ]
  },
  {
   "cell_type": "markdown",
   "id": "14d5d0ec-d7ff-4e6f-bfef-9125052aca49",
   "metadata": {
    "tags": []
   },
   "source": [
    "## Add bibliographic resource"
   ]
  },
  {
   "cell_type": "code",
   "execution_count": null,
   "id": "4eb06da1-3805-4fc9-a23e-eeb76c41044e",
   "metadata": {},
   "outputs": [],
   "source": [
    "rese_res_type=\"Bibliographic Resource\"\n",
    "rese_file_url=\"URL\"\n",
    "rese_title=\"TITLE\"\n",
    "rese_descr= \"DESCRIPTION\"\n",
    "rese_folder=\"FOLDER\"\n",
    "\n",
    "ro.add_external_resource(res_type=rese_res_type,\n",
    "                         input_url=rese_file_url,\n",
    "                         title=rese_title,\n",
    "                         description = rese_descr,\n",
    "                         folder=rese_folder)"
   ]
  },
  {
   "cell_type": "code",
   "execution_count": null,
   "id": "4dd2e021-47f2-4e3e-8610-814d822ba570",
   "metadata": {},
   "outputs": [],
   "source": [
    "ro.list_resources()"
   ]
  },
  {
   "cell_type": "markdown",
   "id": "2d5d8a43-13a6-421b-b526-7163fe8da8e3",
   "metadata": {},
   "source": [
    "## Add Python Script or Jupyter Notebook as an internal resource"
   ]
  },
  {
   "cell_type": "code",
   "execution_count": null,
   "id": "4ea4232b-d06a-493e-adff-41ff276265ee",
   "metadata": {},
   "outputs": [],
   "source": [
    "import pathlib\n",
    "resi_file_path=\"ADD PATH\""
   ]
  },
  {
   "cell_type": "code",
   "execution_count": null,
   "id": "193d74c6-0235-4835-b602-2d70b1b68c9d",
   "metadata": {},
   "outputs": [],
   "source": [
    "if pathlib.Path(resi_file_path).exists():\n",
    "    resi_res_type=\"Python Script\"\n",
    "    resi_title=\"TITLE\"\n",
    "    resi_description= resi_title\n",
    "    resi_folder=\"FOLDER\"\n",
    "    ro.add_internal_resource(res_type=resi_res_type,\n",
    "                             file_path=resi_file_path, \n",
    "                             title=resi_title, \n",
    "                             description=resi_description,\n",
    "                            folder=resi_folder)"
   ]
  },
  {
   "cell_type": "markdown",
   "id": "bbc71041-22d0-4279-8ca3-0c3029c4bd3f",
   "metadata": {},
   "source": [
    "## or as an external executable resource"
   ]
  },
  {
   "cell_type": "markdown",
   "id": "63c75f81-ce0c-43a0-9485-4b26c098ab2e",
   "metadata": {},
   "source": [
    "###  Get shared link from EGI datahub"
   ]
  },
  {
   "cell_type": "code",
   "execution_count": null,
   "id": "2a63196a-366c-493c-b704-f26623159c98",
   "metadata": {},
   "outputs": [],
   "source": [
    "def egi_datahub_init():\n",
    "    import requests, json, datetime\n",
    "    \n",
    "    ONEZONE_ENDPOINT=\"https://datahub.egi.eu/api/v3/onezone/\"\n",
    "    ONEPROVIDER_ENDPOINT=\"https://cesnet-oneprovider-01.datahub.egi.eu/api/v3/oneprovider/\"\n",
    "    \n",
    "    with open(\"/var/run/secrets/egi.eu/access_token\") as f:\n",
    "        EGI_TOKEN = f.read()\n",
    "        try:\n",
    "            # get DATAHUB token\n",
    "            headers = {\n",
    "                'X-Auth-Token': f\"egi:\" + EGI_TOKEN,\n",
    "                'Content-type': 'application/json',\n",
    "            }\n",
    "            # get current timestamp\n",
    "            ts = datetime.datetime.now().timestamp()\n",
    "            data = json.dumps({ \n",
    "                'name': 'REST and CDMI access token ' + str(ts), \n",
    "                'type': { \n",
    "                    'accessToken': {} \n",
    "                }, \n",
    "                'caveats': [ { \n",
    "                    'type': 'interface', \n",
    "                    'interface': 'rest' \n",
    "                }] \n",
    "            })\n",
    "            response = requests.post(ONEZONE_ENDPOINT+'user/tokens/named', headers=headers, data=data)\n",
    "            print(json.dumps(response.json(), indent=2))\n",
    "            DATAHUB_TOKEN=response.json()['token']              \n",
    "            return DATAHUB_TOKEN\n",
    "        except:\n",
    "            print(\"EGI Datahub Authentication problem: check your credentials\")"
   ]
  },
  {
   "cell_type": "code",
   "execution_count": null,
   "id": "71fd2dd0-f15a-4565-8991-45d9ffe26b9b",
   "metadata": {},
   "outputs": [],
   "source": [
    "def egi_datahub_getlink(datahub_token, filename):\n",
    "    import requests, json, os\n",
    "    OIDC_ENDPOINT=\"https://aai.egi.eu/oidc/\"\n",
    "    ONEZONE_ENDPOINT=\"https://datahub.egi.eu/api/v3/onezone/\"\n",
    "    ONEPROVIDER_ENDPOINT=\"https://cesnet-oneprovider-01.datahub.egi.eu/api/v3/oneprovider/\"\n",
    "    \n",
    "    bname = os.path.basename(filename)\n",
    "    hname = filename.split('datahub/')[1]\n",
    "    ## get file id\n",
    "    headers = { \n",
    "        'X-Auth-Token': datahub_token \n",
    "    }\n",
    "    response = requests.post(ONEPROVIDER_ENDPOINT+'lookup-file-id/'+hname, headers=headers)\n",
    "    dh_fileid = response.json()['fileId']\n",
    "    ## get shared link \n",
    "    headers = { 'X-Auth-Token': datahub_token, 'Content-Type': 'application/json',}\n",
    "    data = json.dumps({ \n",
    "        'name': bname,\n",
    "        'fileId': dh_fileid\n",
    "    })\n",
    "    response = requests.post(ONEPROVIDER_ENDPOINT+'shares', headers=headers, data=data)\n",
    "    shareIdGenerated=response.json()['shareId']\n",
    "    # get shared link details\n",
    "    headers = {\n",
    "        'X-Auth-Token': datahub_token\n",
    "    }\n",
    "    response = requests.get(ONEPROVIDER_ENDPOINT+'shares/'+shareIdGenerated, headers=headers)\n",
    "    publicURL=response.json()['publicUrl'] #publicURL is nice link but to webpage where you can download file, not the actual file\n",
    "    contentURL= ONEZONE_ENDPOINT+'shares/data/'+response.json()['rootFileId']+'/content' #use this link to aggregate Jupyter Notebooks\n",
    "    return (publicURL, contentURL)"
   ]
  },
  {
   "cell_type": "markdown",
   "id": "17044a0e-5275-46cb-b6d1-232d3428660e",
   "metadata": {},
   "source": [
    "### EGI DataHub initialization"
   ]
  },
  {
   "cell_type": "code",
   "execution_count": null,
   "id": "66a6963c-6939-48a9-be43-19f03c9cc97d",
   "metadata": {},
   "outputs": [],
   "source": [
    "DATAHUB_TOKEN = egi_datahub_init()"
   ]
  },
  {
   "cell_type": "code",
   "execution_count": null,
   "id": "e5876e9f-be50-4100-999c-2405141583fc",
   "metadata": {},
   "outputs": [],
   "source": [
    "import os\n",
    "WORKDIR_FOLDER = \"PATH\"\n",
    "INPUT_DATA_DIR  = \"PATH\"\n",
    "\n",
    "myfilename = 'FILE'\n",
    "shared_res_path = os.path.join(INPUT_DATA_DIR, myfilename)\n",
    "print(shared_res_path)\n",
    "links = egi_datahub_getlink(DATAHUB_TOKEN, shared_res_path)\n",
    "# we can aggregate either the publicURL or the contentURL as external resource in the research object\n",
    "# the publicURL redirects to the EGI DataHub Webpage of the resource, where you can download the resource\n",
    "# the contentURL redirects to the file contents directly. \n",
    "# NOTE: YOU NEED TO USE contentURL to aggregate JupyterNoteboks to be able to execute them from ROHub\n",
    "res_file_url_public = links[0] \n",
    "print (res_file_url_public)\n",
    "res_file_url_content = links[1] \n",
    "print (res_file_url_content)"
   ]
  },
  {
   "cell_type": "markdown",
   "id": "e27b2904-89ae-4129-83c4-4d0c9d8db63c",
   "metadata": {},
   "source": [
    "### Add the resource to our new RO"
   ]
  },
  {
   "cell_type": "code",
   "execution_count": null,
   "id": "52c41724-d8d4-4452-867e-11186220b476",
   "metadata": {},
   "outputs": [],
   "source": [
    "res_type = \"Jupyter Notebook\"\n",
    "res_title = \"TITLE\"\n",
    "res_description = \"DESCRIPTION\"\n",
    "res_folder='FOLDER'\n",
    "ro.add_external_resource(res_type=res_type,\n",
    "                         input_url=res_file_url_content,\n",
    "                         title=res_title, \n",
    "                         description=res_description, \n",
    "                         folder=res_folder)"
   ]
  }
 ],
 "metadata": {
  "kernelspec": {
   "display_name": "Python 3",
   "language": "python",
   "name": "python3"
  },
  "language_info": {
   "codemirror_mode": {
    "name": "ipython",
    "version": 3
   },
   "file_extension": ".py",
   "mimetype": "text/x-python",
   "name": "python",
   "nbconvert_exporter": "python",
   "pygments_lexer": "ipython3",
   "version": "3.8.8"
  }
 },
 "nbformat": 4,
 "nbformat_minor": 5
}
