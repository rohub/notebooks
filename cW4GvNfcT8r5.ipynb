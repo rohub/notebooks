<!DOCTYPE html>
<html>
  <head>
    <meta charset="utf-8">
    <meta http-equiv="X-UA-Compatible" content="IE=edge">
    <title>Onedata</title>
    <meta name="description" content="">
    <meta name="viewport" content="width=device-width, initial-scale=1">
    
    <!-- #region favicon and manifest -->
    
    <!-- Chrome, Firefox OS and Opera -->
    <meta name="theme-color" content="#363636">
    <!-- Windows Phone -->
    <meta name="msapplication-navbutton-color" content="#363636">
    <!-- iOS Safari -->
    <meta name="apple-mobile-web-app-status-bar-style" content="#363636">
    <link rel="apple-touch-icon" sizes="180x180" href="./apple-touch-icon-d7941ff06604f194eb43f82aa76bd053.png">
    <link rel="icon" type="image/png" sizes="32x32" href="./favicon-32x32-074812e19b1dedfb6caf43604d853e47.png">
    <link rel="icon" type="image/png" sizes="16x16" href="./favicon-16x16-c67825f127e5a6e6551d424c4ba0115d.png">
    <link rel="manifest" href="./manifest-b08c1348e0234fb0d30b32dedf23727b.webmanifest">
    <link rel="mask-icon" href="./safari-pinned-tab-e9af4553ae61b1a145db3f4404586218.svg" color="#ee3f3f">
    <meta name="theme-color" content="#363636">
    
    <!-- #endregion -->

    
<meta name="onezone-gui/config/environment" content="%7B%22modulePrefix%22%3A%22onezone-gui%22%2C%22environment%22%3A%22production%22%2C%22rootURL%22%3A%22%22%2C%22locationType%22%3A%22hash%22%2C%22EmberENV%22%3A%7B%22FEATURES%22%3A%7B%7D%2C%22EXTEND_PROTOTYPES%22%3A%7B%22String%22%3Afalse%2C%22Array%22%3Atrue%2C%22Date%22%3Afalse%7D%2C%22_JQUERY_INTEGRATION%22%3Atrue%7D%2C%22onedataTabs%22%3A%5B%7B%22id%22%3A%22spaces%22%2C%22icon%22%3A%22browser-directory%22%2C%22isDefault%22%3Atrue%7D%2C%7B%22id%22%3A%22shares%22%2C%22icon%22%3A%22browser-share%22%7D%2C%7B%22id%22%3A%22providers%22%2C%22icon%22%3A%22provider%22%2C%22allowIndex%22%3Atrue%7D%2C%7B%22id%22%3A%22groups%22%2C%22icon%22%3A%22groups%22%2C%22defaultAspect%22%3A%22members%22%7D%2C%7B%22id%22%3A%22tokens%22%2C%22icon%22%3A%22tokens%22%7D%2C%7B%22id%22%3A%22harvesters%22%2C%22icon%22%3A%22light-bulb%22%2C%22defaultAspect%22%3A%22plugin%22%7D%2C%7B%22id%22%3A%22atmInventories%22%2C%22icon%22%3A%22atm-inventory%22%2C%22defaultAspect%22%3A%22workflows%22%7D%2C%7B%22id%22%3A%22clusters%22%2C%22icon%22%3A%22cluster%22%2C%22defaultAspect%22%3A%22overview%22%2C%22allowIndex%22%3Afalse%7D%2C%7B%22id%22%3A%22uploads%22%2C%22icon%22%3A%22browser-upload%22%2C%22stickyBottom%22%3Atrue%2C%22visibilityCondition%22%3A%22uploadManager.hasUploads%22%2C%22component%22%3A%22main-menu%2Fupload-item%22%7D%5D%2C%22layoutConfig%22%3A%7B%22formLabelColumns%22%3A%22col-xs-12%20col-sm-5%22%2C%22formInputColumns%22%3A%22col-xs-12%20col-sm-7%22%2C%22formSubmitColumns%22%3A%22col-xs-12%20col-sm-7%20col-sm-offset-5%20text-xs-center%22%2C%22formToggleLabelColumns%22%3A%22col-xs-9%20col-sm-5%22%2C%22formToggleInputColumns%22%3A%22col-xs-3%20col-sm-7%20text-xs-right%22%7D%2C%22timing%22%3A%7B%22typingActionDebouce%22%3A300%7D%2C%22onedataWebsocket%22%3A%7B%22defaultProtocolVersion%22%3A3%7D%2C%22ember-simple-auth%22%3A%7B%22authenticationRoute%22%3A%22login%22%2C%22routeAfterAuthentication%22%3A%22onedata%22%2C%22routeIfAlreadyAuthenticated%22%3A%22onedata%22%7D%2C%22i18n%22%3A%7B%22defaultLocale%22%3A%22en%22%7D%2C%22validationConfig%22%3A%7B%22minNameLength%22%3A2%2C%22maxNameLength%22%3A50%7D%2C%22ember-local-storage%22%3A%7B%22namespace%22%3Atrue%7D%2C%22APP%22%3A%7B%22name%22%3A%22onezone-gui%22%2C%22version%22%3A%220.0.0-current%2Bf9b4f067%22%7D%2C%22exportApplicationGlobal%22%3Afalse%2C%22colors%22%3A%7B%22azure%22%3A%22%233EA5F9%22%2C%22fuchsia%22%3A%22%23D010B9%22%2C%22teal%22%3A%22%2308B7B5%22%2C%22orange%22%3A%22%23FF854D%22%2C%22violet%22%3A%22%238549D4%22%2C%22yellow%22%3A%22%23F7AA04%22%7D%2C%22breakpoints%22%3A%7B%22screenSm%22%3A768%2C%22screenMd%22%3A1320%2C%22screenLg%22%3A1680%7D%2C%22dynamicLibraries%22%3A%7B%22echarts%22%3A%7B%22files%22%3A%5B%7B%22sourcePath%22%3A%22node_modules%2Fecharts%2Fdist%2Fecharts.min.js%22%2C%22destinationPath%22%3A%22assets%2Fscripts%2Fecharts.min.js%22%7D%5D%7D%7D%7D" />

    <link integrity="" rel="stylesheet" href="https://cdn.jsdelivr.net/npm/jvectormap@2.0.4/jquery-jvectormap.css">
    <link integrity="" rel="stylesheet" href="assets/vendor-f1e4c872f14b83ccd08bd1de4ac25c03.css">
    <link integrity="" rel="stylesheet" href="assets/onezone-gui-a0cbe74d39be5c09d5f3dc7e68ea4020.css">

    
  </head>
  <body>
    

    <script src="assets/vendor-cf44aacc89f864108ffa97608bf6b6ca.js" integrity="sha256-UBXE6bAd/edNLtmTn56l5G3mLbnKD5JH1CUHY8c4uqI= sha512-VWwFi+qFwL3vanrzriMCbXz6n9bVTCg1e+jCNcEhy6TIZB2LOlGRZtIrymMlaJrksupB23bQq7T5z79riW3tvw==" ></script>
<script src="./assets/chunk.32.7407f147604a40881b8c.js" integrity="sha256-M2Yp2ThvZdjL5mZEKC6pHwifap6J76F1F20VOej0ytA= sha512-9ZglyTyGkGwI/nvBkudheUoDUm2h3vGfUMK5ns6hswPwwT0EzjORcrPnFDA2s/lBS7I5RtfQpJwtm0H6MoLoSA==" ></script>
<script src="./assets/chunk.143.1256ee308f0fc8f6506a.js" integrity="sha256-paeO9/8WnIYAbfBku8WvcHoFFyP/rm42y0R3SkRScEU= sha512-AygBdM3LDKCAT8zwkMel03GdvNirfcuONK00441X3EZ1xGQiupwPsJsiLcVp2KOA8Cb9gLj4QhjgtwPmYEF0xQ==" ></script>
    <script src="https://cdn.jsdelivr.net/npm/jvectormap@2.0.4/jquery-jvectormap.min.js"></script>
    <script src="assets/scripts/jvectormap/jquery-jvectormap-world-mill-e1a807e6f6481044ac4d256b92437f2a.js" integrity="sha256-KS+UpBAAt+eEEtOf1LmLIcYcBW9KcJrQJ9S+ax0vAcQ= sha512-kDYktlmJg6thhS1Ip7ffw4Z8+P/gy5QKC9idS627E3DbJKp8dsLZ/I0GA+tKqablZuIu14VPIUiYhciD0Yi8pg==" ></script>
    <script src="assets/onezone-gui-89f1389de995e9b5712f47fbb0a58ee1.js" integrity="sha256-ippCHfBSatF0NSfEH1QVcY7l07Z0aAbYzu6YAQJVErU= sha512-iWU3vM32dDuFW4If8MhQg8MmbnrVj8HGsLITILhp3f3F9/25deCSjWvyHmoXzyRbHJaNM+AMnzeBm5C5tR7IEQ==" ></script>

    <div id="ember-bootstrap-wormhole"></div>
<div id="ember-basic-dropdown-wormhole"></div>
  </body>
</html>
