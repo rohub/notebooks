{
 "cells": [
  {
   "cell_type": "markdown",
   "id": "brown-wiring",
   "metadata": {},
   "source": [
    "<img src=\"./VSM_logo.gif\" width=\"550\" align=\"center\">"
   ]
  },
  {
   "cell_type": "markdown",
   "id": "authorized-column",
   "metadata": {},
   "source": [
    "## Creation of a Research Object from a single run of VSM with the Reliance (rohub) library aggregating resources from local and from the EGI notebook\n",
    "\n",
    "Steps \n",
    "- Create a RO\n",
    "- Add metadata - collateral information\n",
    "- Add resources as internal\n",
    "- Add resources as external by generating sharable links in the datahub\n",
    "\n",
    "----"
   ]
  },
  {
   "cell_type": "code",
   "execution_count": 2,
   "id": "b1392993-4054-4dc0-bde2-54d300fdf534",
   "metadata": {},
   "outputs": [
    {
     "name": "stdout",
     "output_type": "stream",
     "text": [
      "Collecting rohub\n",
      "  Using cached rohub-1.0.7-py3-none-any.whl\n",
      "Requirement already satisfied: requests in /opt/conda/lib/python3.8/site-packages (from rohub) (2.25.1)\n",
      "Requirement already satisfied: pandas in /opt/conda/lib/python3.8/site-packages (from rohub) (1.2.4)\n",
      "Requirement already satisfied: python-dateutil>=2.7.3 in /opt/conda/lib/python3.8/site-packages (from pandas->rohub) (2.8.1)\n",
      "Requirement already satisfied: pytz>=2017.3 in /opt/conda/lib/python3.8/site-packages (from pandas->rohub) (2021.1)\n",
      "Requirement already satisfied: numpy>=1.16.5 in /opt/conda/lib/python3.8/site-packages (from pandas->rohub) (1.19.5)\n",
      "Requirement already satisfied: six>=1.5 in /opt/conda/lib/python3.8/site-packages (from python-dateutil>=2.7.3->pandas->rohub) (1.15.0)\n",
      "Requirement already satisfied: certifi>=2017.4.17 in /opt/conda/lib/python3.8/site-packages (from requests->rohub) (2021.10.8)\n",
      "Requirement already satisfied: urllib3<1.27,>=1.21.1 in /opt/conda/lib/python3.8/site-packages (from requests->rohub) (1.26.4)\n",
      "Requirement already satisfied: chardet<5,>=3.0.2 in /opt/conda/lib/python3.8/site-packages (from requests->rohub) (4.0.0)\n",
      "Requirement already satisfied: idna<3,>=2.5 in /opt/conda/lib/python3.8/site-packages (from requests->rohub) (2.10)\n",
      "Installing collected packages: rohub\n",
      "Successfully installed rohub-1.0.7\n",
      "Note: you may need to restart the kernel to use updated packages.\n"
     ]
    }
   ],
   "source": [
    "pip install rohub"
   ]
  },
  {
   "cell_type": "code",
   "execution_count": 3,
   "id": "composite-spring",
   "metadata": {},
   "outputs": [],
   "source": [
    "import os\n",
    "from rohub import rohub, settings\n",
    "import pathlib\n",
    "from zipfile import ZipFile\n",
    "import json\n",
    "import requests\n",
    "import datetime\n",
    "import shutil"
   ]
  },
  {
   "cell_type": "markdown",
   "id": "entitled-opera",
   "metadata": {},
   "source": [
    "## Sign in\n",
    "### Create a .txt file named \"rohub_user.txt\" containing the ROHub user name, and a .txt file named \"rohub_pwd.txt\" reporting the ROHun password"
   ]
  },
  {
   "cell_type": "code",
   "execution_count": 4,
   "id": "phantom-horse",
   "metadata": {},
   "outputs": [
    {
     "name": "stdout",
     "output_type": "stream",
     "text": [
      "Logged successfully as giorgio.castellan@bo.ismar.cnr.it.\n"
     ]
    }
   ],
   "source": [
    "rohub_user = open(\"/home/jovyan/rohub-user\").read().rstrip()\n",
    "rohub_pwd = open(\"/home/jovyan/rohub-pwd\").read().rstrip()\n",
    "rohub.login(username=rohub_user, password=rohub_pwd)"
   ]
  },
  {
   "cell_type": "markdown",
   "id": "fundamental-marriage",
   "metadata": {},
   "source": [
    "### Check my last ROs"
   ]
  },
  {
   "cell_type": "code",
   "execution_count": 5,
   "id": "raised-oregon",
   "metadata": {},
   "outputs": [
    {
     "data": {
      "text/html": [
       "<div>\n",
       "<style scoped>\n",
       "    .dataframe tbody tr th:only-of-type {\n",
       "        vertical-align: middle;\n",
       "    }\n",
       "\n",
       "    .dataframe tbody tr th {\n",
       "        vertical-align: top;\n",
       "    }\n",
       "\n",
       "    .dataframe thead th {\n",
       "        text-align: right;\n",
       "    }\n",
       "</style>\n",
       "<table border=\"1\" class=\"dataframe\">\n",
       "  <thead>\n",
       "    <tr style=\"text-align: right;\">\n",
       "      <th></th>\n",
       "      <th>identifier</th>\n",
       "      <th>title</th>\n",
       "      <th>description</th>\n",
       "      <th>type</th>\n",
       "      <th>research_areas</th>\n",
       "      <th>status</th>\n",
       "      <th>created_on</th>\n",
       "      <th>created_by</th>\n",
       "      <th>modified_on</th>\n",
       "      <th>access_mode</th>\n",
       "      <th>owner</th>\n",
       "      <th>creation_mode</th>\n",
       "      <th>shared_link</th>\n",
       "    </tr>\n",
       "  </thead>\n",
       "  <tbody>\n",
       "    <tr>\n",
       "      <th>0</th>\n",
       "      <td>fa006c59-184d-41ee-9a96-2d4f30503394</td>\n",
       "      <td>test1</td>\n",
       "      <td>test1</td>\n",
       "      <td>Basic Research Object</td>\n",
       "      <td>[Applied sciences]</td>\n",
       "      <td>LIVE</td>\n",
       "      <td>2022-07-20T08:18:06.339673+00:00</td>\n",
       "      <td>giorgio.castellan@bo.ismar.cnr.it</td>\n",
       "      <td>2022-07-20T08:18:06.649820+00:00</td>\n",
       "      <td>PUBLIC</td>\n",
       "      <td>giorgio.castellan@bo.ismar.cnr.it</td>\n",
       "      <td>MANUAL</td>\n",
       "      <td>https://w3id.org/ro-id/fa006c59-184d-41ee-9a96...</td>\n",
       "    </tr>\n",
       "    <tr>\n",
       "      <th>1</th>\n",
       "      <td>28035054-b99d-45c3-aa02-6be4c509a596</td>\n",
       "      <td>test1</td>\n",
       "      <td>test1</td>\n",
       "      <td>Basic Research Object</td>\n",
       "      <td>[Applied sciences]</td>\n",
       "      <td>LIVE</td>\n",
       "      <td>2022-07-19T16:30:43.658395+00:00</td>\n",
       "      <td>giorgio.castellan@bo.ismar.cnr.it</td>\n",
       "      <td>2022-07-19T16:30:43.998057+00:00</td>\n",
       "      <td>PUBLIC</td>\n",
       "      <td>giorgio.castellan@bo.ismar.cnr.it</td>\n",
       "      <td>MANUAL</td>\n",
       "      <td>https://w3id.org/ro-id/28035054-b99d-45c3-aa02...</td>\n",
       "    </tr>\n",
       "    <tr>\n",
       "      <th>2</th>\n",
       "      <td>102c7f4b-a8f7-4ccc-b8c5-7dadb84706b7</td>\n",
       "      <td>test1</td>\n",
       "      <td>test1</td>\n",
       "      <td>Basic Research Object</td>\n",
       "      <td>[Applied sciences]</td>\n",
       "      <td>LIVE</td>\n",
       "      <td>2022-07-19T16:21:59.390228+00:00</td>\n",
       "      <td>giorgio.castellan@bo.ismar.cnr.it</td>\n",
       "      <td>2022-07-19T16:21:59.821196+00:00</td>\n",
       "      <td>PUBLIC</td>\n",
       "      <td>giorgio.castellan@bo.ismar.cnr.it</td>\n",
       "      <td>MANUAL</td>\n",
       "      <td>https://w3id.org/ro-id/102c7f4b-a8f7-4ccc-b8c5...</td>\n",
       "    </tr>\n",
       "    <tr>\n",
       "      <th>3</th>\n",
       "      <td>3c53a048-112f-4d41-af26-29e58a8e4f6a</td>\n",
       "      <td>Demo RO for creating an executable Research Ob...</td>\n",
       "      <td>This Research Object has been created through ...</td>\n",
       "      <td>Executable Research Object</td>\n",
       "      <td>[Earth sciences]</td>\n",
       "      <td>LIVE</td>\n",
       "      <td>2022-07-18T13:57:43.060086+00:00</td>\n",
       "      <td>giorgio.castellan@bo.ismar.cnr.it</td>\n",
       "      <td>2022-07-18T13:58:20.451298+00:00</td>\n",
       "      <td>PUBLIC</td>\n",
       "      <td>giorgio.castellan@bo.ismar.cnr.it</td>\n",
       "      <td>MANUAL</td>\n",
       "      <td>https://w3id.org/ro-id/3c53a048-112f-4d41-af26...</td>\n",
       "    </tr>\n",
       "    <tr>\n",
       "      <th>4</th>\n",
       "      <td>fc8a8087-e49a-4d97-8366-61906b5c3969</td>\n",
       "      <td>Demo RO for creating an executable Research Ob...</td>\n",
       "      <td>This Research Object has been created through ...</td>\n",
       "      <td>Executable Research Object</td>\n",
       "      <td>[Earth sciences]</td>\n",
       "      <td>LIVE</td>\n",
       "      <td>2022-07-18T10:23:36.257031+00:00</td>\n",
       "      <td>giorgio.castellan@bo.ismar.cnr.it</td>\n",
       "      <td>2022-07-18T10:25:54.960186+00:00</td>\n",
       "      <td>PUBLIC</td>\n",
       "      <td>giorgio.castellan@bo.ismar.cnr.it</td>\n",
       "      <td>MANUAL</td>\n",
       "      <td>https://w3id.org/ro-id/fc8a8087-e49a-4d97-8366...</td>\n",
       "    </tr>\n",
       "    <tr>\n",
       "      <th>5</th>\n",
       "      <td>6556cdf7-bcef-43d3-a3ce-3d45d14e4a24</td>\n",
       "      <td>Identifying Priorities for the Protection of D...</td>\n",
       "      <td>Benthic habitats of the deep Mediterranean Sea...</td>\n",
       "      <td>Basic Research Object</td>\n",
       "      <td>[Applied sciences, Ecology, Environmental rese...</td>\n",
       "      <td>LIVE</td>\n",
       "      <td>2022-03-24T17:00:15.895312+00:00</td>\n",
       "      <td>giorgio.castellan@bo.ismar.cnr.it</td>\n",
       "      <td>2022-03-25T09:51:59.432183+00:00</td>\n",
       "      <td>PUBLIC</td>\n",
       "      <td>giorgio.castellan@bo.ismar.cnr.it</td>\n",
       "      <td>MANUAL</td>\n",
       "      <td>https://w3id.org/ro-id/6556cdf7-bcef-43d3-a3ce...</td>\n",
       "    </tr>\n",
       "    <tr>\n",
       "      <th>6</th>\n",
       "      <td>f90c2540-1c8c-499b-b3d1-ec95ac526772</td>\n",
       "      <td>Mapping the photic zone of the Mediterranean S...</td>\n",
       "      <td>Estimating the penetration of light along the ...</td>\n",
       "      <td>Basic Research Object</td>\n",
       "      <td>[Ecology, Environmental research]</td>\n",
       "      <td>LIVE</td>\n",
       "      <td>2022-03-03T16:25:15.908501+00:00</td>\n",
       "      <td>giorgio.castellan@bo.ismar.cnr.it</td>\n",
       "      <td>2022-05-22T16:22:45.282688+00:00</td>\n",
       "      <td>PUBLIC</td>\n",
       "      <td>giorgio.castellan@bo.ismar.cnr.it</td>\n",
       "      <td>MANUAL</td>\n",
       "      <td>https://w3id.org/ro-id/f90c2540-1c8c-499b-b3d1...</td>\n",
       "    </tr>\n",
       "    <tr>\n",
       "      <th>7</th>\n",
       "      <td>d0694eaf-a561-4c9f-9a70-17c296da2140</td>\n",
       "      <td>Analysis from satellite data – Environmental m...</td>\n",
       "      <td>Collection and analysis of satellite data to m...</td>\n",
       "      <td>Basic Research Object</td>\n",
       "      <td>[Earth sciences]</td>\n",
       "      <td>LIVE</td>\n",
       "      <td>2021-12-14T10:41:17.716553+00:00</td>\n",
       "      <td>giorgio.castellan@bo.ismar.cnr.it</td>\n",
       "      <td>2022-03-29T09:26:43.757264+00:00</td>\n",
       "      <td>PUBLIC</td>\n",
       "      <td>giorgio.castellan@bo.ismar.cnr.it</td>\n",
       "      <td>MANUAL</td>\n",
       "      <td>https://w3id.org/ro-id/d0694eaf-a561-4c9f-9a70...</td>\n",
       "    </tr>\n",
       "    <tr>\n",
       "      <th>8</th>\n",
       "      <td>34d648b3-0014-4a19-8469-40b9380ca4c3</td>\n",
       "      <td>Discover and subset satellite data from the AD...</td>\n",
       "      <td>This Research Object demonstrate how to discov...</td>\n",
       "      <td>Executable Research Object</td>\n",
       "      <td>[Earth sciences]</td>\n",
       "      <td>LIVE</td>\n",
       "      <td>2021-12-14T09:50:09.833282+00:00</td>\n",
       "      <td>giorgio.castellan@bo.ismar.cnr.it</td>\n",
       "      <td>2022-03-24T17:36:26.806578+00:00</td>\n",
       "      <td>PUBLIC</td>\n",
       "      <td>giorgio.castellan@bo.ismar.cnr.it</td>\n",
       "      <td>MANUAL</td>\n",
       "      <td>https://w3id.org/ro-id/34d648b3-0014-4a19-8469...</td>\n",
       "    </tr>\n",
       "    <tr>\n",
       "      <th>9</th>\n",
       "      <td>894d3a33-8340-497d-beaf-5b9d85c9bfc7</td>\n",
       "      <td>Satellite data on water clarity in the Venice ...</td>\n",
       "      <td>Satellite Data on Chlorophyll-a and diffuse at...</td>\n",
       "      <td>Data-centric Research Object</td>\n",
       "      <td>[Applied sciences, Earth sciences, Optics, Phy...</td>\n",
       "      <td>LIVE</td>\n",
       "      <td>2021-12-07T15:44:04.866966+00:00</td>\n",
       "      <td>giorgio.castellan@bo.ismar.cnr.it</td>\n",
       "      <td>2022-03-24T16:35:02.917450+00:00</td>\n",
       "      <td>PUBLIC</td>\n",
       "      <td>giorgio.castellan@bo.ismar.cnr.it</td>\n",
       "      <td>MANUAL</td>\n",
       "      <td>https://w3id.org/ro-id/894d3a33-8340-497d-beaf...</td>\n",
       "    </tr>\n",
       "  </tbody>\n",
       "</table>\n",
       "</div>"
      ],
      "text/plain": [
       "                             identifier  \\\n",
       "0  fa006c59-184d-41ee-9a96-2d4f30503394   \n",
       "1  28035054-b99d-45c3-aa02-6be4c509a596   \n",
       "2  102c7f4b-a8f7-4ccc-b8c5-7dadb84706b7   \n",
       "3  3c53a048-112f-4d41-af26-29e58a8e4f6a   \n",
       "4  fc8a8087-e49a-4d97-8366-61906b5c3969   \n",
       "5  6556cdf7-bcef-43d3-a3ce-3d45d14e4a24   \n",
       "6  f90c2540-1c8c-499b-b3d1-ec95ac526772   \n",
       "7  d0694eaf-a561-4c9f-9a70-17c296da2140   \n",
       "8  34d648b3-0014-4a19-8469-40b9380ca4c3   \n",
       "9  894d3a33-8340-497d-beaf-5b9d85c9bfc7   \n",
       "\n",
       "                                               title  \\\n",
       "0                                              test1   \n",
       "1                                              test1   \n",
       "2                                              test1   \n",
       "3  Demo RO for creating an executable Research Ob...   \n",
       "4  Demo RO for creating an executable Research Ob...   \n",
       "5  Identifying Priorities for the Protection of D...   \n",
       "6  Mapping the photic zone of the Mediterranean S...   \n",
       "7  Analysis from satellite data – Environmental m...   \n",
       "8  Discover and subset satellite data from the AD...   \n",
       "9  Satellite data on water clarity in the Venice ...   \n",
       "\n",
       "                                         description  \\\n",
       "0                                              test1   \n",
       "1                                              test1   \n",
       "2                                              test1   \n",
       "3  This Research Object has been created through ...   \n",
       "4  This Research Object has been created through ...   \n",
       "5  Benthic habitats of the deep Mediterranean Sea...   \n",
       "6  Estimating the penetration of light along the ...   \n",
       "7  Collection and analysis of satellite data to m...   \n",
       "8  This Research Object demonstrate how to discov...   \n",
       "9  Satellite Data on Chlorophyll-a and diffuse at...   \n",
       "\n",
       "                           type  \\\n",
       "0         Basic Research Object   \n",
       "1         Basic Research Object   \n",
       "2         Basic Research Object   \n",
       "3    Executable Research Object   \n",
       "4    Executable Research Object   \n",
       "5         Basic Research Object   \n",
       "6         Basic Research Object   \n",
       "7         Basic Research Object   \n",
       "8    Executable Research Object   \n",
       "9  Data-centric Research Object   \n",
       "\n",
       "                                      research_areas status  \\\n",
       "0                                 [Applied sciences]   LIVE   \n",
       "1                                 [Applied sciences]   LIVE   \n",
       "2                                 [Applied sciences]   LIVE   \n",
       "3                                   [Earth sciences]   LIVE   \n",
       "4                                   [Earth sciences]   LIVE   \n",
       "5  [Applied sciences, Ecology, Environmental rese...   LIVE   \n",
       "6                  [Ecology, Environmental research]   LIVE   \n",
       "7                                   [Earth sciences]   LIVE   \n",
       "8                                   [Earth sciences]   LIVE   \n",
       "9  [Applied sciences, Earth sciences, Optics, Phy...   LIVE   \n",
       "\n",
       "                         created_on                         created_by  \\\n",
       "0  2022-07-20T08:18:06.339673+00:00  giorgio.castellan@bo.ismar.cnr.it   \n",
       "1  2022-07-19T16:30:43.658395+00:00  giorgio.castellan@bo.ismar.cnr.it   \n",
       "2  2022-07-19T16:21:59.390228+00:00  giorgio.castellan@bo.ismar.cnr.it   \n",
       "3  2022-07-18T13:57:43.060086+00:00  giorgio.castellan@bo.ismar.cnr.it   \n",
       "4  2022-07-18T10:23:36.257031+00:00  giorgio.castellan@bo.ismar.cnr.it   \n",
       "5  2022-03-24T17:00:15.895312+00:00  giorgio.castellan@bo.ismar.cnr.it   \n",
       "6  2022-03-03T16:25:15.908501+00:00  giorgio.castellan@bo.ismar.cnr.it   \n",
       "7  2021-12-14T10:41:17.716553+00:00  giorgio.castellan@bo.ismar.cnr.it   \n",
       "8  2021-12-14T09:50:09.833282+00:00  giorgio.castellan@bo.ismar.cnr.it   \n",
       "9  2021-12-07T15:44:04.866966+00:00  giorgio.castellan@bo.ismar.cnr.it   \n",
       "\n",
       "                        modified_on access_mode  \\\n",
       "0  2022-07-20T08:18:06.649820+00:00      PUBLIC   \n",
       "1  2022-07-19T16:30:43.998057+00:00      PUBLIC   \n",
       "2  2022-07-19T16:21:59.821196+00:00      PUBLIC   \n",
       "3  2022-07-18T13:58:20.451298+00:00      PUBLIC   \n",
       "4  2022-07-18T10:25:54.960186+00:00      PUBLIC   \n",
       "5  2022-03-25T09:51:59.432183+00:00      PUBLIC   \n",
       "6  2022-05-22T16:22:45.282688+00:00      PUBLIC   \n",
       "7  2022-03-29T09:26:43.757264+00:00      PUBLIC   \n",
       "8  2022-03-24T17:36:26.806578+00:00      PUBLIC   \n",
       "9  2022-03-24T16:35:02.917450+00:00      PUBLIC   \n",
       "\n",
       "                               owner creation_mode  \\\n",
       "0  giorgio.castellan@bo.ismar.cnr.it        MANUAL   \n",
       "1  giorgio.castellan@bo.ismar.cnr.it        MANUAL   \n",
       "2  giorgio.castellan@bo.ismar.cnr.it        MANUAL   \n",
       "3  giorgio.castellan@bo.ismar.cnr.it        MANUAL   \n",
       "4  giorgio.castellan@bo.ismar.cnr.it        MANUAL   \n",
       "5  giorgio.castellan@bo.ismar.cnr.it        MANUAL   \n",
       "6  giorgio.castellan@bo.ismar.cnr.it        MANUAL   \n",
       "7  giorgio.castellan@bo.ismar.cnr.it        MANUAL   \n",
       "8  giorgio.castellan@bo.ismar.cnr.it        MANUAL   \n",
       "9  giorgio.castellan@bo.ismar.cnr.it        MANUAL   \n",
       "\n",
       "                                         shared_link  \n",
       "0  https://w3id.org/ro-id/fa006c59-184d-41ee-9a96...  \n",
       "1  https://w3id.org/ro-id/28035054-b99d-45c3-aa02...  \n",
       "2  https://w3id.org/ro-id/102c7f4b-a8f7-4ccc-b8c5...  \n",
       "3  https://w3id.org/ro-id/3c53a048-112f-4d41-af26...  \n",
       "4  https://w3id.org/ro-id/fc8a8087-e49a-4d97-8366...  \n",
       "5  https://w3id.org/ro-id/6556cdf7-bcef-43d3-a3ce...  \n",
       "6  https://w3id.org/ro-id/f90c2540-1c8c-499b-b3d1...  \n",
       "7  https://w3id.org/ro-id/d0694eaf-a561-4c9f-9a70...  \n",
       "8  https://w3id.org/ro-id/34d648b3-0014-4a19-8469...  \n",
       "9  https://w3id.org/ro-id/894d3a33-8340-497d-beaf...  "
      ]
     },
     "execution_count": 5,
     "metadata": {},
     "output_type": "execute_result"
    }
   ],
   "source": [
    "myros=rohub.list_my_ros()\n",
    "myros[0:10]"
   ]
  },
  {
   "cell_type": "markdown",
   "id": "proper-middle",
   "metadata": {},
   "source": [
    "### Create a new RO"
   ]
  },
  {
   "cell_type": "code",
   "execution_count": 11,
   "id": "flying-directory",
   "metadata": {
    "tags": []
   },
   "outputs": [
    {
     "name": "stdout",
     "output_type": "stream",
     "text": [
      "Research Object was successfully created with id = 3c53a048-112f-4d41-af26-29e58a8e4f6a\n"
     ]
    }
   ],
   "source": [
    "# ROS_CREATE\n",
    "# title, research_areas, description=None, access_mode=None, ros_type=None, use_template=False, owner=None, editors=None, readers=None, creation_mode=None\n",
    "\n",
    "# RO TYPE\n",
    "#'Basic Research Object', 'Process-centric Research Object', 'Workflow-centric Research Object', 'Bibliography-centric Research Object', \n",
    "# 'Executable Research Object', 'Service-centric Research Object', 'Software-centric Research Object', 'Data-centric Research Object'\n",
    "\n",
    "ro_title=\"Demo RO for creating an executable Research Object from a Jupyter Notebook\"\n",
    "ro_research_areas=[\"Earth sciences\"]\n",
    "ro_type='Executable Research Object'\n",
    "#ro.template='Executable Research Object folders structure'\n",
    "#ro_type=\"Workflow-centric Research Object\"\n",
    "#ro_template=\"Workflow-centric Research Object\"\n",
    "\n",
    "ro = rohub.ros_create(title=ro_title, research_areas=ro_research_areas, ros_type=ro_type,use_template=True)"
   ]
  },
  {
   "cell_type": "markdown",
   "id": "rational-expression",
   "metadata": {},
   "source": [
    "### ...or Load a RO"
   ]
  },
  {
   "cell_type": "code",
   "execution_count": 6,
   "id": "intended-cricket",
   "metadata": {
    "tags": []
   },
   "outputs": [
    {
     "name": "stdout",
     "output_type": "stream",
     "text": [
      "Research Object was successfully loaded with id = 3c53a048-112f-4d41-af26-29e58a8e4f6a\n"
     ]
    }
   ],
   "source": [
    "ro_id=myros.loc[3,\"identifier\"]\n",
    "ro=rohub.ros_load(identifier=ro_id)"
   ]
  },
  {
   "cell_type": "markdown",
   "id": "molecular-wales",
   "metadata": {},
   "source": [
    "### Show metadata"
   ]
  },
  {
   "cell_type": "code",
   "execution_count": 12,
   "id": "academic-freeware",
   "metadata": {},
   "outputs": [
    {
     "data": {
      "text/plain": [
       "{'identifier': '3c53a048-112f-4d41-af26-29e58a8e4f6a',\n",
       " 'shared_link': 'https://w3id.org/ro-id/3c53a048-112f-4d41-af26-29e58a8e4f6a',\n",
       " 'title': 'Demo RO for creating an executable Research Object from a Jupyter Notebook',\n",
       " 'description': None,\n",
       " 'status': 'LIVE',\n",
       " 'access_mode': 'PUBLIC',\n",
       " 'type': 'Executable Research Object',\n",
       " 'template': 'Executable Research Object folders structure',\n",
       " 'created': '2022-07-18T13:57:43.060086Z',\n",
       " 'creator': 'giorgio.castellan@bo.ismar.cnr.it',\n",
       " 'modificator': None,\n",
       " 'modified': '2022-07-18T13:57:43.353453Z',\n",
       " 'importer': None,\n",
       " 'research_areas': ['Earth sciences'],\n",
       " 'owner': 'giorgio.castellan@bo.ismar.cnr.it',\n",
       " 'editors': [],\n",
       " 'readers': [],\n",
       " 'rating': '0.00',\n",
       " 'number_of_ratings': 0,\n",
       " 'number_of_likes': 0,\n",
       " 'number_of_dislikes': 0,\n",
       " 'completeness': 0,\n",
       " 'size': 0,\n",
       " 'creation_mode': 'MANUAL',\n",
       " 'doi': None,\n",
       " 'resource_storage': 'DEFAULT',\n",
       " 'api_link': 'https://api.rohub.org/api/ros/3c53a048-112f-4d41-af26-29e58a8e4f6a/'}"
      ]
     },
     "execution_count": 12,
     "metadata": {},
     "output_type": "execute_result"
    }
   ],
   "source": [
    "ro.show_metadata()"
   ]
  },
  {
   "cell_type": "markdown",
   "id": "academic-operation",
   "metadata": {},
   "source": [
    "### Add description to the RO"
   ]
  },
  {
   "cell_type": "code",
   "execution_count": 13,
   "id": "unnecessary-entrance",
   "metadata": {},
   "outputs": [
    {
     "data": {
      "text/plain": [
       "{'identifier': '3c53a048-112f-4d41-af26-29e58a8e4f6a',\n",
       " 'shared_link': 'https://w3id.org/ro-id/3c53a048-112f-4d41-af26-29e58a8e4f6a',\n",
       " 'title': 'Demo RO for creating an executable Research Object from a Jupyter Notebook',\n",
       " 'description': 'This Research Object has been created through EGI Jupyter Notebook. It contains the Python script to create, populate and aggreagte resources in a new or an existing RO',\n",
       " 'status': 'LIVE',\n",
       " 'access_mode': 'PUBLIC',\n",
       " 'type': 'Executable Research Object',\n",
       " 'template': 'Executable Research Object folders structure',\n",
       " 'created': '2022-07-18T13:57:43.060086Z',\n",
       " 'creator': 'giorgio.castellan@bo.ismar.cnr.it',\n",
       " 'modificator': 'giorgio.castellan@bo.ismar.cnr.it',\n",
       " 'modified': '2022-07-18T13:58:20.451298Z',\n",
       " 'importer': None,\n",
       " 'research_areas': ['Earth sciences'],\n",
       " 'owner': 'giorgio.castellan@bo.ismar.cnr.it',\n",
       " 'editors': [],\n",
       " 'readers': [],\n",
       " 'rating': '0.00',\n",
       " 'number_of_ratings': 0,\n",
       " 'number_of_likes': 0,\n",
       " 'number_of_dislikes': 0,\n",
       " 'completeness': 0,\n",
       " 'size': 0,\n",
       " 'creation_mode': 'MANUAL',\n",
       " 'doi': None,\n",
       " 'resource_storage': 'DEFAULT',\n",
       " 'api_link': 'https://api.rohub.org/api/ros/3c53a048-112f-4d41-af26-29e58a8e4f6a/'}"
      ]
     },
     "execution_count": 13,
     "metadata": {},
     "output_type": "execute_result"
    }
   ],
   "source": [
    "ro.description=\"This Research Object has been created through EGI Jupyter Notebook. It contains the Python script to create, populate and aggreagte resources in a new or an existing RO\"\n",
    "\n",
    "ro.update()"
   ]
  },
  {
   "cell_type": "markdown",
   "id": "angry-travel",
   "metadata": {},
   "source": [
    "## Add Funder"
   ]
  },
  {
   "cell_type": "code",
   "execution_count": 14,
   "id": "directed-progressive",
   "metadata": {},
   "outputs": [],
   "source": [
    "funded_by = {\n",
    "\"grant_id\": \"101017502\",\n",
    "\"grant_Name\": \"RELIANCE\",\n",
    "\"grant_title\": \"Research Lifecycle Management for Earth Science Communities and Copernicus Users\",\n",
    "\"funder_name\": \"European Commission\",\n",
    "\"funder_doi\": \"10.13039/501100000781\",\n",
    "}\n",
    "\n",
    "if funded_by:\n",
    "    ro.add_funding(grant_identifier=funded_by[\"grant_id\"], grant_name=funded_by[\"grant_Name\"],\n",
    "                   funder_name=funded_by[\"funder_name\"], grant_title=funded_by[\"grant_title\"],\n",
    "                   funder_doi=funded_by[\"funder_doi\"])"
   ]
  },
  {
   "cell_type": "markdown",
   "id": "ignored-compiler",
   "metadata": {},
   "source": [
    "## Add license"
   ]
  },
  {
   "cell_type": "code",
   "execution_count": 15,
   "id": "offshore-cursor",
   "metadata": {},
   "outputs": [
    {
     "data": {
      "text/plain": [
       "{'identifier': 'GPL-3.0-or-later',\n",
       " 'title': 'GNU General Public License v3.0 or later',\n",
       " 'description': 'GNU General Public License v3.0 or later',\n",
       " 'created': '2018-11-22T14:50:40.729699+00:00',\n",
       " 'updated': '2021-10-07T08:21:24.538648+00:00',\n",
       " 'creator': None,\n",
       " 'status': 'active',\n",
       " 'url': 'https://opensource.org/licenses/GPL-3.0',\n",
       " 'custom': False}"
      ]
     },
     "execution_count": 15,
     "metadata": {},
     "output_type": "execute_result"
    }
   ],
   "source": [
    "#licenses = rohub.list_available_licenses()\n",
    "#licenses\n",
    "license = 'GPL-3.0-or-later'\n",
    "\n",
    "ro.set_license(license_id=license) "
   ]
  },
  {
   "cell_type": "markdown",
   "id": "4c56005d-89bd-453a-bde0-6757222aaea4",
   "metadata": {
    "tags": []
   },
   "source": [
    "# Add resources to the RO"
   ]
  },
  {
   "cell_type": "markdown",
   "id": "3ad70a6e-5320-4bae-a641-2c4845b9cedf",
   "metadata": {},
   "source": [
    "### Define folders in datahub"
   ]
  },
  {
   "cell_type": "code",
   "execution_count": 9,
   "id": "b28878f6-e5ff-4ff0-a875-f12f05ac9eab",
   "metadata": {
    "tags": []
   },
   "outputs": [
    {
     "name": "stdout",
     "output_type": "stream",
     "text": [
      "WORKDIR FOLDER:  /home/jovyan/datahub/Reliance/Create_RO_DEMO\n"
     ]
    }
   ],
   "source": [
    "WORKDIR_FOLDER = os.path.join(os.environ['HOME'], \"datahub/Reliance/Create_RO_DEMO\")\n",
    "print(\"WORKDIR FOLDER: \", WORKDIR_FOLDER)"
   ]
  },
  {
   "cell_type": "code",
   "execution_count": 10,
   "id": "fb32273a-541c-4a25-b6ac-0fdaeb94ff6e",
   "metadata": {},
   "outputs": [],
   "source": [
    "INPUT_DATA_DIR  = os.path.join(WORKDIR_FOLDER, 'input')\n",
    "OUTPUT_DATA_DIR = os.path.join(WORKDIR_FOLDER, 'output')\n",
    "TOOL_DATA_DIR   = os.path.join(WORKDIR_FOLDER, 'tool')"
   ]
  },
  {
   "cell_type": "markdown",
   "id": "acceptable-kelly",
   "metadata": {},
   "source": [
    "### Add Sketch - Internal resource"
   ]
  },
  {
   "cell_type": "code",
   "execution_count": 93,
   "id": "indoor-mirror",
   "metadata": {
    "tags": []
   },
   "outputs": [
    {
     "name": "stdout",
     "output_type": "stream",
     "text": [
      "Resource was successfully created with id = 01121b69-cd6e-491e-8f4a-320ad9ec4784\n"
     ]
    },
    {
     "data": {
      "text/plain": [
       "Resource(identifier=01121b69-cd6e-491e-8f4a-320ad9ec4784, post_request=False)"
      ]
     },
     "execution_count": 93,
     "metadata": {},
     "output_type": "execute_result"
    }
   ],
   "source": [
    "resi_res_type = \"Sketch\"\n",
    "resi_file_url = os.path.join(OUTPUT_DATA_DIR, 'VSM_res_sar.png')\n",
    "resi_title=\"Data - Model - Residuals with InSAR descending data\"\n",
    "resi_folder=\"output\"\n",
    "resi_description=resi_title\n",
    "\n",
    "ro.add_internal_resource(res_type=resi_res_type,\n",
    "                         file_path=resi_file_path,\n",
    "                         title=resi_title,\n",
    "                         description=resi_description,\n",
    "                         folder=resi_folder)"
   ]
  },
  {
   "cell_type": "markdown",
   "id": "4ec9eaed-6a6d-4d6c-abff-40ec3d85079e",
   "metadata": {},
   "source": [
    "### or from external resource"
   ]
  },
  {
   "cell_type": "code",
   "execution_count": 20,
   "id": "8601abe9-2a38-43d7-81b6-e5cb766015cb",
   "metadata": {},
   "outputs": [
    {
     "name": "stdout",
     "output_type": "stream",
     "text": [
      "Resource was successfully created with id = 5eb74489-866e-419c-ade1-fbdf6b7991f1\n"
     ]
    },
    {
     "data": {
      "text/plain": [
       "Resource(identifier=5eb74489-866e-419c-ade1-fbdf6b7991f1, post_request=False)"
      ]
     },
     "execution_count": 20,
     "metadata": {},
     "output_type": "execute_result"
    }
   ],
   "source": [
    "resi_res_type = \"Sketch\"\n",
    "resi_file_url = \"https://www.researchobject.org/images/research-objects-illustration.png\"\n",
    "resi_title=\"Research Object Conceptualization\"\n",
    "resi_folder=\"output\"\n",
    "resi_description=resi_title\n",
    "\n",
    "ro.add_external_resource(res_type=resi_res_type,\n",
    "                         input_url=resi_file_url,\n",
    "                         title=resi_title,\n",
    "                         description = resi_description,\n",
    "                         folder=resi_folder)"
   ]
  },
  {
   "cell_type": "markdown",
   "id": "14d5d0ec-d7ff-4e6f-bfef-9125052aca49",
   "metadata": {
    "tags": []
   },
   "source": [
    "### Add bibliographic resource"
   ]
  },
  {
   "cell_type": "code",
   "execution_count": 21,
   "id": "4eb06da1-3805-4fc9-a23e-eeb76c41044e",
   "metadata": {},
   "outputs": [
    {
     "name": "stdout",
     "output_type": "stream",
     "text": [
      "Resource was successfully created with id = a112f2ab-ade1-4549-b0c0-f94880fb3b7a\n"
     ]
    },
    {
     "data": {
      "text/plain": [
       "Resource(identifier=a112f2ab-ade1-4549-b0c0-f94880fb3b7a, post_request=False)"
      ]
     },
     "execution_count": 21,
     "metadata": {},
     "output_type": "execute_result"
    }
   ],
   "source": [
    "rese_res_type=\"Bibliographic Resource\"\n",
    "rese_file_url=\"https://link.springer.com/chapter/10.1007/978-3-319-12024-9_9\"\n",
    "rese_title=\"ROHub — A Digital Library of Research Objects Supporting Scientists Towards Reproducible Science\"\n",
    "rese_descr= \"ROHub — A Digital Library of Research Objects Supporting Scientists Towards Reproducible Science - by Raúl Palma, Piotr Hołubowicz, Oscar Corcho, José Manuel Gómez-Pérez & Cezary Mazurek \\\n",
    " In Semantic Web Evaluation Challenge (pp. 77-82). Springer, Cham.\"\n",
    "resi_folder=\"biblio\"\n",
    "\n",
    "ro.add_external_resource(res_type=rese_res_type,\n",
    "                         input_url=rese_file_url,\n",
    "                         title=rese_title,\n",
    "                         description = rese_descr,\n",
    "                         folder=resi_folder)"
   ]
  },
  {
   "cell_type": "code",
   "execution_count": 22,
   "id": "4dd2e021-47f2-4e3e-8610-814d822ba570",
   "metadata": {},
   "outputs": [
    {
     "data": {
      "text/html": [
       "<div>\n",
       "<style scoped>\n",
       "    .dataframe tbody tr th:only-of-type {\n",
       "        vertical-align: middle;\n",
       "    }\n",
       "\n",
       "    .dataframe tbody tr th {\n",
       "        vertical-align: top;\n",
       "    }\n",
       "\n",
       "    .dataframe thead th {\n",
       "        text-align: right;\n",
       "    }\n",
       "</style>\n",
       "<table border=\"1\" class=\"dataframe\">\n",
       "  <thead>\n",
       "    <tr style=\"text-align: right;\">\n",
       "      <th></th>\n",
       "      <th>identifier</th>\n",
       "      <th>type</th>\n",
       "      <th>source</th>\n",
       "      <th>title</th>\n",
       "      <th>description</th>\n",
       "      <th>url</th>\n",
       "      <th>name</th>\n",
       "      <th>path</th>\n",
       "      <th>size</th>\n",
       "      <th>creator</th>\n",
       "      <th>created_on</th>\n",
       "      <th>modified_on</th>\n",
       "      <th>download_url</th>\n",
       "    </tr>\n",
       "  </thead>\n",
       "  <tbody>\n",
       "    <tr>\n",
       "      <th>0</th>\n",
       "      <td>a112f2ab-ade1-4549-b0c0-f94880fb3b7a</td>\n",
       "      <td>Bibliographic Resource</td>\n",
       "      <td>external</td>\n",
       "      <td>ROHub — A Digital Library of Research Objects ...</td>\n",
       "      <td>ROHub — A Digital Library of Research Objects ...</td>\n",
       "      <td>https://link.springer.com/chapter/10.1007/978-...</td>\n",
       "      <td>ROHub — A Digital Library of Research Objects ...</td>\n",
       "      <td>https://link.springer.com/chapter/10.1007/978-...</td>\n",
       "      <td>None</td>\n",
       "      <td>giorgio.castellan@bo.ismar.cnr.it</td>\n",
       "      <td>2022-07-18T14:02:09.321453+0000</td>\n",
       "      <td>2022-07-18T14:02:09.745574+0000</td>\n",
       "      <td>https://api.rohub.org/api/resources/a112f2ab-a...</td>\n",
       "    </tr>\n",
       "    <tr>\n",
       "      <th>1</th>\n",
       "      <td>5eb74489-866e-419c-ade1-fbdf6b7991f1</td>\n",
       "      <td>Sketch</td>\n",
       "      <td>external</td>\n",
       "      <td>Research Object Conceptualization</td>\n",
       "      <td>Research Object Conceptualization</td>\n",
       "      <td>https://www.researchobject.org/images/research...</td>\n",
       "      <td>Research Object Conceptualization</td>\n",
       "      <td>https://www.researchobject.org/images/research...</td>\n",
       "      <td>None</td>\n",
       "      <td>giorgio.castellan@bo.ismar.cnr.it</td>\n",
       "      <td>2022-07-18T14:01:49.899053+0000</td>\n",
       "      <td>2022-07-18T14:01:50.295196+0000</td>\n",
       "      <td>https://api.rohub.org/api/resources/5eb74489-8...</td>\n",
       "    </tr>\n",
       "  </tbody>\n",
       "</table>\n",
       "</div>"
      ],
      "text/plain": [
       "                             identifier                    type    source  \\\n",
       "0  a112f2ab-ade1-4549-b0c0-f94880fb3b7a  Bibliographic Resource  external   \n",
       "1  5eb74489-866e-419c-ade1-fbdf6b7991f1                  Sketch  external   \n",
       "\n",
       "                                               title  \\\n",
       "0  ROHub — A Digital Library of Research Objects ...   \n",
       "1                  Research Object Conceptualization   \n",
       "\n",
       "                                         description  \\\n",
       "0  ROHub — A Digital Library of Research Objects ...   \n",
       "1                  Research Object Conceptualization   \n",
       "\n",
       "                                                 url  \\\n",
       "0  https://link.springer.com/chapter/10.1007/978-...   \n",
       "1  https://www.researchobject.org/images/research...   \n",
       "\n",
       "                                                name  \\\n",
       "0  ROHub — A Digital Library of Research Objects ...   \n",
       "1                  Research Object Conceptualization   \n",
       "\n",
       "                                                path  size  \\\n",
       "0  https://link.springer.com/chapter/10.1007/978-...  None   \n",
       "1  https://www.researchobject.org/images/research...  None   \n",
       "\n",
       "                             creator                       created_on  \\\n",
       "0  giorgio.castellan@bo.ismar.cnr.it  2022-07-18T14:02:09.321453+0000   \n",
       "1  giorgio.castellan@bo.ismar.cnr.it  2022-07-18T14:01:49.899053+0000   \n",
       "\n",
       "                       modified_on  \\\n",
       "0  2022-07-18T14:02:09.745574+0000   \n",
       "1  2022-07-18T14:01:50.295196+0000   \n",
       "\n",
       "                                        download_url  \n",
       "0  https://api.rohub.org/api/resources/a112f2ab-a...  \n",
       "1  https://api.rohub.org/api/resources/5eb74489-8...  "
      ]
     },
     "execution_count": 22,
     "metadata": {},
     "output_type": "execute_result"
    }
   ],
   "source": [
    "ro.list_resources()"
   ]
  },
  {
   "cell_type": "markdown",
   "id": "2d5d8a43-13a6-421b-b526-7163fe8da8e3",
   "metadata": {},
   "source": [
    "### Add Python Script or Jupyter Notebook as an internal resource"
   ]
  },
  {
   "cell_type": "code",
   "execution_count": null,
   "id": "4ea4232b-d06a-493e-adff-41ff276265ee",
   "metadata": {},
   "outputs": [],
   "source": [
    "import pathlib\n",
    "resi_file_path='DEMO_ROcreator.ipynb'\n",
    "resi_folder=myfolders.loc[3,\"identifier\"]"
   ]
  },
  {
   "cell_type": "code",
   "execution_count": null,
   "id": "193d74c6-0235-4835-b602-2d70b1b68c9d",
   "metadata": {},
   "outputs": [],
   "source": [
    "if pathlib.Path(resi_file_path).exists():\n",
    "    resi_res_type=\"Python Script\"\n",
    "    resi_title=\"Create a new RO using Python Jupyter Notebook through EGI\"\n",
    "    resi_description= resi_title\n",
    "    ro.add_internal_resource(res_type=resi_res_type,file_path=resi_file_path, title=resi_title, description=resi_description)"
   ]
  },
  {
   "cell_type": "markdown",
   "id": "bbc71041-22d0-4279-8ca3-0c3029c4bd3f",
   "metadata": {},
   "source": [
    "### or as an external executable resource"
   ]
  },
  {
   "cell_type": "markdown",
   "id": "63c75f81-ce0c-43a0-9485-4b26c098ab2e",
   "metadata": {},
   "source": [
    "####  Get shared link from EGI datahub"
   ]
  },
  {
   "cell_type": "code",
   "execution_count": 7,
   "id": "2a63196a-366c-493c-b704-f26623159c98",
   "metadata": {},
   "outputs": [],
   "source": [
    "def egi_datahub_init():\n",
    "    import requests, json, datetime\n",
    "    \n",
    "    ONEZONE_ENDPOINT=\"https://datahub.egi.eu/api/v3/onezone/\"\n",
    "    ONEPROVIDER_ENDPOINT=\"https://cesnet-oneprovider-01.datahub.egi.eu/api/v3/oneprovider/\"\n",
    "    \n",
    "    with open(\"/var/run/secrets/egi.eu/access_token\") as f:\n",
    "        EGI_TOKEN = f.read()\n",
    "        try:\n",
    "            # get DATAHUB token\n",
    "            headers = {\n",
    "                'X-Auth-Token': f\"egi:\" + EGI_TOKEN,\n",
    "                'Content-type': 'application/json',\n",
    "            }\n",
    "            # get current timestamp\n",
    "            ts = datetime.datetime.now().timestamp()\n",
    "            data = json.dumps({ \n",
    "                'name': 'REST and CDMI access token ' + str(ts), \n",
    "                'type': { \n",
    "                    'accessToken': {} \n",
    "                }, \n",
    "                'caveats': [ { \n",
    "                    'type': 'interface', \n",
    "                    'interface': 'rest' \n",
    "                }] \n",
    "            })\n",
    "            response = requests.post(ONEZONE_ENDPOINT+'user/tokens/named', headers=headers, data=data)\n",
    "            print(json.dumps(response.json(), indent=2))\n",
    "            DATAHUB_TOKEN=response.json()['token']              \n",
    "            return DATAHUB_TOKEN\n",
    "        except:\n",
    "            print(\"EGI Datahub Authentication problem: check your credentials\")"
   ]
  },
  {
   "cell_type": "code",
   "execution_count": 8,
   "id": "71fd2dd0-f15a-4565-8991-45d9ffe26b9b",
   "metadata": {},
   "outputs": [],
   "source": [
    "def egi_datahub_getlink(datahub_token, filename):\n",
    "    import requests, json, os\n",
    "    OIDC_ENDPOINT=\"https://aai.egi.eu/oidc/\"\n",
    "    ONEZONE_ENDPOINT=\"https://datahub.egi.eu/api/v3/onezone/\"\n",
    "    ONEPROVIDER_ENDPOINT=\"https://cesnet-oneprovider-01.datahub.egi.eu/api/v3/oneprovider/\"\n",
    "    \n",
    "    bname = os.path.basename(filename)\n",
    "    hname = filename.split('datahub/')[1]\n",
    "    ## get file id\n",
    "    headers = { \n",
    "        'X-Auth-Token': datahub_token \n",
    "    }\n",
    "    response = requests.post(ONEPROVIDER_ENDPOINT+'lookup-file-id/'+hname, headers=headers)\n",
    "    dh_fileid = response.json()['fileId']\n",
    "    ## get shared link \n",
    "    headers = { 'X-Auth-Token': datahub_token, 'Content-Type': 'application/json',}\n",
    "    data = json.dumps({ \n",
    "        'name': bname,\n",
    "        'fileId': dh_fileid\n",
    "    })\n",
    "    response = requests.post(ONEPROVIDER_ENDPOINT+'shares', headers=headers, data=data)\n",
    "    shareIdGenerated=response.json()['shareId']\n",
    "    # get shared link details\n",
    "    headers = {\n",
    "        'X-Auth-Token': datahub_token\n",
    "    }\n",
    "    response = requests.get(ONEPROVIDER_ENDPOINT+'shares/'+shareIdGenerated, headers=headers)\n",
    "    publicURL=response.json()['publicUrl'] #publicURL is nice link but to webpage where you can download file, not the actual file\n",
    "    contentURL= ONEZONE_ENDPOINT+'shares/data/'+response.json()['rootFileId']+'/content' #use this link to aggregate Jupyter Notebooks\n",
    "    return (publicURL, contentURL)"
   ]
  },
  {
   "cell_type": "markdown",
   "id": "17044a0e-5275-46cb-b6d1-232d3428660e",
   "metadata": {},
   "source": [
    "### EGI DataHub initialization"
   ]
  },
  {
   "cell_type": "code",
   "execution_count": 11,
   "id": "66a6963c-6939-48a9-be43-19f03c9cc97d",
   "metadata": {},
   "outputs": [
    {
     "name": "stdout",
     "output_type": "stream",
     "text": [
      "{\n",
      "  \"tokenId\": \"3fae32a8dd4acb3e2a859542b884181fchdb89\",\n",
      "  \"token\": \"MDAxY2xvY2F00aW9uIGRhdGFodWIuZWdpLmV1CjAwNmJpZGVudGlmaWVyIDIvbm1kL3Vzci1iMDhkNjA1MzZiYTlmMjg00MmE4ZjgyMDI2ZGRiNjkyNGNoYTlmMi9hY3QvM2ZhZTMyYThkZDRhY2IzZTJhODU5NTQyYjg4NDE4MWZjaGRiODkKMDAxOWNpZCBpbnRlcmZhY2UgPSByZXN00CjAwMmZzaWduYXR1cmUgp2OOLhbKquQgm86BEza4rlHaZlRfEFq01adZTO29owuMK\"\n",
      "}\n"
     ]
    }
   ],
   "source": [
    "DATAHUB_TOKEN = egi_datahub_init()"
   ]
  },
  {
   "cell_type": "code",
   "execution_count": 12,
   "id": "e5876e9f-be50-4100-999c-2405141583fc",
   "metadata": {},
   "outputs": [
    {
     "name": "stdout",
     "output_type": "stream",
     "text": [
      "/home/jovyan/datahub/Reliance/Create_RO_DEMO/input/DEMO_ROcreator.ipynb\n",
      "https://datahub.egi.eu/share/0a597e0c3a1c1709414f7ccfd2df0cc4chb4bc\n",
      "https://datahub.egi.eu/api/v3/onezone/shares/data/00000000007E59BF736861726547756964236431666264643433653765643162613162326237613438663234326366666365636866643466233732356634616233366362323664306662666330633132346337373565666565636865653439233061353937653063336131633137303934313466376363666432646630636334636862346263/content\n"
     ]
    }
   ],
   "source": [
    "import os\n",
    "WORKDIR_FOLDER = os.path.join(os.environ['HOME'], \"datahub/Reliance/Create_RO_DEMO\")\n",
    "INPUT_DATA_DIR  = os.path.join(WORKDIR_FOLDER, 'input')\n",
    "\n",
    "myfilename = 'DEMO_ROcreator.ipynb'\n",
    "shared_res_path = os.path.join(INPUT_DATA_DIR, myfilename)\n",
    "print(shared_res_path)\n",
    "links = egi_datahub_getlink(DATAHUB_TOKEN, shared_res_path)\n",
    "# we can aggregate either the publicURL or the contentURL as external resource in the research object\n",
    "# the publicURL redirects to the EGI DataHub Webpage of the resource, where you can download the resource\n",
    "# the contentURL redirects to the file contents directly. \n",
    "# NOTE: YOU NEED TO USE contentURL to aggregate JupyterNoteboks to be able to execute them from ROHub\n",
    "res_file_url_public = links[0] \n",
    "print (res_file_url_public)\n",
    "res_file_url_content = links[1] \n",
    "print (res_file_url_content)"
   ]
  },
  {
   "cell_type": "markdown",
   "id": "e27b2904-89ae-4129-83c4-4d0c9d8db63c",
   "metadata": {},
   "source": [
    "#### Add the resource to our new RO"
   ]
  },
  {
   "cell_type": "code",
   "execution_count": 15,
   "id": "52c41724-d8d4-4452-867e-11186220b476",
   "metadata": {},
   "outputs": [
    {
     "name": "stdout",
     "output_type": "stream",
     "text": [
      "Resource was successfully created with id = 889dbe85-61cc-4f75-8965-9b20081e38d2\n"
     ]
    },
    {
     "data": {
      "text/plain": [
       "Resource(identifier=889dbe85-61cc-4f75-8965-9b20081e38d2, post_request=False)"
      ]
     },
     "execution_count": 15,
     "metadata": {},
     "output_type": "execute_result"
    }
   ],
   "source": [
    "res_type = \"Jupyter Notebook\"\n",
    "res_title = \"Juyter Notebook to create a new RO\"\n",
    "res_description = \"Juyter Notebook to create a new RO step-by-step\"\n",
    "res_folder='tool'\n",
    "ro.add_external_resource(res_type=res_type,\n",
    "                         input_url=res_file_url_content,\n",
    "                         title=res_title, \n",
    "                         description=res_description, \n",
    "                         folder=res_folder)"
   ]
  }
 ],
 "metadata": {
  "kernelspec": {
   "display_name": "Python 3",
   "language": "python",
   "name": "python3"
  },
  "language_info": {
   "codemirror_mode": {
    "name": "ipython",
    "version": 3
   },
   "file_extension": ".py",
   "mimetype": "text/x-python",
   "name": "python",
   "nbconvert_exporter": "python",
   "pygments_lexer": "ipython3",
   "version": "3.8.8"
  }
 },
 "nbformat": 4,
 "nbformat_minor": 5
}
