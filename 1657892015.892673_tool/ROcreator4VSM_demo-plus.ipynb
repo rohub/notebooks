{
 "cells": [
  {
   "cell_type": "markdown",
   "id": "brown-wiring",
   "metadata": {},
   "source": [
    "<img src=\"./VSM_logo.gif\" width=\"550\" align=\"center\">"
   ]
  },
  {
   "cell_type": "markdown",
   "id": "authorized-column",
   "metadata": {},
   "source": [
    "## Creation of a Research Object from a single run of VSM with the Reliance (rohub) library aggregating resources from local and from the EGI notebook\n",
    "\n",
    "Steps \n",
    "- Create a RO\n",
    "- Add metadata - collateral information\n",
    "- Add resources as internal\n",
    "- Add resources as external by generating sharable links in the datahub\n",
    "\n",
    "----"
   ]
  },
  {
   "cell_type": "code",
   "execution_count": 1,
   "id": "b1392993-4054-4dc0-bde2-54d300fdf534",
   "metadata": {},
   "outputs": [
    {
     "name": "stdout",
     "output_type": "stream",
     "text": [
      "Collecting rohub\n",
      "  Using cached rohub-1.0.7-py3-none-any.whl\n",
      "Requirement already satisfied: pandas in /opt/conda/lib/python3.8/site-packages (from rohub) (1.2.4)\n",
      "Requirement already satisfied: requests in /opt/conda/lib/python3.8/site-packages (from rohub) (2.25.1)\n",
      "Requirement already satisfied: python-dateutil>=2.7.3 in /opt/conda/lib/python3.8/site-packages (from pandas->rohub) (2.8.1)\n",
      "Requirement already satisfied: pytz>=2017.3 in /opt/conda/lib/python3.8/site-packages (from pandas->rohub) (2021.1)\n",
      "Requirement already satisfied: numpy>=1.16.5 in /opt/conda/lib/python3.8/site-packages (from pandas->rohub) (1.19.5)\n",
      "Requirement already satisfied: six>=1.5 in /opt/conda/lib/python3.8/site-packages (from python-dateutil>=2.7.3->pandas->rohub) (1.15.0)\n",
      "Requirement already satisfied: certifi>=2017.4.17 in /opt/conda/lib/python3.8/site-packages (from requests->rohub) (2021.10.8)\n",
      "Requirement already satisfied: idna<3,>=2.5 in /opt/conda/lib/python3.8/site-packages (from requests->rohub) (2.10)\n",
      "Requirement already satisfied: urllib3<1.27,>=1.21.1 in /opt/conda/lib/python3.8/site-packages (from requests->rohub) (1.26.4)\n",
      "Requirement already satisfied: chardet<5,>=3.0.2 in /opt/conda/lib/python3.8/site-packages (from requests->rohub) (4.0.0)\n",
      "Installing collected packages: rohub\n",
      "Successfully installed rohub-1.0.7\n",
      "Note: you may need to restart the kernel to use updated packages.\n"
     ]
    }
   ],
   "source": [
    "pip install rohub"
   ]
  },
  {
   "cell_type": "code",
   "execution_count": 2,
   "id": "composite-spring",
   "metadata": {},
   "outputs": [],
   "source": [
    "import os\n",
    "from rohub import rohub, settings\n",
    "import pathlib\n",
    "from zipfile import ZipFile\n",
    "import json\n",
    "import requests\n",
    "import datetime\n",
    "import shutil"
   ]
  },
  {
   "cell_type": "markdown",
   "id": "entitled-opera",
   "metadata": {},
   "source": [
    "### Sign in "
   ]
  },
  {
   "cell_type": "code",
   "execution_count": 3,
   "id": "phantom-horse",
   "metadata": {},
   "outputs": [
    {
     "name": "stdout",
     "output_type": "stream",
     "text": [
      "Logged successfully as elisa.trasatti@ingv.it.\n"
     ]
    }
   ],
   "source": [
    "rohub_user = open(\"/home/jovyan/MYWORK/WHOAMI/rohub-user\").read().rstrip()\n",
    "rohub_pwd = open(\"/home/jovyan/MYWORK/WHOAMI/rohub-pwd\").read().rstrip()\n",
    "rohub.login(username=rohub_user, password=rohub_pwd)"
   ]
  },
  {
   "cell_type": "markdown",
   "id": "fundamental-marriage",
   "metadata": {},
   "source": [
    "### Check my last ROs"
   ]
  },
  {
   "cell_type": "code",
   "execution_count": 4,
   "id": "raised-oregon",
   "metadata": {},
   "outputs": [
    {
     "data": {
      "text/html": [
       "<div>\n",
       "<style scoped>\n",
       "    .dataframe tbody tr th:only-of-type {\n",
       "        vertical-align: middle;\n",
       "    }\n",
       "\n",
       "    .dataframe tbody tr th {\n",
       "        vertical-align: top;\n",
       "    }\n",
       "\n",
       "    .dataframe thead th {\n",
       "        text-align: right;\n",
       "    }\n",
       "</style>\n",
       "<table border=\"1\" class=\"dataframe\">\n",
       "  <thead>\n",
       "    <tr style=\"text-align: right;\">\n",
       "      <th></th>\n",
       "      <th>identifier</th>\n",
       "      <th>title</th>\n",
       "      <th>description</th>\n",
       "      <th>type</th>\n",
       "      <th>research_areas</th>\n",
       "      <th>status</th>\n",
       "      <th>created_on</th>\n",
       "      <th>created_by</th>\n",
       "      <th>modified_on</th>\n",
       "      <th>access_mode</th>\n",
       "      <th>owner</th>\n",
       "      <th>creation_mode</th>\n",
       "      <th>shared_link</th>\n",
       "    </tr>\n",
       "  </thead>\n",
       "  <tbody>\n",
       "    <tr>\n",
       "      <th>0</th>\n",
       "      <td>52c0fa97-af5b-4227-ac70-c19b3fd612cc</td>\n",
       "      <td>Modelling of the 2011-2012 inflation at Santor...</td>\n",
       "      <td>This Research Object has been created using th...</td>\n",
       "      <td>Executable Research Object</td>\n",
       "      <td>[Earth sciences]</td>\n",
       "      <td>LIVE</td>\n",
       "      <td>2022-07-07T10:42:33.926336+00:00</td>\n",
       "      <td>elisa.trasatti@ingv.it</td>\n",
       "      <td>2022-07-07T11:44:12.213635+00:00</td>\n",
       "      <td>PUBLIC</td>\n",
       "      <td>elisa.trasatti@ingv.it</td>\n",
       "      <td>MANUAL</td>\n",
       "      <td>https://w3id.org/ro-id/52c0fa97-af5b-4227-ac70...</td>\n",
       "    </tr>\n",
       "    <tr>\n",
       "      <th>1</th>\n",
       "      <td>261f85b0-1ba1-4d27-8a42-df2816937f1e</td>\n",
       "      <td>test DEMO</td>\n",
       "      <td>This Research Object contains the raster file ...</td>\n",
       "      <td>Data-centric Research Object</td>\n",
       "      <td>[Applied sciences, Earth sciences]</td>\n",
       "      <td>ARCHIVE</td>\n",
       "      <td>2022-05-12T10:05:49.390298+00:00</td>\n",
       "      <td>elisa.trasatti@ingv.it</td>\n",
       "      <td>2022-05-12T10:06:25.477052+00:00</td>\n",
       "      <td>PUBLIC</td>\n",
       "      <td>elisa.trasatti@ingv.it</td>\n",
       "      <td>MANUAL</td>\n",
       "      <td>https://w3id.org/ro-id/261f85b0-1ba1-4d27-8a42...</td>\n",
       "    </tr>\n",
       "    <tr>\n",
       "      <th>2</th>\n",
       "      <td>51daf908-532a-4e36-b7fc-9902de63f694</td>\n",
       "      <td>Modelling of the 2011 Van Earthquake (Turkey) ...</td>\n",
       "      <td>This Research Object has been created using th...</td>\n",
       "      <td>Executable Research Object</td>\n",
       "      <td>[Earth sciences]</td>\n",
       "      <td>LIVE</td>\n",
       "      <td>2022-04-07T16:47:13.793671+00:00</td>\n",
       "      <td>elisa.trasatti@ingv.it</td>\n",
       "      <td>2022-04-08T13:52:21.310728+00:00</td>\n",
       "      <td>PUBLIC</td>\n",
       "      <td>elisa.trasatti@ingv.it</td>\n",
       "      <td>MANUAL</td>\n",
       "      <td>https://w3id.org/ro-id/51daf908-532a-4e36-b7fc...</td>\n",
       "    </tr>\n",
       "    <tr>\n",
       "      <th>3</th>\n",
       "      <td>b83a814a-27e6-499c-a6b2-61a0a921e53b</td>\n",
       "      <td>Modelling of the 2011 Van Earthquake (Turkey) ...</td>\n",
       "      <td>This Research Object has been created using th...</td>\n",
       "      <td>Executable Research Object</td>\n",
       "      <td>[Earth sciences]</td>\n",
       "      <td>ARCHIVE</td>\n",
       "      <td>2022-04-08T13:50:58.762890+00:00</td>\n",
       "      <td>elisa.trasatti@ingv.it</td>\n",
       "      <td>2022-04-08T13:52:26.689846+00:00</td>\n",
       "      <td>PUBLIC</td>\n",
       "      <td>elisa.trasatti@ingv.it</td>\n",
       "      <td>MANUAL</td>\n",
       "      <td>https://w3id.org/ro-id/b83a814a-27e6-499c-a6b2...</td>\n",
       "    </tr>\n",
       "    <tr>\n",
       "      <th>4</th>\n",
       "      <td>a25c47c7-f4dd-44d2-be2c-ab74b6a99070</td>\n",
       "      <td>Modelling of the 2011-2012 inflation at Santor...</td>\n",
       "      <td>This Research Object contains results from the...</td>\n",
       "      <td>Executable Research Object</td>\n",
       "      <td>[Earth sciences]</td>\n",
       "      <td>LIVE</td>\n",
       "      <td>2022-04-07T14:19:39.168772+00:00</td>\n",
       "      <td>elisa.trasatti@ingv.it</td>\n",
       "      <td>2022-04-07T14:31:22.196057+00:00</td>\n",
       "      <td>PUBLIC</td>\n",
       "      <td>elisa.trasatti@ingv.it</td>\n",
       "      <td>MANUAL</td>\n",
       "      <td>https://w3id.org/ro-id/a25c47c7-f4dd-44d2-be2c...</td>\n",
       "    </tr>\n",
       "    <tr>\n",
       "      <th>5</th>\n",
       "      <td>e97e6ada-276b-4406-b2ee-d3ec36e096c3</td>\n",
       "      <td>Volcanic and Seismic source Modelling (VSM). T...</td>\n",
       "      <td>Volcanic and Seismic source Modelling (VSM) is...</td>\n",
       "      <td>Software-centric Research Object</td>\n",
       "      <td>[Applied sciences, Earth observation, Earth sc...</td>\n",
       "      <td>SNAPSHOT</td>\n",
       "      <td>2022-04-10T17:17:38.871760+00:00</td>\n",
       "      <td>elisa.trasatti@ingv.it</td>\n",
       "      <td>2022-04-12T05:29:30.081907+00:00</td>\n",
       "      <td>PUBLIC</td>\n",
       "      <td>elisa.trasatti@ingv.it</td>\n",
       "      <td>MANUAL</td>\n",
       "      <td>https://w3id.org/ro-id/e97e6ada-276b-4406-b2ee...</td>\n",
       "    </tr>\n",
       "    <tr>\n",
       "      <th>6</th>\n",
       "      <td>bf3d5a76-1be0-4221-8ee0-b3cb40faf6f7</td>\n",
       "      <td>Volcanic and Seismic source Modelling (VSM). T...</td>\n",
       "      <td>Volcanic and Seismic source Modelling (VSM) is...</td>\n",
       "      <td>Software-centric Research Object</td>\n",
       "      <td>[Applied sciences, Earth observation, Earth sc...</td>\n",
       "      <td>LIVE</td>\n",
       "      <td>2022-04-07T13:12:37.521036+00:00</td>\n",
       "      <td>elisa.trasatti@ingv.it</td>\n",
       "      <td>2022-04-10T17:29:47.112952+00:00</td>\n",
       "      <td>PUBLIC</td>\n",
       "      <td>elisa.trasatti@ingv.it</td>\n",
       "      <td>MANUAL</td>\n",
       "      <td>https://w3id.org/ro-id/bf3d5a76-1be0-4221-8ee0...</td>\n",
       "    </tr>\n",
       "    <tr>\n",
       "      <th>7</th>\n",
       "      <td>f60c5109-024f-434a-b724-8aea3091e134</td>\n",
       "      <td>The 2011-2013 unrest at Campi Flegrei (Italy) ...</td>\n",
       "      <td>This Research Object has been created using th...</td>\n",
       "      <td>Executable Research Object</td>\n",
       "      <td>[Earth sciences]</td>\n",
       "      <td>LIVE</td>\n",
       "      <td>2022-03-21T14:28:15.713842+00:00</td>\n",
       "      <td>elisa.trasatti@ingv.it</td>\n",
       "      <td>2022-04-07T13:30:31.403398+00:00</td>\n",
       "      <td>PUBLIC</td>\n",
       "      <td>elisa.trasatti@ingv.it</td>\n",
       "      <td>MANUAL</td>\n",
       "      <td>https://w3id.org/ro-id/f60c5109-024f-434a-b724...</td>\n",
       "    </tr>\n",
       "    <tr>\n",
       "      <th>8</th>\n",
       "      <td>bf4192ae-fd38-4659-97b0-8ffad60762ae</td>\n",
       "      <td>Modelling of the syn-eruptive phase of the Nyi...</td>\n",
       "      <td>This Research Object has been created by the R...</td>\n",
       "      <td>Executable Research Object</td>\n",
       "      <td>[Earth sciences]</td>\n",
       "      <td>LIVE</td>\n",
       "      <td>2022-03-09T21:47:32.448597+00:00</td>\n",
       "      <td>elisa.trasatti@ingv.it</td>\n",
       "      <td>2022-03-09T23:05:43.065279+00:00</td>\n",
       "      <td>PUBLIC</td>\n",
       "      <td>elisa.trasatti@ingv.it</td>\n",
       "      <td>MANUAL</td>\n",
       "      <td>https://w3id.org/ro-id/bf4192ae-fd38-4659-97b0...</td>\n",
       "    </tr>\n",
       "    <tr>\n",
       "      <th>9</th>\n",
       "      <td>ff76855f-ada3-4a78-a213-ee7b91364dcb</td>\n",
       "      <td>Modelling of the syn-eruptive phase of the Nyi...</td>\n",
       "      <td>This Research Object has been created by the R...</td>\n",
       "      <td>Executable Research Object</td>\n",
       "      <td>[Earth sciences]</td>\n",
       "      <td>SNAPSHOT</td>\n",
       "      <td>2022-03-09T23:05:23.632892+00:00</td>\n",
       "      <td>elisa.trasatti@ingv.it</td>\n",
       "      <td>2022-03-09T23:05:48.048902+00:00</td>\n",
       "      <td>PUBLIC</td>\n",
       "      <td>elisa.trasatti@ingv.it</td>\n",
       "      <td>MANUAL</td>\n",
       "      <td>https://w3id.org/ro-id/ff76855f-ada3-4a78-a213...</td>\n",
       "    </tr>\n",
       "  </tbody>\n",
       "</table>\n",
       "</div>"
      ],
      "text/plain": [
       "                             identifier  \\\n",
       "0  52c0fa97-af5b-4227-ac70-c19b3fd612cc   \n",
       "1  261f85b0-1ba1-4d27-8a42-df2816937f1e   \n",
       "2  51daf908-532a-4e36-b7fc-9902de63f694   \n",
       "3  b83a814a-27e6-499c-a6b2-61a0a921e53b   \n",
       "4  a25c47c7-f4dd-44d2-be2c-ab74b6a99070   \n",
       "5  e97e6ada-276b-4406-b2ee-d3ec36e096c3   \n",
       "6  bf3d5a76-1be0-4221-8ee0-b3cb40faf6f7   \n",
       "7  f60c5109-024f-434a-b724-8aea3091e134   \n",
       "8  bf4192ae-fd38-4659-97b0-8ffad60762ae   \n",
       "9  ff76855f-ada3-4a78-a213-ee7b91364dcb   \n",
       "\n",
       "                                               title  \\\n",
       "0  Modelling of the 2011-2012 inflation at Santor...   \n",
       "1                                          test DEMO   \n",
       "2  Modelling of the 2011 Van Earthquake (Turkey) ...   \n",
       "3  Modelling of the 2011 Van Earthquake (Turkey) ...   \n",
       "4  Modelling of the 2011-2012 inflation at Santor...   \n",
       "5  Volcanic and Seismic source Modelling (VSM). T...   \n",
       "6  Volcanic and Seismic source Modelling (VSM). T...   \n",
       "7  The 2011-2013 unrest at Campi Flegrei (Italy) ...   \n",
       "8  Modelling of the syn-eruptive phase of the Nyi...   \n",
       "9  Modelling of the syn-eruptive phase of the Nyi...   \n",
       "\n",
       "                                         description  \\\n",
       "0  This Research Object has been created using th...   \n",
       "1  This Research Object contains the raster file ...   \n",
       "2  This Research Object has been created using th...   \n",
       "3  This Research Object has been created using th...   \n",
       "4  This Research Object contains results from the...   \n",
       "5  Volcanic and Seismic source Modelling (VSM) is...   \n",
       "6  Volcanic and Seismic source Modelling (VSM) is...   \n",
       "7  This Research Object has been created using th...   \n",
       "8  This Research Object has been created by the R...   \n",
       "9  This Research Object has been created by the R...   \n",
       "\n",
       "                               type  \\\n",
       "0        Executable Research Object   \n",
       "1      Data-centric Research Object   \n",
       "2        Executable Research Object   \n",
       "3        Executable Research Object   \n",
       "4        Executable Research Object   \n",
       "5  Software-centric Research Object   \n",
       "6  Software-centric Research Object   \n",
       "7        Executable Research Object   \n",
       "8        Executable Research Object   \n",
       "9        Executable Research Object   \n",
       "\n",
       "                                      research_areas    status  \\\n",
       "0                                   [Earth sciences]      LIVE   \n",
       "1                 [Applied sciences, Earth sciences]   ARCHIVE   \n",
       "2                                   [Earth sciences]      LIVE   \n",
       "3                                   [Earth sciences]   ARCHIVE   \n",
       "4                                   [Earth sciences]      LIVE   \n",
       "5  [Applied sciences, Earth observation, Earth sc...  SNAPSHOT   \n",
       "6  [Applied sciences, Earth observation, Earth sc...      LIVE   \n",
       "7                                   [Earth sciences]      LIVE   \n",
       "8                                   [Earth sciences]      LIVE   \n",
       "9                                   [Earth sciences]  SNAPSHOT   \n",
       "\n",
       "                         created_on              created_by  \\\n",
       "0  2022-07-07T10:42:33.926336+00:00  elisa.trasatti@ingv.it   \n",
       "1  2022-05-12T10:05:49.390298+00:00  elisa.trasatti@ingv.it   \n",
       "2  2022-04-07T16:47:13.793671+00:00  elisa.trasatti@ingv.it   \n",
       "3  2022-04-08T13:50:58.762890+00:00  elisa.trasatti@ingv.it   \n",
       "4  2022-04-07T14:19:39.168772+00:00  elisa.trasatti@ingv.it   \n",
       "5  2022-04-10T17:17:38.871760+00:00  elisa.trasatti@ingv.it   \n",
       "6  2022-04-07T13:12:37.521036+00:00  elisa.trasatti@ingv.it   \n",
       "7  2022-03-21T14:28:15.713842+00:00  elisa.trasatti@ingv.it   \n",
       "8  2022-03-09T21:47:32.448597+00:00  elisa.trasatti@ingv.it   \n",
       "9  2022-03-09T23:05:23.632892+00:00  elisa.trasatti@ingv.it   \n",
       "\n",
       "                        modified_on access_mode                   owner  \\\n",
       "0  2022-07-07T11:44:12.213635+00:00      PUBLIC  elisa.trasatti@ingv.it   \n",
       "1  2022-05-12T10:06:25.477052+00:00      PUBLIC  elisa.trasatti@ingv.it   \n",
       "2  2022-04-08T13:52:21.310728+00:00      PUBLIC  elisa.trasatti@ingv.it   \n",
       "3  2022-04-08T13:52:26.689846+00:00      PUBLIC  elisa.trasatti@ingv.it   \n",
       "4  2022-04-07T14:31:22.196057+00:00      PUBLIC  elisa.trasatti@ingv.it   \n",
       "5  2022-04-12T05:29:30.081907+00:00      PUBLIC  elisa.trasatti@ingv.it   \n",
       "6  2022-04-10T17:29:47.112952+00:00      PUBLIC  elisa.trasatti@ingv.it   \n",
       "7  2022-04-07T13:30:31.403398+00:00      PUBLIC  elisa.trasatti@ingv.it   \n",
       "8  2022-03-09T23:05:43.065279+00:00      PUBLIC  elisa.trasatti@ingv.it   \n",
       "9  2022-03-09T23:05:48.048902+00:00      PUBLIC  elisa.trasatti@ingv.it   \n",
       "\n",
       "  creation_mode                                        shared_link  \n",
       "0        MANUAL  https://w3id.org/ro-id/52c0fa97-af5b-4227-ac70...  \n",
       "1        MANUAL  https://w3id.org/ro-id/261f85b0-1ba1-4d27-8a42...  \n",
       "2        MANUAL  https://w3id.org/ro-id/51daf908-532a-4e36-b7fc...  \n",
       "3        MANUAL  https://w3id.org/ro-id/b83a814a-27e6-499c-a6b2...  \n",
       "4        MANUAL  https://w3id.org/ro-id/a25c47c7-f4dd-44d2-be2c...  \n",
       "5        MANUAL  https://w3id.org/ro-id/e97e6ada-276b-4406-b2ee...  \n",
       "6        MANUAL  https://w3id.org/ro-id/bf3d5a76-1be0-4221-8ee0...  \n",
       "7        MANUAL  https://w3id.org/ro-id/f60c5109-024f-434a-b724...  \n",
       "8        MANUAL  https://w3id.org/ro-id/bf4192ae-fd38-4659-97b0...  \n",
       "9        MANUAL  https://w3id.org/ro-id/ff76855f-ada3-4a78-a213...  "
      ]
     },
     "execution_count": 4,
     "metadata": {},
     "output_type": "execute_result"
    }
   ],
   "source": [
    "myros=rohub.list_my_ros()\n",
    "myros[0:10]"
   ]
  },
  {
   "cell_type": "markdown",
   "id": "toxic-perception",
   "metadata": {},
   "source": [
    "### Delete a RO"
   ]
  },
  {
   "cell_type": "code",
   "execution_count": null,
   "id": "split-danger",
   "metadata": {},
   "outputs": [],
   "source": [
    "# BE CAREFUL!\n",
    "#ro_id_to_delete = '1560b519-f7ba-405a-8f3c-06921c8286fc'\n",
    "#ro_id_to_delete=myros.loc[0,\"identifier\"]\n",
    "#rohub.ros_delete(identifier=ro_id_to_delete)"
   ]
  },
  {
   "cell_type": "markdown",
   "id": "proper-middle",
   "metadata": {},
   "source": [
    "### Create a new RO"
   ]
  },
  {
   "cell_type": "code",
   "execution_count": 4,
   "id": "flying-directory",
   "metadata": {
    "tags": []
   },
   "outputs": [
    {
     "name": "stdout",
     "output_type": "stream",
     "text": [
      "Research Object was successfully created with id = 52c0fa97-af5b-4227-ac70-c19b3fd612cc\n"
     ]
    }
   ],
   "source": [
    "# ROS_CREATE\n",
    "# title, research_areas, description=None, access_mode=None, ros_type=None, use_template=False, owner=None, editors=None, readers=None, creation_mode=None\n",
    "\n",
    "# RO TYPE\n",
    "#'Basic Research Object', 'Process-centric Research Object', 'Workflow-centric Research Object', 'Bibliography-centric Research Object', \n",
    "# 'Executable Research Object', 'Service-centric Research Object', 'Software-centric Research Object', 'Data-centric Research Object'\n",
    "\n",
    "ro_title=\"Modelling of the 2011-2012 inflation at Santorini (Greece) detected by satellite and GPS data\"\n",
    "ro_research_areas=[\"Earth sciences\"]\n",
    "ro_type='Executable Research Object'\n",
    "#ro.template='Executable Research Object folders structure'\n",
    "#ro_type=\"Workflow-centric Research Object\"\n",
    "#ro_template=\"Workflow-centric Research Object\"\n",
    "\n",
    "ro = rohub.ros_create(title=ro_title, research_areas=ro_research_areas, ros_type=ro_type,use_template=True)"
   ]
  },
  {
   "cell_type": "markdown",
   "id": "rational-expression",
   "metadata": {},
   "source": [
    "### ...or Load a RO"
   ]
  },
  {
   "cell_type": "code",
   "execution_count": null,
   "id": "intended-cricket",
   "metadata": {
    "tags": []
   },
   "outputs": [],
   "source": [
    "#ro_id=myros.loc[0,\"identifier\"]\n",
    "#ro=rohub.ros_load(identifier=ro_id)"
   ]
  },
  {
   "cell_type": "markdown",
   "id": "molecular-wales",
   "metadata": {},
   "source": [
    "### Show metadata"
   ]
  },
  {
   "cell_type": "code",
   "execution_count": 5,
   "id": "academic-freeware",
   "metadata": {},
   "outputs": [
    {
     "data": {
      "text/plain": [
       "{'identifier': '52c0fa97-af5b-4227-ac70-c19b3fd612cc',\n",
       " 'shared_link': 'https://w3id.org/ro-id/52c0fa97-af5b-4227-ac70-c19b3fd612cc',\n",
       " 'title': 'Modelling of the 2011-2012 inflation at Santorini (Greece) detected by satellite and GPS data',\n",
       " 'description': None,\n",
       " 'status': 'LIVE',\n",
       " 'access_mode': 'PUBLIC',\n",
       " 'type': 'Executable Research Object',\n",
       " 'template': 'Executable Research Object folders structure',\n",
       " 'created': '2022-07-07T10:42:33.926336Z',\n",
       " 'creator': 'elisa.trasatti@ingv.it',\n",
       " 'modificator': None,\n",
       " 'modified': '2022-07-07T10:42:34.500345Z',\n",
       " 'importer': None,\n",
       " 'research_areas': ['Earth sciences'],\n",
       " 'owner': 'elisa.trasatti@ingv.it',\n",
       " 'editors': [],\n",
       " 'readers': [],\n",
       " 'rating': '0.00',\n",
       " 'number_of_ratings': 0,\n",
       " 'number_of_likes': 0,\n",
       " 'number_of_dislikes': 0,\n",
       " 'completeness': 0,\n",
       " 'size': 0,\n",
       " 'creation_mode': 'MANUAL',\n",
       " 'doi': None,\n",
       " 'resource_storage': 'DEFAULT',\n",
       " 'api_link': 'https://api.rohub.org/api/ros/52c0fa97-af5b-4227-ac70-c19b3fd612cc/'}"
      ]
     },
     "execution_count": 5,
     "metadata": {},
     "output_type": "execute_result"
    }
   ],
   "source": [
    "ro.show_metadata()"
   ]
  },
  {
   "cell_type": "markdown",
   "id": "academic-operation",
   "metadata": {},
   "source": [
    "### Add description to the RO"
   ]
  },
  {
   "cell_type": "code",
   "execution_count": 6,
   "id": "unnecessary-entrance",
   "metadata": {},
   "outputs": [
    {
     "data": {
      "text/plain": [
       "{'identifier': '52c0fa97-af5b-4227-ac70-c19b3fd612cc',\n",
       " 'shared_link': 'https://w3id.org/ro-id/52c0fa97-af5b-4227-ac70-c19b3fd612cc',\n",
       " 'title': 'Modelling of the 2011-2012 inflation at Santorini (Greece) detected by satellite and GPS data',\n",
       " 'description': 'This Research Object has been created using the Reliance services during the demo of 7th July 2022. It contains results from the run of the VSM code, related to the modelling of the inflation phase at Santorni during 2011-2012.',\n",
       " 'status': 'LIVE',\n",
       " 'access_mode': 'PUBLIC',\n",
       " 'type': 'Executable Research Object',\n",
       " 'template': 'Executable Research Object folders structure',\n",
       " 'created': '2022-07-07T10:42:33.926336Z',\n",
       " 'creator': 'elisa.trasatti@ingv.it',\n",
       " 'modificator': 'elisa.trasatti@ingv.it',\n",
       " 'modified': '2022-07-07T10:43:06.312945Z',\n",
       " 'importer': None,\n",
       " 'research_areas': ['Earth sciences'],\n",
       " 'owner': 'elisa.trasatti@ingv.it',\n",
       " 'editors': [],\n",
       " 'readers': [],\n",
       " 'rating': '0.00',\n",
       " 'number_of_ratings': 0,\n",
       " 'number_of_likes': 0,\n",
       " 'number_of_dislikes': 0,\n",
       " 'completeness': 0,\n",
       " 'size': 0,\n",
       " 'creation_mode': 'MANUAL',\n",
       " 'doi': None,\n",
       " 'resource_storage': 'DEFAULT',\n",
       " 'api_link': 'https://api.rohub.org/api/ros/52c0fa97-af5b-4227-ac70-c19b3fd612cc/'}"
      ]
     },
     "execution_count": 6,
     "metadata": {},
     "output_type": "execute_result"
    }
   ],
   "source": [
    "ro.description=\"This Research Object has been created using the Reliance services during the demo of 7th July 2022. It contains results from the run of the VSM code, related to the modelling of the inflation phase at Santorni during 2011-2012.\"\n",
    "\n",
    "ro.update()"
   ]
  },
  {
   "cell_type": "markdown",
   "id": "angry-travel",
   "metadata": {},
   "source": [
    "## Add Funder"
   ]
  },
  {
   "cell_type": "code",
   "execution_count": 7,
   "id": "directed-progressive",
   "metadata": {},
   "outputs": [],
   "source": [
    "funded_by = {\n",
    "\"grant_id\": \"101017502\",\n",
    "\"grant_Name\": \"RELIANCE\",\n",
    "\"grant_title\": \"Research Lifecycle Management for Earth Science Communities and Copernicus Users\",\n",
    "\"funder_name\": \"European Commission\",\n",
    "\"funder_doi\": \"10.13039/501100000781\",\n",
    "}\n",
    "\n",
    "if funded_by:\n",
    "    ro.add_funding(grant_identifier=funded_by[\"grant_id\"], grant_name=funded_by[\"grant_Name\"],\n",
    "                   funder_name=funded_by[\"funder_name\"], grant_title=funded_by[\"grant_title\"],\n",
    "                   funder_doi=funded_by[\"funder_doi\"])"
   ]
  },
  {
   "cell_type": "markdown",
   "id": "ignored-compiler",
   "metadata": {},
   "source": [
    "## Add license"
   ]
  },
  {
   "cell_type": "code",
   "execution_count": 8,
   "id": "offshore-cursor",
   "metadata": {},
   "outputs": [
    {
     "data": {
      "text/plain": [
       "{'identifier': 'GPL-3.0-or-later',\n",
       " 'title': 'GNU General Public License v3.0 or later',\n",
       " 'description': 'GNU General Public License v3.0 or later',\n",
       " 'created': '2018-11-22T14:50:40.729699+00:00',\n",
       " 'updated': '2021-10-07T08:21:24.538648+00:00',\n",
       " 'creator': None,\n",
       " 'status': 'active',\n",
       " 'url': 'https://opensource.org/licenses/GPL-3.0',\n",
       " 'custom': False}"
      ]
     },
     "execution_count": 8,
     "metadata": {},
     "output_type": "execute_result"
    }
   ],
   "source": [
    "#licenses = rohub.list_available_licenses()\n",
    "#licenses\n",
    "license = 'GPL-3.0-or-later'\n",
    "\n",
    "ro.set_license(license_id=license) "
   ]
  },
  {
   "cell_type": "markdown",
   "id": "4c56005d-89bd-453a-bde0-6757222aaea4",
   "metadata": {
    "tags": []
   },
   "source": [
    "# Add resources to the RO"
   ]
  },
  {
   "cell_type": "markdown",
   "id": "3ad70a6e-5320-4bae-a641-2c4845b9cedf",
   "metadata": {},
   "source": [
    "### Define folders in datahub"
   ]
  },
  {
   "cell_type": "code",
   "execution_count": 9,
   "id": "b28878f6-e5ff-4ff0-a875-f12f05ac9eab",
   "metadata": {
    "tags": []
   },
   "outputs": [
    {
     "name": "stdout",
     "output_type": "stream",
     "text": [
      "WORKDIR FOLDER:  /home/jovyan/datahub/Reliance/Geohazard_Santorini2\n"
     ]
    }
   ],
   "source": [
    "volcano = 'Santorini2'\n",
    "WORKDIR_FOLDER = os.path.join(os.environ['HOME'], \"datahub/Reliance/Geohazard\" + '_' + volcano)\n",
    "print(\"WORKDIR FOLDER: \", WORKDIR_FOLDER)"
   ]
  },
  {
   "cell_type": "code",
   "execution_count": 10,
   "id": "fb32273a-541c-4a25-b6ac-0fdaeb94ff6e",
   "metadata": {},
   "outputs": [],
   "source": [
    "INPUT_DATA_DIR  = os.path.join(WORKDIR_FOLDER, 'input')\n",
    "OUTPUT_DATA_DIR = os.path.join(WORKDIR_FOLDER, 'output')\n",
    "TOOL_DATA_DIR   = os.path.join(WORKDIR_FOLDER, 'tool')"
   ]
  },
  {
   "cell_type": "markdown",
   "id": "acceptable-kelly",
   "metadata": {},
   "source": [
    "### Add Sketch"
   ]
  },
  {
   "cell_type": "code",
   "execution_count": 11,
   "id": "indoor-mirror",
   "metadata": {
    "tags": []
   },
   "outputs": [
    {
     "name": "stdout",
     "output_type": "stream",
     "text": [
      "Resource was successfully created with id = 882ea3c5-595d-400a-bb6d-5cabe7fda52c\n"
     ]
    },
    {
     "data": {
      "text/plain": [
       "Resource(identifier=882ea3c5-595d-400a-bb6d-5cabe7fda52c, post_request=False)"
      ]
     },
     "execution_count": 11,
     "metadata": {},
     "output_type": "execute_result"
    }
   ],
   "source": [
    "resi_res_type = \"Sketch\"\n",
    "resi_file_path = os.path.join(OUTPUT_DATA_DIR, 'VSM_res_sar.png')\n",
    "resi_title=\"Data - Model - Residuals with InSAR descending data\"\n",
    "resi_folder=\"output\"\n",
    "resi_description=resi_title\n",
    "\n",
    "ro.add_internal_resource(res_type=resi_res_type,\n",
    "                         file_path=resi_file_path,\n",
    "                         title=resi_title,\n",
    "                         description=resi_description,\n",
    "                         folder=resi_folder)"
   ]
  },
  {
   "cell_type": "markdown",
   "id": "9059aee7-2b55-4f74-a1cf-d14030e5a936",
   "metadata": {},
   "source": [
    "### Add georeference as geographical geojson file"
   ]
  },
  {
   "cell_type": "code",
   "execution_count": 12,
   "id": "9b251dc3-4b04-444a-ae96-db51ac457ea0",
   "metadata": {},
   "outputs": [
    {
     "data": {
      "text/plain": [
       "{'identifier': 'bd0d93ff-cff1-4cbe-b398-605722705244',\n",
       " 'shared_link': 'https://w3id.org/ro-id/52c0fa97-af5b-4227-ac70-c19b3fd612cc/annotations/bd0d93ff-cff1-4cbe-b398-605722705244',\n",
       " 'name': 'annotations/bd0d93ff-cff1-4cbe-b398-605722705244',\n",
       " 'filename': '.ro/annotations/bd0d93ff-cff1-4cbe-b398-605722705244.ttl',\n",
       " 'relation': False,\n",
       " 'read_only': False,\n",
       " 'target': '52c0fa97-af5b-4227-ac70-c19b3fd612cc',\n",
       " 'ro': '52c0fa97-af5b-4227-ac70-c19b3fd612cc',\n",
       " 'resources': [],\n",
       " 'created': '2022-07-07T10:43:59.244126+0000',\n",
       " 'creator': 'elisa.trasatti@ingv.it',\n",
       " 'modificator': None,\n",
       " 'modified': '2022-07-07T10:43:59.244008+0000',\n",
       " 'authors_credits': ['elisa.trasatti@ingv.it'],\n",
       " 'contributors_credits': [],\n",
       " 'api_link': 'https://api.rohub.org/api/annotations/bd0d93ff-cff1-4cbe-b398-605722705244/'}"
      ]
     },
     "execution_count": 12,
     "metadata": {},
     "output_type": "execute_result"
    }
   ],
   "source": [
    "fname = os.path.join(OUTPUT_DATA_DIR, 'AOI.geojson')\n",
    "ro.add_geolocation(body_specification_json=fname)"
   ]
  },
  {
   "cell_type": "markdown",
   "id": "14d5d0ec-d7ff-4e6f-bfef-9125052aca49",
   "metadata": {
    "tags": []
   },
   "source": [
    "### Add bibliographic resource"
   ]
  },
  {
   "cell_type": "code",
   "execution_count": 13,
   "id": "4eb06da1-3805-4fc9-a23e-eeb76c41044e",
   "metadata": {},
   "outputs": [
    {
     "name": "stdout",
     "output_type": "stream",
     "text": [
      "Resource was successfully created with id = 61665120-eb0b-41e8-b062-32ea880a5566\n",
      "Resource was successfully created with id = 0a34e2dc-f40f-4fac-a531-8248c4cf8450\n"
     ]
    },
    {
     "data": {
      "text/plain": [
       "Resource(identifier=0a34e2dc-f40f-4fac-a531-8248c4cf8450, post_request=False)"
      ]
     },
     "execution_count": 13,
     "metadata": {},
     "output_type": "execute_result"
    }
   ],
   "source": [
    "rese_res_type=\"Bibliographic Resource\"\n",
    "rese_file_url=\"https://academic.oup.com/gji/article/193/1/161/747252\"\n",
    "rese_title=\"Monitoring Santorini volcano (Greece) breathing from space\"\n",
    "rese_descr= \"Monitoring Santorini volcano (Greece) breathing from space - by M. Foumelis,  E. Trasatti, E. Papageorgiou, S. Stramondo, I. Parcharidis \\\n",
    "Geophys. J. Int., 2013. https://doi.org/10.1093/gji/ggs135\"\n",
    "resi_folder=\"biblio\"\n",
    "\n",
    "ro.add_external_resource(res_type=rese_res_type,\n",
    "                         input_url=rese_file_url,\n",
    "                         title=rese_title,\n",
    "                         description = rese_descr,\n",
    "                         folder=resi_folder)\n",
    "\n",
    "rese_res_type=\"Bibliographic Resource\"\n",
    "rese_file_url=\"https://www.frontiersin.org/articles/10.3389/feart.2022.917222/full\"\n",
    "rese_title=\"Volcanic and Seismic Source Modeling: An Open Tool for Geodetic Data Modeling\"\n",
    "rese_descr= \"Volcanic and Seismic Source Modeling: An Open Tool for Geodetic Data Modeling - by E. Trasatti \\\n",
    "Frontiers in Earth Science, 2022. https://doi.org/10.3389/feart.2022.917222\"\n",
    "resi_folder=\"biblio\"\n",
    "\n",
    "ro.add_external_resource(res_type=rese_res_type,\n",
    "                         input_url=rese_file_url,\n",
    "                         title=rese_title,\n",
    "                         description = rese_descr,\n",
    "                         folder=resi_folder)\n"
   ]
  },
  {
   "cell_type": "code",
   "execution_count": null,
   "id": "4dd2e021-47f2-4e3e-8610-814d822ba570",
   "metadata": {},
   "outputs": [],
   "source": [
    "ro.show_metadata()"
   ]
  },
  {
   "cell_type": "markdown",
   "id": "021d273e-0192-4bf9-a07e-c73a86954fbf",
   "metadata": {},
   "source": [
    "# Aggregate resources in the Research Object from the run"
   ]
  },
  {
   "cell_type": "markdown",
   "id": "654bc7c6-92fb-43e6-88dd-413924aaeb72",
   "metadata": {
    "tags": []
   },
   "source": [
    "## Input file"
   ]
  },
  {
   "cell_type": "code",
   "execution_count": 14,
   "id": "f97366b5-fab4-428a-96ba-433215e3a168",
   "metadata": {
    "tags": []
   },
   "outputs": [
    {
     "name": "stdout",
     "output_type": "stream",
     "text": [
      "Resource was successfully created with id = b051043a-c1f4-4a37-9987-ce74d0a34c5d\n"
     ]
    },
    {
     "data": {
      "text/plain": [
       "Resource(identifier=b051043a-c1f4-4a37-9987-ce74d0a34c5d, post_request=False)"
      ]
     },
     "execution_count": 14,
     "metadata": {},
     "output_type": "execute_result"
    }
   ],
   "source": [
    "res_folder='input'\n",
    "myfilename = 'VSM_input.txt'\n",
    "resi_file_path = os.path.join(INPUT_DATA_DIR, myfilename)\n",
    "\n",
    "resi_type = \"File\"\n",
    "resi_title = \"VSM input file\"\n",
    "resi_description = \"VSM input file\"\n",
    "ro.add_internal_resource(res_type=resi_type,\n",
    "                         file_path=resi_file_path,\n",
    "                         title=resi_title,\n",
    "                         folder=res_folder)"
   ]
  },
  {
   "cell_type": "markdown",
   "id": "28434c78-d0b1-4bc8-a083-3695c2b233b1",
   "metadata": {},
   "source": [
    "# Aggregate external resources from the EGI datahub"
   ]
  },
  {
   "cell_type": "markdown",
   "id": "95f07340-7b98-4cd1-bb21-d4126cd5bb03",
   "metadata": {},
   "source": [
    "###  Get shared link from datahub\n",
    "1. Retrieve your client identifier, client secret and refresh token from https://aai.egi.eu/fedcloud/\n",
    "2. Create a new file in your HOME area for instance using nano (keep the `$` character in front of HOME; this is meant to be an environment variable):\n",
    "```\n",
    "nano $HOME/egi_fedcloud.cfg\n",
    "```\n",
    "3. Paste your client identifier, client secret and refresh token using the following syntax (do not forget `{` and `}` as well as comma `,` and columns `:`\n",
    "```\n",
    "{\n",
    "\"id\": \"XXXXXXXXXXXXXXXXX\",\n",
    "\"secret\": \"YYYYYYYYYYYYYYYYYYYYYYYYYYYYYYY\",\n",
    "\"token\": \"ffffffffffffffffffffffff\"\n",
    "}\n",
    "```\n",
    "\n",
    "\n",
    "4a.NOTE: New refresh tokens expire in 13 months.\n",
    "To generate access tokens from this refresh token use the following curl command:\n",
    "curl -X POST -u 'f33e824a-078d-497b-b700-25b0df7fc5b7':'B80vPK0LVbYuvwRj0Aexs8y0rKgk5XHwYRRq3BCr33ejj33385bzDVcPmSTUkqA2QjMiwWKJDTxvOou7yVV8EA'  -d 'grant_type=refresh_token&refresh_token=eyJhbGciOiJub25lIn0.eyJleHAiOjE2Nzg3MjI0MTgsImp0aSI6Ijg5NDg5NTYwLTJkOWEtNGQ3OS05M2IwLWQ4ZDAxNTA3NWVmNiJ9.&scope=openid%20email%20profile%20eduperson_entitlement' 'https://aai.egi.eu/oidc/token' | python -m json.tool;\n",
    "NOTE: New access tokens expire in 1 hour.\n",
    "You can manage your refresh tokens in the following link: https://aai.egi.eu/oidc/manage/user/services\n",
    "\n",
    "4b. You are ready to go. If you have issues, check first that the syntax is correct in your egi_fedcloud.cfg, that this file is located in the correct folder and then finally that your refresh token is still valid (check on https://aai.egi.eu/fedcloud/)"
   ]
  },
  {
   "cell_type": "markdown",
   "id": "cc11e4a7-c05d-454b-a3d7-2ac65bb21cdc",
   "metadata": {
    "tags": []
   },
   "source": [
    "#### EGI Datahub functions to initialize EGI datahub and get shared link"
   ]
  },
  {
   "cell_type": "code",
   "execution_count": 15,
   "id": "514f21e2-62df-46ee-b4a5-32180a183314",
   "metadata": {
    "tags": []
   },
   "outputs": [],
   "source": [
    "def egi_datahub_init():\n",
    "    OIDC_ENDPOINT=\"https://aai.egi.eu/oidc/\"\n",
    "    ONEZONE_ENDPOINT=\"https://datahub.egi.eu/api/v3/onezone/\"\n",
    "    ONEPROVIDER_ENDPOINT=\"https://cesnet-oneprovider-01.datahub.egi.eu/api/v3/oneprovider/\"\n",
    "\n",
    "    egi_fedcloud_filename = os.path.join(os.environ['HOME'], 'egi_fedcloud.cfg')\n",
    "    with open(egi_fedcloud_filename, 'r') as convert_file:\n",
    "        tmp = convert_file.read()\n",
    "        egi_fedcloud_auth = json.loads(tmp)\n",
    "        try:\n",
    "            # Retrieving an OIDC token from Check-in\n",
    "            data = {\n",
    "                'client_id': egi_fedcloud_auth['id'],\n",
    "                'client_secret': egi_fedcloud_auth['secret'],\n",
    "                'refresh_token': egi_fedcloud_auth['token'],\n",
    "                #'scope': 'openid email profile',\n",
    "                'scope': 'openid email profile eduperson_entitlement',\n",
    "                'grant_type': 'refresh_token'\n",
    "            }\n",
    "            response = requests.post(OIDC_ENDPOINT+'token', data=data, auth=(egi_fedcloud_auth['id'], \n",
    "                                                                                       egi_fedcloud_auth['secret']))\n",
    "            #print(json.dumps(response.json(), indent=2))\n",
    "            EGItoken = response.json()['access_token']\n",
    "            headers = {\n",
    "                'X-Auth-Token': f\"egi:\" + EGItoken,\n",
    "                'Content-type': 'application/json',\n",
    "            }\n",
    "            # get current timestamp\n",
    "            ts = datetime.datetime.now().timestamp()\n",
    "            data = json.dumps({ \n",
    "                'name': 'REST and CDMI access token ' + str(ts), \n",
    "                'type': { \n",
    "                    'accessToken': {} \n",
    "                }, \n",
    "                'caveats': [ { \n",
    "                    'type': 'interface', \n",
    "                    'interface': 'rest' \n",
    "                }] \n",
    "            })\n",
    "\n",
    "            response = requests.post(ONEZONE_ENDPOINT+'user/tokens/named', headers=headers, data=data)\n",
    "            DATAHUB_TOKEN = response.json()['token']\n",
    "            return DATAHUB_TOKEN\n",
    "        except:\n",
    "            print(\"EGI Datahub Authentication problem: check your credentials\")"
   ]
  },
  {
   "cell_type": "code",
   "execution_count": 16,
   "id": "af81732e-c9eb-44f0-98d0-656c11bb08ff",
   "metadata": {
    "tags": []
   },
   "outputs": [],
   "source": [
    "def egi_datahub_getlink(datahub_token, filename):\n",
    "    OIDC_ENDPOINT=\"https://aai.egi.eu/oidc/\"\n",
    "    ONEZONE_ENDPOINT=\"https://datahub.egi.eu/api/v3/onezone/\"\n",
    "    ONEPROVIDER_ENDPOINT=\"https://cesnet-oneprovider-01.datahub.egi.eu/api/v3/oneprovider/\"\n",
    "    \n",
    "    bname = os.path.basename(filename)\n",
    "    hname = filename.split('datahub/')[1]\n",
    "    ## get file id\n",
    "    headers = { \n",
    "        'X-Auth-Token': datahub_token \n",
    "    }\n",
    "    response = requests.post(ONEPROVIDER_ENDPOINT+'lookup-file-id/'+hname, headers=headers)\n",
    "    dh_fileid = response.json()['fileId']\n",
    "    ## get shared link \n",
    "    headers = { 'X-Auth-Token': datahub_token, 'Content-Type': 'application/json',}\n",
    "    data = json.dumps({ \n",
    "        'name': bname,\n",
    "        'fileId': dh_fileid\n",
    "    })\n",
    "    response = requests.post(ONEPROVIDER_ENDPOINT+'shares', headers=headers, data=data)\n",
    "    shareIdGenerated=response.json()['shareId']\n",
    "    # get shared link details\n",
    "    headers = {\n",
    "        'X-Auth-Token': datahub_token\n",
    "    }\n",
    "    response = requests.get(ONEPROVIDER_ENDPOINT+'shares/'+shareIdGenerated, headers=headers)\n",
    "    publicURL=response.json()['publicUrl'] #publicURL is nice link but to webpage where you can download file, not the actual file\n",
    "    contentURL= ONEZONE_ENDPOINT+'shares/data/'+response.json()['rootFileId']+'/content' #use this link to aggregate Jupyter Notebooks\n",
    "    return (publicURL, contentURL)"
   ]
  },
  {
   "cell_type": "markdown",
   "id": "e217b492-691b-47d7-9751-9cffff1a5105",
   "metadata": {},
   "source": [
    "### EGI DataHub initialization "
   ]
  },
  {
   "cell_type": "code",
   "execution_count": 17,
   "id": "bf989e8a-8d5c-4c75-beaf-a919f2e8d400",
   "metadata": {},
   "outputs": [],
   "source": [
    "DATAHUB_TOKEN = egi_datahub_init()"
   ]
  },
  {
   "cell_type": "markdown",
   "id": "b0f5eb70-dadc-48da-aff3-c98de00df8d0",
   "metadata": {},
   "source": [
    "## Data (InSAR & GNSS)"
   ]
  },
  {
   "cell_type": "markdown",
   "id": "b7b7319a-30a8-4638-9c70-a9640fd4e509",
   "metadata": {},
   "source": [
    "#### Get public URL from EGI Datahub to share link in RO "
   ]
  },
  {
   "cell_type": "code",
   "execution_count": 18,
   "id": "55bbfb42-e32a-447f-848b-c81d5e243244",
   "metadata": {},
   "outputs": [
    {
     "name": "stdout",
     "output_type": "stream",
     "text": [
      "/home/jovyan/datahub/Reliance/Geohazard_Santorini2/input/obs_sar.txt\n"
     ]
    }
   ],
   "source": [
    "myfilename = 'obs_sar.txt'\n",
    "shared_res_path = os.path.join(INPUT_DATA_DIR, myfilename)\n",
    "print(shared_res_path)"
   ]
  },
  {
   "cell_type": "code",
   "execution_count": 19,
   "id": "678c2849-5f9d-4425-846b-0dfe70e7e08e",
   "metadata": {},
   "outputs": [
    {
     "name": "stdout",
     "output_type": "stream",
     "text": [
      "https://datahub.egi.eu/share/da79e5451d8999784e657defb5f27d7achade2\n"
     ]
    }
   ],
   "source": [
    "links = egi_datahub_getlink(DATAHUB_TOKEN, shared_res_path)\n",
    "res_file_url = links[0]\n",
    "print (res_file_url)"
   ]
  },
  {
   "cell_type": "code",
   "execution_count": 20,
   "id": "265a2105-87d9-4b2f-b28c-e7f49a090601",
   "metadata": {
    "tags": []
   },
   "outputs": [
    {
     "name": "stdout",
     "output_type": "stream",
     "text": [
      "Resource was successfully created with id = ab0cdf0c-b175-42fa-b790-af931e62465f\n"
     ]
    },
    {
     "data": {
      "text/plain": [
       "Resource(identifier=ab0cdf0c-b175-42fa-b790-af931e62465f, post_request=False)"
      ]
     },
     "execution_count": 20,
     "metadata": {},
     "output_type": "execute_result"
    }
   ],
   "source": [
    "#res_file_url = egi_datahub_getlink(DATAHUB_TOKEN, shared_res_path)\n",
    "res_type = \"Dataset\"\n",
    "res_title = \"InSAR data (\"+myfilename+\")\"\n",
    "res_description = \"Subsampled descending ENVISAT data from 2011-2012 at Santorini (Greece)\"\n",
    "res_folder='input'\n",
    "ro.add_external_resource(res_type=res_type,\n",
    "                         input_url=res_file_url,\n",
    "                         title=res_title, \n",
    "                         description=res_description, \n",
    "                         folder=res_folder)"
   ]
  },
  {
   "cell_type": "code",
   "execution_count": 21,
   "id": "a6ebda0e-878d-4d66-b64c-bf9975ca07b6",
   "metadata": {},
   "outputs": [
    {
     "name": "stdout",
     "output_type": "stream",
     "text": [
      "/home/jovyan/datahub/Reliance/Geohazard_Santorini2/input/obs_gps.txt\n"
     ]
    }
   ],
   "source": [
    "myfilename = 'obs_gps.txt'\n",
    "shared_res_path = os.path.join(INPUT_DATA_DIR, myfilename)\n",
    "print(shared_res_path)"
   ]
  },
  {
   "cell_type": "code",
   "execution_count": 22,
   "id": "0d88230f-64e7-4627-9a2c-43df8ded01e6",
   "metadata": {},
   "outputs": [
    {
     "name": "stdout",
     "output_type": "stream",
     "text": [
      "https://datahub.egi.eu/share/d939573f74a3b7c797f620b5e37d8c7cch9233\n"
     ]
    }
   ],
   "source": [
    "links = egi_datahub_getlink(DATAHUB_TOKEN, shared_res_path)\n",
    "res_file_url = links[0]\n",
    "\n",
    "print (res_file_url)"
   ]
  },
  {
   "cell_type": "code",
   "execution_count": 23,
   "id": "8691474c-34c8-4ed2-8776-337d8a8f3c1c",
   "metadata": {
    "tags": []
   },
   "outputs": [
    {
     "name": "stdout",
     "output_type": "stream",
     "text": [
      "Resource was successfully created with id = 7b5491c7-18bd-4f0e-836d-f31ca37f472e\n"
     ]
    },
    {
     "data": {
      "text/plain": [
       "Resource(identifier=7b5491c7-18bd-4f0e-836d-f31ca37f472e, post_request=False)"
      ]
     },
     "execution_count": 23,
     "metadata": {},
     "output_type": "execute_result"
    }
   ],
   "source": [
    "#res_file_url = egi_datahub_getlink(DATAHUB_TOKEN, shared_res_path)\n",
    "res_type = \"Dataset\"\n",
    "res_title = \"GNSS data (\"+myfilename+\")\"\n",
    "res_description = \"GNSS data from 2011-2012 at Santorini (Greece)\"\n",
    "res_folder='input'\n",
    "ro.add_external_resource(res_type=res_type,\n",
    "                         input_url=res_file_url,\n",
    "                         title=res_title, \n",
    "                         description=res_description, \n",
    "                         folder=res_folder)"
   ]
  },
  {
   "cell_type": "markdown",
   "id": "f6d6e08b-7eb0-4db7-9b5d-73a0aa4ddc55",
   "metadata": {},
   "source": [
    "## Tool"
   ]
  },
  {
   "cell_type": "code",
   "execution_count": 24,
   "id": "96785d50-4684-4ae7-abe1-35134907bb5f",
   "metadata": {},
   "outputs": [
    {
     "name": "stdout",
     "output_type": "stream",
     "text": [
      "/home/jovyan/datahub/Reliance/Geohazard_Santorini2/tool/VSM_Santo_datahub.ipynb\n"
     ]
    }
   ],
   "source": [
    "myfilename = 'VSM_Santo_datahub.ipynb'\n",
    "shared_res_path = os.path.join(TOOL_DATA_DIR, myfilename)\n",
    "print(shared_res_path)\n"
   ]
  },
  {
   "cell_type": "code",
   "execution_count": 25,
   "id": "ce137bc8-6679-4843-8b33-c524e55d6ff9",
   "metadata": {},
   "outputs": [
    {
     "name": "stdout",
     "output_type": "stream",
     "text": [
      "https://datahub.egi.eu/api/v3/onezone/shares/data/00000000007EA765736861726547756964233335643364396238383036333333353239326462326164613961333763366137636838326362233732356634616233366362323664306662666330633132346337373565666565636865653439233430666636376664636637653061313064323266306563363130626231656466636830616261/content\n"
     ]
    }
   ],
   "source": [
    "links = egi_datahub_getlink(DATAHUB_TOKEN, shared_res_path)\n",
    "res_file_url = links[1]\n",
    "\n",
    "print (res_file_url)"
   ]
  },
  {
   "cell_type": "code",
   "execution_count": 26,
   "id": "44cabf3f-5a54-494a-aa66-46734473fb37",
   "metadata": {
    "tags": []
   },
   "outputs": [
    {
     "name": "stdout",
     "output_type": "stream",
     "text": [
      "Resource was successfully created with id = 67176065-ac7c-452a-ada6-6ec84bce1082\n"
     ]
    },
    {
     "data": {
      "text/plain": [
       "Resource(identifier=67176065-ac7c-452a-ada6-6ec84bce1082, post_request=False)"
      ]
     },
     "execution_count": 26,
     "metadata": {},
     "output_type": "execute_result"
    }
   ],
   "source": [
    "#res_file_url = egi_datahub_getlink(DATAHUB_TOKEN, shared_res_path)\n",
    "res_type=\"Jupyter Notebook\"\n",
    "res_title=\"Notebook with the modelling by VSM (\"+myfilename+\")\"\n",
    "res_description=\"Jupyter Notebook for running the VSM code with geodetic data\"\n",
    "res_folder='tool'\n",
    "ro.add_external_resource(res_type=res_type,\n",
    "                         input_url=res_file_url,\n",
    "                         title=res_title, \n",
    "                         description=res_description, \n",
    "                         folder=res_folder)"
   ]
  },
  {
   "cell_type": "code",
   "execution_count": null,
   "id": "85e937e7-9d84-4775-82a6-3854e0f41d0a",
   "metadata": {},
   "outputs": [],
   "source": []
  }
 ],
 "metadata": {
  "kernelspec": {
   "display_name": "Python 3",
   "language": "python",
   "name": "python3"
  },
  "language_info": {
   "codemirror_mode": {
    "name": "ipython",
    "version": 3
   },
   "file_extension": ".py",
   "mimetype": "text/x-python",
   "name": "python",
   "nbconvert_exporter": "python",
   "pygments_lexer": "ipython3",
   "version": "3.8.8"
  }
 },
 "nbformat": 4,
 "nbformat_minor": 5
}
