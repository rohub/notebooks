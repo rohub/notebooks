{
 "cells": [
  {
   "cell_type": "markdown",
   "metadata": {},
   "source": [
    "<div class=\"alert alert-success alert-info\">\n",
    "<b>1.How to create a Research Object using adamapi and rohub api</b></div>"
   ]
  },
  {
   "cell_type": "markdown",
   "metadata": {},
   "source": [
    "This notebook shows how to discover and access the products available in the **RELIANCE** datacube resources, by using the functionalities provided in the <font color='blue'> **Adam API** </font> and include them in a Research Object\n"
   ]
  },
  {
   "cell_type": "markdown",
   "metadata": {},
   "source": [
    "### <a id=1.Authentication></a> **Step 1: Authentication.**"
   ]
  },
  {
   "cell_type": "code",
   "execution_count": 21,
   "metadata": {},
   "outputs": [
    {
     "name": "stdin",
     "output_type": "stream",
     "text": [
      "Username: rpalma@man.poznan.pl\n",
      "Password: ················\n"
     ]
    },
    {
     "name": "stdout",
     "output_type": "stream",
     "text": [
      "Logged successfully as rpalma@man.poznan.pl.\n"
     ]
    }
   ],
   "source": [
    "import os\n",
    "import json\n",
    "from adamapi_dev import Auth\n",
    "from rohub import rohub\n",
    "import getpass\n",
    "\n",
    "\n",
    "#ADAMAPI Authorization\n",
    "a = Auth()\n",
    "a.authorize()\n",
    "\n",
    "#ROHUB Authorization\n",
    "rohub_username=input(\"Username:\")\n",
    "rohub_pw=getpass.getpass(\"Password:\")\n",
    "rohub.login(username=rohub_username,password=rohub_pw)"
   ]
  },
  {
   "cell_type": "markdown",
   "metadata": {},
   "source": [
    "### <a id=1.DataDiscovery></a> **Step 2: Data Discovery and Research Object creation**"
   ]
  },
  {
   "cell_type": "code",
   "execution_count": 22,
   "metadata": {},
   "outputs": [
    {
     "name": "stdout",
     "output_type": "stream",
     "text": [
      "----------------------------------------------------------------------\n",
      "\u001b[1mList of available datasets:\n",
      "\u001b[0m\n",
      "MODIS: LST DAY\u001b[1m --> datasetId \u001b[0m= 58227:MXD11C1_LST_DAY\n",
      "CAMS European air quality forecasts: NO2\u001b[1m --> datasetId \u001b[0m= 69623:EU_CAMS_SURFACE_NO2_G\n",
      "CAMS European air quality forecasts: PM10\u001b[1m --> datasetId \u001b[0m= 69626:EU_CAMS_SURFACE_PM10_G\n",
      "Ocean Color Data: Modis-aqua_chl-a (monthly)\u001b[1m --> datasetId \u001b[0m= 69618:MODh20chlMO_4km\n",
      "Ocean Color Data: Modis-aqua_chl-a (yearly)\u001b[1m --> datasetId \u001b[0m= 69616:MODh20chlYR_4km\n",
      "Ocean Color Data: Modis-aqua_KD490 (monthly)\u001b[1m --> datasetId \u001b[0m= 69617:MODh20kd490MO_4km\n",
      "Ocean Color Data: Modis-aqua_KD490 (yearly)\u001b[1m --> datasetId \u001b[0m= 69615:MODh20kd490YR_4km\n",
      "SRTM XSAR Digital Elevation Model (DEM) \u001b[1m --> datasetId \u001b[0m= 63361:SRTM_XSAR\n",
      "CAMS European air quality forecasts: PM2.5\u001b[1m --> datasetId \u001b[0m= 90666:EU_CAMS_SURFACE_PM25_G\n"
     ]
    }
   ],
   "source": [
    "from adamapi_dev import Datasets\n",
    "\n",
    "datasets = Datasets(a)\n",
    "catalogue = datasets.getDatasets()\n",
    "\n",
    "#Extracting the size of the catalogue\n",
    "\n",
    "total = catalogue['properties']['totalResults']\n",
    "items = catalogue['properties']['itemsPerPage']\n",
    "pages = total//items\n",
    "\n",
    "print('----------------------------------------------------------------------')\n",
    "print('\\033[1m' + 'List of available datasets:')\n",
    "print ('\\033[0m')\n",
    "\n",
    "#Extracting the list of datasets across the whole catalogue\n",
    "\n",
    "for i in range(0,pages):\n",
    "    page = datasets.getDatasets(page = i)\n",
    "    for element in page['content']:\n",
    "#        print (element)\n",
    "#        print(element['title'] + \"\\033[1m\" + \" --> datasetId \"+ \"\\033[0m\" + \"= \" + str(element[\"pk\"])+\":\"+element['datasetId'])\n",
    "        print(element['title'] + \"\\033[1m\" + \" --> datasetId \"+ \"\\033[0m\" + \"= \" +element['datasetId'])\n"
   ]
  },
  {
   "cell_type": "code",
   "execution_count": 23,
   "metadata": {},
   "outputs": [
    {
     "name": "stdout",
     "output_type": "stream",
     "text": [
      "\u001b[1;34mMetadata of 69623:EU_CAMS_SURFACE_NO2_G:\n",
      "\u001b[0;0m\n",
      "1\n",
      "\u001b[1mdatasetId\u001b[0m: 69623:EU_CAMS_SURFACE_NO2_G\n",
      "\u001b[1mcreationDate\u001b[0m: 2021-07-12T00:00:00Z\n",
      "\u001b[1mdataType\u001b[0m: Float32\n",
      "\u001b[1mepsg\u001b[0m: 4326\n",
      "\u001b[1mkeywords\u001b[0m: []\n",
      "\u001b[1mlicense\u001b[0m: {'documentationUrl': '', 'dataProviderName': 'ADS', 'dataProviderUrl': '', 'licenseId': '', 'dataPolicy': '', 'doi': '', 'credits': ''}\n",
      "\u001b[1mmaxValue\u001b[0m: [1.354510459350422e-07]\n",
      "\u001b[1mminValue\u001b[0m: [0.0]\n",
      "\u001b[1mnumberOfRecords\u001b[0m: 133382\n",
      "\u001b[1mprofile\u001b[0m: {'profileSchema': 'eo_profile_schema.json', 'name': 'Earth Observation', 'mission': 'CAMS', 'sensor': 'CAMS', 'processingLevel': 'forecast', 'instrument': '', 'platform': ''}\n",
      "\u001b[1mresolutionUnit\u001b[0m: degree\n",
      "\u001b[1mtemporalResolution\u001b[0m: Hourly\n",
      "\u001b[1munit\u001b[0m: \n",
      "\u001b[1munitDescription\u001b[0m: \n",
      "\u001b[1mupdateDate\u001b[0m: 2022-05-05T12:03:58Z\n",
      "\u001b[1mgeometry\u001b[0m: {'type': 'Polygon', 'coordinates': [[[-25.000012, 29.999997], [44.999988, 29.999997], [44.999988, 71.999997], [-25.000012, 71.999997], [-25.000012, 29.999997]]]}\n",
      "\u001b[1mresolutions\u001b[0m: [0.1]\n",
      "\u001b[1manyText\u001b[0m: 4326,ESA,Daily,ESA\n",
      "\u001b[1mapplications\u001b[0m: ['Atmosphere']\n",
      "\u001b[1mdatasetManager\u001b[0m: govoni@meeo.it\n",
      "\u001b[1mdatasetManagerOrganisation\u001b[0m: meeo\n",
      "\u001b[1mdescription\u001b[0m: CAMS NITROGEN DIOXIDE\n",
      "\u001b[1mtitle\u001b[0m: CAMS European air quality forecasts: NO2\n",
      "\u001b[1mnoDataValue\u001b[0m: 0\n",
      "\u001b[1mtimeReferenceSystem\u001b[0m: UTC\n",
      "\u001b[1munits\u001b[0m: µg m-3\n",
      "\u001b[1munitsDescription\u001b[0m: nitrogen dioxide\n",
      "\u001b[1mservices\u001b[0m: ['MWCS', 'ADAM', 'AdamApi']\n",
      "\u001b[1mtechnicalManager\u001b[0m: govoni@meeo.it\n",
      "\u001b[1mfiltersEnabled\u001b[0m: {'type': 'object', 'title': 'Dataset filters', 'properties': {'startDate': {'title': 'Start Date', 'type': 'string', 'format': 'date', 'text_rule': 'false', 'ops_only': 'false', 'math_rule': 'false', 'order_rule': 'false', 'pattern': '^d{4}-[01]d-[0-3]d(T[0-2]d:[0-9]d:[0-9]dZ)?$'}, 'endDate': {'title': 'End Date', 'type': 'string', 'format': 'date', 'ops_only': 'false', 'text_rule': 'false', 'math_rule': 'false', 'order_rule': 'false', 'pattern': '^d{4}-[01]d-[0-3]d(T[0-2]d:[0-9]d:[0-9]dZ)?$'}}}\n",
      "\u001b[1mpreviews\u001b[0m: \n",
      "\u001b[1mstartDate\u001b[0m: 2018-07-12T00:00:00Z\n",
      "\u001b[1mendDate\u001b[0m: 2022-05-04T23:00:00Z\n",
      "\u001b[1maccounting\u001b[0m: {'unit': 0.0032}\n",
      "CAMS European air quality forecasts: NO2 - time range: 2022-05-04T23:00:00Z/2018-07-12T00:00:00Z - min/max Value: 0/0 - DataType: Float32 - Resolution: 0 - \n",
      "Research Object was successfully created with id = b35396e0-9222-4f0f-bfb7-7f11c1041a4f\n",
      "{'identifier': 'b35396e0-9222-4f0f-bfb7-7f11c1041a4f', 'shared_link': 'https://w3id.org/ro-id/b35396e0-9222-4f0f-bfb7-7f11c1041a4f', 'title': 'How to create a Research Object using adamapi and rohub api', 'description': 'CAMS European air quality forecasts: NO2 - time range: 2022-05-04T23:00:00Z/2018-07-12T00:00:00Z - min/max Value: 0/0 - DataType: Float32 - Resolution: 0 -', 'status': 'LIVE', 'access_mode': 'PUBLIC', 'type': 'Data-centric Research Object', 'template': 'Data Centric Research Object folders structure', 'created': '2022-05-06T09:04:50.346005Z', 'creator': 'rpalma@man.poznan.pl', 'modificator': None, 'modified': '2022-05-06T09:04:50.660014Z', 'importer': None, 'research_areas': ['Earth sciences'], 'owner': 'rpalma@man.poznan.pl', 'editors': [], 'readers': [], 'rating': '0.00', 'number_of_ratings': 0, 'number_of_likes': 0, 'number_of_dislikes': 0, 'completeness': 0, 'size': 0, 'creation_mode': 'MANUAL', 'doi': None, 'api_link': 'https://api.rohub.org/api/ros/b35396e0-9222-4f0f-bfb7-7f11c1041a4f/'}\n"
     ]
    },
    {
     "data": {
      "text/plain": [
       "{'identifier': 'b35396e0-9222-4f0f-bfb7-7f11c1041a4f',\n",
       " 'shared_link': 'https://w3id.org/ro-id/b35396e0-9222-4f0f-bfb7-7f11c1041a4f',\n",
       " 'title': 'How to create a Research Object using adamapi and rohub api',\n",
       " 'description': 'CAMS European air quality forecasts: NO2 - time range: 2022-05-04T23:00:00Z/2018-07-12T00:00:00Z - min/max Value: 0/0 - DataType: Float32 - Resolution: 0 -',\n",
       " 'status': 'LIVE',\n",
       " 'access_mode': 'PUBLIC',\n",
       " 'type': 'Data-centric Research Object',\n",
       " 'template': 'Data Centric Research Object folders structure',\n",
       " 'created': '2022-05-06T09:04:50.346005Z',\n",
       " 'creator': 'rpalma@man.poznan.pl',\n",
       " 'modificator': None,\n",
       " 'modified': '2022-05-06T09:04:50.429921Z',\n",
       " 'importer': None,\n",
       " 'research_areas': ['Earth sciences'],\n",
       " 'owner': 'rpalma@man.poznan.pl',\n",
       " 'editors': [],\n",
       " 'readers': [],\n",
       " 'rating': '0.00',\n",
       " 'number_of_ratings': 0,\n",
       " 'number_of_likes': 0,\n",
       " 'number_of_dislikes': 0,\n",
       " 'completeness': 0,\n",
       " 'size': 0,\n",
       " 'creation_mode': 'MANUAL',\n",
       " 'doi': None,\n",
       " 'api_link': 'https://api.rohub.org/api/ros/b35396e0-9222-4f0f-bfb7-7f11c1041a4f/'}"
      ]
     },
     "execution_count": 23,
     "metadata": {},
     "output_type": "execute_result"
    }
   ],
   "source": [
    "datasetID = \"69623:EU_CAMS_SURFACE_NO2_G\"\n",
    "print('\\033[1;34m' + 'Metadata of ' + datasetID + ':')\n",
    "print ('\\033[0;0m')\n",
    "\n",
    "paged = datasets.getDatasets(datasetID)\n",
    "print(pages)\n",
    "for i in paged.items():\n",
    "    print(\"\\033[1m\" +  str(i[0]) + \"\\033[0m\" + ': ' + str(i[1]))\n",
    "    \n",
    "long_name = paged['title']\n",
    "\n",
    "#description =\"%s - time range: %s/%s - min/max Value: %d/%d - DataType: %s - Resolution: %d - \"%(paged[\"title\"],paged[\"maxDate\"],paged[\"minDate\"],paged[\"minValue\"][0],paged[\"maxValue\"][0],paged[\"dataType\"],paged[\"resolutions\"][0])\n",
    "description =\"%s - time range: %s/%s - min/max Value: %d/%d - DataType: %s - Resolution: %d - \"%(paged[\"title\"],paged[\"endDate\"],paged[\"startDate\"],paged[\"minValue\"][0],paged[\"maxValue\"][0],paged[\"dataType\"],paged[\"resolutions\"][0])\n",
    "print(description)\n",
    "r_area=[\"Earth sciences\",\"Tutorials\"]\n",
    "title=\"How to create a Research Object using adamapi and rohub api\"\n",
    "ro_ros_type=\"Data-centric Research Object\"\n",
    "ro = rohub.ros_create(title=title,research_areas=r_area,description=description, ros_type=ro_ros_type, use_template=True)\n",
    "print(ro.show_metadata())\n",
    "ro.update()"
   ]
  },
  {
   "cell_type": "markdown",
   "metadata": {},
   "source": [
    "### <a id=1.DataAccess></a> **Step 3: Data Discovery.**"
   ]
  },
  {
   "cell_type": "code",
   "execution_count": 24,
   "metadata": {},
   "outputs": [],
   "source": [
    "from adamapi_dev import Search, GetData\n",
    "search = Search(a)\n",
    "results = []\n",
    "result = search.getProducts(\n",
    "    datasetID,\n",
    "    startDate = \"2021-10-26\",\n",
    "    endDate = \"2021-10-26\",\n",
    "    geometry = {\"type\":\"Polygon\",\"coordinates\":[[[6.59092907250189,46.3192707392453],[6.59092907250189,44.064454624659],[13.3447904638549,44.064454624659],[13.3447904638549,46.3192707392453],[6.59092907250189,46.3192707392453]]]}\n",
    ")\n",
    "results.extend(result[\"content\"])\n",
    "page=1\n",
    "while(len(result[\"content\"])>0):\n",
    "    result = search.getProducts(\n",
    "        datasetID,\n",
    "        startDate = \"2021-10-26\",\n",
    "        endDate = \"2021-10-26\",\n",
    "        geometry = {\"type\":\"Polygon\",\"coordinates\":[[[6.59092907250189,46.3192707392453],[6.59092907250189,44.064454624659],[13.3447904638549,44.064454624659],[13.3447904638549,46.3192707392453],[6.59092907250189,46.3192707392453]]]},\n",
    "        startIndex=page\n",
    "    )  \n",
    "    page+=1\n",
    "    results.extend(result[\"content\"])\n"
   ]
  },
  {
   "cell_type": "markdown",
   "metadata": {},
   "source": [
    "### <a id=1.Researchobjectfilling></a> **Step 3: Add Result in the Research Object as external resources.**"
   ]
  },
  {
   "cell_type": "code",
   "execution_count": 26,
   "metadata": {},
   "outputs": [
    {
     "name": "stdout",
     "output_type": "stream",
     "text": [
      "https://reliance-das.adamplatform.eu/wcs?service=WCS&version=2.0.0&request=GetCoverage&format=image/tiff&coverageId=EU_CAMS_SURFACE_NO2_G&_id=6179400d02c53809b66dc4af\n",
      "Resource was successfully created with id = 81be1cf2-6c4e-48f5-b022-59148fe26e7a\n",
      "https://reliance-das.adamplatform.eu/wcs?service=WCS&version=2.0.0&request=GetCoverage&format=image/tiff&coverageId=EU_CAMS_SURFACE_NO2_G&_id=6179400d02c53809b66dc4ab\n",
      "Resource was successfully created with id = 76edefce-8d1c-4ecc-97e9-97e60f58d1ca\n",
      "https://reliance-das.adamplatform.eu/wcs?service=WCS&version=2.0.0&request=GetCoverage&format=image/tiff&coverageId=EU_CAMS_SURFACE_NO2_G&_id=6179400d02c53809b66dc4b4\n",
      "Resource was successfully created with id = 1721e468-f4cf-4776-b0cc-c10d96c8d145\n",
      "https://reliance-das.adamplatform.eu/wcs?service=WCS&version=2.0.0&request=GetCoverage&format=image/tiff&coverageId=EU_CAMS_SURFACE_NO2_G&_id=6179400d02c53809b66dc4ad\n",
      "Resource was successfully created with id = 75f591d3-c41c-44f7-80af-7946d5b57c8e\n",
      "https://reliance-das.adamplatform.eu/wcs?service=WCS&version=2.0.0&request=GetCoverage&format=image/tiff&coverageId=EU_CAMS_SURFACE_NO2_G&_id=6179400d02c53809b66dc49f\n",
      "Resource was successfully created with id = 2c5a12e2-7b06-409c-b730-6474a37c3c37\n",
      "https://reliance-das.adamplatform.eu/wcs?service=WCS&version=2.0.0&request=GetCoverage&format=image/tiff&coverageId=EU_CAMS_SURFACE_NO2_G&_id=6179400d02c53809b66dc4a4\n",
      "Resource was successfully created with id = 8436954e-b8be-40ec-8930-0f25a1df45f6\n",
      "https://reliance-das.adamplatform.eu/wcs?service=WCS&version=2.0.0&request=GetCoverage&format=image/tiff&coverageId=EU_CAMS_SURFACE_NO2_G&_id=6179400d02c53809b66dc49d\n",
      "Resource was successfully created with id = 7c5bb519-c036-4adc-a812-91e682ce3e10\n",
      "https://reliance-das.adamplatform.eu/wcs?service=WCS&version=2.0.0&request=GetCoverage&format=image/tiff&coverageId=EU_CAMS_SURFACE_NO2_G&_id=6179400d02c53809b66dc49b\n",
      "Resource was successfully created with id = d07139f8-68f8-49c8-884f-c99db00f46b9\n",
      "https://reliance-das.adamplatform.eu/wcs?service=WCS&version=2.0.0&request=GetCoverage&format=image/tiff&coverageId=EU_CAMS_SURFACE_NO2_G&_id=6179400d02c53809b66dc48b\n",
      "Resource was successfully created with id = 0bcedb39-40cf-481b-885d-a83a2d207c0f\n",
      "https://reliance-das.adamplatform.eu/wcs?service=WCS&version=2.0.0&request=GetCoverage&format=image/tiff&coverageId=EU_CAMS_SURFACE_NO2_G&_id=6179400d02c53809b66dc494\n",
      "Resource was successfully created with id = d6e129a1-824b-4cc9-87da-7e564a5aa8ff\n",
      "https://reliance-das.adamplatform.eu/wcs?service=WCS&version=2.0.0&request=GetCoverage&format=image/tiff&coverageId=EU_CAMS_SURFACE_NO2_G&_id=6179400d02c53809b66dc491\n",
      "Resource was successfully created with id = 9d1be9e8-6fb5-4846-a092-0e51ca3796b8\n",
      "https://reliance-das.adamplatform.eu/wcs?service=WCS&version=2.0.0&request=GetCoverage&format=image/tiff&coverageId=EU_CAMS_SURFACE_NO2_G&_id=6179400d02c53809b66dc48d\n",
      "Resource was successfully created with id = c2e56d24-ca7c-4fcf-9f78-b7c2e7156dfe\n",
      "https://reliance-das.adamplatform.eu/wcs?service=WCS&version=2.0.0&request=GetCoverage&format=image/tiff&coverageId=EU_CAMS_SURFACE_NO2_G&_id=6179400d02c53809b66dc485\n",
      "Resource was successfully created with id = 127bccaf-cc37-48dd-9010-ece4e2e2f2a3\n",
      "https://reliance-das.adamplatform.eu/wcs?service=WCS&version=2.0.0&request=GetCoverage&format=image/tiff&coverageId=EU_CAMS_SURFACE_NO2_G&_id=6179400d02c53809b66dc47e\n",
      "Resource was successfully created with id = 4674e5be-3b88-4ea4-b5e1-2c189100936d\n",
      "https://reliance-das.adamplatform.eu/wcs?service=WCS&version=2.0.0&request=GetCoverage&format=image/tiff&coverageId=EU_CAMS_SURFACE_NO2_G&_id=6179400d02c53809b66dc480\n",
      "Resource was successfully created with id = 5f11a570-c02a-4dc8-be8c-9ede48a6110d\n",
      "https://reliance-das.adamplatform.eu/wcs?service=WCS&version=2.0.0&request=GetCoverage&format=image/tiff&coverageId=EU_CAMS_SURFACE_NO2_G&_id=6179400d02c53809b66dc47b\n",
      "Resource was successfully created with id = 0e39a69f-a6e8-4ac3-b335-b083cb59963c\n",
      "https://reliance-das.adamplatform.eu/wcs?service=WCS&version=2.0.0&request=GetCoverage&format=image/tiff&coverageId=EU_CAMS_SURFACE_NO2_G&_id=6179400d02c53809b66dc477\n",
      "Resource was successfully created with id = 610d510f-f424-4f95-a852-cde7f9facfe6\n",
      "https://reliance-das.adamplatform.eu/wcs?service=WCS&version=2.0.0&request=GetCoverage&format=image/tiff&coverageId=EU_CAMS_SURFACE_NO2_G&_id=6179400d02c53809b66dc471\n",
      "Resource was successfully created with id = 650bb17e-21a8-45f6-97da-c278e01fe0fb\n",
      "https://reliance-das.adamplatform.eu/wcs?service=WCS&version=2.0.0&request=GetCoverage&format=image/tiff&coverageId=EU_CAMS_SURFACE_NO2_G&_id=6179400d02c53809b66dc46e\n",
      "Resource was successfully created with id = 80006439-4c9a-4202-b105-5222ca965435\n",
      "https://reliance-das.adamplatform.eu/wcs?service=WCS&version=2.0.0&request=GetCoverage&format=image/tiff&coverageId=EU_CAMS_SURFACE_NO2_G&_id=6179400d02c53809b66dc46b\n",
      "Resource was successfully created with id = 3069ea04-ce40-47bd-9620-f1e3341d9909\n",
      "https://reliance-das.adamplatform.eu/wcs?service=WCS&version=2.0.0&request=GetCoverage&format=image/tiff&coverageId=EU_CAMS_SURFACE_NO2_G&_id=6179400d02c53809b66dc45e\n",
      "Resource was successfully created with id = d16b7267-46b2-4bde-9ecf-4f7908b52324\n",
      "https://reliance-das.adamplatform.eu/wcs?service=WCS&version=2.0.0&request=GetCoverage&format=image/tiff&coverageId=EU_CAMS_SURFACE_NO2_G&_id=6179400d02c53809b66dc461\n",
      "Resource was successfully created with id = d173b74b-8ab6-4f33-a2be-e9e1cf9778cb\n",
      "https://reliance-das.adamplatform.eu/wcs?service=WCS&version=2.0.0&request=GetCoverage&format=image/tiff&coverageId=EU_CAMS_SURFACE_NO2_G&_id=6179400d02c53809b66dc467\n",
      "Resource was successfully created with id = 95879a17-44b2-49d6-8173-3a47df5a403a\n",
      "https://reliance-das.adamplatform.eu/wcs?service=WCS&version=2.0.0&request=GetCoverage&format=image/tiff&coverageId=EU_CAMS_SURFACE_NO2_G&_id=6179400d02c53809b66dc45a\n",
      "Resource was successfully created with id = 1d2cda67-1871-48ab-b8ce-e96222e46f73\n",
      "https://reliance-das.adamplatform.eu/wcs?service=WCS&version=2.0.0&request=GetCoverage&format=image/png&coverageId=EU_CAMS_SURFACE_NO2_G&_id=6179400d02c53809b66dc4af\n",
      "Resource was successfully created with id = 0ec44374-9101-475d-bfc5-24c87bb2e8e8\n",
      "https://reliance-das.adamplatform.eu/wcs?service=WCS&version=2.0.0&request=GetCoverage&format=image/png&coverageId=EU_CAMS_SURFACE_NO2_G&_id=6179400d02c53809b66dc4ab\n",
      "Resource was successfully created with id = 219e6ddf-8a02-4e73-abdf-d8903fb5047a\n",
      "https://reliance-das.adamplatform.eu/wcs?service=WCS&version=2.0.0&request=GetCoverage&format=image/png&coverageId=EU_CAMS_SURFACE_NO2_G&_id=6179400d02c53809b66dc4b4\n",
      "Resource was successfully created with id = c90d7ea7-a143-4a15-bb64-47558c6c8c9a\n",
      "https://reliance-das.adamplatform.eu/wcs?service=WCS&version=2.0.0&request=GetCoverage&format=image/png&coverageId=EU_CAMS_SURFACE_NO2_G&_id=6179400d02c53809b66dc4ad\n",
      "Resource was successfully created with id = 54ff1a37-ecaa-46c9-9fae-cf8f943abdb1\n",
      "https://reliance-das.adamplatform.eu/wcs?service=WCS&version=2.0.0&request=GetCoverage&format=image/png&coverageId=EU_CAMS_SURFACE_NO2_G&_id=6179400d02c53809b66dc49f\n",
      "Resource was successfully created with id = 62efaabe-9c6d-4645-9057-2f653ae61db5\n",
      "https://reliance-das.adamplatform.eu/wcs?service=WCS&version=2.0.0&request=GetCoverage&format=image/png&coverageId=EU_CAMS_SURFACE_NO2_G&_id=6179400d02c53809b66dc4a4\n",
      "Resource was successfully created with id = 852ff398-a6e9-4284-88dd-bf3a71633d66\n",
      "https://reliance-das.adamplatform.eu/wcs?service=WCS&version=2.0.0&request=GetCoverage&format=image/png&coverageId=EU_CAMS_SURFACE_NO2_G&_id=6179400d02c53809b66dc49d\n",
      "Resource was successfully created with id = d42736fd-fc5a-4d4c-9404-741ecd7d2572\n",
      "https://reliance-das.adamplatform.eu/wcs?service=WCS&version=2.0.0&request=GetCoverage&format=image/png&coverageId=EU_CAMS_SURFACE_NO2_G&_id=6179400d02c53809b66dc49b\n",
      "Resource was successfully created with id = ff0b1f8c-2501-4817-88e3-51964e985879\n",
      "https://reliance-das.adamplatform.eu/wcs?service=WCS&version=2.0.0&request=GetCoverage&format=image/png&coverageId=EU_CAMS_SURFACE_NO2_G&_id=6179400d02c53809b66dc48b\n",
      "Resource was successfully created with id = 716ac136-38be-4ae5-8c81-a203d399cf44\n",
      "https://reliance-das.adamplatform.eu/wcs?service=WCS&version=2.0.0&request=GetCoverage&format=image/png&coverageId=EU_CAMS_SURFACE_NO2_G&_id=6179400d02c53809b66dc494\n",
      "Resource was successfully created with id = 994cef41-bb2d-4906-8217-96794632024d\n",
      "https://reliance-das.adamplatform.eu/wcs?service=WCS&version=2.0.0&request=GetCoverage&format=image/png&coverageId=EU_CAMS_SURFACE_NO2_G&_id=6179400d02c53809b66dc491\n",
      "Resource was successfully created with id = b571c661-3ac1-4491-86ef-2709d8a59fed\n",
      "https://reliance-das.adamplatform.eu/wcs?service=WCS&version=2.0.0&request=GetCoverage&format=image/png&coverageId=EU_CAMS_SURFACE_NO2_G&_id=6179400d02c53809b66dc48d\n",
      "Resource was successfully created with id = effd0a25-76a4-4deb-81e0-0899b2cb3d74\n",
      "https://reliance-das.adamplatform.eu/wcs?service=WCS&version=2.0.0&request=GetCoverage&format=image/png&coverageId=EU_CAMS_SURFACE_NO2_G&_id=6179400d02c53809b66dc485\n",
      "Resource was successfully created with id = 1814fad7-6578-4336-afb9-e2638957e99c\n",
      "https://reliance-das.adamplatform.eu/wcs?service=WCS&version=2.0.0&request=GetCoverage&format=image/png&coverageId=EU_CAMS_SURFACE_NO2_G&_id=6179400d02c53809b66dc47e\n",
      "Resource was successfully created with id = a6e466e3-b7a4-4027-b7ae-b8e3de855be4\n",
      "https://reliance-das.adamplatform.eu/wcs?service=WCS&version=2.0.0&request=GetCoverage&format=image/png&coverageId=EU_CAMS_SURFACE_NO2_G&_id=6179400d02c53809b66dc480\n",
      "Resource was successfully created with id = 14202231-bc99-4560-8c51-29d2b6f2c232\n",
      "https://reliance-das.adamplatform.eu/wcs?service=WCS&version=2.0.0&request=GetCoverage&format=image/png&coverageId=EU_CAMS_SURFACE_NO2_G&_id=6179400d02c53809b66dc47b\n",
      "Resource was successfully created with id = c306cf75-6877-494e-a2e8-de65efca3edf\n",
      "https://reliance-das.adamplatform.eu/wcs?service=WCS&version=2.0.0&request=GetCoverage&format=image/png&coverageId=EU_CAMS_SURFACE_NO2_G&_id=6179400d02c53809b66dc477\n",
      "Resource was successfully created with id = 0f13c44f-52e4-4e65-bfad-a8458adf26cb\n",
      "https://reliance-das.adamplatform.eu/wcs?service=WCS&version=2.0.0&request=GetCoverage&format=image/png&coverageId=EU_CAMS_SURFACE_NO2_G&_id=6179400d02c53809b66dc471\n",
      "Resource was successfully created with id = 1c334fd8-8592-4644-a7fc-4cc1fc0a15fc\n",
      "https://reliance-das.adamplatform.eu/wcs?service=WCS&version=2.0.0&request=GetCoverage&format=image/png&coverageId=EU_CAMS_SURFACE_NO2_G&_id=6179400d02c53809b66dc46e\n",
      "Resource was successfully created with id = 91c6a39a-ef13-4701-bd4a-4e7c70edec0b\n",
      "https://reliance-das.adamplatform.eu/wcs?service=WCS&version=2.0.0&request=GetCoverage&format=image/png&coverageId=EU_CAMS_SURFACE_NO2_G&_id=6179400d02c53809b66dc46b\n",
      "Resource was successfully created with id = a90401c6-afdf-44ba-a2f9-41c8fc43eff9\n",
      "https://reliance-das.adamplatform.eu/wcs?service=WCS&version=2.0.0&request=GetCoverage&format=image/png&coverageId=EU_CAMS_SURFACE_NO2_G&_id=6179400d02c53809b66dc45e\n",
      "Resource was successfully created with id = b1af6d38-ff00-48fd-9d31-7de62e352041\n",
      "https://reliance-das.adamplatform.eu/wcs?service=WCS&version=2.0.0&request=GetCoverage&format=image/png&coverageId=EU_CAMS_SURFACE_NO2_G&_id=6179400d02c53809b66dc461\n",
      "Resource was successfully created with id = e921accb-a0ea-4582-9bcc-05b7f94e48f7\n",
      "https://reliance-das.adamplatform.eu/wcs?service=WCS&version=2.0.0&request=GetCoverage&format=image/png&coverageId=EU_CAMS_SURFACE_NO2_G&_id=6179400d02c53809b66dc467\n",
      "Resource was successfully created with id = 55095c6e-cd8d-4eba-977a-2965fb39bc98\n",
      "https://reliance-das.adamplatform.eu/wcs?service=WCS&version=2.0.0&request=GetCoverage&format=image/png&coverageId=EU_CAMS_SURFACE_NO2_G&_id=6179400d02c53809b66dc45a\n",
      "Resource was successfully created with id = 8895b6eb-e667-4a3d-80ce-de616b216b2e\n"
     ]
    }
   ],
   "source": [
    "#if you want insert in the RO the tiff\n",
    "for r in results:\n",
    "    print(r[\"productLink\"][\"tiff\"])\n",
    "    rese_title=\"Data Cube Product ID: \" + r[\"productId\"] + \" Feature ID: \"+r[\"_id\"][\"$oid\"] + \" TIFF link\"\n",
    "    rohub.ros_add_external_resource(ro.identifier,\"Data Cube Product\",r[\"productLink\"][\"tiff\"],rese_title, \"data\")\n",
    "#if you want insert in the RO the png\n",
    "for r in results:\n",
    "    print(r[\"productLink\"][\"png\"])\n",
    "    rese_title=\"Data Cube Product ID: \" + r[\"productId\"] + \" Feature ID: \"+r[\"_id\"][\"$oid\"] + \" PNG link\"\n",
    "    rohub.ros_add_external_resource(ro.identifier,\"Data Cube Product\",r[\"productLink\"][\"png\"],rese_title, \"data\")\n"
   ]
  },
  {
   "cell_type": "code",
   "execution_count": 27,
   "metadata": {},
   "outputs": [
    {
     "name": "stdout",
     "output_type": "stream",
     "text": [
      "{'identifier': 'b35396e0-9222-4f0f-bfb7-7f11c1041a4f', 'shared_link': 'https://w3id.org/ro-id/b35396e0-9222-4f0f-bfb7-7f11c1041a4f', 'title': 'How to create a Research Object using adamapi and rohub api', 'description': 'CAMS European air quality forecasts: NO2 - time range: 2022-05-04T23:00:00Z/2018-07-12T00:00:00Z - min/max Value: 0/0 - DataType: Float32 - Resolution: 0 -', 'status': 'LIVE', 'access_mode': 'PUBLIC', 'type': 'Data-centric Research Object', 'template': 'Data Centric Research Object folders structure', 'created': '2022-05-06T09:04:50.346005Z', 'creator': 'rpalma@man.poznan.pl', 'modificator': None, 'modified': '2022-05-06T09:04:50.660014Z', 'importer': None, 'research_areas': ['Earth sciences'], 'owner': 'rpalma@man.poznan.pl', 'editors': [], 'readers': [], 'rating': '0.00', 'number_of_ratings': 0, 'number_of_likes': 0, 'number_of_dislikes': 0, 'completeness': 0, 'size': 0, 'creation_mode': 'MANUAL', 'doi': None, 'api_link': 'https://api.rohub.org/api/ros/b35396e0-9222-4f0f-bfb7-7f11c1041a4f/'}\n"
     ]
    }
   ],
   "source": [
    "print(ro.show_metadata())"
   ]
  },
  {
   "cell_type": "markdown",
   "metadata": {},
   "source": [
    "### <a id=1.Researchobjectfilling></a> **Step 3: Add Result in the Research Object as internal resources.**"
   ]
  },
  {
   "cell_type": "code",
   "execution_count": 28,
   "metadata": {},
   "outputs": [
    {
     "name": "stderr",
     "output_type": "stream",
     "text": [
      "100%|██████████| 24/24 [00:09<00:00,  2.41it/s]\n"
     ]
    }
   ],
   "source": [
    "data=GetData(a)\n",
    "image=data.getData(\n",
    "    datasetID,\n",
    "    \"GetFile\",\n",
    "    asynchronous=False,\n",
    "    compress=True,\n",
    "    rest=False,\n",
    "    filters={\"startDate\":'2021-10-26',\"endDate\":'2021-10-26',\"geometry\":{\"type\":\"Polygon\",\"coordinates\":[[[6.59092907250189,46.3192707392453],[6.59092907250189,44.064454624659],[13.3447904638549,44.064454624659],[13.3447904638549,46.3192707392453],[6.59092907250189,46.3192707392453]]]}},\n",
    "    outputDir='result1'\n",
    ")"
   ]
  },
  {
   "cell_type": "code",
   "execution_count": 29,
   "metadata": {},
   "outputs": [
    {
     "name": "stdout",
     "output_type": "stream",
     "text": [
      "Resource was successfully created with id = abe173ce-0e73-4cf2-b8b0-1296cf87cb1d\n",
      "Resource was successfully created with id = d4bd0096-6caa-42f6-b858-4012bf433b81\n",
      "Resource was successfully created with id = a2ef5c08-03bf-4f4e-ba59-d53222d3f5b6\n",
      "Resource was successfully created with id = d0e857ca-c0b8-4486-8082-6a213fab4b82\n",
      "Resource was successfully created with id = 73635c23-d6c5-4d9a-b7f6-3b14521be3c7\n",
      "Resource was successfully created with id = 7377f181-4300-489d-b2c9-78230a557819\n",
      "Resource was successfully created with id = 268d1c77-5ad1-4136-91d1-5be1d7693d9f\n",
      "Resource was successfully created with id = d0304597-d015-4b4e-a55d-0b478db8f05c\n",
      "Resource was successfully created with id = 847a7f95-eb81-4a5f-ba66-efcd5743d5e2\n",
      "Resource was successfully created with id = 1c333326-d180-4237-a77e-d852435012b6\n",
      "Resource was successfully created with id = e61f1167-eeed-4dbf-bfb1-fc11be30ebed\n",
      "Resource was successfully created with id = 69c8d2f3-fdee-44c4-ade1-9de87ddd254e\n",
      "Resource was successfully created with id = 8b7cbfb9-4743-4fc6-b73c-54d7b05fbc23\n",
      "Resource was successfully created with id = 6c822823-dfec-4ff0-82b7-6fa18e0c0657\n",
      "Resource was successfully created with id = 86cddf29-e2f5-4c08-87c7-e9ed05812039\n",
      "Resource was successfully created with id = 542058a8-50b8-462a-b349-3446b948a873\n",
      "Resource was successfully created with id = 5f3633e7-56e6-4116-872e-a6d692f7f2ba\n",
      "Resource was successfully created with id = fe350250-520c-4007-b445-62ec1c2ae32b\n",
      "Resource was successfully created with id = c2ebf34a-ce3d-49cf-85ff-437b6693c3ab\n",
      "Resource was successfully created with id = f65de52b-71a8-4311-8fea-f7b17f4de237\n",
      "Resource was successfully created with id = 651c7f57-3233-4927-9a61-07ebbba9a146\n",
      "Resource was successfully created with id = d8d0a4a4-5b5f-46e5-9964-47f001e4d496\n",
      "Resource was successfully created with id = 4b0f5d59-af17-4f81-93da-a25a6d19e66d\n",
      "Resource was successfully created with id = 719767a2-5b2b-4d70-832b-a71385576936\n"
     ]
    }
   ],
   "source": [
    "import os\n",
    "for root,dirs,filenames in os.walk(\"adamapiresult/result1\"):\n",
    "    for f in filenames:\n",
    "        resi_title=\"Data Cube Product ID: \" + str(f)\n",
    "        rohub.ros_add_internal_resource(ro.identifier,\"Data Cube Product\",os.path.join(root,f),resi_title, \"raw data\")"
   ]
  },
  {
   "cell_type": "code",
   "execution_count": 30,
   "metadata": {},
   "outputs": [
    {
     "name": "stdout",
     "output_type": "stream",
     "text": [
      "{'identifier': 'b35396e0-9222-4f0f-bfb7-7f11c1041a4f', 'shared_link': 'https://w3id.org/ro-id/b35396e0-9222-4f0f-bfb7-7f11c1041a4f', 'title': 'How to create a Research Object using adamapi and rohub api', 'description': 'CAMS European air quality forecasts: NO2 - time range: 2022-05-04T23:00:00Z/2018-07-12T00:00:00Z - min/max Value: 0/0 - DataType: Float32 - Resolution: 0 -', 'status': 'LIVE', 'access_mode': 'PUBLIC', 'type': 'Data-centric Research Object', 'template': 'Data Centric Research Object folders structure', 'created': '2022-05-06T09:04:50.346005Z', 'creator': 'rpalma@man.poznan.pl', 'modificator': None, 'modified': '2022-05-06T09:04:50.660014Z', 'importer': None, 'research_areas': ['Earth sciences'], 'owner': 'rpalma@man.poznan.pl', 'editors': [], 'readers': [], 'rating': '0.00', 'number_of_ratings': 0, 'number_of_likes': 0, 'number_of_dislikes': 0, 'completeness': 0, 'size': 0, 'creation_mode': 'MANUAL', 'doi': None, 'api_link': 'https://api.rohub.org/api/ros/b35396e0-9222-4f0f-bfb7-7f11c1041a4f/'}\n"
     ]
    }
   ],
   "source": [
    "print(ro.show_metadata())"
   ]
  },
  {
   "cell_type": "markdown",
   "metadata": {},
   "source": [
    "### <a id=1.Researchobjectfilling></a> **Step 3.1: Get Daily mean and add it to the Research Object.**"
   ]
  },
  {
   "cell_type": "code",
   "execution_count": 31,
   "metadata": {},
   "outputs": [
    {
     "name": "stderr",
     "output_type": "stream",
     "text": [
      "100%|██████████| 1/1 [00:01<00:00,  1.05s/it]\n"
     ]
    }
   ],
   "source": [
    "data=GetData(a)\n",
    "image=data.getData(\n",
    "    datasetID,\n",
    "    \"GetProcessing\",\n",
    "    asynchronous=False,\n",
    "    compress=False,\n",
    "    rest=False,\n",
    "    filters={\"startDate\":'2021-10-26',\"endDate\":'2021-10-26',\"geometry\":{\"type\":\"Polygon\",\"coordinates\":[[[-25.000012,29.999997],[44.999988,29.999997],[44.999988,71.999997],[-25.000012,71.999997],[-25.000012,29.999997]]]}},\n",
    "    options={\"function\":\"average\",\"format\":\"png\"},\n",
    "    outputDir='result2'\n",
    ")"
   ]
  },
  {
   "cell_type": "code",
   "execution_count": 32,
   "metadata": {},
   "outputs": [
    {
     "name": "stdout",
     "output_type": "stream",
     "text": [
      "Resource was successfully created with id = f8cb8131-e01d-4a2a-8e93-a917cbcb92c0\n"
     ]
    }
   ],
   "source": [
    "import os\n",
    "for root,dirs,filenames in os.walk(\"adamapiresult/result2\"):\n",
    "    for f in filenames:\n",
    "        resi_title=\"Data Cube Product - daily mean 2021-10-26\" + str(f)\n",
    "        rohub.ros_add_internal_resource(ro.identifier,\"Data Cube Product\",os.path.join(root,f),resi_title, \"raw data\")"
   ]
  },
  {
   "cell_type": "markdown",
   "metadata": {},
   "source": [
    "### <a id=1.Researchobjectfilling></a> **Step 4: Visualize the entire dataset or single features on the RELIANCE Explorer frontend.**"
   ]
  },
  {
   "cell_type": "code",
   "execution_count": 33,
   "metadata": {},
   "outputs": [
    {
     "name": "stdout",
     "output_type": "stream",
     "text": [
      "https://reliance-dev.adamplatform.eu/69623:EU_CAMS_SURFACE_NO2_G\n"
     ]
    }
   ],
   "source": [
    "#dataset\n",
    "endpoint = a.getAdamCore()\n",
    "print(os.path.join(endpoint,datasetID))"
   ]
  },
  {
   "cell_type": "code",
   "execution_count": 34,
   "metadata": {},
   "outputs": [
    {
     "name": "stdout",
     "output_type": "stream",
     "text": [
      "https://reliance-dev.adamplatform.eu/69623:EU_CAMS_SURFACE_NO2_G/<feature_id>\n"
     ]
    }
   ],
   "source": [
    "#single feature\n",
    "# you can find the feature_id parameter inside the tiff or png productLink as _id parameter\n",
    "feature='<feature_id>'\n",
    "print(os.path.join(endpoint,datasetID,feature))"
   ]
  },
  {
   "cell_type": "markdown",
   "metadata": {},
   "source": [
    "### <a id=1.Researchobjectfilling></a> **Step 5: Get metadata of a particular product (feature)**"
   ]
  },
  {
   "cell_type": "code",
   "execution_count": 36,
   "metadata": {},
   "outputs": [
    {
     "name": "stdout",
     "output_type": "stream",
     "text": [
      "***********************************************************************************************************************************************************************************************************************************************************************************************************************************************Total number of products: 33432\n"
     ]
    }
   ],
   "source": [
    "from adamapi_dev import Search, GetData\n",
    "search = Search(a)\n",
    "\n",
    "datasetID = \"69623:EU_CAMS_SURFACE_NO2_G\"\n",
    "\n",
    "productsList = []\n",
    "products=search.getProducts(datasetID, maxRecords=100)\n",
    "productsList.extend(products[\"content\"])\n",
    "#print (products[\"properties\"])\n",
    "records=0\n",
    "records=products.get('properties').get('itemsPerPage')\n",
    "\n",
    "page=1\n",
    "while(len(products[\"content\"])>0):\n",
    "    products=search.getProducts(datasetID, maxRecords=100, startIndex=page)    \n",
    "    records = records + products.get('properties').get('itemsPerPage')\n",
    "    print('*', end='')\n",
    "#    print (\"page: \" + str (page))\n",
    "#    print (products[\"properties\"])\n",
    "    page+=1\n",
    "    productsList.extend(products[\"content\"])\n",
    "\n",
    "print (\"Total number of products: \"+str(records))"
   ]
  },
  {
   "cell_type": "code",
   "execution_count": 37,
   "metadata": {},
   "outputs": [
    {
     "name": "stdout",
     "output_type": "stream",
     "text": [
      "{\n",
      "  \"_id\": {\n",
      "    \"$oid\": \"6179400d02c53809b66dc4ab\"\n",
      "  },\n",
      "  \"datasetId\": \"EU_CAMS_SURFACE_NO2_G\",\n",
      "  \"productDate\": \"2021-10-26T22:00:00Z\",\n",
      "  \"productId\": \"EU_CAMS_SURFACE_NO2_G_20211026220000.tif\",\n",
      "  \"geometry\": {\n",
      "    \"geometries\": [\n",
      "      {\n",
      "        \"type\": \"Polygon\",\n",
      "        \"coordinates\": [\n",
      "          [\n",
      "            [\n",
      "              -25.000012,\n",
      "              29.999997\n",
      "            ],\n",
      "            [\n",
      "              44.999988,\n",
      "              29.999997\n",
      "            ],\n",
      "            [\n",
      "              44.999988,\n",
      "              71.999997\n",
      "            ],\n",
      "            [\n",
      "              -25.000012,\n",
      "              71.999997\n",
      "            ],\n",
      "            [\n",
      "              -25.000012,\n",
      "              29.999997\n",
      "            ]\n",
      "          ]\n",
      "        ]\n",
      "      }\n",
      "    ],\n",
      "    \"type\": \"GeometryCollection\"\n",
      "  },\n",
      "  \"insertDate\": \"2021-10-27T12:03:25Z\",\n",
      "  \"status\": \"Online\",\n",
      "  \"productLink\": {\n",
      "    \"tiff\": \"https://reliance-das.adamplatform.eu/wcs?service=WCS&version=2.0.0&request=GetCoverage&format=image/tiff&coverageId=EU_CAMS_SURFACE_NO2_G&_id=6179400d02c53809b66dc4ab\",\n",
      "    \"png\": \"https://reliance-das.adamplatform.eu/wcs?service=WCS&version=2.0.0&request=GetCoverage&format=image/png&coverageId=EU_CAMS_SURFACE_NO2_G&_id=6179400d02c53809b66dc4ab\"\n",
      "  }\n",
      "}\n",
      "datasetId: EU_CAMS_SURFACE_NO2_G\n",
      "productDate: 2021-10-26T22:00:00Z\n",
      "productId: EU_CAMS_SURFACE_NO2_G_20211026220000.tif\n",
      "insertDate: 2021-10-27T12:03:25Z\n",
      "status: Online\n"
     ]
    }
   ],
   "source": [
    "val = '6179400d02c53809b66dc4ab'\n",
    "for product in productsList:\n",
    "    if product.get('_id').get('$oid') == val:\n",
    "        print(json.dumps(product, indent=2))\n",
    "        print (\"datasetId: \"+product['datasetId'])\n",
    "        print (\"productDate: \"+product['productDate'])\n",
    "        print (\"productId: \"+product['productId'])\n",
    "        print (\"insertDate: \"+product['insertDate'])\n",
    "        print (\"status: \"+product['status'])\n",
    "#        print (\"geometry: \"+product['geometry'])\n",
    "#        print (\"productLink: \"+product['productLink'])\n",
    "        \n"
   ]
  },
  {
   "cell_type": "markdown",
   "metadata": {},
   "source": [
    "### <a id=1.Researchobjectfilling></a> **Step 6: Add whole data cube to RO**"
   ]
  },
  {
   "cell_type": "code",
   "execution_count": 39,
   "metadata": {},
   "outputs": [
    {
     "name": "stdout",
     "output_type": "stream",
     "text": [
      "Resource was successfully created with id = 71b78c10-5204-42af-bc37-b244537a2ebc\n"
     ]
    },
    {
     "data": {
      "text/plain": [
       "Resource(identifier=71b78c10-5204-42af-bc37-b244537a2ebc, post_request=False)"
      ]
     },
     "execution_count": 39,
     "metadata": {},
     "output_type": "execute_result"
    }
   ],
   "source": [
    "#datasetID = \"69623:EU_CAMS_SURFACE_NO2_G\"\n",
    "#dataset\n",
    "endpoint = a.getAdamCore()\n",
    "dclink=os.path.join(endpoint,datasetID)\n",
    "\n",
    "rese_title=\"Data Cube ID: \" + datasetID\n",
    "rohub.ros_add_external_resource(ro.identifier,\"Data Cube Collection\",dclink,rese_title, \"raw data\")"
   ]
  },
  {
   "cell_type": "code",
   "execution_count": null,
   "metadata": {},
   "outputs": [],
   "source": []
  }
 ],
 "metadata": {
  "kernelspec": {
   "display_name": "Python 3",
   "language": "python",
   "name": "python3"
  },
  "language_info": {
   "codemirror_mode": {
    "name": "ipython",
    "version": 3
   },
   "file_extension": ".py",
   "mimetype": "text/x-python",
   "name": "python",
   "nbconvert_exporter": "python",
   "pygments_lexer": "ipython3",
   "version": "3.8.8"
  }
 },
 "nbformat": 4,
 "nbformat_minor": 4
}
