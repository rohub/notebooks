{
 "cells": [
  {
   "cell_type": "markdown",
   "id": "d0658a85-bc5f-465e-8d17-4e28f90223b1",
   "metadata": {},
   "source": [
    "# Create Research Object for eScience course"
   ]
  },
  {
   "cell_type": "code",
   "execution_count": null,
   "id": "9a2dd7b9-eca9-43b9-a801-99fa642de20c",
   "metadata": {},
   "outputs": [],
   "source": [
    "pip install rohub"
   ]
  },
  {
   "cell_type": "code",
   "execution_count": 2,
   "id": "b1e80a31-9f9e-4224-a523-fa88c0ac2f6d",
   "metadata": {},
   "outputs": [],
   "source": [
    "import rohub\n",
    "import os"
   ]
  },
  {
   "cell_type": "code",
   "execution_count": 3,
   "id": "0bd5514c-d883-42b1-b551-64d34b4b09a4",
   "metadata": {},
   "outputs": [],
   "source": [
    "rohub_user = open(os.path.join(os.environ['HOME'],\"rohub-user\")).read().rstrip()\n",
    "rohub_pwd = open(os.path.join(os.environ['HOME'],\"rohub-pwd\")).read().rstrip()"
   ]
  },
  {
   "cell_type": "markdown",
   "id": "982555c3-7cd1-4ed5-842a-674fed8e1d99",
   "metadata": {},
   "source": [
    "## Create Research Object"
   ]
  },
  {
   "cell_type": "code",
   "execution_count": null,
   "id": "6bc5dba6-77c5-4aac-8afb-1f718a3446ea",
   "metadata": {},
   "outputs": [],
   "source": [
    "ro_title=\"A song of ice and phytoplankton\"\n",
    "ro_research_areas=[\"Earth sciences\", \"Oceanography\"]\n",
    "ro_description=\"\"\"The Arctic Ocean ecosystems are experiencing rapid changes. This could have possible implications for aerosol and cloud feedbacks that are not currently represented in CMIP6 models. One important proxy for plankton life is oceanic chlorophyll. This study investigates the representation of chlorophyll in two CMIP6 models; GFDL-ESM4 and MPI-ESM1-2-LR, and compares it with satellite observations. The chlorophyll concentration elvovement in time is investigated in Bering Strait and Fram Strait. The satellite observations show a positive trend of 0.1 mg myear (Fram Strait) and 0.06 mg myear (Bering Strait) in maximum chlorophyll values. The projected changes in SSP2-4.5 in GFDL-ESM4 is a negative trend of -0.018 mg myear in maximum values, while MPI-ESM1-2-LR shows a positive trend of 0.011 mg myear in maximum values. Chlorophyll is compared with the other biological proxies bacterial carbon concentration and dissolved organic carbon. Chlorophyll is found to have a moderate correlation of 0.53 with bacterical carbon in GFDL-ESM4. No correlation is found with dissolved organic carbon, 0.09 for GFDL-ESM4 and 0.05 for MPI-ESM1-2-LR. GFDL-ESM4 and MPI-ESM1-2-LR also show diverging relationship between sea ice concentration and chlorophyll, where chlorophyll decreases along with declining sea ice at the end of SSP2-4.5, while chlorophyll increases in MPI-ESM1-2-LR with declining sea ice.\"\"\"\n",
    "ro_ros_type=\"Executable Research Object\"\n",
    "\n",
    "#AFro = rohub.ros_create(title=ro_title, research_areas=ro_research_areas, description=ro_description, ros_type=ro_ros_type, use_template=True)"
   ]
  },
  {
   "cell_type": "code",
   "execution_count": 5,
   "id": "77442445-54de-4a8c-a14b-33bd7d51063b",
   "metadata": {},
   "outputs": [],
   "source": [
    "id = '183f2862-7509-4343-8ec9-74775b642c8d'"
   ]
  },
  {
   "cell_type": "code",
   "execution_count": 6,
   "id": "5f42c8bc-4c8c-4c47-973d-a7042cf1caf2",
   "metadata": {},
   "outputs": [
    {
     "name": "stdout",
     "output_type": "stream",
     "text": [
      "Research Object was successfully loaded with id = 183f2862-7509-4343-8ec9-74775b642c8d\n"
     ]
    }
   ],
   "source": [
    "ro = rohub.ros_load(identifier=id)"
   ]
  },
  {
   "cell_type": "code",
   "execution_count": 7,
   "id": "f4b19d5b-6301-438d-a15c-65beabd3b88f",
   "metadata": {},
   "outputs": [
    {
     "data": {
      "text/plain": [
       "{'identifier': '183f2862-7509-4343-8ec9-74775b642c8d',\n",
       " 'shared_link': 'https://w3id.org/ro-id/183f2862-7509-4343-8ec9-74775b642c8d',\n",
       " 'title': 'A song of ice and phytoplankton',\n",
       " 'description': 'The Arctic Ocean ecosystems are experiencing rapid changes. This could have possible implications for aerosol and cloud feedbacks that are not currently represented in CMIP6 models. One important proxy for plankton life is oceanic chlorophyll. This study investigates the representation of chlorophyll in two CMIP6 models; GFDL-ESM4 and MPI-ESM1-2-LR, and compares it with satellite observations. The chlorophyll concentration elvovement in time is investigated in Bering Strait and Fram Strait. The satellite observations show a positive trend of 0.1 mg myear (Fram Strait) and 0.06 mg myear (Bering Strait) in maximum chlorophyll values. The projected changes in SSP2-4.5 in GFDL-ESM4 is a negative trend of -0.018 mg myear in maximum values, while MPI-ESM1-2-LR shows a positive trend of 0.011 mg myear in maximum values. Chlorophyll is compared with the other biological proxies bacterial carbon concentration and dissolved organic carbon. Chlorophyll is found to have a moderate correlation of 0.53 with bacterical carbon in GFDL-ESM4. No correlation is found with dissolved organic carbon, 0.09 for GFDL-ESM4 and 0.05 for MPI-ESM1-2-LR. GFDL-ESM4 and MPI-ESM1-2-LR also show diverging relationship between sea ice concentration and chlorophyll, where chlorophyll decreases along with declining sea ice at the end of SSP2-4.5, while chlorophyll increases in MPI-ESM1-2-LR with declining sea ice.',\n",
       " 'status': 'LIVE',\n",
       " 'access_mode': 'PUBLIC',\n",
       " 'type': 'Executable Research Object',\n",
       " 'template': 'Executable Research Object folders structure',\n",
       " 'created': '2022-03-18T17:20:59.339997Z',\n",
       " 'creator': 'nordicesmhub@gmail.com',\n",
       " 'modificator': 'nordicesmhub@gmail.com',\n",
       " 'modified': '2022-03-26T13:29:06.279481Z',\n",
       " 'importer': None,\n",
       " 'research_areas': ['Earth sciences', 'Oceanography'],\n",
       " 'owner': 'nordicesmhub@gmail.com',\n",
       " 'editors': [],\n",
       " 'readers': [],\n",
       " 'rating': '0.00',\n",
       " 'number_of_ratings': 0,\n",
       " 'number_of_likes': 0,\n",
       " 'number_of_dislikes': 0,\n",
       " 'completness': 75,\n",
       " 'size': 4438069,\n",
       " 'creation_mode': 'MANUAL',\n",
       " 'doi': None,\n",
       " 'api_link': 'https://api.rohub.org/api/ros/183f2862-7509-4343-8ec9-74775b642c8d/'}"
      ]
     },
     "execution_count": 7,
     "metadata": {},
     "output_type": "execute_result"
    }
   ],
   "source": [
    "ro.show_metadata()"
   ]
  },
  {
   "cell_type": "code",
   "execution_count": null,
   "id": "6a10052c-4912-4d31-ad39-a595be63795b",
   "metadata": {},
   "outputs": [],
   "source": [
    "organizations=rohub.organizations_find(search=\"Oslo\")\n",
    "organizations"
   ]
  },
  {
   "cell_type": "code",
   "execution_count": null,
   "id": "e5d7bc4a-af28-404f-a1b8-47035fcacd8b",
   "metadata": {},
   "outputs": [],
   "source": [
    "uio_org = organizations.loc[0,\"organization_id\"]"
   ]
  },
  {
   "cell_type": "code",
   "execution_count": null,
   "id": "483e1e1b-6eb5-454d-b228-8962ffde907c",
   "metadata": {},
   "outputs": [],
   "source": [
    "list_publishers = [uio_org]"
   ]
  },
  {
   "cell_type": "code",
   "execution_count": null,
   "id": "e9cbd820-dfcf-4fc0-ab8e-c0f5c049c5ed",
   "metadata": {
    "tags": []
   },
   "outputs": [],
   "source": [
    "ro.set_publishers(agents=list_publishers)"
   ]
  },
  {
   "cell_type": "code",
   "execution_count": null,
   "id": "0a201f91-6a69-4601-b59a-fba88ac1f99a",
   "metadata": {},
   "outputs": [],
   "source": [
    "usernames=rohub.users_find(search=\"Astrid\")\n",
    "usernames"
   ]
  },
  {
   "cell_type": "code",
   "execution_count": null,
   "id": "a673b602-7d74-4141-88c4-146902701ab4",
   "metadata": {},
   "outputs": [],
   "source": [
    "list_copyright_holders = ['astridbgj@gmail.com']"
   ]
  },
  {
   "cell_type": "code",
   "execution_count": null,
   "id": "2c958946-22ed-4f34-898c-2c1777c2642a",
   "metadata": {
    "tags": []
   },
   "outputs": [],
   "source": [
    "ro.set_copyright_holders(agents=list_copyright_holders)"
   ]
  },
  {
   "cell_type": "code",
   "execution_count": null,
   "id": "3dec296c-69e3-4259-8799-a40297b6a5b1",
   "metadata": {
    "tags": []
   },
   "outputs": [],
   "source": [
    "ro.set_authors(agents=['astridbgj@gmail.com'])"
   ]
  },
  {
   "cell_type": "code",
   "execution_count": null,
   "id": "cd9ed897-4fd8-4424-95e9-f856a30f78dd",
   "metadata": {},
   "outputs": [],
   "source": [
    "usernames=rohub.users_find(search=\"Freitas\")\n",
    "usernames"
   ]
  },
  {
   "cell_type": "markdown",
   "id": "400ad19f-912e-4308-ac4a-2cc44d74e6db",
   "metadata": {},
   "source": [
    "## Add collaborators\n",
    "- if your collaborators are not already in rohub, create them."
   ]
  },
  {
   "cell_type": "code",
   "execution_count": null,
   "id": "c95d5fc3-61a4-431d-a762-c24ff4392771",
   "metadata": {},
   "outputs": [],
   "source": [
    "ro.set_contributors(agents=[{ \"display_name\": \"Gabriel Freitas\", \n",
    "                             \"email\":\"Gabriel.Freitas@aces.su.se\",\n",
    "                             \"orcid_id\":\"0000-0002-5014-9319\",\n",
    "                             \"affiliation\": \"Department of Environmental Science, Stockholm university (Sweden)\"}])"
   ]
  },
  {
   "cell_type": "code",
   "execution_count": null,
   "id": "489dd6b1-548c-4817-8e28-5158cbe70c70",
   "metadata": {},
   "outputs": [],
   "source": [
    "license = 'MIT'"
   ]
  },
  {
   "cell_type": "code",
   "execution_count": null,
   "id": "ae4c942e-c778-41b6-ae35-2316251100f2",
   "metadata": {},
   "outputs": [],
   "source": [
    "ro.set_license(license_id=license) "
   ]
  },
  {
   "cell_type": "code",
   "execution_count": null,
   "id": "91f0a14c-ebc6-42b3-876f-1076750351a2",
   "metadata": {},
   "outputs": [],
   "source": [
    "myfolders = ro.list_folders()\n",
    "myfolders"
   ]
  },
  {
   "cell_type": "markdown",
   "id": "d1e42155-8e8d-4037-9a98-af453b48cd0a",
   "metadata": {},
   "source": [
    "## Add overview RELIANCE "
   ]
  },
  {
   "cell_type": "code",
   "execution_count": null,
   "id": "4b98fdf2-77d1-4bf9-9456-41ff8b26c0d6",
   "metadata": {},
   "outputs": [],
   "source": [
    "res_file_path = 'Astrid/chlorophyll_model_vs_observations.png' \n",
    "\n",
    "res_res_type = \"Sketch\"\n",
    "res_title = \"CMIP6 versus MODIS Chlorophyll Concentration at two locations (Bering strait and Fram strait)\"\n",
    "res_description = \"\"\"\n",
    "Time evolution of chlorophyll concentrations in Bering Strait and Fram Strait. Blue dots mark satellite measured values (MODIS-Aqua). \n",
    "The trends in yearly mean and yearly maximum values for satellite data with significance level <= 0.05 are also plotted, as well as the GFDL-ESM4 \n",
    "and MPI-ESM1-2-LR chlorophyll values for the same periods.\n",
    "\"\"\"\n",
    "res_folder =  'output'\n",
    "\n",
    "ro.add_internal_resource(res_type=res_res_type, file_path=res_file_path, title=res_title, description=res_description, folder=res_folder)"
   ]
  },
  {
   "cell_type": "code",
   "execution_count": null,
   "id": "93ecfb2b-aac2-4276-9ee5-adc1ebcbc4f5",
   "metadata": {},
   "outputs": [],
   "source": [
    "res_file_path = 'Astrid/escience2021-group2-astrid.ipynb'\n",
    "\n",
    "res_res_type = \"Jupyter Notebook\"\n",
    "res_title = \"Jupyter Notebook for comparing model and observations of Chlorophyll concentrations over the Artic Ocean.\"\n",
    "res_description = \"\"\"\n",
    "This jupyter notebook support the report written for the FORCeS eScience course 'Tools in Climate Science: Linking Observations with Modelling' \n",
    "\"\"\"\n",
    "res_folder =  'tool'\n",
    "\n",
    "ro.add_internal_resource(res_type=res_res_type, file_path=res_file_path, title=res_title, description=res_description, folder=res_folder)"
   ]
  },
  {
   "cell_type": "code",
   "execution_count": null,
   "id": "32ae79f3-3233-4732-ab57-771f2a64e945",
   "metadata": {},
   "outputs": [],
   "source": [
    "res_file_path = 'Astrid/functions.py'\n",
    "\n",
    "res_res_type = \"Script\"\n",
    "res_title = \"Python script containing all the functions used in the Jupyter Notebook\"\n",
    "res_description = \"\"\"\n",
    "This is a Python script where all the functions used in the Jupyter Notebook were gathered.\n",
    "This Python script needs to be downloaded with the Jupyter Notebook and must be in the same folder than the Jupyter Notebook itself. \n",
    "\"\"\"\n",
    "res_folder =  'tool'\n",
    "\n",
    "ro.add_internal_resource(res_type=res_res_type, file_path=res_file_path, title=res_title, description=res_description, folder=res_folder)"
   ]
  },
  {
   "cell_type": "code",
   "execution_count": null,
   "id": "059c08f2-6e74-4c1e-b35d-21aebc96675a",
   "metadata": {},
   "outputs": [],
   "source": [
    "res_file_path = 'Astrid/escience2021-group2-astrid.pdf'\n",
    "\n",
    "res_res_type = \"Conclusion\"\n",
    "res_title = \"Final Report on 'A song of Ice and Phytoplankton'\"\n",
    "res_description = \"\"\"\n",
    "This is the final report written for the FORCeS eScience course 'Tools in Climate Science: Linking Observations with Modelling'.\n",
    "It has been built from the Jupyter Notebook and also contains the scientific discussion of the results as well as references.\n",
    "\"\"\"\n",
    "res_folder =  'biblio'\n",
    "\n",
    "ro.add_internal_resource(res_type=res_res_type, file_path=res_file_path, title=res_title, description=res_description, folder=res_folder)"
   ]
  },
  {
   "cell_type": "code",
   "execution_count": 11,
   "id": "c9ab979c-d75b-46f9-92dd-846f3459e3de",
   "metadata": {},
   "outputs": [
    {
     "name": "stdout",
     "output_type": "stream",
     "text": [
      "Resource was successfully created with id = af849622-29a4-4422-9670-b0598749740a\n"
     ]
    },
    {
     "data": {
      "text/plain": [
       "Resource(identifier=af849622-29a4-4422-9670-b0598749740a, post_request=False)"
      ]
     },
     "execution_count": 11,
     "metadata": {},
     "output_type": "execute_result"
    }
   ],
   "source": [
    "res_file_path = 'Astrid/map.geojson'\n",
    "\n",
    "res_res_type = \"File\"\n",
    "res_title = \"GeoJSON for Bering and Fram Straits\"\n",
    "res_description = \"\"\"\n",
    "This GeoJSON file contains two areas e.g. Bering Strait and Fram Strait. Model and observations of Chlorophyll concentrations are compared over these two areas.\n",
    "\"\"\"\n",
    "res_folder =  'input'\n",
    "\n",
    "ro.add_internal_resource(res_type=res_res_type, file_path=res_file_path, title=res_title, description=res_description, folder=res_folder)"
   ]
  },
  {
   "cell_type": "code",
   "execution_count": 9,
   "id": "ca4586a5-7fbf-4a58-a9c9-aece4fc0771b",
   "metadata": {
    "collapsed": true,
    "jupyter": {
     "outputs_hidden": true
    },
    "tags": []
   },
   "outputs": [
    {
     "data": {
      "text/plain": [
       "[{'identifier': '0e6d70cc-2eee-4ac5-b6d3-1d0ffbdf293b',\n",
       "  'shared_link': 'https://w3id.org/ro-id/183f2862-7509-4343-8ec9-74775b642c8d/annotations/0e6d70cc-2eee-4ac5-b6d3-1d0ffbdf293b',\n",
       "  'name': 'annotations/0e6d70cc-2eee-4ac5-b6d3-1d0ffbdf293b',\n",
       "  'filename': '.ro/annotations/0e6d70cc-2eee-4ac5-b6d3-1d0ffbdf293b.ttl',\n",
       "  'relation': False,\n",
       "  'read_only': False,\n",
       "  'target': '183f2862-7509-4343-8ec9-74775b642c8d',\n",
       "  'ro': '183f2862-7509-4343-8ec9-74775b642c8d',\n",
       "  'resources': [],\n",
       "  'created': '2022-03-26T13:36:30.558681+0000',\n",
       "  'creator': 'nordicesmhub@gmail.com',\n",
       "  'modificator': None,\n",
       "  'modified': '2022-03-26T13:36:30.558601+0000',\n",
       "  'authors_credits': ['nordicesmhub@gmail.com'],\n",
       "  'contributors_credits': [],\n",
       "  'api_link': 'https://api.rohub.org/api/annotations/0e6d70cc-2eee-4ac5-b6d3-1d0ffbdf293b/'},\n",
       " {'identifier': '12fffb5a-5af9-4b51-8025-f930299c39a3',\n",
       "  'shared_link': 'https://w3id.org/ro-id/183f2862-7509-4343-8ec9-74775b642c8d/annotations/12fffb5a-5af9-4b51-8025-f930299c39a3',\n",
       "  'name': 'annotations/12fffb5a-5af9-4b51-8025-f930299c39a3',\n",
       "  'filename': '.ro/annotations/12fffb5a-5af9-4b51-8025-f930299c39a3.ttl',\n",
       "  'relation': False,\n",
       "  'read_only': False,\n",
       "  'target': '183f2862-7509-4343-8ec9-74775b642c8d',\n",
       "  'ro': '183f2862-7509-4343-8ec9-74775b642c8d',\n",
       "  'resources': [],\n",
       "  'created': '2022-03-26T13:36:31.528052+0000',\n",
       "  'creator': 'nordicesmhub@gmail.com',\n",
       "  'modificator': None,\n",
       "  'modified': '2022-03-26T13:36:31.527605+0000',\n",
       "  'authors_credits': ['nordicesmhub@gmail.com'],\n",
       "  'contributors_credits': [],\n",
       "  'api_link': 'https://api.rohub.org/api/annotations/12fffb5a-5af9-4b51-8025-f930299c39a3/'}]"
      ]
     },
     "execution_count": 9,
     "metadata": {},
     "output_type": "execute_result"
    }
   ],
   "source": [
    "ro.add_geolocation(body_specification_json='Astrid/map.geojson')"
   ]
  },
  {
   "cell_type": "code",
   "execution_count": 8,
   "id": "0607ed94-0686-43eb-a41b-61e3b4798dc6",
   "metadata": {},
   "outputs": [
    {
     "name": "stdout",
     "output_type": "stream",
     "text": [
      "Resource was successfully created with id = 77200596-d490-4ea5-b3e4-13adc1631f1e\n"
     ]
    },
    {
     "data": {
      "text/plain": [
       "Resource(identifier=77200596-d490-4ea5-b3e4-13adc1631f1e, post_request=False)"
      ]
     },
     "execution_count": 8,
     "metadata": {},
     "output_type": "execute_result"
    }
   ],
   "source": [
    "res_file_path = 'RO-Astrid.ipynb'\n",
    "\n",
    "res_res_type = \"Jupyter Notebook\"\n",
    "res_title = \"Jupyter Notebook for creating RO and aggregating all the resources used/generated\"\n",
    "res_description = \"\"\"\n",
    "This Jupyter notebook has been used to generate the Research Object and also to update it e.g. add all the internal and external resources used and generated during the eScience course.\n",
    "\"\"\"\n",
    "res_folder =  'tool'\n",
    "\n",
    "ro.add_internal_resource(res_type=res_res_type, file_path=res_file_path, title=res_title, description=res_description, folder=res_folder)"
   ]
  },
  {
   "cell_type": "code",
   "execution_count": null,
   "id": "82899b23-0f10-49c8-97a5-0d4549c3bf10",
   "metadata": {},
   "outputs": [],
   "source": []
  }
 ],
 "metadata": {
  "kernelspec": {
   "display_name": "Python 3",
   "language": "python",
   "name": "python3"
  },
  "language_info": {
   "codemirror_mode": {
    "name": "ipython",
    "version": 3
   },
   "file_extension": ".py",
   "mimetype": "text/x-python",
   "name": "python",
   "nbconvert_exporter": "python",
   "pygments_lexer": "ipython3",
   "version": "3.8.8"
  }
 },
 "nbformat": 4,
 "nbformat_minor": 5
}
