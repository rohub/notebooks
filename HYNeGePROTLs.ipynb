{
 "cells": [
  {
   "cell_type": "markdown",
   "id": "b5de9d01",
   "metadata": {},
   "source": [
    "## Install and import the library\n",
    "The fastest and easiest way to install the rohub library is with a pip distribution system."
   ]
  },
  {
   "cell_type": "code",
   "execution_count": null,
   "id": "ba6a3d60",
   "metadata": {},
   "outputs": [],
   "source": [
    "pip install rohub -U"
   ]
  },
  {
   "cell_type": "markdown",
   "id": "e1fb8e08",
   "metadata": {},
   "source": [
    "First, load the rohub package"
   ]
  },
  {
   "cell_type": "code",
   "execution_count": null,
   "id": "5135f62c",
   "metadata": {},
   "outputs": [],
   "source": [
    "import rohub"
   ]
  },
  {
   "cell_type": "markdown",
   "id": "ffdcb083",
   "metadata": {},
   "source": [
    "## Authentication\n",
    "Then, you need to authenticate yourself. If you already have an account in the rohub portal, you can use your credentials to directly log in using the library. In case you don't, you can sign up here: https://login.rohub.org/"
   ]
  },
  {
   "cell_type": "code",
   "execution_count": null,
   "id": "1fd6140b",
   "metadata": {},
   "outputs": [],
   "source": [
    "rohub.login(username = 'example@mail.com', password = '1234')"
   ]
  },
  {
   "cell_type": "markdown",
   "id": "ee7c2682",
   "metadata": {},
   "source": [
    "It is not required, but we would highly recommend storing your credentials in the text file or as an environment variable. Therefore, we can avoid leaving any sensitive information in the notebook."
   ]
  },
  {
   "cell_type": "code",
   "execution_count": 2,
   "id": "81736bc1",
   "metadata": {},
   "outputs": [
    {
     "name": "stdout",
     "output_type": "stream",
     "text": [
      "Logged successfully as liza.poltavchenko00@gmail.com.\n"
     ]
    }
   ],
   "source": [
    "# loading credentials from external file\n",
    "user_email = open(\"user_email.txt\").read()\n",
    "user_pwd = open(\"user_pwd.txt\").read()\n",
    "rohub.login(username = user_email, password = user_pwd)"
   ]
  },
  {
   "cell_type": "markdown",
   "id": "bd0d20f8",
   "metadata": {},
   "source": [
    "After receiving confirmation about successful login, you can start using the library. \n",
    "The essential structure for the rohub environment is a research object. Here is how one can be created using the library interface."
   ]
  },
  {
   "cell_type": "markdown",
   "id": "b630dd44",
   "metadata": {},
   "source": [
    "## Create a new Research Object\n",
    "A function `rohub.ros_create` requires two arguments: a title and a list of research areas."
   ]
  },
  {
   "cell_type": "markdown",
   "id": "db92cede",
   "metadata": {},
   "source": [
    "### Example 1\n",
    "Here is an example of the Research Object that we named *The influence of eating habits on sleep* "
   ]
  },
  {
   "cell_type": "code",
   "execution_count": 3,
   "id": "8b4d8c3b",
   "metadata": {},
   "outputs": [],
   "source": [
    "ro_title = \"The influence of eating habits on sleep\""
   ]
  },
  {
   "cell_type": "markdown",
   "id": "2f640589",
   "metadata": {},
   "source": [
    "This study is related to **Nutrition** and **Medicine**. Therefore, we assign a variable that contains those for further re-usability."
   ]
  },
  {
   "cell_type": "code",
   "execution_count": 4,
   "id": "023309e1",
   "metadata": {},
   "outputs": [],
   "source": [
    "ro_research_areas = ['Nutrition', 'Medicine']"
   ]
  },
  {
   "cell_type": "code",
   "execution_count": null,
   "id": "7d46ea52",
   "metadata": {},
   "outputs": [],
   "source": [
    "rohub.ros_create(title = ro_title, research_areas = ro_research_areas)"
   ]
  },
  {
   "cell_type": "markdown",
   "id": "ff38d56f",
   "metadata": {},
   "source": [
    "The function was executed with errors. Therefore, the research object was not created! The reason for that can be found in inspecting error details. "
   ]
  },
  {
   "cell_type": "markdown",
   "id": "56f24e1a",
   "metadata": {},
   "source": [
    "![exception](./screens/ros_create_exception.png)  "
   ]
  },
  {
   "cell_type": "markdown",
   "id": "962cfc75",
   "metadata": {},
   "source": [
    "Now, we can display an array of valid values for the research areas we would like to associate with the ro."
   ]
  },
  {
   "cell_type": "code",
   "execution_count": 6,
   "id": "8540676e",
   "metadata": {},
   "outputs": [
    {
     "data": {
      "text/plain": [
       "['Acoustics',\n",
       " 'Aerodynamics',\n",
       " 'Agronomy',\n",
       " 'Analytical chemistry',\n",
       " 'Applied sciences']"
      ]
     },
     "execution_count": 6,
     "metadata": {},
     "output_type": "execute_result"
    }
   ],
   "source": [
    "list_valid_areas = rohub.list_valid_research_areas()\n",
    "# slicing the list just for display purposes\n",
    "list_valid_areas[:5] "
   ]
  },
  {
   "cell_type": "markdown",
   "id": "f49aaffd",
   "metadata": {},
   "source": [
    "One could write a simple function to check multiple values at once before making a call."
   ]
  },
  {
   "cell_type": "code",
   "execution_count": 7,
   "id": "d99a3244",
   "metadata": {},
   "outputs": [
    {
     "data": {
      "text/plain": [
       "[]"
      ]
     },
     "execution_count": 7,
     "metadata": {},
     "output_type": "execute_result"
    }
   ],
   "source": [
    "def check_research_areas(my_research_areas):\n",
    "    list_valid_areas = rohub.list_valid_research_areas()\n",
    "    list_valid_ra = []\n",
    "    for r_area in my_research_areas:\n",
    "        if r_area in list_valid_areas:\n",
    "            list_valid_ra.append(r_area)\n",
    "    return list_valid_ra\n",
    "\n",
    "check_research_areas(['Nutrition', 'Medicine'])"
   ]
  },
  {
   "cell_type": "markdown",
   "id": "e105d199",
   "metadata": {},
   "source": [
    "As expected, the list is empty. We have not passed a single research area that is accepted by the service. Let's try again with slightly modified input."
   ]
  },
  {
   "cell_type": "markdown",
   "id": "bc2b16cf",
   "metadata": {},
   "source": [
    "### Example 2\n",
    "Medical science is an accepted value. Therefore, changing **Medicine** to **Medical science** should be sufficient. Now we can re-run the function."
   ]
  },
  {
   "cell_type": "code",
   "execution_count": 8,
   "id": "21340500",
   "metadata": {},
   "outputs": [
    {
     "name": "stdout",
     "output_type": "stream",
     "text": [
      "Research Object was successfully created with id = f11dbb43-278a-4332-876e-f454d9fe71d6\n"
     ]
    },
    {
     "data": {
      "text/plain": [
       "ResearchObject(identifier=f11dbb43-278a-4332-876e-f454d9fe71d6, post_request=False)"
      ]
     },
     "execution_count": 8,
     "metadata": {},
     "output_type": "execute_result"
    }
   ],
   "source": [
    "ro_research_areas = ['Nutrition', 'Medical science']\n",
    "rohub.ros_create(title = ro_title, research_areas = ro_research_areas)"
   ]
  },
  {
   "cell_type": "markdown",
   "id": "f4cfadd4",
   "metadata": {},
   "source": [
    "![ro_1](./screens/only_one_area.png)"
   ]
  },
  {
   "cell_type": "markdown",
   "id": "7c2cd8af",
   "metadata": {},
   "source": [
    "### Example 3\n",
    "As presented in the image above the research object was successfully created. It is worth noticing that only **Medical science** is a valid research area, therefore **Nutrition** was discarded by the library. Below you can find another example of that behavior."
   ]
  },
  {
   "cell_type": "code",
   "execution_count": 9,
   "id": "dc86ddea",
   "metadata": {},
   "outputs": [
    {
     "name": "stdout",
     "output_type": "stream",
     "text": [
      "Research Object was successfully created with id = 3f1d6ad7-8c16-4d7c-8aa4-060672957117\n"
     ]
    },
    {
     "data": {
      "text/plain": [
       "ResearchObject(identifier=3f1d6ad7-8c16-4d7c-8aa4-060672957117, post_request=False)"
      ]
     },
     "execution_count": 9,
     "metadata": {},
     "output_type": "execute_result"
    }
   ],
   "source": [
    "ro_title = \"TestRO\"\n",
    "ro_research_areas = ['Acoustics', 'Aerodynamics', 'Agronomy', 'invalid_r_area_1', 'invalid_r_area_2']\n",
    "rohub.ros_create(title = ro_title, research_areas = ro_research_areas)"
   ]
  },
  {
   "cell_type": "markdown",
   "id": "96725ae4",
   "metadata": {},
   "source": [
    "![ro_2](./screens/test_ro.png)"
   ]
  },
  {
   "cell_type": "markdown",
   "id": "bd1b9d8c",
   "metadata": {},
   "source": [
    "### Example 4\n",
    "Let's create one more and assign it to a variable for further re-usability. It is crucial to understand that the ros_create function returns an accessible python object, **and at the same time, the object you get is being created in the service.**"
   ]
  },
  {
   "cell_type": "code",
   "execution_count": 10,
   "id": "3737a1ba",
   "metadata": {},
   "outputs": [
    {
     "name": "stdout",
     "output_type": "stream",
     "text": [
      "Research Object was successfully created with id = 183b2253-3c95-432a-9308-98348ebba2b7\n"
     ]
    }
   ],
   "source": [
    "ro_title = \"TestRO_2\"\n",
    "ro_research_areas = ['Biology', 'Zoology']\n",
    "ro = rohub.ros_create(title = ro_title, research_areas = ro_research_areas)"
   ]
  },
  {
   "cell_type": "markdown",
   "id": "3e0cd03d",
   "metadata": {},
   "source": [
    "The `rohub.ros_create()` function creates a new Research Object which can be viewed in the **My ROs** section at the top menu bar of the portal.\n",
    "![my_ro](./screens/my_ros.png)"
   ]
  },
  {
   "cell_type": "markdown",
   "id": "5d4e91dd",
   "metadata": {},
   "source": [
    "More details can be viewed by clicking the **Read more** button.\n",
    "![my_ro_info](./screens/ro_info.png)"
   ]
  },
  {
   "cell_type": "markdown",
   "id": "9438bc5f",
   "metadata": {},
   "source": [
    "This function also instantiates a Python object that can be reused and was assigned to the `ro` variable. \n",
    "Properties of the research object can be reached now by simply accessing the object's attribute."
   ]
  },
  {
   "cell_type": "code",
   "execution_count": 11,
   "id": "fd247d31",
   "metadata": {},
   "outputs": [
    {
     "data": {
      "text/plain": [
       "'TestRO_2'"
      ]
     },
     "execution_count": 11,
     "metadata": {},
     "output_type": "execute_result"
    }
   ],
   "source": [
    "ro.title"
   ]
  },
  {
   "cell_type": "code",
   "execution_count": 12,
   "id": "8242f173",
   "metadata": {},
   "outputs": [
    {
     "data": {
      "text/plain": [
       "['Biology', 'Zoology']"
      ]
     },
     "execution_count": 12,
     "metadata": {},
     "output_type": "execute_result"
    }
   ],
   "source": [
    "ro.research_areas"
   ]
  },
  {
   "cell_type": "markdown",
   "id": "4642adea",
   "metadata": {},
   "source": [
    "## Template usage for Research Object creation\n",
    "On top of the two required parameters, multiple optional parameters can help adjust the creation of research objects to one's needs. For more details, you can refer to [the documentation](https://reliance-eosc.github.io/ROHUB-API_documentation/html/rohub.html)."
   ]
  },
  {
   "cell_type": "markdown",
   "id": "b7e3052b",
   "metadata": {},
   "source": [
    "A very useful one is a `use_template` flag. This parameter is set to False by default and does not affect the creation of the object. However, if the value of use_template is True, the created object will automatically receive the corresponding template."
   ]
  },
  {
   "cell_type": "code",
   "execution_count": 13,
   "id": "136dbb51",
   "metadata": {},
   "outputs": [
    {
     "name": "stdout",
     "output_type": "stream",
     "text": [
      "Research Object was successfully created with id = 33c5b983-c16d-41fa-b957-740cc84f0f1f\n"
     ]
    }
   ],
   "source": [
    "ro = rohub.ros_create(title = \"Shark research\", research_areas = [\"Biology\", \"Zoology\"], use_template = False)"
   ]
  },
  {
   "cell_type": "code",
   "execution_count": 14,
   "id": "27b3aae8",
   "metadata": {},
   "outputs": [
    {
     "name": "stdout",
     "output_type": "stream",
     "text": [
      "None\n"
     ]
    }
   ],
   "source": [
    "print(ro.template)"
   ]
  },
  {
   "cell_type": "code",
   "execution_count": 15,
   "id": "73204cdd",
   "metadata": {},
   "outputs": [
    {
     "ename": "SystemExit",
     "evalue": "Aborting... ros type is mandatory when use_template=True. Please specify ro_type!",
     "output_type": "error",
     "traceback": [
      "An exception has occurred, use %tb to see the full traceback.\n",
      "\u001b[1;31mSystemExit\u001b[0m\u001b[1;31m:\u001b[0m Aborting... ros type is mandatory when use_template=True. Please specify ro_type!\n"
     ]
    }
   ],
   "source": [
    "ro = rohub.ros_create(title = \"Shark research\", research_areas = [\"Biology\", \"Zoology\"], use_template = True)"
   ]
  },
  {
   "cell_type": "markdown",
   "id": "f3111246",
   "metadata": {},
   "source": [
    "As it turns out, specifying a `use_template` flag is not sufficient, since this parameter is dependent on the `ros_type`. "
   ]
  },
  {
   "cell_type": "markdown",
   "id": "22314688",
   "metadata": {},
   "source": [
    "Similar to `research_areas` the `ros_type` parameter has a limited set of valid values. To view all possible options one can use the `rohub.list_valid_ros_types()` function."
   ]
  },
  {
   "cell_type": "code",
   "execution_count": 16,
   "id": "1e6c8a93",
   "metadata": {},
   "outputs": [
    {
     "data": {
      "text/plain": [
       "['Basic Research Object',\n",
       " 'Bibliography-centric Research Object',\n",
       " 'Data-centric Research Object',\n",
       " 'Executable Research Object',\n",
       " 'Process-centric Research Object',\n",
       " 'Service-centric Research Object',\n",
       " 'Software-centric Research Object',\n",
       " 'Workflow-centric Research Object']"
      ]
     },
     "execution_count": 16,
     "metadata": {},
     "output_type": "execute_result"
    }
   ],
   "source": [
    "rohub.list_valid_ros_types()"
   ]
  },
  {
   "cell_type": "code",
   "execution_count": 17,
   "id": "4c77d4aa",
   "metadata": {},
   "outputs": [
    {
     "name": "stdout",
     "output_type": "stream",
     "text": [
      "Unfortunately there is no template associated with ros type that was chosen. The research object will be created without any template!\n",
      "Research Object was successfully created with id = 94b3cb95-9434-4028-be78-c383e0a27a74\n"
     ]
    }
   ],
   "source": [
    "ro = rohub.ros_create(title = \"Shark research\", research_areas = [\"Biology\", \"Zoology\"], ros_type = 'Process-centric Research Object', use_template = True)"
   ]
  },
  {
   "cell_type": "code",
   "execution_count": 18,
   "id": "51cea0e6",
   "metadata": {},
   "outputs": [
    {
     "data": {
      "text/plain": [
       "'Process-centric Research Object'"
      ]
     },
     "execution_count": 18,
     "metadata": {},
     "output_type": "execute_result"
    }
   ],
   "source": [
    "ro.ros_type"
   ]
  },
  {
   "cell_type": "code",
   "execution_count": 19,
   "id": "6e988ca5",
   "metadata": {},
   "outputs": [
    {
     "name": "stdout",
     "output_type": "stream",
     "text": [
      "None\n"
     ]
    }
   ],
   "source": [
    "print(ro.template)"
   ]
  },
  {
   "cell_type": "markdown",
   "id": "e030ec44",
   "metadata": {},
   "source": [
    "As we can see, the object was successfully created, but there is information that the library was unable to get a template for it. Unfortunately, not all research object types have an associated template to them. One can find it handy to check this relation before deciding how to initialize the research object. This can be done easily by executing `rohub.show_valid_type_matching_for_ros()`"
   ]
  },
  {
   "cell_type": "code",
   "execution_count": 20,
   "id": "53cce667",
   "metadata": {},
   "outputs": [
    {
     "data": {
      "text/plain": [
       "{'Basic Research Object': None,\n",
       " 'Bibliography-centric Research Object': ['Bibliography Centric Research Object folders structure'],\n",
       " 'Data-centric Research Object': ['Data Centric Research Object folders structure'],\n",
       " 'Executable Research Object': ['Executable Research Object folders structure'],\n",
       " 'Process-centric Research Object': None,\n",
       " 'Service-centric Research Object': None,\n",
       " 'Software-centric Research Object': None,\n",
       " 'Workflow-centric Research Object': ['Workflow Centric Research Object folders structure']}"
      ]
     },
     "execution_count": 20,
     "metadata": {},
     "output_type": "execute_result"
    }
   ],
   "source": [
    "rohub.show_valid_type_matching_for_ros()"
   ]
  },
  {
   "cell_type": "markdown",
   "id": "c7554628",
   "metadata": {},
   "source": [
    "The **Process-centric Research Object** doesn't have any associated templates! Let's try a different one to illustrate what it would look like to create a research object with the proper template."
   ]
  },
  {
   "cell_type": "code",
   "execution_count": 21,
   "id": "7eb8ff84",
   "metadata": {
    "scrolled": true
   },
   "outputs": [
    {
     "name": "stdout",
     "output_type": "stream",
     "text": [
      "Research Object was successfully created with id = 43833c23-2242-48ef-8f0a-d925c0e1d3e9\n"
     ]
    }
   ],
   "source": [
    "ro = rohub.ros_create(title = \"Shark research\", research_areas = [\"Biology\", \"Zoology\"], ros_type = 'Bibliography-centric Research Object', use_template = True)"
   ]
  },
  {
   "cell_type": "code",
   "execution_count": 22,
   "id": "ec372cf2",
   "metadata": {},
   "outputs": [
    {
     "data": {
      "text/plain": [
       "'Bibliography-centric Research Object'"
      ]
     },
     "execution_count": 22,
     "metadata": {},
     "output_type": "execute_result"
    }
   ],
   "source": [
    "ro.ros_type"
   ]
  },
  {
   "cell_type": "code",
   "execution_count": 23,
   "id": "82d710d1",
   "metadata": {},
   "outputs": [
    {
     "data": {
      "text/plain": [
       "'Bibliography Centric Research Object folders structure'"
      ]
     },
     "execution_count": 23,
     "metadata": {},
     "output_type": "execute_result"
    }
   ],
   "source": [
    "ro.template"
   ]
  },
  {
   "cell_type": "markdown",
   "id": "18172abf",
   "metadata": {},
   "source": [
    "## Load an existing Research Object\n",
    "\n",
    "Before one can work with an existing research object, it has to be loaded using the `rohub.ros_load()` function, which expects exactly one argument - the research object's identifier. This will return a reusable python object, exactly as it was with creation."
   ]
  },
  {
   "cell_type": "markdown",
   "id": "5e96cfc7",
   "metadata": {},
   "source": [
    "### Example 1 - loading our own ROS\n",
    "Let's take and load the one which we already created in this tutorial. Its title is *The influence of eating habits on sleep*."
   ]
  },
  {
   "cell_type": "markdown",
   "id": "066a1a8f",
   "metadata": {},
   "source": [
    "We could look up the id of this research object, but that is not always the case, so let's pretend we only remember the title, and we know that it was our research object. There are a couple of ways of getting an identifier of the research object we are looking for. \n",
    "\n",
    "Let's examine one of them using `list_my_ros()` function."
   ]
  },
  {
   "cell_type": "code",
   "execution_count": 25,
   "id": "dc833513",
   "metadata": {},
   "outputs": [
    {
     "data": {
      "text/html": [
       "<div>\n",
       "<style scoped>\n",
       "    .dataframe tbody tr th:only-of-type {\n",
       "        vertical-align: middle;\n",
       "    }\n",
       "\n",
       "    .dataframe tbody tr th {\n",
       "        vertical-align: top;\n",
       "    }\n",
       "\n",
       "    .dataframe thead th {\n",
       "        text-align: right;\n",
       "    }\n",
       "</style>\n",
       "<table border=\"1\" class=\"dataframe\">\n",
       "  <thead>\n",
       "    <tr style=\"text-align: right;\">\n",
       "      <th></th>\n",
       "      <th>identifier</th>\n",
       "      <th>title</th>\n",
       "      <th>description</th>\n",
       "      <th>type</th>\n",
       "      <th>research_areas</th>\n",
       "      <th>status</th>\n",
       "      <th>created_on</th>\n",
       "      <th>created_by</th>\n",
       "      <th>modified_on</th>\n",
       "      <th>access_mode</th>\n",
       "      <th>owner</th>\n",
       "      <th>creation_mode</th>\n",
       "      <th>shared_link</th>\n",
       "    </tr>\n",
       "  </thead>\n",
       "  <tbody>\n",
       "    <tr>\n",
       "      <th>0</th>\n",
       "      <td>43833c23-2242-48ef-8f0a-d925c0e1d3e9</td>\n",
       "      <td>Shark research</td>\n",
       "      <td>None</td>\n",
       "      <td>Bibliography-centric Research Object</td>\n",
       "      <td>[Biology, Zoology]</td>\n",
       "      <td>LIVE</td>\n",
       "      <td>2022-02-27T13:32:54.305241+00:00</td>\n",
       "      <td>liza.poltavchenko00@gmail.com</td>\n",
       "      <td>2022-02-27T13:32:54.574907+00:00</td>\n",
       "      <td>PUBLIC</td>\n",
       "      <td>liza.poltavchenko00@gmail.com</td>\n",
       "      <td>MANUAL</td>\n",
       "      <td>https://w3id.org/ro-id-dev/43833c23-2242-48ef-...</td>\n",
       "    </tr>\n",
       "    <tr>\n",
       "      <th>1</th>\n",
       "      <td>94b3cb95-9434-4028-be78-c383e0a27a74</td>\n",
       "      <td>Shark research</td>\n",
       "      <td>None</td>\n",
       "      <td>Process-centric Research Object</td>\n",
       "      <td>[Biology, Zoology]</td>\n",
       "      <td>LIVE</td>\n",
       "      <td>2022-02-27T13:32:42.545444+00:00</td>\n",
       "      <td>liza.poltavchenko00@gmail.com</td>\n",
       "      <td>2022-02-27T13:32:42.818734+00:00</td>\n",
       "      <td>PUBLIC</td>\n",
       "      <td>liza.poltavchenko00@gmail.com</td>\n",
       "      <td>MANUAL</td>\n",
       "      <td>https://w3id.org/ro-id-dev/94b3cb95-9434-4028-...</td>\n",
       "    </tr>\n",
       "    <tr>\n",
       "      <th>2</th>\n",
       "      <td>33c5b983-c16d-41fa-b957-740cc84f0f1f</td>\n",
       "      <td>Shark research</td>\n",
       "      <td>None</td>\n",
       "      <td>Basic Research Object</td>\n",
       "      <td>[Biology, Zoology]</td>\n",
       "      <td>LIVE</td>\n",
       "      <td>2022-02-27T13:32:29.198896+00:00</td>\n",
       "      <td>liza.poltavchenko00@gmail.com</td>\n",
       "      <td>2022-02-27T13:32:29.480223+00:00</td>\n",
       "      <td>PUBLIC</td>\n",
       "      <td>liza.poltavchenko00@gmail.com</td>\n",
       "      <td>MANUAL</td>\n",
       "      <td>https://w3id.org/ro-id-dev/33c5b983-c16d-41fa-...</td>\n",
       "    </tr>\n",
       "    <tr>\n",
       "      <th>3</th>\n",
       "      <td>183b2253-3c95-432a-9308-98348ebba2b7</td>\n",
       "      <td>TestRO_2</td>\n",
       "      <td>None</td>\n",
       "      <td>Basic Research Object</td>\n",
       "      <td>[Biology, Zoology]</td>\n",
       "      <td>LIVE</td>\n",
       "      <td>2022-02-27T13:27:48.501184+00:00</td>\n",
       "      <td>liza.poltavchenko00@gmail.com</td>\n",
       "      <td>2022-02-27T13:27:48.765675+00:00</td>\n",
       "      <td>PUBLIC</td>\n",
       "      <td>liza.poltavchenko00@gmail.com</td>\n",
       "      <td>MANUAL</td>\n",
       "      <td>https://w3id.org/ro-id-dev/183b2253-3c95-432a-...</td>\n",
       "    </tr>\n",
       "    <tr>\n",
       "      <th>4</th>\n",
       "      <td>3f1d6ad7-8c16-4d7c-8aa4-060672957117</td>\n",
       "      <td>TestRO</td>\n",
       "      <td>None</td>\n",
       "      <td>Basic Research Object</td>\n",
       "      <td>[Acoustics, Aerodynamics, Agronomy]</td>\n",
       "      <td>LIVE</td>\n",
       "      <td>2022-02-27T13:22:23.670270+00:00</td>\n",
       "      <td>liza.poltavchenko00@gmail.com</td>\n",
       "      <td>2022-02-27T13:22:23.976822+00:00</td>\n",
       "      <td>PUBLIC</td>\n",
       "      <td>liza.poltavchenko00@gmail.com</td>\n",
       "      <td>MANUAL</td>\n",
       "      <td>https://w3id.org/ro-id-dev/3f1d6ad7-8c16-4d7c-...</td>\n",
       "    </tr>\n",
       "    <tr>\n",
       "      <th>5</th>\n",
       "      <td>f11dbb43-278a-4332-876e-f454d9fe71d6</td>\n",
       "      <td>The influence of eating habits on sleep</td>\n",
       "      <td>None</td>\n",
       "      <td>Basic Research Object</td>\n",
       "      <td>[Medical science]</td>\n",
       "      <td>LIVE</td>\n",
       "      <td>2022-02-27T13:16:00.158198+00:00</td>\n",
       "      <td>liza.poltavchenko00@gmail.com</td>\n",
       "      <td>2022-02-27T13:16:00.410783+00:00</td>\n",
       "      <td>PUBLIC</td>\n",
       "      <td>liza.poltavchenko00@gmail.com</td>\n",
       "      <td>MANUAL</td>\n",
       "      <td>https://w3id.org/ro-id-dev/f11dbb43-278a-4332-...</td>\n",
       "    </tr>\n",
       "  </tbody>\n",
       "</table>\n",
       "</div>"
      ],
      "text/plain": [
       "                             identifier  \\\n",
       "0  43833c23-2242-48ef-8f0a-d925c0e1d3e9   \n",
       "1  94b3cb95-9434-4028-be78-c383e0a27a74   \n",
       "2  33c5b983-c16d-41fa-b957-740cc84f0f1f   \n",
       "3  183b2253-3c95-432a-9308-98348ebba2b7   \n",
       "4  3f1d6ad7-8c16-4d7c-8aa4-060672957117   \n",
       "5  f11dbb43-278a-4332-876e-f454d9fe71d6   \n",
       "\n",
       "                                     title description  \\\n",
       "0                           Shark research        None   \n",
       "1                           Shark research        None   \n",
       "2                           Shark research        None   \n",
       "3                                 TestRO_2        None   \n",
       "4                                   TestRO        None   \n",
       "5  The influence of eating habits on sleep        None   \n",
       "\n",
       "                                   type                       research_areas  \\\n",
       "0  Bibliography-centric Research Object                   [Biology, Zoology]   \n",
       "1       Process-centric Research Object                   [Biology, Zoology]   \n",
       "2                 Basic Research Object                   [Biology, Zoology]   \n",
       "3                 Basic Research Object                   [Biology, Zoology]   \n",
       "4                 Basic Research Object  [Acoustics, Aerodynamics, Agronomy]   \n",
       "5                 Basic Research Object                    [Medical science]   \n",
       "\n",
       "  status                        created_on                     created_by  \\\n",
       "0   LIVE  2022-02-27T13:32:54.305241+00:00  liza.poltavchenko00@gmail.com   \n",
       "1   LIVE  2022-02-27T13:32:42.545444+00:00  liza.poltavchenko00@gmail.com   \n",
       "2   LIVE  2022-02-27T13:32:29.198896+00:00  liza.poltavchenko00@gmail.com   \n",
       "3   LIVE  2022-02-27T13:27:48.501184+00:00  liza.poltavchenko00@gmail.com   \n",
       "4   LIVE  2022-02-27T13:22:23.670270+00:00  liza.poltavchenko00@gmail.com   \n",
       "5   LIVE  2022-02-27T13:16:00.158198+00:00  liza.poltavchenko00@gmail.com   \n",
       "\n",
       "                        modified_on access_mode  \\\n",
       "0  2022-02-27T13:32:54.574907+00:00      PUBLIC   \n",
       "1  2022-02-27T13:32:42.818734+00:00      PUBLIC   \n",
       "2  2022-02-27T13:32:29.480223+00:00      PUBLIC   \n",
       "3  2022-02-27T13:27:48.765675+00:00      PUBLIC   \n",
       "4  2022-02-27T13:22:23.976822+00:00      PUBLIC   \n",
       "5  2022-02-27T13:16:00.410783+00:00      PUBLIC   \n",
       "\n",
       "                           owner creation_mode  \\\n",
       "0  liza.poltavchenko00@gmail.com        MANUAL   \n",
       "1  liza.poltavchenko00@gmail.com        MANUAL   \n",
       "2  liza.poltavchenko00@gmail.com        MANUAL   \n",
       "3  liza.poltavchenko00@gmail.com        MANUAL   \n",
       "4  liza.poltavchenko00@gmail.com        MANUAL   \n",
       "5  liza.poltavchenko00@gmail.com        MANUAL   \n",
       "\n",
       "                                         shared_link  \n",
       "0  https://w3id.org/ro-id-dev/43833c23-2242-48ef-...  \n",
       "1  https://w3id.org/ro-id-dev/94b3cb95-9434-4028-...  \n",
       "2  https://w3id.org/ro-id-dev/33c5b983-c16d-41fa-...  \n",
       "3  https://w3id.org/ro-id-dev/183b2253-3c95-432a-...  \n",
       "4  https://w3id.org/ro-id-dev/3f1d6ad7-8c16-4d7c-...  \n",
       "5  https://w3id.org/ro-id-dev/f11dbb43-278a-4332-...  "
      ]
     },
     "execution_count": 25,
     "metadata": {},
     "output_type": "execute_result"
    }
   ],
   "source": [
    "my_ros = rohub.list_my_ros()\n",
    "my_ros"
   ]
  },
  {
   "cell_type": "markdown",
   "id": "163e0bc4",
   "metadata": {},
   "source": [
    "The results are presented as Panda's DataFrame. The well-known and capable data structure in the scientific community. In the snippet below, we are referencing one particular research object by capturing its identifier. "
   ]
  },
  {
   "cell_type": "code",
   "execution_count": 26,
   "id": "59072696",
   "metadata": {},
   "outputs": [
    {
     "data": {
      "text/plain": [
       "'f11dbb43-278a-4332-876e-f454d9fe71d6'"
      ]
     },
     "execution_count": 26,
     "metadata": {},
     "output_type": "execute_result"
    }
   ],
   "source": [
    "loaded_ro_id = my_ros.loc[5, 'identifier']\n",
    "loaded_ro_id"
   ]
  },
  {
   "cell_type": "markdown",
   "id": "1a4013ba",
   "metadata": {},
   "source": [
    "Now, let's load the research object."
   ]
  },
  {
   "cell_type": "code",
   "execution_count": 27,
   "id": "13cf373e",
   "metadata": {},
   "outputs": [
    {
     "name": "stdout",
     "output_type": "stream",
     "text": [
      "Research Object was successfully loaded with id = f11dbb43-278a-4332-876e-f454d9fe71d6\n"
     ]
    }
   ],
   "source": [
    "loaded_ro = rohub.ros_load(identifier = loaded_ro_id)"
   ]
  },
  {
   "cell_type": "markdown",
   "id": "ecf1c573",
   "metadata": {},
   "source": [
    "We can also inspect some of its attributes."
   ]
  },
  {
   "cell_type": "code",
   "execution_count": 28,
   "id": "66d7a1ed",
   "metadata": {},
   "outputs": [
    {
     "data": {
      "text/plain": [
       "'The influence of eating habits on sleep'"
      ]
     },
     "execution_count": 28,
     "metadata": {},
     "output_type": "execute_result"
    }
   ],
   "source": [
    "loaded_ro.title"
   ]
  },
  {
   "cell_type": "code",
   "execution_count": 29,
   "id": "bd214545",
   "metadata": {},
   "outputs": [
    {
     "data": {
      "text/plain": [
       "['Medical science']"
      ]
     },
     "execution_count": 29,
     "metadata": {},
     "output_type": "execute_result"
    }
   ],
   "source": [
    "loaded_ro.research_areas"
   ]
  },
  {
   "cell_type": "markdown",
   "id": "c70f8ec5",
   "metadata": {},
   "source": [
    "### Example 2 - loading ROS that belongs to someone else\n",
    "We often work with our research objects, although that is not always the case. In the scenario where we would like to load a research object that belongs to someone else, we would need a different approach in finding the corresponding identifier. \n",
    "\n",
    "For that purpose, we could use a `ros_find` function that can display all `PUBLIC` research objects. "
   ]
  },
  {
   "cell_type": "code",
   "execution_count": 2,
   "id": "b190d81d",
   "metadata": {},
   "outputs": [
    {
     "data": {
      "text/html": [
       "<div>\n",
       "<style scoped>\n",
       "    .dataframe tbody tr th:only-of-type {\n",
       "        vertical-align: middle;\n",
       "    }\n",
       "\n",
       "    .dataframe tbody tr th {\n",
       "        vertical-align: top;\n",
       "    }\n",
       "\n",
       "    .dataframe thead th {\n",
       "        text-align: right;\n",
       "    }\n",
       "</style>\n",
       "<table border=\"1\" class=\"dataframe\">\n",
       "  <thead>\n",
       "    <tr style=\"text-align: right;\">\n",
       "      <th></th>\n",
       "      <th>identifier</th>\n",
       "      <th>title</th>\n",
       "      <th>description</th>\n",
       "      <th>type</th>\n",
       "      <th>research_areas</th>\n",
       "      <th>status</th>\n",
       "      <th>created_on</th>\n",
       "      <th>created_by</th>\n",
       "      <th>modified_on</th>\n",
       "      <th>access_mode</th>\n",
       "      <th>owner</th>\n",
       "      <th>creation_mode</th>\n",
       "      <th>shared_link</th>\n",
       "    </tr>\n",
       "  </thead>\n",
       "  <tbody>\n",
       "    <tr>\n",
       "      <th>0</th>\n",
       "      <td>43833c23-2242-48ef-8f0a-d925c0e1d3e9</td>\n",
       "      <td>Shark research</td>\n",
       "      <td>None</td>\n",
       "      <td>Bibliography-centric Research Object</td>\n",
       "      <td>[Biology, Zoology]</td>\n",
       "      <td>LIVE</td>\n",
       "      <td>2022-02-27T13:32:54.305241+00:00</td>\n",
       "      <td>liza.poltavchenko00@gmail.com</td>\n",
       "      <td>2022-02-27T13:32:54.574907+00:00</td>\n",
       "      <td>PUBLIC</td>\n",
       "      <td>liza.poltavchenko00@gmail.com</td>\n",
       "      <td>MANUAL</td>\n",
       "      <td>https://w3id.org/ro-id-dev/43833c23-2242-48ef-...</td>\n",
       "    </tr>\n",
       "    <tr>\n",
       "      <th>1</th>\n",
       "      <td>94b3cb95-9434-4028-be78-c383e0a27a74</td>\n",
       "      <td>Shark research</td>\n",
       "      <td>None</td>\n",
       "      <td>Process-centric Research Object</td>\n",
       "      <td>[Biology, Zoology]</td>\n",
       "      <td>LIVE</td>\n",
       "      <td>2022-02-27T13:32:42.545444+00:00</td>\n",
       "      <td>liza.poltavchenko00@gmail.com</td>\n",
       "      <td>2022-02-27T13:32:42.818734+00:00</td>\n",
       "      <td>PUBLIC</td>\n",
       "      <td>liza.poltavchenko00@gmail.com</td>\n",
       "      <td>MANUAL</td>\n",
       "      <td>https://w3id.org/ro-id-dev/94b3cb95-9434-4028-...</td>\n",
       "    </tr>\n",
       "    <tr>\n",
       "      <th>2</th>\n",
       "      <td>33c5b983-c16d-41fa-b957-740cc84f0f1f</td>\n",
       "      <td>Shark research</td>\n",
       "      <td>None</td>\n",
       "      <td>Basic Research Object</td>\n",
       "      <td>[Biology, Zoology]</td>\n",
       "      <td>LIVE</td>\n",
       "      <td>2022-02-27T13:32:29.198896+00:00</td>\n",
       "      <td>liza.poltavchenko00@gmail.com</td>\n",
       "      <td>2022-02-27T13:32:29.480223+00:00</td>\n",
       "      <td>PUBLIC</td>\n",
       "      <td>liza.poltavchenko00@gmail.com</td>\n",
       "      <td>MANUAL</td>\n",
       "      <td>https://w3id.org/ro-id-dev/33c5b983-c16d-41fa-...</td>\n",
       "    </tr>\n",
       "    <tr>\n",
       "      <th>3</th>\n",
       "      <td>183b2253-3c95-432a-9308-98348ebba2b7</td>\n",
       "      <td>TestRO_2</td>\n",
       "      <td>None</td>\n",
       "      <td>Basic Research Object</td>\n",
       "      <td>[Biology, Zoology]</td>\n",
       "      <td>LIVE</td>\n",
       "      <td>2022-02-27T13:27:48.501184+00:00</td>\n",
       "      <td>liza.poltavchenko00@gmail.com</td>\n",
       "      <td>2022-02-27T13:27:48.765675+00:00</td>\n",
       "      <td>PUBLIC</td>\n",
       "      <td>liza.poltavchenko00@gmail.com</td>\n",
       "      <td>MANUAL</td>\n",
       "      <td>https://w3id.org/ro-id-dev/183b2253-3c95-432a-...</td>\n",
       "    </tr>\n",
       "    <tr>\n",
       "      <th>4</th>\n",
       "      <td>3f1d6ad7-8c16-4d7c-8aa4-060672957117</td>\n",
       "      <td>TestRO</td>\n",
       "      <td>None</td>\n",
       "      <td>Basic Research Object</td>\n",
       "      <td>[Acoustics, Aerodynamics, Agronomy]</td>\n",
       "      <td>LIVE</td>\n",
       "      <td>2022-02-27T13:22:23.670270+00:00</td>\n",
       "      <td>liza.poltavchenko00@gmail.com</td>\n",
       "      <td>2022-02-27T13:22:23.976822+00:00</td>\n",
       "      <td>PUBLIC</td>\n",
       "      <td>liza.poltavchenko00@gmail.com</td>\n",
       "      <td>MANUAL</td>\n",
       "      <td>https://w3id.org/ro-id-dev/3f1d6ad7-8c16-4d7c-...</td>\n",
       "    </tr>\n",
       "    <tr>\n",
       "      <th>...</th>\n",
       "      <td>...</td>\n",
       "      <td>...</td>\n",
       "      <td>...</td>\n",
       "      <td>...</td>\n",
       "      <td>...</td>\n",
       "      <td>...</td>\n",
       "      <td>...</td>\n",
       "      <td>...</td>\n",
       "      <td>...</td>\n",
       "      <td>...</td>\n",
       "      <td>...</td>\n",
       "      <td>...</td>\n",
       "      <td>...</td>\n",
       "    </tr>\n",
       "    <tr>\n",
       "      <th>176</th>\n",
       "      <td>2e43e8bb-afc4-4424-a24e-d1afbe59cbb7</td>\n",
       "      <td>Sonic Kayacs</td>\n",
       "      <td>The Sonic Kayak system is a low cost open hard...</td>\n",
       "      <td>Basic Research Object</td>\n",
       "      <td>[]</td>\n",
       "      <td>LIVE</td>\n",
       "      <td>2022-01-13T14:51:14.352204+00:00</td>\n",
       "      <td>gosiaw@man.poznan.pl</td>\n",
       "      <td>2022-01-13T14:51:20.221045+00:00</td>\n",
       "      <td>PUBLIC</td>\n",
       "      <td>gosiaw@man.poznan.pl</td>\n",
       "      <td>IMPORTED</td>\n",
       "      <td>https://w3id.org/ro-id-dev/2e43e8bb-afc4-4424-...</td>\n",
       "    </tr>\n",
       "    <tr>\n",
       "      <th>177</th>\n",
       "      <td>252e21b7-7183-42bb-afcd-f201013de1ce</td>\n",
       "      <td>In My Backyard</td>\n",
       "      <td>The project aims to understand and map the use...</td>\n",
       "      <td>Basic Research Object</td>\n",
       "      <td>[]</td>\n",
       "      <td>LIVE</td>\n",
       "      <td>2022-01-13T14:51:10.237419+00:00</td>\n",
       "      <td>gosiaw@man.poznan.pl</td>\n",
       "      <td>2022-01-13T14:51:13.372966+00:00</td>\n",
       "      <td>PUBLIC</td>\n",
       "      <td>gosiaw@man.poznan.pl</td>\n",
       "      <td>IMPORTED</td>\n",
       "      <td>https://w3id.org/ro-id-dev/252e21b7-7183-42bb-...</td>\n",
       "    </tr>\n",
       "    <tr>\n",
       "      <th>178</th>\n",
       "      <td>63ce8c70-122f-42f9-8aa7-aab586852555</td>\n",
       "      <td>Marsupialis_jellyfish2911</td>\n",
       "      <td>https://w3id.org/ro-id-dev/63ce8c70-122f-42f9-...</td>\n",
       "      <td>Basic Research Object</td>\n",
       "      <td>[]</td>\n",
       "      <td>LIVE</td>\n",
       "      <td>2022-01-13T14:51:10.210032+00:00</td>\n",
       "      <td>gosiaw@man.poznan.pl</td>\n",
       "      <td>2022-01-13T15:25:36.941747+00:00</td>\n",
       "      <td>PUBLIC</td>\n",
       "      <td>gosiaw@man.poznan.pl</td>\n",
       "      <td>IMPORTED</td>\n",
       "      <td>https://w3id.org/ro-id-dev/63ce8c70-122f-42f9-...</td>\n",
       "    </tr>\n",
       "    <tr>\n",
       "      <th>179</th>\n",
       "      <td>675f8362-4be5-4ee7-994c-08b90e7b0aa2</td>\n",
       "      <td>ACTION - Air Pollution in Schools</td>\n",
       "      <td>Norway is the land of fjords, trolls and – ele...</td>\n",
       "      <td>Basic Research Object</td>\n",
       "      <td>[]</td>\n",
       "      <td>LIVE</td>\n",
       "      <td>2022-01-13T14:51:09.115280+00:00</td>\n",
       "      <td>gosiaw@man.poznan.pl</td>\n",
       "      <td>2022-02-25T18:22:43.010542+00:00</td>\n",
       "      <td>PUBLIC</td>\n",
       "      <td>gosiaw@man.poznan.pl</td>\n",
       "      <td>IMPORTED</td>\n",
       "      <td>https://w3id.org/ro-id-dev/675f8362-4be5-4ee7-...</td>\n",
       "    </tr>\n",
       "    <tr>\n",
       "      <th>180</th>\n",
       "      <td>702c8963-5f5f-4274-9386-1b82ea8b3097</td>\n",
       "      <td>The Wawel Dragon</td>\n",
       "      <td>The Wawel Dragon (Polish: Smok Wawelski), also...</td>\n",
       "      <td>Basic Research Object</td>\n",
       "      <td>[Biology]</td>\n",
       "      <td>LIVE</td>\n",
       "      <td>2022-01-13T13:21:19.531292+00:00</td>\n",
       "      <td>gosiaw</td>\n",
       "      <td>2022-02-21T11:59:56.370649+00:00</td>\n",
       "      <td>PUBLIC</td>\n",
       "      <td>gosiaw</td>\n",
       "      <td>MANUAL</td>\n",
       "      <td>https://w3id.org/ro-id-dev/702c8963-5f5f-4274-...</td>\n",
       "    </tr>\n",
       "  </tbody>\n",
       "</table>\n",
       "<p>181 rows × 13 columns</p>\n",
       "</div>"
      ],
      "text/plain": [
       "                               identifier                              title  \\\n",
       "0    43833c23-2242-48ef-8f0a-d925c0e1d3e9                     Shark research   \n",
       "1    94b3cb95-9434-4028-be78-c383e0a27a74                     Shark research   \n",
       "2    33c5b983-c16d-41fa-b957-740cc84f0f1f                     Shark research   \n",
       "3    183b2253-3c95-432a-9308-98348ebba2b7                           TestRO_2   \n",
       "4    3f1d6ad7-8c16-4d7c-8aa4-060672957117                             TestRO   \n",
       "..                                    ...                                ...   \n",
       "176  2e43e8bb-afc4-4424-a24e-d1afbe59cbb7                       Sonic Kayacs   \n",
       "177  252e21b7-7183-42bb-afcd-f201013de1ce                     In My Backyard   \n",
       "178  63ce8c70-122f-42f9-8aa7-aab586852555          Marsupialis_jellyfish2911   \n",
       "179  675f8362-4be5-4ee7-994c-08b90e7b0aa2  ACTION - Air Pollution in Schools   \n",
       "180  702c8963-5f5f-4274-9386-1b82ea8b3097                   The Wawel Dragon   \n",
       "\n",
       "                                           description  \\\n",
       "0                                                 None   \n",
       "1                                                 None   \n",
       "2                                                 None   \n",
       "3                                                 None   \n",
       "4                                                 None   \n",
       "..                                                 ...   \n",
       "176  The Sonic Kayak system is a low cost open hard...   \n",
       "177  The project aims to understand and map the use...   \n",
       "178  https://w3id.org/ro-id-dev/63ce8c70-122f-42f9-...   \n",
       "179  Norway is the land of fjords, trolls and – ele...   \n",
       "180  The Wawel Dragon (Polish: Smok Wawelski), also...   \n",
       "\n",
       "                                     type  \\\n",
       "0    Bibliography-centric Research Object   \n",
       "1         Process-centric Research Object   \n",
       "2                   Basic Research Object   \n",
       "3                   Basic Research Object   \n",
       "4                   Basic Research Object   \n",
       "..                                    ...   \n",
       "176                 Basic Research Object   \n",
       "177                 Basic Research Object   \n",
       "178                 Basic Research Object   \n",
       "179                 Basic Research Object   \n",
       "180                 Basic Research Object   \n",
       "\n",
       "                          research_areas status  \\\n",
       "0                     [Biology, Zoology]   LIVE   \n",
       "1                     [Biology, Zoology]   LIVE   \n",
       "2                     [Biology, Zoology]   LIVE   \n",
       "3                     [Biology, Zoology]   LIVE   \n",
       "4    [Acoustics, Aerodynamics, Agronomy]   LIVE   \n",
       "..                                   ...    ...   \n",
       "176                                   []   LIVE   \n",
       "177                                   []   LIVE   \n",
       "178                                   []   LIVE   \n",
       "179                                   []   LIVE   \n",
       "180                            [Biology]   LIVE   \n",
       "\n",
       "                           created_on                     created_by  \\\n",
       "0    2022-02-27T13:32:54.305241+00:00  liza.poltavchenko00@gmail.com   \n",
       "1    2022-02-27T13:32:42.545444+00:00  liza.poltavchenko00@gmail.com   \n",
       "2    2022-02-27T13:32:29.198896+00:00  liza.poltavchenko00@gmail.com   \n",
       "3    2022-02-27T13:27:48.501184+00:00  liza.poltavchenko00@gmail.com   \n",
       "4    2022-02-27T13:22:23.670270+00:00  liza.poltavchenko00@gmail.com   \n",
       "..                                ...                            ...   \n",
       "176  2022-01-13T14:51:14.352204+00:00           gosiaw@man.poznan.pl   \n",
       "177  2022-01-13T14:51:10.237419+00:00           gosiaw@man.poznan.pl   \n",
       "178  2022-01-13T14:51:10.210032+00:00           gosiaw@man.poznan.pl   \n",
       "179  2022-01-13T14:51:09.115280+00:00           gosiaw@man.poznan.pl   \n",
       "180  2022-01-13T13:21:19.531292+00:00                         gosiaw   \n",
       "\n",
       "                          modified_on access_mode  \\\n",
       "0    2022-02-27T13:32:54.574907+00:00      PUBLIC   \n",
       "1    2022-02-27T13:32:42.818734+00:00      PUBLIC   \n",
       "2    2022-02-27T13:32:29.480223+00:00      PUBLIC   \n",
       "3    2022-02-27T13:27:48.765675+00:00      PUBLIC   \n",
       "4    2022-02-27T13:22:23.976822+00:00      PUBLIC   \n",
       "..                                ...         ...   \n",
       "176  2022-01-13T14:51:20.221045+00:00      PUBLIC   \n",
       "177  2022-01-13T14:51:13.372966+00:00      PUBLIC   \n",
       "178  2022-01-13T15:25:36.941747+00:00      PUBLIC   \n",
       "179  2022-02-25T18:22:43.010542+00:00      PUBLIC   \n",
       "180  2022-02-21T11:59:56.370649+00:00      PUBLIC   \n",
       "\n",
       "                             owner creation_mode  \\\n",
       "0    liza.poltavchenko00@gmail.com        MANUAL   \n",
       "1    liza.poltavchenko00@gmail.com        MANUAL   \n",
       "2    liza.poltavchenko00@gmail.com        MANUAL   \n",
       "3    liza.poltavchenko00@gmail.com        MANUAL   \n",
       "4    liza.poltavchenko00@gmail.com        MANUAL   \n",
       "..                             ...           ...   \n",
       "176           gosiaw@man.poznan.pl      IMPORTED   \n",
       "177           gosiaw@man.poznan.pl      IMPORTED   \n",
       "178           gosiaw@man.poznan.pl      IMPORTED   \n",
       "179           gosiaw@man.poznan.pl      IMPORTED   \n",
       "180                         gosiaw        MANUAL   \n",
       "\n",
       "                                           shared_link  \n",
       "0    https://w3id.org/ro-id-dev/43833c23-2242-48ef-...  \n",
       "1    https://w3id.org/ro-id-dev/94b3cb95-9434-4028-...  \n",
       "2    https://w3id.org/ro-id-dev/33c5b983-c16d-41fa-...  \n",
       "3    https://w3id.org/ro-id-dev/183b2253-3c95-432a-...  \n",
       "4    https://w3id.org/ro-id-dev/3f1d6ad7-8c16-4d7c-...  \n",
       "..                                                 ...  \n",
       "176  https://w3id.org/ro-id-dev/2e43e8bb-afc4-4424-...  \n",
       "177  https://w3id.org/ro-id-dev/252e21b7-7183-42bb-...  \n",
       "178  https://w3id.org/ro-id-dev/63ce8c70-122f-42f9-...  \n",
       "179  https://w3id.org/ro-id-dev/675f8362-4be5-4ee7-...  \n",
       "180  https://w3id.org/ro-id-dev/702c8963-5f5f-4274-...  \n",
       "\n",
       "[181 rows x 13 columns]"
      ]
     },
     "execution_count": 2,
     "metadata": {},
     "output_type": "execute_result"
    }
   ],
   "source": [
    "all_ros = rohub.ros_find()\n",
    "all_ros"
   ]
  },
  {
   "cell_type": "markdown",
   "id": "a559b1f5",
   "metadata": {},
   "source": [
    "As a result, we are getting a Panda's DataFrame object. We can query our data on two different levels, either by specifying optional parameter search at the function level or by querying DataFrame directly. \n",
    "The latter is more robust, but the downside is that we are loading a significant amount of data into our local scope. The former approach will be presented in the next chapter. \n",
    "\n",
    "We are going to look for a specific author by querying based on the owner value."
   ]
  },
  {
   "cell_type": "code",
   "execution_count": 3,
   "id": "2ddf6a82",
   "metadata": {},
   "outputs": [
    {
     "data": {
      "text/html": [
       "<div>\n",
       "<style scoped>\n",
       "    .dataframe tbody tr th:only-of-type {\n",
       "        vertical-align: middle;\n",
       "    }\n",
       "\n",
       "    .dataframe tbody tr th {\n",
       "        vertical-align: top;\n",
       "    }\n",
       "\n",
       "    .dataframe thead th {\n",
       "        text-align: right;\n",
       "    }\n",
       "</style>\n",
       "<table border=\"1\" class=\"dataframe\">\n",
       "  <thead>\n",
       "    <tr style=\"text-align: right;\">\n",
       "      <th></th>\n",
       "      <th>identifier</th>\n",
       "      <th>title</th>\n",
       "      <th>description</th>\n",
       "      <th>type</th>\n",
       "      <th>research_areas</th>\n",
       "      <th>status</th>\n",
       "      <th>created_on</th>\n",
       "      <th>created_by</th>\n",
       "      <th>modified_on</th>\n",
       "      <th>access_mode</th>\n",
       "      <th>owner</th>\n",
       "      <th>creation_mode</th>\n",
       "      <th>shared_link</th>\n",
       "    </tr>\n",
       "  </thead>\n",
       "  <tbody>\n",
       "    <tr>\n",
       "      <th>26</th>\n",
       "      <td>e737e00f-f187-4381-933f-9cedb1a4ef1d</td>\n",
       "      <td>Geolocation test</td>\n",
       "      <td>Geolocation test</td>\n",
       "      <td>Basic Research Object</td>\n",
       "      <td>[Applied sciences]</td>\n",
       "      <td>LIVE</td>\n",
       "      <td>2022-02-01T08:44:09.566523+00:00</td>\n",
       "      <td>gosiaw@man.poznan.pl</td>\n",
       "      <td>2022-02-13T17:46:33.091045+00:00</td>\n",
       "      <td>PUBLIC</td>\n",
       "      <td>gosiaw@man.poznan.pl</td>\n",
       "      <td>MANUAL</td>\n",
       "      <td>https://w3id.org/ro-id-dev/e737e00f-f187-4381-...</td>\n",
       "    </tr>\n",
       "    <tr>\n",
       "      <th>60</th>\n",
       "      <td>616e465b-70a2-479b-b679-79953e5e602d</td>\n",
       "      <td>Tengo tres ovejas...</td>\n",
       "      <td>Tengo tres ovejas\\n\\nen una cabaña.\\n\\nUna me ...</td>\n",
       "      <td>Basic Research Object</td>\n",
       "      <td>[Biology]</td>\n",
       "      <td>LIVE</td>\n",
       "      <td>2022-01-21T20:55:19.070225+00:00</td>\n",
       "      <td>gosiaw@man.poznan.pl</td>\n",
       "      <td>2022-01-21T20:55:19.508380+00:00</td>\n",
       "      <td>PUBLIC</td>\n",
       "      <td>gosiaw@man.poznan.pl</td>\n",
       "      <td>MANUAL</td>\n",
       "      <td>https://w3id.org/ro-id-dev/616e465b-70a2-479b-...</td>\n",
       "    </tr>\n",
       "    <tr>\n",
       "      <th>123</th>\n",
       "      <td>00db564f-fcf7-4956-b82a-0e8f158466de</td>\n",
       "      <td>Oraefajokull (Iceland) Sentinel Data 2016-2018</td>\n",
       "      <td>This Research Object contains InSAR data (ESA ...</td>\n",
       "      <td>Data-centric Research Object</td>\n",
       "      <td>[Earth sciences, Geophysics]</td>\n",
       "      <td>LIVE</td>\n",
       "      <td>2022-01-13T14:58:51.512013+00:00</td>\n",
       "      <td>gosiaw@man.poznan.pl</td>\n",
       "      <td>2022-02-13T17:32:20.795126+00:00</td>\n",
       "      <td>OPEN</td>\n",
       "      <td>gosiaw@man.poznan.pl</td>\n",
       "      <td>IMPORTED</td>\n",
       "      <td>https://w3id.org/ro-id-dev/00db564f-fcf7-4956-...</td>\n",
       "    </tr>\n",
       "    <tr>\n",
       "      <th>124</th>\n",
       "      <td>7639f735-4cec-48d0-8523-5919199a94ac</td>\n",
       "      <td>In My Backyard</td>\n",
       "      <td>The project aims to understand and map the use...</td>\n",
       "      <td>Basic Research Object</td>\n",
       "      <td>[]</td>\n",
       "      <td>LIVE</td>\n",
       "      <td>2022-01-13T14:58:40.053590+00:00</td>\n",
       "      <td>gosiaw@man.poznan.pl</td>\n",
       "      <td>2022-01-13T14:58:42.850358+00:00</td>\n",
       "      <td>PUBLIC</td>\n",
       "      <td>gosiaw@man.poznan.pl</td>\n",
       "      <td>IMPORTED</td>\n",
       "      <td>https://w3id.org/ro-id-dev/7639f735-4cec-48d0-...</td>\n",
       "    </tr>\n",
       "    <tr>\n",
       "      <th>125</th>\n",
       "      <td>a395221b-1b89-499f-9068-336ce7d3add0</td>\n",
       "      <td>Sonic Kayacs</td>\n",
       "      <td>The Sonic Kayak system is a low cost open hard...</td>\n",
       "      <td>Basic Research Object</td>\n",
       "      <td>[]</td>\n",
       "      <td>LIVE</td>\n",
       "      <td>2022-01-13T14:57:51.090529+00:00</td>\n",
       "      <td>gosiaw@man.poznan.pl</td>\n",
       "      <td>2022-01-13T14:57:56.289978+00:00</td>\n",
       "      <td>PUBLIC</td>\n",
       "      <td>gosiaw@man.poznan.pl</td>\n",
       "      <td>IMPORTED</td>\n",
       "      <td>https://w3id.org/ro-id-dev/a395221b-1b89-499f-...</td>\n",
       "    </tr>\n",
       "  </tbody>\n",
       "</table>\n",
       "</div>"
      ],
      "text/plain": [
       "                               identifier  \\\n",
       "26   e737e00f-f187-4381-933f-9cedb1a4ef1d   \n",
       "60   616e465b-70a2-479b-b679-79953e5e602d   \n",
       "123  00db564f-fcf7-4956-b82a-0e8f158466de   \n",
       "124  7639f735-4cec-48d0-8523-5919199a94ac   \n",
       "125  a395221b-1b89-499f-9068-336ce7d3add0   \n",
       "\n",
       "                                              title  \\\n",
       "26                                 Geolocation test   \n",
       "60                             Tengo tres ovejas...   \n",
       "123  Oraefajokull (Iceland) Sentinel Data 2016-2018   \n",
       "124                                  In My Backyard   \n",
       "125                                    Sonic Kayacs   \n",
       "\n",
       "                                           description  \\\n",
       "26                                    Geolocation test   \n",
       "60   Tengo tres ovejas\\n\\nen una cabaña.\\n\\nUna me ...   \n",
       "123  This Research Object contains InSAR data (ESA ...   \n",
       "124  The project aims to understand and map the use...   \n",
       "125  The Sonic Kayak system is a low cost open hard...   \n",
       "\n",
       "                             type                research_areas status  \\\n",
       "26          Basic Research Object            [Applied sciences]   LIVE   \n",
       "60          Basic Research Object                     [Biology]   LIVE   \n",
       "123  Data-centric Research Object  [Earth sciences, Geophysics]   LIVE   \n",
       "124         Basic Research Object                            []   LIVE   \n",
       "125         Basic Research Object                            []   LIVE   \n",
       "\n",
       "                           created_on            created_by  \\\n",
       "26   2022-02-01T08:44:09.566523+00:00  gosiaw@man.poznan.pl   \n",
       "60   2022-01-21T20:55:19.070225+00:00  gosiaw@man.poznan.pl   \n",
       "123  2022-01-13T14:58:51.512013+00:00  gosiaw@man.poznan.pl   \n",
       "124  2022-01-13T14:58:40.053590+00:00  gosiaw@man.poznan.pl   \n",
       "125  2022-01-13T14:57:51.090529+00:00  gosiaw@man.poznan.pl   \n",
       "\n",
       "                          modified_on access_mode                 owner  \\\n",
       "26   2022-02-13T17:46:33.091045+00:00      PUBLIC  gosiaw@man.poznan.pl   \n",
       "60   2022-01-21T20:55:19.508380+00:00      PUBLIC  gosiaw@man.poznan.pl   \n",
       "123  2022-02-13T17:32:20.795126+00:00        OPEN  gosiaw@man.poznan.pl   \n",
       "124  2022-01-13T14:58:42.850358+00:00      PUBLIC  gosiaw@man.poznan.pl   \n",
       "125  2022-01-13T14:57:56.289978+00:00      PUBLIC  gosiaw@man.poznan.pl   \n",
       "\n",
       "    creation_mode                                        shared_link  \n",
       "26         MANUAL  https://w3id.org/ro-id-dev/e737e00f-f187-4381-...  \n",
       "60         MANUAL  https://w3id.org/ro-id-dev/616e465b-70a2-479b-...  \n",
       "123      IMPORTED  https://w3id.org/ro-id-dev/00db564f-fcf7-4956-...  \n",
       "124      IMPORTED  https://w3id.org/ro-id-dev/7639f735-4cec-48d0-...  \n",
       "125      IMPORTED  https://w3id.org/ro-id-dev/a395221b-1b89-499f-...  "
      ]
     },
     "execution_count": 3,
     "metadata": {},
     "output_type": "execute_result"
    }
   ],
   "source": [
    "gosia_ros = all_ros[all_ros.owner == 'gosiaw@man.poznan.pl']\n",
    "gosia_ros[:5]"
   ]
  },
  {
   "cell_type": "markdown",
   "id": "55640369",
   "metadata": {},
   "source": [
    "We are picking one of them, based on its index from a slice of the DataFrame that was displayed above."
   ]
  },
  {
   "cell_type": "code",
   "execution_count": 35,
   "id": "c1eb5c31",
   "metadata": {},
   "outputs": [
    {
     "name": "stdout",
     "output_type": "stream",
     "text": [
      "Research Object was successfully loaded with id = e737e00f-f187-4381-933f-9cedb1a4ef1d\n"
     ]
    }
   ],
   "source": [
    "loaded_ro2_id = gosia_ros.loc[26, 'identifier']\n",
    "loaded_ro2 = rohub.ros_load(identifier = loaded_ro2_id)"
   ]
  },
  {
   "cell_type": "code",
   "execution_count": 36,
   "id": "d66f4246",
   "metadata": {},
   "outputs": [
    {
     "data": {
      "text/plain": [
       "'Geolocation test'"
      ]
     },
     "execution_count": 36,
     "metadata": {},
     "output_type": "execute_result"
    }
   ],
   "source": [
    "loaded_ro2.title"
   ]
  },
  {
   "cell_type": "code",
   "execution_count": 37,
   "id": "af654344",
   "metadata": {},
   "outputs": [
    {
     "data": {
      "text/plain": [
       "'gosiaw@man.poznan.pl'"
      ]
     },
     "execution_count": 37,
     "metadata": {},
     "output_type": "execute_result"
    }
   ],
   "source": [
    "loaded_ro2.creator"
   ]
  },
  {
   "cell_type": "markdown",
   "id": "ab87e6f5",
   "metadata": {},
   "source": [
    "### Show metadata\n",
    "Once the research object is loaded, it is possible to use the `.show_metadata()`  method that allows to quickly investigate basic metadata like title, description, research areas, etc., related to the object."
   ]
  },
  {
   "cell_type": "code",
   "execution_count": 38,
   "id": "97264a7f",
   "metadata": {},
   "outputs": [
    {
     "data": {
      "text/plain": [
       "{'identifier': 'f11dbb43-278a-4332-876e-f454d9fe71d6',\n",
       " 'shared_link': 'https://w3id.org/ro-id-dev/f11dbb43-278a-4332-876e-f454d9fe71d6',\n",
       " 'title': 'The influence of eating habits on sleep',\n",
       " 'description': None,\n",
       " 'status': 'LIVE',\n",
       " 'access_mode': 'PUBLIC',\n",
       " 'type': 'Basic Research Object',\n",
       " 'template': None,\n",
       " 'created': '2022-02-27T13:16:00.158198Z',\n",
       " 'creator': 'liza.poltavchenko00@gmail.com',\n",
       " 'modificator': 'liza.poltavchenko00@gmail.com',\n",
       " 'modified': '2022-02-27T13:16:00.250738Z',\n",
       " 'importer': None,\n",
       " 'research_areas': ['Medical science'],\n",
       " 'owner': 'liza.poltavchenko00@gmail.com',\n",
       " 'editors': [],\n",
       " 'readers': [],\n",
       " 'rating': '0.00',\n",
       " 'number_of_ratings': 0,\n",
       " 'number_of_likes': 0,\n",
       " 'number_of_dislikes': 0,\n",
       " 'quality': 0,\n",
       " 'size': 1758,\n",
       " 'creation_mode': 'MANUAL',\n",
       " 'doi': None,\n",
       " 'api_link': 'https://rohub2020-rohub.apps.paas-dev.psnc.pl/api/ros/f11dbb43-278a-4332-876e-f454d9fe71d6/'}"
      ]
     },
     "execution_count": 38,
     "metadata": {},
     "output_type": "execute_result"
    }
   ],
   "source": [
    "loaded_ro.show_metadata()"
   ]
  },
  {
   "cell_type": "code",
   "execution_count": 39,
   "id": "892eea28",
   "metadata": {},
   "outputs": [
    {
     "data": {
      "text/plain": [
       "{'identifier': 'e737e00f-f187-4381-933f-9cedb1a4ef1d',\n",
       " 'shared_link': 'https://w3id.org/ro-id-dev/e737e00f-f187-4381-933f-9cedb1a4ef1d',\n",
       " 'title': 'Geolocation test',\n",
       " 'description': 'Geolocation test',\n",
       " 'status': 'LIVE',\n",
       " 'access_mode': 'PUBLIC',\n",
       " 'type': 'Basic Research Object',\n",
       " 'template': None,\n",
       " 'created': '2022-02-01T08:44:09.566523Z',\n",
       " 'creator': 'gosiaw@man.poznan.pl',\n",
       " 'modificator': 'service-account-enrichment',\n",
       " 'modified': '2022-02-21T14:10:16.284644Z',\n",
       " 'importer': None,\n",
       " 'research_areas': ['Applied sciences'],\n",
       " 'owner': 'gosiaw@man.poznan.pl',\n",
       " 'editors': [],\n",
       " 'readers': [],\n",
       " 'rating': '0.00',\n",
       " 'number_of_ratings': 0,\n",
       " 'number_of_likes': 0,\n",
       " 'number_of_dislikes': 0,\n",
       " 'quality': 43,\n",
       " 'size': 2989,\n",
       " 'creation_mode': 'MANUAL',\n",
       " 'doi': None,\n",
       " 'api_link': 'https://rohub2020-rohub.apps.paas-dev.psnc.pl/api/ros/e737e00f-f187-4381-933f-9cedb1a4ef1d/'}"
      ]
     },
     "execution_count": 39,
     "metadata": {},
     "output_type": "execute_result"
    }
   ],
   "source": [
    "loaded_ro2.show_metadata()"
   ]
  },
  {
   "cell_type": "markdown",
   "id": "98227761",
   "metadata": {},
   "source": [
    "## Show full metadata\n",
    "\n",
    "Each Research Object has a lot more metadata associated with it than what can be displayed using basic `show_metadata `. To investigate more advanced metadata like number_if_resources, number_of_views, or citation, one should use the show_full_metadata method."
   ]
  },
  {
   "cell_type": "markdown",
   "id": "9ea5d0aa",
   "metadata": {},
   "source": [
    "Let's try to use the Research Object that was assigned to the `loaded_ro2` variable."
   ]
  },
  {
   "cell_type": "code",
   "execution_count": 40,
   "id": "2f118077",
   "metadata": {},
   "outputs": [
    {
     "name": "stdout",
     "output_type": "stream",
     "text": [
      "To access full metadata for the object, please use load_full_metadata method first followed by the current method to display it.\n"
     ]
    }
   ],
   "source": [
    "loaded_ro2.show_full_metadata()"
   ]
  },
  {
   "cell_type": "markdown",
   "id": "cca27bd0",
   "metadata": {},
   "source": [
    "As we can see, it doesn't behave in the same way as `show_metadata` is. Basic metadata related to the Research Object is automatically loaded when the object is being instantiated since it is pivotal to regular work with Research Object. Full metadata, on the other hand, is non-essential. To avoid creating an overhead, we ask the user to load it explicitly before any usage. "
   ]
  },
  {
   "cell_type": "code",
   "execution_count": 41,
   "id": "6a2635df",
   "metadata": {},
   "outputs": [],
   "source": [
    "loaded_ro2.load_full_metadata()"
   ]
  },
  {
   "cell_type": "markdown",
   "id": "188102fc",
   "metadata": {},
   "source": [
    "Loading full metadata once is sufficient throughout the session. From now on, we can access the full metadata of a specific Research Object by invoking `show_full_metadata()`. \n",
    "\n",
    "As we can see in the example below, full metadata allows us to access many interesting data points that were not present in regular metadata."
   ]
  },
  {
   "cell_type": "code",
   "execution_count": 42,
   "id": "2ab7e15f",
   "metadata": {},
   "outputs": [
    {
     "data": {
      "text/plain": [
       "{'identifier': 'e737e00f-f187-4381-933f-9cedb1a4ef1d',\n",
       " 'shared_link': 'https://w3id.org/ro-id-dev/e737e00f-f187-4381-933f-9cedb1a4ef1d',\n",
       " 'title': 'Geolocation test',\n",
       " 'description': 'Geolocation test',\n",
       " 'parent_ro': None,\n",
       " 'type': 'Basic Research Object',\n",
       " 'template': None,\n",
       " 'created': '2022-02-01T08:44:09.566523Z',\n",
       " 'creator': 'gosiaw@man.poznan.pl',\n",
       " 'modificator': 'service-account-enrichment',\n",
       " 'modified': '2022-02-21T14:10:16.284644Z',\n",
       " 'importer': None,\n",
       " 'imported': None,\n",
       " 'snapshotted': None,\n",
       " 'snapshooter': None,\n",
       " 'forked': None,\n",
       " 'forker': None,\n",
       " 'archived': None,\n",
       " 'archiver': None,\n",
       " 'created_on': '2022-02-01T08:44:09.566523+0000',\n",
       " 'created_by': 'gosiaw@man.poznan.pl',\n",
       " 'modified_on': '2022-02-13T17:46:33.091045+0000',\n",
       " 'modified_by': 'gosiaw@man.poznan.pl',\n",
       " 'original_created_on': None,\n",
       " 'original_created_by': None,\n",
       " 'original_creator_name': None,\n",
       " 'authors_credits': ['gosiaw@man.poznan.pl'],\n",
       " 'contributors_credits': [],\n",
       " 'status': 'LIVE',\n",
       " 'access_mode': 'PUBLIC',\n",
       " 'owner': 'gosiaw@man.poznan.pl',\n",
       " 'editors': [],\n",
       " 'readers': [],\n",
       " 'number_of_ratings': 0,\n",
       " 'rating': '0.00',\n",
       " 'number_of_likes': 0,\n",
       " 'number_of_dislikes': 0,\n",
       " 'quality': 43,\n",
       " 'quality_calculated_on': '2022-02-21T14:10:16.032593+0000',\n",
       " 'quality_check_report': None,\n",
       " 'number_of_resources': 0,\n",
       " 'number_of_folders': 0,\n",
       " 'number_of_annotations': 7,\n",
       " 'number_of_all_aggregates': 7,\n",
       " 'number_of_comments': 0,\n",
       " 'number_of_snapshots': 0,\n",
       " 'number_of_forks': 0,\n",
       " 'number_of_archives': 0,\n",
       " 'number_of_events': 12,\n",
       " 'number_of_downloads': 0,\n",
       " 'number_of_views': 3,\n",
       " 'research_areas': ['Applied sciences'],\n",
       " 'read_only': False,\n",
       " 'creation_mode': 'MANUAL',\n",
       " 'golden': False,\n",
       " 'doi': None,\n",
       " 'cite_as': 'Wolniewicz, Małgorzata. \"Geolocation test.\" ROHub. Feb 01 ,2022. https://w3id.org/ro-id-dev/e737e00f-f187-4381-933f-9cedb1a4ef1d.',\n",
       " 'sketch': [],\n",
       " 'geolocation': True,\n",
       " 'metadata': {'keywords': [],\n",
       "  'domains': [],\n",
       "  'places': [],\n",
       "  'organizations': [],\n",
       "  'persons': [],\n",
       "  'frequent_expressions': ['geolocation test geolocation test',\n",
       "   'test geolocation test',\n",
       "   'geolocation test'],\n",
       "  'concepts': ['testing', 'geolocation']},\n",
       " 'size': 2989,\n",
       " 'user_liked': False,\n",
       " 'user_disliked': False,\n",
       " 'user_rate': 0,\n",
       " 'license': None,\n",
       " 'funding': [],\n",
       " 'community': [],\n",
       " 'main_entity': [],\n",
       " 'api_link': 'https://rohub2020-rohub.apps.paas-dev.psnc.pl/api/ros/e737e00f-f187-4381-933f-9cedb1a4ef1d/'}"
      ]
     },
     "execution_count": 42,
     "metadata": {},
     "output_type": "execute_result"
    }
   ],
   "source": [
    "loaded_ro2.show_full_metadata()"
   ]
  }
 ],
 "metadata": {
  "kernelspec": {
   "display_name": "Python 3 (ipykernel)",
   "language": "python",
   "name": "python3"
  },
  "language_info": {
   "codemirror_mode": {
    "name": "ipython",
    "version": 3
   },
   "file_extension": ".py",
   "mimetype": "text/x-python",
   "name": "python",
   "nbconvert_exporter": "python",
   "pygments_lexer": "ipython3",
   "version": "3.10.2"
  }
 },
 "nbformat": 4,
 "nbformat_minor": 5
}
