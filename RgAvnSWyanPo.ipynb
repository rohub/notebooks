{
 "cells": [
  {
   "cell_type": "markdown",
   "metadata": {
    "pycharm": {
     "name": "#%% md\n"
    }
   },
   "source": [
    "# Met Office UKV high-resolution atmosphere model data\n",
    "\n",
    ":::{eval-rst}\n",
    ":opticon:`tag`\n",
    ":badge:`Urban,badge-primary`\n",
    ":badge:`Exploration,badge-secondary`\n",
    ":::\n",
    "\n",
    "[![RoHub - FAIR Executable Research Object](https://img.shields.io/badge/RoHub-FAIR_Executable_Research_Object-2ea44f?logo=Open+Access&logoColor=blue)](https://w3id.org/ro-id/1b8921af-e77f-4ccf-ae38-4813cdceba0f)\n",
    "\n",
    "[![Binder](https://mybinder.org/badge_logo.svg)](https://notebooks.gesis.org/binder/v2/gh/Environmental-DS-Book/urban-exploration-climate_ukv/main?labpath=urban-exploration-climate_ukv.ipynb)\n",
    "\n",
    "## Context\n",
    "### Purpose\n",
    "To load, plot, regrid and extract an urban region from the UKV gridded model data using the [Iris package](https://scitools-iris.readthedocs.io/en/stable/).\n",
    "\n",
    "### Sensor description\n",
    "Met Office UKV model data is fairly high resolution (approximately 1 km horizontal) and available over the whole of the UK for a variety of atmospheric variables at surface and pressure levels. A selection of variables has been\n",
    "made openly available as part of the Met Office contribution to the COVID 19 modelling effort. A selection of variables at hourly and daily frequency in NetCDF format can be obtained from [this landing page](https://metdatasa.blob.core.windows.net/covid19-response-non-commercial/README.html). \n",
    "\n",
    "This notebook uses a single sample data file for 1.5 m temperature included with the notebook.\n",
    "\n",
    "### Highlights\n",
    "* Data for the whole UK is loaded and plotted using Iris\n",
    "* Data is regridded to a geographic projection \n",
    "* A region over London is extracted\n",
    "\n",
    "### Contributions\n",
    "\n",
    "#### Notebook\n",
    "* Samantha V. Adams (author), Met Office Informatics Lab, [@svadams](https://github.com/svadams)\n",
    "* Alejandro Coca-Castro (reviewer), The Alan Turing Institute, [@acocac](https://github.com/acocac)\n",
    "\n",
    "#### Dataset originator/creator\n",
    "* Met Office Informatics Lab (creator)\n",
    "* Microsoft (support)\n",
    "* European Regional Development Fund (support)\n",
    "\n",
    "#### Dataset authors\n",
    "* Met Office\n",
    "\n",
    "#### Dataset documentation\n",
    "```{bibliography}\n",
    "  :style: plain\n",
    "  :list: bullet\n",
    "  :filter: topic % \"urban-sensors-climate_ukv\"\n",
    "```\n",
    "\n",
    ":::{note}\n",
    "Note this data should be used only for non-commercial purposes.\n",
    ":::"
   ]
  },
  {
   "cell_type": "markdown",
   "metadata": {
    "pycharm": {
     "name": "#%% md\n"
    }
   },
   "source": [
    "## Install and load libraries"
   ]
  },
  {
   "cell_type": "code",
   "execution_count": null,
   "metadata": {
    "tags": [
     "hide-input"
    ],
    "pycharm": {
     "name": "#%%\n"
    }
   },
   "outputs": [],
   "source": [
    "import os\n",
    "import iris\n",
    "import iris.analysis\n",
    "import iris.plot as iplt\n",
    "from iris.coords import DimCoord\n",
    "from iris.coord_systems import GeogCS\n",
    "from iris.cube import Cube\n",
    "\n",
    "from iris.fileformats.pp import EARTH_RADIUS\n",
    "\n",
    "import requests\n",
    "import urllib.request\n",
    "import pooch\n",
    "\n",
    "import numpy as np\n",
    "import matplotlib.pyplot as plt\n",
    "\n",
    "import warnings\n",
    "warnings.filterwarnings(action='ignore')\n",
    "\n",
    "%matplotlib inline"
   ]
  },
  {
   "cell_type": "markdown",
   "metadata": {
    "pycharm": {
     "name": "#%% md\n"
    }
   },
   "source": [
    "## Set project structure"
   ]
  },
  {
   "cell_type": "code",
   "execution_count": null,
   "metadata": {
    "pycharm": {
     "name": "#%%\n"
    }
   },
   "outputs": [],
   "source": [
    "notebook_folder = './urban-sensors-climate_ukv'\n",
    "if not os.path.exists(notebook_folder):\n",
    "    os.makedirs(notebook_folder)"
   ]
  },
  {
   "cell_type": "markdown",
   "metadata": {
    "pycharm": {
     "name": "#%% md\n"
    }
   },
   "source": [
    "## Retrieve and load a sample data file"
   ]
  },
  {
   "cell_type": "code",
   "execution_count": null,
   "metadata": {
    "pycharm": {
     "name": "#%%\n"
    }
   },
   "outputs": [],
   "source": [
    "filepath = 'https://metdatasa.blob.core.windows.net/covid19-response-non-commercial/metoffice_ukv_daily/t1o5m_mean/'\n",
    "filename = 'ukv_daily_t1o5m_mean_20150801.nc'\n",
    "\n",
    "response = requests.get(filepath+filename)\n",
    "if response.status_code == 200:\n",
    "    urllib.request.urlretrieve(filepath+filename, os.path.join(notebook_folder, filename))\n",
    "else:\n",
    "    pooch.retrieve(\n",
    "        url=\"doi:10.5281/zenodo.7087009/ukv_daily_t1o5m_mean_20150801.nc\",\n",
    "        known_hash=\"md5:b71e092ead092f419f12073ddf2d3256\",\n",
    "        path=notebook_folder,\n",
    "        fname=\"ukv_daily_t1o5m_mean_20150801.nc\"\n",
    "    )"
   ]
  },
  {
   "cell_type": "code",
   "execution_count": null,
   "metadata": {
    "pycharm": {
     "name": "#%%\n"
    }
   },
   "outputs": [],
   "source": [
    "air_temp = iris.load_cube(os.path.join(notebook_folder, filename))\n",
    "air_temp.coord('grid_latitude').guess_bounds()\n",
    "air_temp.coord('grid_longitude').guess_bounds()"
   ]
  },
  {
   "cell_type": "markdown",
   "metadata": {
    "pycharm": {
     "name": "#%% md\n"
    }
   },
   "source": [
    "## Visualisation\n",
    "\n",
    "Here we use the Iris wrapper to matplotlib pyplot to plot the gridded data with added gridlines and coastline."
   ]
  },
  {
   "cell_type": "code",
   "execution_count": null,
   "metadata": {
    "tags": [
     "hide-input"
    ],
    "pycharm": {
     "name": "#%%\n"
    }
   },
   "outputs": [],
   "source": [
    "plt.figure(figsize=(30, 10))\n",
    "iplt.pcolormesh(air_temp)\n",
    "plt.title(\"UKV Air temperature\", fontsize=\"xx-large\")\n",
    "cbar = plt.colorbar()\n",
    "cbar.set_label('Temperature (' + str(air_temp.units) + ')')\n",
    "ax = plt.gca()\n",
    "ax.coastlines(resolution=\"50m\")\n",
    "ax.gridlines()"
   ]
  },
  {
   "cell_type": "markdown",
   "metadata": {
    "pycharm": {
     "name": "#%% md\n"
    }
   },
   "source": [
    "## Regridding from Azimuthal equal-area projection to geographic"
   ]
  },
  {
   "cell_type": "markdown",
   "metadata": {
    "pycharm": {
     "name": "#%% md\n"
    }
   },
   "source": [
    "### Create a target cube with a lat-lon coord system for regrid\n",
    "\n",
    "It is filled with random data so we can plot it to check it looks correct."
   ]
  },
  {
   "cell_type": "code",
   "execution_count": null,
   "metadata": {
    "pycharm": {
     "name": "#%%\n"
    }
   },
   "outputs": [],
   "source": [
    "latitude = DimCoord(np.linspace(48.5, 59.5, 1222),\n",
    "                    standard_name='latitude',\n",
    "                    coord_system = GeogCS(EARTH_RADIUS),\n",
    "                    units='degrees')\n",
    "longitude = DimCoord(np.linspace(-10.5, 2.0, 1389),\n",
    "                     standard_name='longitude',\n",
    "                    coord_system = GeogCS(EARTH_RADIUS),                     \n",
    "                     units='degrees')\n",
    "global_cube = Cube(np.random.uniform(low=0.0, high=1.0, size=(1222, 1389)),\n",
    "                   dim_coords_and_dims=[(latitude, 0),\n",
    "                                        (longitude, 1)])\n",
    "\n",
    "global_cube.coord('latitude').guess_bounds()\n",
    "global_cube.coord('longitude').guess_bounds()"
   ]
  },
  {
   "cell_type": "code",
   "execution_count": null,
   "metadata": {
    "tags": [
     "hide-input"
    ],
    "pycharm": {
     "name": "#%%\n"
    }
   },
   "outputs": [],
   "source": [
    "plt.figure(figsize=(30, 10))\n",
    "iplt.pcolormesh(global_cube)\n",
    "plt.title(\"Target global cube\", fontsize=\"xx-large\")\n",
    "ax = plt.gca()\n",
    "ax.coastlines(resolution=\"50m\")\n",
    "ax.gridlines()"
   ]
  },
  {
   "cell_type": "markdown",
   "metadata": {
    "pycharm": {
     "name": "#%% md\n"
    }
   },
   "source": [
    "### Perform the regridding from source data cube to target cube"
   ]
  },
  {
   "cell_type": "code",
   "execution_count": null,
   "metadata": {
    "pycharm": {
     "name": "#%%\n"
    }
   },
   "outputs": [],
   "source": [
    "# Note we need to use extrapolation masking in case regridded source data is actually smaller\n",
    "# than the target cube extents\n",
    "global_air_temp = air_temp.regrid(global_cube, iris.analysis.Linear(extrapolation_mode=\"mask\"))"
   ]
  },
  {
   "cell_type": "markdown",
   "metadata": {
    "pycharm": {
     "name": "#%% md\n"
    }
   },
   "source": [
    "### Plot the regridded data to check it is correct"
   ]
  },
  {
   "cell_type": "code",
   "execution_count": null,
   "metadata": {
    "tags": [
     "hide-input"
    ],
    "pycharm": {
     "name": "#%%\n"
    }
   },
   "outputs": [],
   "source": [
    "plt.figure(figsize=(30, 10))\n",
    "\n",
    "iplt.pcolormesh(global_air_temp)\n",
    "plt.title(\"UKV Air temperature on a global grid\", fontsize=\"xx-large\")\n",
    "cbar = plt.colorbar()\n",
    "cbar.set_label('Temperature (' + str(global_air_temp.units) + ')')\n",
    "ax = plt.gca()\n",
    "ax.coastlines(resolution=\"50m\")\n",
    "ax.gridlines()"
   ]
  },
  {
   "cell_type": "markdown",
   "metadata": {
    "pycharm": {
     "name": "#%% md\n"
    }
   },
   "source": [
    "## Extract the London Region\n",
    "\n",
    "### Use the Iris Intersection method and supply the region lat-lon bounds"
   ]
  },
  {
   "cell_type": "code",
   "execution_count": null,
   "metadata": {
    "pycharm": {
     "name": "#%%\n"
    }
   },
   "outputs": [],
   "source": [
    "min_lon = -0.52\n",
    "min_lat = 51.3\n",
    "max_lon = 0.3\n",
    "max_lat = 51.7\n",
    "\n",
    "air_temp_london = global_air_temp.intersection(longitude=(min_lon, max_lon), latitude=(min_lat, max_lat))"
   ]
  },
  {
   "cell_type": "markdown",
   "metadata": {
    "pycharm": {
     "name": "#%% md\n"
    }
   },
   "source": [
    "### Plot the results"
   ]
  },
  {
   "cell_type": "code",
   "execution_count": null,
   "metadata": {
    "tags": [
     "hide-input"
    ],
    "pycharm": {
     "name": "#%%\n"
    }
   },
   "outputs": [],
   "source": [
    "plt.figure(figsize=(20, 5))\n",
    "\n",
    "iplt.pcolormesh(air_temp_london)\n",
    "plt.title(\"UKV Air temperature for london\", fontsize=\"xx-large\")\n",
    "cbar = plt.colorbar()\n",
    "cbar.set_label('Temperature (' + str(air_temp_london.units) + ')')\n",
    "ax = plt.gca()\n",
    "ax.coastlines(resolution=\"50m\")\n",
    "ax.gridlines()\n",
    "\n",
    "plt.show()"
   ]
  },
  {
   "cell_type": "markdown",
   "metadata": {
    "pycharm": {
     "name": "#%% md\n"
    }
   },
   "source": [
    "### Save as a new NetCDF file"
   ]
  },
  {
   "cell_type": "code",
   "execution_count": null,
   "metadata": {
    "pycharm": {
     "name": "#%%\n"
    }
   },
   "outputs": [],
   "source": [
    "iris.save(air_temp_london, os.path.join(notebook_folder,'ukv_london_sample.nc'))"
   ]
  },
  {
   "cell_type": "markdown",
   "metadata": {
    "pycharm": {
     "name": "#%% md\n"
    }
   },
   "source": [
    "## Summary\n",
    "\n",
    "This notebook has demonstrated the use of the `Iris` package to easily load, plot and manipulate gridded environmental NetCDF data."
   ]
  },
  {
   "cell_type": "markdown",
   "metadata": {
    "pycharm": {
     "name": "#%% md\n"
    }
   },
   "source": [
    "## Citing this Notebook"
   ]
  },
  {
   "cell_type": "markdown",
   "metadata": {
    "pycharm": {
     "name": "#%% md\n"
    }
   },
   "source": [
    "Samantha Adams, and Alejandro Coca-Castro. \"Met Office UKV high-resolution atmosphere model data (Jupyter Notebook) published in the Environmental Data Science book.\" ROHub. Feb 06 ,2022. https://w3id.org/ro-id/1b8921af-e77f-4ccf-ae38-4813cdceba0f."
   ]
  },
  {
   "cell_type": "markdown",
   "metadata": {
    "pycharm": {
     "name": "#%% md\n"
    }
   },
   "source": [
    "## Additional information\n",
    "\n",
    "**License**: The code in this notebook is licensed under the MIT License. The Environmental Data Science book is licensed under the Creative Commons by Attribution 4.0 license. See further details [here](https://github.com/alan-turing-institute/environmental-ds-book/blob/master/LICENSE.md).\n",
    "\n",
    "**Contact**: If you have any suggestion or report an issue with this notebook, feel free to [create an issue](https://github.com/alan-turing-institute/environmental-ds-book/issues/new/choose) or send a direct message to [environmental.ds.book@gmail.com](mailto:environmental.ds.book@gmail.com)."
   ]
  },
  {
   "cell_type": "code",
   "execution_count": null,
   "metadata": {
    "pycharm": {
     "name": "#%%\n"
    },
    "tags": [
     "remove-input"
    ]
   },
   "outputs": [],
   "source": [
    "from datetime import date\n",
    "print(f'Last tested: {date.today()}')"
   ]
  }
 ],
 "metadata": {
  "kernelspec": {
   "display_name": "Python 3 (ipykernel)",
   "language": "python",
   "name": "python3"
  },
  "language_info": {
   "codemirror_mode": {
    "name": "ipython",
    "version": 3
   },
   "file_extension": ".py",
   "mimetype": "text/x-python",
   "name": "python",
   "nbconvert_exporter": "python",
   "pygments_lexer": "ipython3",
   "version": "3.8.10"
  },
  "widgets": {
   "application/vnd.jupyter.widget-state+json": {
    "state": {},
    "version_major": 2,
    "version_minor": 0
   }
  }
 },
 "nbformat": 4,
 "nbformat_minor": 4
}