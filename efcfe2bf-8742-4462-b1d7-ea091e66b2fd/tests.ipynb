{
 "cells": [
  {
   "cell_type": "markdown",
   "id": "brown-wiring",
   "metadata": {},
   "source": [
    "<img src=\"https://reliance.rohub.org/static/media/Reliance-logo.f1fd2415.png\" width=\"250\" align=\"left\">\n",
    "<img src=\"https://git.man.poznan.pl/stash/projects/ROHUB/repos/rohub-api/browse/rohub_logo.png?raw=\" width=\"200\" align=\"right\">"
   ]
  },
  {
   "cell_type": "markdown",
   "id": "authorized-column",
   "metadata": {},
   "source": [
    "# Creation of a Research Object with the Reliance (rohub) library aggregating resources from local and from the EGI notebook\n",
    "\n",
    "Steps \n",
    "- Create a RO\n",
    "- Add metadata - collateral information\n",
    "- Add resources as internal\n",
    "- Add resources as external by generating sharable links in the datahub\n",
    "\n",
    "----"
   ]
  },
  {
   "cell_type": "code",
   "execution_count": null,
   "id": "b1392993-4054-4dc0-bde2-54d300fdf534",
   "metadata": {},
   "outputs": [],
   "source": [
    "pip install rohub"
   ]
  },
  {
   "cell_type": "code",
   "execution_count": null,
   "id": "composite-spring",
   "metadata": {},
   "outputs": [],
   "source": [
    "import os\n",
    "from rohub import rohub, settings\n",
    "import pathlib\n",
    "from zipfile import ZipFile\n",
    "import json\n",
    "import requests\n",
    "import datetime\n",
    "import shutil"
   ]
  },
  {
   "cell_type": "markdown",
   "id": "entitled-opera",
   "metadata": {},
   "source": [
    "## Sign in\n",
    "### Create a .txt file named \"rohub_user.txt\" containing the ROHub user name, and a .txt file named \"rohub_pwd.txt\" reporting the ROHun password"
   ]
  },
  {
   "cell_type": "code",
   "execution_count": null,
   "id": "5c4a33a1-68e8-4ab7-a61a-1b5abe0b3de0",
   "metadata": {},
   "outputs": [],
   "source": [
    "import getpass\n",
    "rohub_user = \"INSERT USERNAME\""
   ]
  },
  {
   "cell_type": "code",
   "execution_count": null,
   "id": "fc973d3b-28a6-40b0-a8a8-dfb3e20a4a9f",
   "metadata": {},
   "outputs": [],
   "source": [
    "rohub_pwd = getpass.getpass(prompt=\"Enter ROHub password: \")"
   ]
  },
  {
   "cell_type": "code",
   "execution_count": null,
   "id": "874aaffe-5714-4b39-8eea-f40a407d3227",
   "metadata": {},
   "outputs": [],
   "source": [
    "rohub.login(username=rohub_user, password=rohub_pwd)"
   ]
  },
  {
   "cell_type": "markdown",
   "id": "fundamental-marriage",
   "metadata": {},
   "source": [
    "## Check my last ROs"
   ]
  },
  {
   "cell_type": "code",
   "execution_count": null,
   "id": "raised-oregon",
   "metadata": {},
   "outputs": [],
   "source": [
    "myros=rohub.list_my_ros()\n",
    "myros[0:10]"
   ]
  },
  {
   "cell_type": "markdown",
   "id": "proper-middle",
   "metadata": {},
   "source": [
    "## Create a new RO"
   ]
  },
  {
   "cell_type": "code",
   "execution_count": null,
   "id": "flying-directory",
   "metadata": {
    "tags": []
   },
   "outputs": [],
   "source": [
    "# ROS_CREATE\n",
    "# title, research_areas, description=None, access_mode=None, ros_type=None, use_template=False, owner=None, editors=None, readers=None, creation_mode=None\n",
    "\n",
    "# RO TYPE\n",
    "#'Basic Research Object', 'Process-centric Research Object', 'Workflow-centric Research Object', 'Bibliography-centric Research Object', \n",
    "# 'Executable Research Object', 'Service-centric Research Object', 'Software-centric Research Object', 'Data-centric Research Object'\n",
    "\n",
    "ro_title=\"INSERT TITLE\"\n",
    "ro_research_areas=[\"INSERT RESEARCH AREA\"]\n",
    "ro_type='INSERT TYPE'\n",
    "#ro.template='Executable Research Object folders structure'\n",
    "#ro_type=\"Workflow-centric Research Object\"\n",
    "#ro_template=\"Workflow-centric Research Object\"\n",
    "\n",
    "ro = rohub.ros_create(title=ro_title, research_areas=ro_research_areas, ros_type=ro_type,use_template=True)"
   ]
  },
  {
   "cell_type": "markdown",
   "id": "rational-expression",
   "metadata": {},
   "source": [
    "## ...or Load an existing RO"
   ]
  },
  {
   "cell_type": "code",
   "execution_count": null,
   "id": "intended-cricket",
   "metadata": {
    "tags": []
   },
   "outputs": [],
   "source": [
    "#ro_id=myros.loc[3,\"identifier\"]\n",
    "#ro=rohub.ros_load(identifier=ro_id)"
   ]
  },
  {
   "cell_type": "markdown",
   "id": "molecular-wales",
   "metadata": {},
   "source": [
    "### Show metadata"
   ]
  },
  {
   "cell_type": "code",
   "execution_count": null,
   "id": "academic-freeware",
   "metadata": {},
   "outputs": [],
   "source": [
    "ro.show_metadata()"
   ]
  },
  {
   "cell_type": "markdown",
   "id": "academic-operation",
   "metadata": {},
   "source": [
    "### Add description to the RO"
   ]
  },
  {
   "cell_type": "code",
   "execution_count": null,
   "id": "unnecessary-entrance",
   "metadata": {},
   "outputs": [],
   "source": [
    "ro.description=\"INSERT DESCRIPTION\"\n",
    "\n",
    "ro.update()"
   ]
  },
  {
   "cell_type": "markdown",
   "id": "a3afceb3-6207-4320-9d2d-c745eca91fcd",
   "metadata": {
    "tags": []
   },
   "source": [
    "### Add authors/contributors/publishers/copyrightHolders"
   ]
  },
  {
   "cell_type": "code",
   "execution_count": null,
   "id": "d33f6942-4830-4c2b-a23f-628b5235a936",
   "metadata": {},
   "outputs": [],
   "source": [
    "usernames=rohub.users_find(search=\"Castellan\")\n",
    "usernames"
   ]
  },
  {
   "cell_type": "code",
   "execution_count": null,
   "id": "1e31986a-1f42-46a6-a3b3-e6d48adbfade",
   "metadata": {},
   "outputs": [],
   "source": [
    "user_id_GC=usernames.loc[0,\"username\"]"
   ]
  },
  {
   "cell_type": "code",
   "execution_count": null,
   "id": "92d07307-322a-401c-b37a-762f5a32a34c",
   "metadata": {},
   "outputs": [],
   "source": [
    "usernames=rohub.users_find(search=\"Foglini\")\n",
    "usernames"
   ]
  },
  {
   "cell_type": "code",
   "execution_count": null,
   "id": "bce1c27c-4487-4106-8a06-c85550a2b230",
   "metadata": {},
   "outputs": [],
   "source": [
    "user_id_FF=usernames.loc[2,\"username\"]"
   ]
  },
  {
   "cell_type": "code",
   "execution_count": null,
   "id": "8d79bfd5-6d0a-483d-8b68-c934e4528b82",
   "metadata": {},
   "outputs": [],
   "source": [
    "usernames=rohub.users_find(search=\"Grande\")\n",
    "usernames"
   ]
  },
  {
   "cell_type": "code",
   "execution_count": null,
   "id": "5ba6e28d-1f07-4183-9826-3136355d8516",
   "metadata": {},
   "outputs": [],
   "source": [
    "user_id_VG=usernames.loc[0,\"username\"]"
   ]
  },
  {
   "cell_type": "code",
   "execution_count": null,
   "id": "f17810b6-1075-42c5-b1e2-acfa289f6574",
   "metadata": {},
   "outputs": [],
   "source": [
    "ro.set_authors(agents=[user_id_GC,user_id_FF,user_id_VG])"
   ]
  },
  {
   "cell_type": "markdown",
   "id": "angry-travel",
   "metadata": {},
   "source": [
    "### Add Funder"
   ]
  },
  {
   "cell_type": "code",
   "execution_count": null,
   "id": "directed-progressive",
   "metadata": {},
   "outputs": [],
   "source": [
    "funded_by = {\n",
    "\"grant_id\": \"ADD ID\",\n",
    "\"grant_Name\": \"ADD NAME\",\n",
    "\"grant_title\": \"ADD TITLE\",\n",
    "\"funder_name\": \"ADD FUNDER\",\n",
    "\"funder_doi\": \"ADD DOI\",\n",
    "}\n",
    "\n",
    "if funded_by:\n",
    "    ro.add_funding(grant_identifier=funded_by[\"grant_id\"], grant_name=funded_by[\"grant_Name\"],\n",
    "                   funder_name=funded_by[\"funder_name\"], grant_title=funded_by[\"grant_title\"],\n",
    "                   funder_doi=funded_by[\"funder_doi\"])"
   ]
  },
  {
   "cell_type": "markdown",
   "id": "ignored-compiler",
   "metadata": {},
   "source": [
    "### Add license"
   ]
  },
  {
   "cell_type": "code",
   "execution_count": null,
   "id": "offshore-cursor",
   "metadata": {},
   "outputs": [],
   "source": [
    "#licenses = rohub.list_available_licenses()\n",
    "#licenses\n",
    "license = 'ADD LICENSE'\n",
    "\n",
    "ro.set_license(license_id=license) "
   ]
  },
  {
   "cell_type": "markdown",
   "id": "4c56005d-89bd-453a-bde0-6757222aaea4",
   "metadata": {
    "tags": []
   },
   "source": [
    "# Add resources to the RO"
   ]
  },
  {
   "cell_type": "markdown",
   "id": "3ad70a6e-5320-4bae-a641-2c4845b9cedf",
   "metadata": {},
   "source": [
    "## Define folders in datahub"
   ]
  },
  {
   "cell_type": "code",
   "execution_count": null,
   "id": "b28878f6-e5ff-4ff0-a875-f12f05ac9eab",
   "metadata": {
    "tags": []
   },
   "outputs": [],
   "source": [
    "WORKDIR_FOLDER = os.path.join(os.environ['HOME'], \"ADD PATH\")\n",
    "print(\"WORKDIR FOLDER: \", WORKDIR_FOLDER)"
   ]
  },
  {
   "cell_type": "code",
   "execution_count": null,
   "id": "fb32273a-541c-4a25-b6ac-0fdaeb94ff6e",
   "metadata": {},
   "outputs": [],
   "source": [
    "INPUT_DATA_DIR  = os.path.join(WORKDIR_FOLDER, 'input')\n",
    "OUTPUT_DATA_DIR = os.path.join(WORKDIR_FOLDER, 'output')\n",
    "TOOL_DATA_DIR   = os.path.join(WORKDIR_FOLDER, 'tool')"
   ]
  },
  {
   "cell_type": "markdown",
   "id": "acceptable-kelly",
   "metadata": {},
   "source": [
    "## Add Sketch - Internal resource"
   ]
  },
  {
   "cell_type": "code",
   "execution_count": null,
   "id": "indoor-mirror",
   "metadata": {
    "tags": []
   },
   "outputs": [],
   "source": [
    "resi_res_type = \"Sketch\"\n",
    "resi_file_url = os.path.join(OUTPUT_DATA_DIR, 'ADD FILE NAME')\n",
    "resi_title=\"ADD TITLE\"\n",
    "resi_folder=\"output\"\n",
    "resi_description=resi_title\n",
    "\n",
    "ro.add_internal_resource(res_type=resi_res_type,\n",
    "                         file_path=resi_file_path,\n",
    "                         title=resi_title,\n",
    "                         description=resi_description,\n",
    "                         folder=resi_folder)"
   ]
  },
  {
   "cell_type": "markdown",
   "id": "4ec9eaed-6a6d-4d6c-abff-40ec3d85079e",
   "metadata": {},
   "source": [
    "## or from external resource"
   ]
  },
  {
   "cell_type": "code",
   "execution_count": null,
   "id": "8601abe9-2a38-43d7-81b6-e5cb766015cb",
   "metadata": {},
   "outputs": [],
   "source": [
    "resi_res_type = \"Sketch\"\n",
    "resi_file_url = \"ADD URL\"\n",
    "resi_title=\"ADD TITLE\"\n",
    "resi_folder=\"output\"\n",
    "resi_description=resi_title\n",
    "\n",
    "ro.add_external_resource(res_type=resi_res_type,\n",
    "                         input_url=resi_file_url,\n",
    "                         title=resi_title,\n",
    "                         description = resi_description,\n",
    "                         folder=resi_folder)"
   ]
  },
  {
   "cell_type": "markdown",
   "id": "14d5d0ec-d7ff-4e6f-bfef-9125052aca49",
   "metadata": {
    "tags": []
   },
   "source": [
    "## Add bibliographic resource"
   ]
  },
  {
   "cell_type": "code",
   "execution_count": null,
   "id": "4eb06da1-3805-4fc9-a23e-eeb76c41044e",
   "metadata": {},
   "outputs": [],
   "source": [
    "rese_res_type=\"Bibliographic Resource\"\n",
    "rese_file_url=\"ADD URL\"\n",
    "rese_title=\"ADD TITLE\"\n",
    "rese_descr= \"ADD DESCRIPTION\"\n",
    "resi_folder=\"biblio\"\n",
    "\n",
    "ro.add_external_resource(res_type=rese_res_type,\n",
    "                         input_url=rese_file_url,\n",
    "                         title=rese_title,\n",
    "                         description = rese_descr,\n",
    "                         folder=resi_folder)"
   ]
  },
  {
   "cell_type": "code",
   "execution_count": null,
   "id": "4dd2e021-47f2-4e3e-8610-814d822ba570",
   "metadata": {},
   "outputs": [],
   "source": [
    "ro.list_resources()"
   ]
  },
  {
   "cell_type": "markdown",
   "id": "2d5d8a43-13a6-421b-b526-7163fe8da8e3",
   "metadata": {},
   "source": [
    "## Add Python Script or Jupyter Notebook as an internal resource"
   ]
  },
  {
   "cell_type": "code",
   "execution_count": null,
   "id": "4ea4232b-d06a-493e-adff-41ff276265ee",
   "metadata": {},
   "outputs": [],
   "source": [
    "import pathlib\n",
    "resi_file_path='NAME OF NOTEBOOK'\n",
    "resi_folder=myfolders.loc[3,\"identifier\"]"
   ]
  },
  {
   "cell_type": "code",
   "execution_count": null,
   "id": "193d74c6-0235-4835-b602-2d70b1b68c9d",
   "metadata": {},
   "outputs": [],
   "source": [
    "if pathlib.Path(resi_file_path).exists():\n",
    "    resi_res_type=\"Jupyter Notebook\"\n",
    "    resi_title=\"ADD TITLE\"\n",
    "    resi_description= resi_title\n",
    "    ro.add_internal_resource(res_type=resi_res_type,file_path=resi_file_path, title=resi_title, description=resi_description)"
   ]
  },
  {
   "cell_type": "markdown",
   "id": "bbc71041-22d0-4279-8ca3-0c3029c4bd3f",
   "metadata": {},
   "source": [
    "## or as an external executable resource"
   ]
  },
  {
   "cell_type": "markdown",
   "id": "63c75f81-ce0c-43a0-9485-4b26c098ab2e",
   "metadata": {},
   "source": [
    "###  Get shared link from EGI datahub"
   ]
  },
  {
   "cell_type": "code",
   "execution_count": null,
   "id": "2a63196a-366c-493c-b704-f26623159c98",
   "metadata": {},
   "outputs": [],
   "source": [
    "def egi_datahub_init():\n",
    "    import requests, json\n",
    "    \n",
    "    ONEZONE_ENDPOINT=\"https://datahub.egi.eu/api/v3/onezone/\"\n",
    "    ONEPROVIDER_ENDPOINT=\"https://cesnet-oneprovider-01.datahub.egi.eu/api/v3/oneprovider/\"\n",
    "    EGI_TOKEN = None\n",
    "    DATAHUB_TOKEN=None\n",
    "    TOKEN_NAME=\"REST and CDMI access token - reliance\"\n",
    "    \n",
    "    try:\n",
    "        # read EGI Notebooks ready to use access token\n",
    "        with open(\"/var/run/secrets/egi.eu/access_token\") as f:\n",
    "            EGI_TOKEN = f.read()\n",
    "    except:\n",
    "        print(\"No access_token file found\")\n",
    "    \n",
    "    if EGI_TOKEN:    \n",
    "        # get DATAHUB token\n",
    "        headers = {\n",
    "            'X-Auth-Token': f\"egi:\" + EGI_TOKEN,\n",
    "            'Content-type': 'application/json',\n",
    "        }\n",
    "        # try to get existing token first\n",
    "        try:\n",
    "            response = requests.get(ONEZONE_ENDPOINT+'user/tokens/named/name/'+TOKEN_NAME, headers=headers)\n",
    "            if (response.status_code==200):\n",
    "                print (\"reuse existing token!\")\n",
    "                DATAHUB_TOKEN = response.json()['token']\n",
    "        except:\n",
    "            print(\"EGI Datahub GET existing token problem\")\n",
    "        if not DATAHUB_TOKEN:\n",
    "            # create new access token\n",
    "            data = json.dumps({ \n",
    "                'name': TOKEN_NAME, \n",
    "                'type': { \n",
    "                    'accessToken': {} \n",
    "                }, \n",
    "                'caveats': [ { \n",
    "                    'type': 'interface', \n",
    "                    'interface': 'rest' \n",
    "                }] \n",
    "            })\n",
    "            try:\n",
    "                response = requests.post(ONEZONE_ENDPOINT+'user/tokens/named', headers=headers, data=data)\n",
    "                print (\"create new token!\")\n",
    "                DATAHUB_TOKEN=response.json()['token']  \n",
    "            except:\n",
    "                print(\"EGI Datahub create new token problem\")\n",
    "        print (DATAHUB_TOKEN)\n",
    "    return DATAHUB_TOKEN"
   ]
  },
  {
   "cell_type": "code",
   "execution_count": null,
   "id": "71fd2dd0-f15a-4565-8991-45d9ffe26b9b",
   "metadata": {},
   "outputs": [],
   "source": [
    "def egi_datahub_getlink(datahub_token, filename):\n",
    "    import requests, json, os\n",
    "    ONEZONE_ENDPOINT=\"https://datahub.egi.eu/api/v3/onezone/\"\n",
    "    ONEPROVIDER_ENDPOINT=\"https://cesnet-oneprovider-01.datahub.egi.eu/api/v3/oneprovider/\"\n",
    "    \n",
    "    bname = os.path.basename(filename)\n",
    "    hname = filename.split('datahub/')[1]\n",
    "    ## get file id\n",
    "    headers = { \n",
    "        'X-Auth-Token': datahub_token \n",
    "    }\n",
    "    response = requests.post(ONEPROVIDER_ENDPOINT+'lookup-file-id/'+hname, headers=headers)    \n",
    "    dh_fileid = response.json()['fileId']\n",
    "    ## get shared link \n",
    "    headers = { 'X-Auth-Token': datahub_token, 'Content-Type': 'application/json',}\n",
    "    data = json.dumps({ \n",
    "        'name': bname,\n",
    "        'fileId': dh_fileid\n",
    "    })\n",
    "    response = requests.post(ONEPROVIDER_ENDPOINT+'shares', headers=headers, data=data)\n",
    "    shareIdGenerated=response.json()['shareId']\n",
    "    # get shared link details\n",
    "    headers = {\n",
    "        'X-Auth-Token': datahub_token\n",
    "    }\n",
    "    response = requests.get(ONEPROVIDER_ENDPOINT+'shares/'+shareIdGenerated, headers=headers)\n",
    "    publicURL=response.json()['publicUrl'] #publicURL is nice link but to webpage where you can download file, not the actual file\n",
    "    contentURL= ONEZONE_ENDPOINT+'shares/data/'+response.json()['rootFileId']+'/content' #use this link to aggregate Jupyter Notebooks\n",
    "    return (publicURL, contentURL)"
   ]
  },
  {
   "cell_type": "markdown",
   "id": "17044a0e-5275-46cb-b6d1-232d3428660e",
   "metadata": {},
   "source": [
    "### EGI DataHub initialization"
   ]
  },
  {
   "cell_type": "code",
   "execution_count": null,
   "id": "66a6963c-6939-48a9-be43-19f03c9cc97d",
   "metadata": {},
   "outputs": [],
   "source": [
    "DATAHUB_TOKEN = egi_datahub_init()"
   ]
  },
  {
   "cell_type": "code",
   "execution_count": null,
   "id": "e5876e9f-be50-4100-999c-2405141583fc",
   "metadata": {},
   "outputs": [],
   "source": [
    "import os\n",
    "WORKDIR_FOLDER = \"ADD PATH\"\n",
    "INPUT_DATA_DIR  = \"ADD PATH\"\n",
    "\n",
    "myfilename = 'ADD FILENAME'\n",
    "shared_res_path = os.path.join(INPUT_DATA_DIR, myfilename)\n",
    "print(shared_res_path)\n",
    "links = egi_datahub_getlink(DATAHUB_TOKEN, shared_res_path)\n",
    "# we can aggregate either the publicURL or the contentURL as external resource in the research object\n",
    "# the publicURL redirects to the EGI DataHub Webpage of the resource, where you can download the resource\n",
    "# the contentURL redirects to the file contents directly. \n",
    "# NOTE: YOU NEED TO USE contentURL to aggregate JupyterNoteboks to be able to execute them from ROHub\n",
    "res_file_url_public = links[0] \n",
    "print (res_file_url_public)\n",
    "print ('test')\n",
    "res_file_url_content = links[1] \n",
    "print (res_file_url_content)"
   ]
  },
  {
   "cell_type": "markdown",
   "id": "e27b2904-89ae-4129-83c4-4d0c9d8db63c",
   "metadata": {},
   "source": [
    "### Add the resource to our new RO"
   ]
  },
  {
   "cell_type": "code",
   "execution_count": null,
   "id": "52c41724-d8d4-4452-867e-11186220b476",
   "metadata": {},
   "outputs": [],
   "source": [
    "res_type = \"Jupyter Notebook\"\n",
    "res_title = \"ADD TITLE\"\n",
    "res_description = \"ADD DESCRIPTION\"\n",
    "res_folder='tool'\n",
    "ro.add_external_resource(res_type=res_type,\n",
    "                         input_url=res_file_url_content,\n",
    "                         title=res_title, \n",
    "                         description=res_description, \n",
    "                         folder=res_folder)"
   ]
  }
 ],
 "metadata": {
  "kernelspec": {
   "display_name": "Python 3",
   "language": "python",
   "name": "python3"
  },
  "language_info": {
   "codemirror_mode": {
    "name": "ipython",
    "version": 3
   },
   "file_extension": ".py",
   "mimetype": "text/x-python",
   "name": "python",
   "nbconvert_exporter": "python",
   "pygments_lexer": "ipython3",
   "version": "3.8.8"
  }
 },
 "nbformat": 4,
 "nbformat_minor": 5
}

