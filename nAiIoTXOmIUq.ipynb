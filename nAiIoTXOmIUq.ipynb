{
 "cells": [
  {
   "cell_type": "markdown",
   "id": "brown-wiring",
   "metadata": {},
   "source": [
    "<img src=\"./VSM_logo.gif\" width=\"550\" align=\"center\">"
   ]
  },
  {
   "cell_type": "markdown",
   "id": "authorized-column",
   "metadata": {},
   "source": [
    "## Creation of a Research Object from a single run of VSM with the Reliance (rohub) library aggregating resources from local and from the EGI notebook\n",
    "\n",
    "Steps \n",
    "- Create a RO\n",
    "- Add metadata - collateral information\n",
    "- Add resources as internal\n",
    "- Add resources as external by generating sharable links in the datahub\n",
    "\n",
    "----"
   ]
  },
  {
   "cell_type": "code",
   "execution_count": 1,
   "id": "b1392993-4054-4dc0-bde2-54d300fdf534",
   "metadata": {},
   "outputs": [
    {
     "name": "stdout",
     "output_type": "stream",
     "text": [
      "Collecting rohub\n",
      "  Downloading rohub-1.0.7.tar.gz (3.8 MB)\n",
      "\u001b[K     |████████████████████████████████| 3.8 MB 4.6 MB/s eta 0:00:01\n",
      "\u001b[?25h  Installing build dependencies ... \u001b[?25ldone\n",
      "\u001b[?25h  Getting requirements to build wheel ... \u001b[?25ldone\n",
      "\u001b[?25h    Preparing wheel metadata ... \u001b[?25ldone\n",
      "\u001b[?25hRequirement already satisfied: requests in /opt/conda/lib/python3.8/site-packages (from rohub) (2.25.1)\n",
      "Requirement already satisfied: pandas in /opt/conda/lib/python3.8/site-packages (from rohub) (1.2.4)\n",
      "Requirement already satisfied: python-dateutil>=2.7.3 in /opt/conda/lib/python3.8/site-packages (from pandas->rohub) (2.8.1)\n",
      "Requirement already satisfied: pytz>=2017.3 in /opt/conda/lib/python3.8/site-packages (from pandas->rohub) (2021.1)\n",
      "Requirement already satisfied: numpy>=1.16.5 in /opt/conda/lib/python3.8/site-packages (from pandas->rohub) (1.19.5)\n",
      "Requirement already satisfied: six>=1.5 in /opt/conda/lib/python3.8/site-packages (from python-dateutil>=2.7.3->pandas->rohub) (1.15.0)\n",
      "Requirement already satisfied: chardet<5,>=3.0.2 in /opt/conda/lib/python3.8/site-packages (from requests->rohub) (4.0.0)\n",
      "Requirement already satisfied: urllib3<1.27,>=1.21.1 in /opt/conda/lib/python3.8/site-packages (from requests->rohub) (1.26.4)\n",
      "Requirement already satisfied: idna<3,>=2.5 in /opt/conda/lib/python3.8/site-packages (from requests->rohub) (2.10)\n",
      "Requirement already satisfied: certifi>=2017.4.17 in /opt/conda/lib/python3.8/site-packages (from requests->rohub) (2021.10.8)\n",
      "Building wheels for collected packages: rohub\n",
      "  Building wheel for rohub (PEP 517) ... \u001b[?25ldone\n",
      "\u001b[?25h  Created wheel for rohub: filename=rohub-1.0.7-py3-none-any.whl size=41549 sha256=2f92d1016f4ebb44a9a1420020cdea6372d90776d400bd26938ad70654012aa6\n",
      "  Stored in directory: /home/jovyan/.cache/pip/wheels/fd/ef/78/531220e1c92c10ef03f672d772cd432d323307c32cdc78534d\n",
      "Successfully built rohub\n",
      "Installing collected packages: rohub\n",
      "Successfully installed rohub-1.0.7\n",
      "Note: you may need to restart the kernel to use updated packages.\n"
     ]
    }
   ],
   "source": [
    "pip install rohub"
   ]
  },
  {
   "cell_type": "code",
   "execution_count": 2,
   "id": "composite-spring",
   "metadata": {},
   "outputs": [],
   "source": [
    "import os\n",
    "from rohub import rohub, settings\n",
    "import pathlib\n",
    "from zipfile import ZipFile\n",
    "import json\n",
    "import requests\n",
    "import datetime\n",
    "import shutil"
   ]
  },
  {
   "cell_type": "markdown",
   "id": "entitled-opera",
   "metadata": {},
   "source": [
    "### Sign in\n",
    "### Create a .txt file named \"rohub_user.txt\" containing the ROHub user name, and a .txt file named \"rohub_pwd.txt\" reporting the ROHun password"
   ]
  },
  {
   "cell_type": "code",
   "execution_count": 15,
   "id": "phantom-horse",
   "metadata": {},
   "outputs": [
    {
     "name": "stdout",
     "output_type": "stream",
     "text": [
      "Logged successfully as giorgio.castellan@bo.ismar.cnr.it.\n"
     ]
    }
   ],
   "source": [
    "rohub_user = open(\"/home/jovyan/rohub-user\").read().rstrip()\n",
    "rohub_pwd = open(\"/home/jovyan/rohub-pwd\").read().rstrip()\n",
    "rohub.login(username=rohub_user, password=rohub_pwd)"
   ]
  },
  {
   "cell_type": "markdown",
   "id": "fundamental-marriage",
   "metadata": {},
   "source": [
    "### Check my last ROs"
   ]
  },
  {
   "cell_type": "code",
   "execution_count": 16,
   "id": "raised-oregon",
   "metadata": {},
   "outputs": [
    {
     "data": {
      "text/html": [
       "<div>\n",
       "<style scoped>\n",
       "    .dataframe tbody tr th:only-of-type {\n",
       "        vertical-align: middle;\n",
       "    }\n",
       "\n",
       "    .dataframe tbody tr th {\n",
       "        vertical-align: top;\n",
       "    }\n",
       "\n",
       "    .dataframe thead th {\n",
       "        text-align: right;\n",
       "    }\n",
       "</style>\n",
       "<table border=\"1\" class=\"dataframe\">\n",
       "  <thead>\n",
       "    <tr style=\"text-align: right;\">\n",
       "      <th></th>\n",
       "      <th>identifier</th>\n",
       "      <th>title</th>\n",
       "      <th>description</th>\n",
       "      <th>type</th>\n",
       "      <th>research_areas</th>\n",
       "      <th>status</th>\n",
       "      <th>created_on</th>\n",
       "      <th>created_by</th>\n",
       "      <th>modified_on</th>\n",
       "      <th>access_mode</th>\n",
       "      <th>owner</th>\n",
       "      <th>creation_mode</th>\n",
       "      <th>shared_link</th>\n",
       "    </tr>\n",
       "  </thead>\n",
       "  <tbody>\n",
       "    <tr>\n",
       "      <th>0</th>\n",
       "      <td>6556cdf7-bcef-43d3-a3ce-3d45d14e4a24</td>\n",
       "      <td>Identifying Priorities for the Protection of D...</td>\n",
       "      <td>Benthic habitats of the deep Mediterranean Sea...</td>\n",
       "      <td>Basic Research Object</td>\n",
       "      <td>[Applied sciences, Ecology, Environmental rese...</td>\n",
       "      <td>LIVE</td>\n",
       "      <td>2022-03-24T17:00:15.895312+00:00</td>\n",
       "      <td>giorgio.castellan@bo.ismar.cnr.it</td>\n",
       "      <td>2022-03-25T09:51:59.432183+00:00</td>\n",
       "      <td>PUBLIC</td>\n",
       "      <td>giorgio.castellan@bo.ismar.cnr.it</td>\n",
       "      <td>MANUAL</td>\n",
       "      <td>https://w3id.org/ro-id/6556cdf7-bcef-43d3-a3ce...</td>\n",
       "    </tr>\n",
       "    <tr>\n",
       "      <th>1</th>\n",
       "      <td>f90c2540-1c8c-499b-b3d1-ec95ac526772</td>\n",
       "      <td>Mapping the photic zone of the Mediterranean S...</td>\n",
       "      <td>Estimating the penetration of light along the ...</td>\n",
       "      <td>Basic Research Object</td>\n",
       "      <td>[Ecology, Environmental research]</td>\n",
       "      <td>LIVE</td>\n",
       "      <td>2022-03-03T16:25:15.908501+00:00</td>\n",
       "      <td>giorgio.castellan@bo.ismar.cnr.it</td>\n",
       "      <td>2022-05-22T16:22:45.282688+00:00</td>\n",
       "      <td>PUBLIC</td>\n",
       "      <td>giorgio.castellan@bo.ismar.cnr.it</td>\n",
       "      <td>MANUAL</td>\n",
       "      <td>https://w3id.org/ro-id/f90c2540-1c8c-499b-b3d1...</td>\n",
       "    </tr>\n",
       "    <tr>\n",
       "      <th>2</th>\n",
       "      <td>d0694eaf-a561-4c9f-9a70-17c296da2140</td>\n",
       "      <td>Analysis from satellite data – Environmental m...</td>\n",
       "      <td>Collection and analysis of satellite data to m...</td>\n",
       "      <td>Basic Research Object</td>\n",
       "      <td>[Earth sciences]</td>\n",
       "      <td>LIVE</td>\n",
       "      <td>2021-12-14T10:41:17.716553+00:00</td>\n",
       "      <td>giorgio.castellan@bo.ismar.cnr.it</td>\n",
       "      <td>2022-03-29T09:26:43.757264+00:00</td>\n",
       "      <td>PUBLIC</td>\n",
       "      <td>giorgio.castellan@bo.ismar.cnr.it</td>\n",
       "      <td>MANUAL</td>\n",
       "      <td>https://w3id.org/ro-id/d0694eaf-a561-4c9f-9a70...</td>\n",
       "    </tr>\n",
       "    <tr>\n",
       "      <th>3</th>\n",
       "      <td>34d648b3-0014-4a19-8469-40b9380ca4c3</td>\n",
       "      <td>Discover and subset satellite data from the AD...</td>\n",
       "      <td>This Research Object demonstrate how to discov...</td>\n",
       "      <td>Executable Research Object</td>\n",
       "      <td>[Earth sciences]</td>\n",
       "      <td>LIVE</td>\n",
       "      <td>2021-12-14T09:50:09.833282+00:00</td>\n",
       "      <td>giorgio.castellan@bo.ismar.cnr.it</td>\n",
       "      <td>2022-03-24T17:36:26.806578+00:00</td>\n",
       "      <td>PUBLIC</td>\n",
       "      <td>giorgio.castellan@bo.ismar.cnr.it</td>\n",
       "      <td>MANUAL</td>\n",
       "      <td>https://w3id.org/ro-id/34d648b3-0014-4a19-8469...</td>\n",
       "    </tr>\n",
       "    <tr>\n",
       "      <th>4</th>\n",
       "      <td>894d3a33-8340-497d-beaf-5b9d85c9bfc7</td>\n",
       "      <td>Satellite data on water clarity in the Venice ...</td>\n",
       "      <td>Satellite Data on Chlorophyll-a and diffuse at...</td>\n",
       "      <td>Data-centric Research Object</td>\n",
       "      <td>[Applied sciences, Earth sciences, Optics, Phy...</td>\n",
       "      <td>LIVE</td>\n",
       "      <td>2021-12-07T15:44:04.866966+00:00</td>\n",
       "      <td>giorgio.castellan@bo.ismar.cnr.it</td>\n",
       "      <td>2022-03-24T16:35:02.917450+00:00</td>\n",
       "      <td>PUBLIC</td>\n",
       "      <td>giorgio.castellan@bo.ismar.cnr.it</td>\n",
       "      <td>MANUAL</td>\n",
       "      <td>https://w3id.org/ro-id/894d3a33-8340-497d-beaf...</td>\n",
       "    </tr>\n",
       "    <tr>\n",
       "      <th>5</th>\n",
       "      <td>1c87c3d6-46f0-4bfe-bc73-88282fb8c3c5</td>\n",
       "      <td>Spatial and temporal distribution of Cold Wate...</td>\n",
       "      <td>Data on temperature, salinity, dissolved oxyge...</td>\n",
       "      <td>Data-centric Research Object</td>\n",
       "      <td>[Applied sciences, Earth sciences, Ecology, Ge...</td>\n",
       "      <td>LIVE</td>\n",
       "      <td>2021-12-07T15:20:52.205188+00:00</td>\n",
       "      <td>giorgio.castellan@bo.ismar.cnr.it</td>\n",
       "      <td>2022-03-24T04:37:09.655295+00:00</td>\n",
       "      <td>PUBLIC</td>\n",
       "      <td>giorgio.castellan@bo.ismar.cnr.it</td>\n",
       "      <td>MANUAL</td>\n",
       "      <td>https://w3id.org/ro-id/1c87c3d6-46f0-4bfe-bc73...</td>\n",
       "    </tr>\n",
       "    <tr>\n",
       "      <th>6</th>\n",
       "      <td>f9fca558-8f1d-4aab-a53b-90c4d1bc0037</td>\n",
       "      <td>Mapping the Mediterranean photic zone - Data</td>\n",
       "      <td>Data on light attenuation (Kd490) and Chloroph...</td>\n",
       "      <td>Data-centric Research Object</td>\n",
       "      <td>[Applied sciences, Earth sciences, Ecology]</td>\n",
       "      <td>LIVE</td>\n",
       "      <td>2021-12-07T14:00:01.195220+00:00</td>\n",
       "      <td>giorgio.castellan@bo.ismar.cnr.it</td>\n",
       "      <td>2022-03-24T04:00:41.708212+00:00</td>\n",
       "      <td>PUBLIC</td>\n",
       "      <td>giorgio.castellan@bo.ismar.cnr.it</td>\n",
       "      <td>MANUAL</td>\n",
       "      <td>https://w3id.org/ro-id/f9fca558-8f1d-4aab-a53b...</td>\n",
       "    </tr>\n",
       "  </tbody>\n",
       "</table>\n",
       "</div>"
      ],
      "text/plain": [
       "                             identifier  \\\n",
       "0  6556cdf7-bcef-43d3-a3ce-3d45d14e4a24   \n",
       "1  f90c2540-1c8c-499b-b3d1-ec95ac526772   \n",
       "2  d0694eaf-a561-4c9f-9a70-17c296da2140   \n",
       "3  34d648b3-0014-4a19-8469-40b9380ca4c3   \n",
       "4  894d3a33-8340-497d-beaf-5b9d85c9bfc7   \n",
       "5  1c87c3d6-46f0-4bfe-bc73-88282fb8c3c5   \n",
       "6  f9fca558-8f1d-4aab-a53b-90c4d1bc0037   \n",
       "\n",
       "                                               title  \\\n",
       "0  Identifying Priorities for the Protection of D...   \n",
       "1  Mapping the photic zone of the Mediterranean S...   \n",
       "2  Analysis from satellite data – Environmental m...   \n",
       "3  Discover and subset satellite data from the AD...   \n",
       "4  Satellite data on water clarity in the Venice ...   \n",
       "5  Spatial and temporal distribution of Cold Wate...   \n",
       "6       Mapping the Mediterranean photic zone - Data   \n",
       "\n",
       "                                         description  \\\n",
       "0  Benthic habitats of the deep Mediterranean Sea...   \n",
       "1  Estimating the penetration of light along the ...   \n",
       "2  Collection and analysis of satellite data to m...   \n",
       "3  This Research Object demonstrate how to discov...   \n",
       "4  Satellite Data on Chlorophyll-a and diffuse at...   \n",
       "5  Data on temperature, salinity, dissolved oxyge...   \n",
       "6  Data on light attenuation (Kd490) and Chloroph...   \n",
       "\n",
       "                           type  \\\n",
       "0         Basic Research Object   \n",
       "1         Basic Research Object   \n",
       "2         Basic Research Object   \n",
       "3    Executable Research Object   \n",
       "4  Data-centric Research Object   \n",
       "5  Data-centric Research Object   \n",
       "6  Data-centric Research Object   \n",
       "\n",
       "                                      research_areas status  \\\n",
       "0  [Applied sciences, Ecology, Environmental rese...   LIVE   \n",
       "1                  [Ecology, Environmental research]   LIVE   \n",
       "2                                   [Earth sciences]   LIVE   \n",
       "3                                   [Earth sciences]   LIVE   \n",
       "4  [Applied sciences, Earth sciences, Optics, Phy...   LIVE   \n",
       "5  [Applied sciences, Earth sciences, Ecology, Ge...   LIVE   \n",
       "6        [Applied sciences, Earth sciences, Ecology]   LIVE   \n",
       "\n",
       "                         created_on                         created_by  \\\n",
       "0  2022-03-24T17:00:15.895312+00:00  giorgio.castellan@bo.ismar.cnr.it   \n",
       "1  2022-03-03T16:25:15.908501+00:00  giorgio.castellan@bo.ismar.cnr.it   \n",
       "2  2021-12-14T10:41:17.716553+00:00  giorgio.castellan@bo.ismar.cnr.it   \n",
       "3  2021-12-14T09:50:09.833282+00:00  giorgio.castellan@bo.ismar.cnr.it   \n",
       "4  2021-12-07T15:44:04.866966+00:00  giorgio.castellan@bo.ismar.cnr.it   \n",
       "5  2021-12-07T15:20:52.205188+00:00  giorgio.castellan@bo.ismar.cnr.it   \n",
       "6  2021-12-07T14:00:01.195220+00:00  giorgio.castellan@bo.ismar.cnr.it   \n",
       "\n",
       "                        modified_on access_mode  \\\n",
       "0  2022-03-25T09:51:59.432183+00:00      PUBLIC   \n",
       "1  2022-05-22T16:22:45.282688+00:00      PUBLIC   \n",
       "2  2022-03-29T09:26:43.757264+00:00      PUBLIC   \n",
       "3  2022-03-24T17:36:26.806578+00:00      PUBLIC   \n",
       "4  2022-03-24T16:35:02.917450+00:00      PUBLIC   \n",
       "5  2022-03-24T04:37:09.655295+00:00      PUBLIC   \n",
       "6  2022-03-24T04:00:41.708212+00:00      PUBLIC   \n",
       "\n",
       "                               owner creation_mode  \\\n",
       "0  giorgio.castellan@bo.ismar.cnr.it        MANUAL   \n",
       "1  giorgio.castellan@bo.ismar.cnr.it        MANUAL   \n",
       "2  giorgio.castellan@bo.ismar.cnr.it        MANUAL   \n",
       "3  giorgio.castellan@bo.ismar.cnr.it        MANUAL   \n",
       "4  giorgio.castellan@bo.ismar.cnr.it        MANUAL   \n",
       "5  giorgio.castellan@bo.ismar.cnr.it        MANUAL   \n",
       "6  giorgio.castellan@bo.ismar.cnr.it        MANUAL   \n",
       "\n",
       "                                         shared_link  \n",
       "0  https://w3id.org/ro-id/6556cdf7-bcef-43d3-a3ce...  \n",
       "1  https://w3id.org/ro-id/f90c2540-1c8c-499b-b3d1...  \n",
       "2  https://w3id.org/ro-id/d0694eaf-a561-4c9f-9a70...  \n",
       "3  https://w3id.org/ro-id/34d648b3-0014-4a19-8469...  \n",
       "4  https://w3id.org/ro-id/894d3a33-8340-497d-beaf...  \n",
       "5  https://w3id.org/ro-id/1c87c3d6-46f0-4bfe-bc73...  \n",
       "6  https://w3id.org/ro-id/f9fca558-8f1d-4aab-a53b...  "
      ]
     },
     "execution_count": 16,
     "metadata": {},
     "output_type": "execute_result"
    }
   ],
   "source": [
    "myros=rohub.list_my_ros()\n",
    "myros[0:10]"
   ]
  },
  {
   "cell_type": "markdown",
   "id": "proper-middle",
   "metadata": {},
   "source": [
    "### Create a new RO"
   ]
  },
  {
   "cell_type": "code",
   "execution_count": 17,
   "id": "flying-directory",
   "metadata": {
    "tags": []
   },
   "outputs": [
    {
     "name": "stdout",
     "output_type": "stream",
     "text": [
      "Research Object was successfully created with id = fc8a8087-e49a-4d97-8366-61906b5c3969\n"
     ]
    }
   ],
   "source": [
    "# ROS_CREATE\n",
    "# title, research_areas, description=None, access_mode=None, ros_type=None, use_template=False, owner=None, editors=None, readers=None, creation_mode=None\n",
    "\n",
    "# RO TYPE\n",
    "#'Basic Research Object', 'Process-centric Research Object', 'Workflow-centric Research Object', 'Bibliography-centric Research Object', \n",
    "# 'Executable Research Object', 'Service-centric Research Object', 'Software-centric Research Object', 'Data-centric Research Object'\n",
    "\n",
    "ro_title=\"INSERT TITLE\"\n",
    "ro_research_areas=[\"INSERT RESEARCH AREAS\"]\n",
    "ro_type='INSERT RO TYPE'\n",
    "#ro.template='Executable Research Object folders structure'\n",
    "#ro_type=\"Workflow-centric Research Object\"\n",
    "#ro_template=\"Workflow-centric Research Object\"\n",
    "\n",
    "ro = rohub.ros_create(title=ro_title, research_areas=ro_research_areas, ros_type=ro_type,use_template=True)"
   ]
  },
  {
   "cell_type": "markdown",
   "id": "rational-expression",
   "metadata": {},
   "source": [
    "### ...or Load a RO"
   ]
  },
  {
   "cell_type": "code",
   "execution_count": 86,
   "id": "intended-cricket",
   "metadata": {
    "tags": []
   },
   "outputs": [],
   "source": [
    "#ro_id=myros.loc[0,\"identifier\"]\n",
    "#ro=rohub.ros_load(identifier=ro_id)"
   ]
  },
  {
   "cell_type": "markdown",
   "id": "molecular-wales",
   "metadata": {},
   "source": [
    "### Show metadata"
   ]
  },
  {
   "cell_type": "code",
   "execution_count": 18,
   "id": "academic-freeware",
   "metadata": {},
   "outputs": [
    {
     "data": {
      "text/plain": [
       "{'identifier': 'fc8a8087-e49a-4d97-8366-61906b5c3969',\n",
       " 'shared_link': 'https://w3id.org/ro-id/fc8a8087-e49a-4d97-8366-61906b5c3969',\n",
       " 'title': 'Demo RO for creating an executable Research Object from a Jupyter Notebook',\n",
       " 'description': None,\n",
       " 'status': 'LIVE',\n",
       " 'access_mode': 'PUBLIC',\n",
       " 'type': 'Executable Research Object',\n",
       " 'template': 'Executable Research Object folders structure',\n",
       " 'created': '2022-07-18T10:23:36.257031Z',\n",
       " 'creator': 'giorgio.castellan@bo.ismar.cnr.it',\n",
       " 'modificator': None,\n",
       " 'modified': '2022-07-18T10:23:36.553703Z',\n",
       " 'importer': None,\n",
       " 'research_areas': ['Earth sciences'],\n",
       " 'owner': 'giorgio.castellan@bo.ismar.cnr.it',\n",
       " 'editors': [],\n",
       " 'readers': [],\n",
       " 'rating': '0.00',\n",
       " 'number_of_ratings': 0,\n",
       " 'number_of_likes': 0,\n",
       " 'number_of_dislikes': 0,\n",
       " 'completeness': 0,\n",
       " 'size': 0,\n",
       " 'creation_mode': 'MANUAL',\n",
       " 'doi': None,\n",
       " 'resource_storage': 'DEFAULT',\n",
       " 'api_link': 'https://api.rohub.org/api/ros/fc8a8087-e49a-4d97-8366-61906b5c3969/'}"
      ]
     },
     "execution_count": 18,
     "metadata": {},
     "output_type": "execute_result"
    }
   ],
   "source": [
    "ro.show_metadata()"
   ]
  },
  {
   "cell_type": "markdown",
   "id": "academic-operation",
   "metadata": {},
   "source": [
    "### Add description to the RO"
   ]
  },
  {
   "cell_type": "code",
   "execution_count": 19,
   "id": "unnecessary-entrance",
   "metadata": {},
   "outputs": [
    {
     "data": {
      "text/plain": [
       "{'identifier': 'fc8a8087-e49a-4d97-8366-61906b5c3969',\n",
       " 'shared_link': 'https://w3id.org/ro-id/fc8a8087-e49a-4d97-8366-61906b5c3969',\n",
       " 'title': 'Demo RO for creating an executable Research Object from a Jupyter Notebook',\n",
       " 'description': 'This Research Object has been created through EGI Jupyter Notebook. It contains the Python script to create, populate and aggreagte resources in a new or an existing RO',\n",
       " 'status': 'LIVE',\n",
       " 'access_mode': 'PUBLIC',\n",
       " 'type': 'Executable Research Object',\n",
       " 'template': 'Executable Research Object folders structure',\n",
       " 'created': '2022-07-18T10:23:36.257031Z',\n",
       " 'creator': 'giorgio.castellan@bo.ismar.cnr.it',\n",
       " 'modificator': 'giorgio.castellan@bo.ismar.cnr.it',\n",
       " 'modified': '2022-07-18T10:25:54.960186Z',\n",
       " 'importer': None,\n",
       " 'research_areas': ['Earth sciences'],\n",
       " 'owner': 'giorgio.castellan@bo.ismar.cnr.it',\n",
       " 'editors': [],\n",
       " 'readers': [],\n",
       " 'rating': '0.00',\n",
       " 'number_of_ratings': 0,\n",
       " 'number_of_likes': 0,\n",
       " 'number_of_dislikes': 0,\n",
       " 'completeness': 0,\n",
       " 'size': 0,\n",
       " 'creation_mode': 'MANUAL',\n",
       " 'doi': None,\n",
       " 'resource_storage': 'DEFAULT',\n",
       " 'api_link': 'https://api.rohub.org/api/ros/fc8a8087-e49a-4d97-8366-61906b5c3969/'}"
      ]
     },
     "execution_count": 19,
     "metadata": {},
     "output_type": "execute_result"
    }
   ],
   "source": [
    "ro.description=\"ADD A DESCRIPTION\"\n",
    "\n",
    "ro.update()"
   ]
  },
  {
   "cell_type": "markdown",
   "id": "angry-travel",
   "metadata": {},
   "source": [
    "## Add Funder"
   ]
  },
  {
   "cell_type": "code",
   "execution_count": 20,
   "id": "directed-progressive",
   "metadata": {},
   "outputs": [],
   "source": [
    "funded_by = {\n",
    "\"grant_id\": \"ADD ID\",\n",
    "\"grant_Name\": \"ADD NAME\",\n",
    "\"grant_title\": \"ADD TITLE\",\n",
    "\"funder_name\": \"ADD FUNDER\",\n",
    "\"funder_doi\": \"ADD DOI\",\n",
    "}\n",
    "\n",
    "if funded_by:\n",
    "    ro.add_funding(grant_identifier=funded_by[\"grant_id\"], grant_name=funded_by[\"grant_Name\"],\n",
    "                   funder_name=funded_by[\"funder_name\"], grant_title=funded_by[\"grant_title\"],\n",
    "                   funder_doi=funded_by[\"funder_doi\"])"
   ]
  },
  {
   "cell_type": "markdown",
   "id": "ignored-compiler",
   "metadata": {},
   "source": [
    "## Add license"
   ]
  },
  {
   "cell_type": "code",
   "execution_count": 21,
   "id": "offshore-cursor",
   "metadata": {},
   "outputs": [
    {
     "data": {
      "text/plain": [
       "{'identifier': 'GPL-3.0-or-later',\n",
       " 'title': 'GNU General Public License v3.0 or later',\n",
       " 'description': 'GNU General Public License v3.0 or later',\n",
       " 'created': '2018-11-22T14:50:40.729699+00:00',\n",
       " 'updated': '2021-10-07T08:21:24.538648+00:00',\n",
       " 'creator': None,\n",
       " 'status': 'active',\n",
       " 'url': 'https://opensource.org/licenses/GPL-3.0',\n",
       " 'custom': False}"
      ]
     },
     "execution_count": 21,
     "metadata": {},
     "output_type": "execute_result"
    }
   ],
   "source": [
    "#licenses = rohub.list_available_licenses()\n",
    "#licenses\n",
    "license = 'ADD LICENSE'\n",
    "\n",
    "ro.set_license(license_id=license) "
   ]
  },
  {
   "cell_type": "markdown",
   "id": "4c56005d-89bd-453a-bde0-6757222aaea4",
   "metadata": {
    "tags": []
   },
   "source": [
    "# Add resources to the RO"
   ]
  },
  {
   "cell_type": "markdown",
   "id": "3ad70a6e-5320-4bae-a641-2c4845b9cedf",
   "metadata": {},
   "source": [
    "### Define folders in datahub"
   ]
  },
  {
   "cell_type": "code",
   "execution_count": 91,
   "id": "b28878f6-e5ff-4ff0-a875-f12f05ac9eab",
   "metadata": {
    "tags": []
   },
   "outputs": [
    {
     "name": "stdout",
     "output_type": "stream",
     "text": [
      "WORKDIR FOLDER:  /home/jovyan/datahub/Reliance/Geohazard_Santorini2\n"
     ]
    }
   ],
   "source": [
    "WORKDIR_FOLDER = os.path.join(os.environ['HOME'], \"datahub/Reliance/NAME FOLDER\")\n",
    "print(\"WORKDIR FOLDER: \", WORKDIR_FOLDER)"
   ]
  },
  {
   "cell_type": "code",
   "execution_count": 92,
   "id": "fb32273a-541c-4a25-b6ac-0fdaeb94ff6e",
   "metadata": {},
   "outputs": [],
   "source": [
    "INPUT_DATA_DIR  = os.path.join(WORKDIR_FOLDER, 'input')\n",
    "OUTPUT_DATA_DIR = os.path.join(WORKDIR_FOLDER, 'output')\n",
    "TOOL_DATA_DIR   = os.path.join(WORKDIR_FOLDER, 'tool')"
   ]
  },
  {
   "cell_type": "markdown",
   "id": "acceptable-kelly",
   "metadata": {},
   "source": [
    "### Add Sketch"
   ]
  },
  {
   "cell_type": "code",
   "execution_count": 93,
   "id": "indoor-mirror",
   "metadata": {
    "tags": []
   },
   "outputs": [
    {
     "name": "stdout",
     "output_type": "stream",
     "text": [
      "Resource was successfully created with id = 01121b69-cd6e-491e-8f4a-320ad9ec4784\n"
     ]
    },
    {
     "data": {
      "text/plain": [
       "Resource(identifier=01121b69-cd6e-491e-8f4a-320ad9ec4784, post_request=False)"
      ]
     },
     "execution_count": 93,
     "metadata": {},
     "output_type": "execute_result"
    }
   ],
   "source": [
    "resi_res_type = \"Sketch\"\n",
    "resi_file_path = os.path.join(OUTPUT_DATA_DIR, 'NAME FILE WITH EXTENSION')\n",
    "resi_title=\"ADD TITLE\"\n",
    "resi_folder=\"output\"\n",
    "resi_description=resi_title\n",
    "\n",
    "ro.add_internal_resource(res_type=resi_res_type,\n",
    "                         file_path=resi_file_path,\n",
    "                         title=resi_title,\n",
    "                         description=resi_description,\n",
    "                         folder=resi_folder)"
   ]
  },
  {
   "cell_type": "markdown",
   "id": "5b89183b-4b73-45c2-92d0-69a3eb835cbd",
   "metadata": {},
   "source": [
    "### or from external resource"
   ]
  },
  {
   "cell_type": "code",
   "execution_count": null,
   "id": "4530472b-a222-4281-a2e4-f19dc97dedd9",
   "metadata": {},
   "outputs": [],
   "source": [
    "resi_res_type = \"Sketch\"\n",
    "resi_file_url = \"https://www.researchobject.org/images/research-objects-illustration.png\"\n",
    "resi_title=\"Research Object Conceptualization\"\n",
    "resi_folder=\"output\"\n",
    "resi_description=resi_title\n",
    "\n",
    "ro.add_external_resource(res_type=resi_res_type,\n",
    "                         input_url=resi_file_url,\n",
    "                         title=resi_title,\n",
    "                         description = resi_description,\n",
    "                         folder=resi_folder)"
   ]
  },
  {
   "cell_type": "markdown",
   "id": "14d5d0ec-d7ff-4e6f-bfef-9125052aca49",
   "metadata": {
    "tags": []
   },
   "source": [
    "### Add bibliographic resource"
   ]
  },
  {
   "cell_type": "code",
   "execution_count": 95,
   "id": "4eb06da1-3805-4fc9-a23e-eeb76c41044e",
   "metadata": {},
   "outputs": [
    {
     "name": "stdout",
     "output_type": "stream",
     "text": [
      "Resource was successfully created with id = 4011d8da-4641-4ad5-83e6-0a6f43b263e1\n"
     ]
    },
    {
     "data": {
      "text/plain": [
       "Resource(identifier=4011d8da-4641-4ad5-83e6-0a6f43b263e1, post_request=False)"
      ]
     },
     "execution_count": 95,
     "metadata": {},
     "output_type": "execute_result"
    }
   ],
   "source": [
    "rese_res_type=\"Bibliographic Resource\"\n",
    "rese_file_url=\"ADD URL TO RESOURCE\"\n",
    "rese_title=\"ADD RESOURCE TITLE\"\n",
    "rese_descr= \"ADD DESCRIPTION / REFERENCE\"\n",
    "resi_folder=\"biblio\"\n",
    "\n",
    "ro.add_external_resource(res_type=rese_res_type,\n",
    "                         input_url=rese_file_url,\n",
    "                         title=rese_title,\n",
    "                         description = rese_descr,\n",
    "                         folder=resi_folder)"
   ]
  },
  {
   "cell_type": "code",
   "execution_count": 96,
   "id": "4dd2e021-47f2-4e3e-8610-814d822ba570",
   "metadata": {},
   "outputs": [
    {
     "data": {
      "text/html": [
       "<div>\n",
       "<style scoped>\n",
       "    .dataframe tbody tr th:only-of-type {\n",
       "        vertical-align: middle;\n",
       "    }\n",
       "\n",
       "    .dataframe tbody tr th {\n",
       "        vertical-align: top;\n",
       "    }\n",
       "\n",
       "    .dataframe thead th {\n",
       "        text-align: right;\n",
       "    }\n",
       "</style>\n",
       "<table border=\"1\" class=\"dataframe\">\n",
       "  <thead>\n",
       "    <tr style=\"text-align: right;\">\n",
       "      <th></th>\n",
       "      <th>identifier</th>\n",
       "      <th>type</th>\n",
       "      <th>source</th>\n",
       "      <th>title</th>\n",
       "      <th>description</th>\n",
       "      <th>url</th>\n",
       "      <th>name</th>\n",
       "      <th>path</th>\n",
       "      <th>size</th>\n",
       "      <th>creator</th>\n",
       "      <th>created_on</th>\n",
       "      <th>modified_on</th>\n",
       "      <th>download_url</th>\n",
       "    </tr>\n",
       "  </thead>\n",
       "  <tbody>\n",
       "    <tr>\n",
       "      <th>0</th>\n",
       "      <td>4011d8da-4641-4ad5-83e6-0a6f43b263e1</td>\n",
       "      <td>Bibliographic Resource</td>\n",
       "      <td>external</td>\n",
       "      <td>Monitoring Santorini volcano (Greece) breathin...</td>\n",
       "      <td>Monitoring Santorini volcano (Greece) breathin...</td>\n",
       "      <td>https://academic.oup.com/gji/article/193/1/161...</td>\n",
       "      <td>Monitoring Santorini volcano (Greece) breathin...</td>\n",
       "      <td>https://academic.oup.com/gji/article/193/1/161...</td>\n",
       "      <td>NaN</td>\n",
       "      <td>rpalma@man.poznan.pl</td>\n",
       "      <td>2022-06-22T20:33:11.784269+0000</td>\n",
       "      <td>2022-06-22T20:33:12.290539+0000</td>\n",
       "      <td>https://api.rohub.org/api/resources/4011d8da-4...</td>\n",
       "    </tr>\n",
       "    <tr>\n",
       "      <th>1</th>\n",
       "      <td>01121b69-cd6e-491e-8f4a-320ad9ec4784</td>\n",
       "      <td>Sketch</td>\n",
       "      <td>internal</td>\n",
       "      <td>Data - Model - Residuals with InSAR descending...</td>\n",
       "      <td>Data - Model - Residuals with InSAR descending...</td>\n",
       "      <td>None</td>\n",
       "      <td>Data - Model - Residuals with InSAR descending...</td>\n",
       "      <td>output/VSM_res_sar.png</td>\n",
       "      <td>126137.0</td>\n",
       "      <td>rpalma@man.poznan.pl</td>\n",
       "      <td>2022-06-22T20:33:03.995312+0000</td>\n",
       "      <td>2022-06-22T20:33:08.357713+0000</td>\n",
       "      <td>https://api.rohub.org/api/resources/01121b69-c...</td>\n",
       "    </tr>\n",
       "  </tbody>\n",
       "</table>\n",
       "</div>"
      ],
      "text/plain": [
       "                             identifier                    type    source  \\\n",
       "0  4011d8da-4641-4ad5-83e6-0a6f43b263e1  Bibliographic Resource  external   \n",
       "1  01121b69-cd6e-491e-8f4a-320ad9ec4784                  Sketch  internal   \n",
       "\n",
       "                                               title  \\\n",
       "0  Monitoring Santorini volcano (Greece) breathin...   \n",
       "1  Data - Model - Residuals with InSAR descending...   \n",
       "\n",
       "                                         description  \\\n",
       "0  Monitoring Santorini volcano (Greece) breathin...   \n",
       "1  Data - Model - Residuals with InSAR descending...   \n",
       "\n",
       "                                                 url  \\\n",
       "0  https://academic.oup.com/gji/article/193/1/161...   \n",
       "1                                               None   \n",
       "\n",
       "                                                name  \\\n",
       "0  Monitoring Santorini volcano (Greece) breathin...   \n",
       "1  Data - Model - Residuals with InSAR descending...   \n",
       "\n",
       "                                                path      size  \\\n",
       "0  https://academic.oup.com/gji/article/193/1/161...       NaN   \n",
       "1                             output/VSM_res_sar.png  126137.0   \n",
       "\n",
       "                creator                       created_on  \\\n",
       "0  rpalma@man.poznan.pl  2022-06-22T20:33:11.784269+0000   \n",
       "1  rpalma@man.poznan.pl  2022-06-22T20:33:03.995312+0000   \n",
       "\n",
       "                       modified_on  \\\n",
       "0  2022-06-22T20:33:12.290539+0000   \n",
       "1  2022-06-22T20:33:08.357713+0000   \n",
       "\n",
       "                                        download_url  \n",
       "0  https://api.rohub.org/api/resources/4011d8da-4...  \n",
       "1  https://api.rohub.org/api/resources/01121b69-c...  "
      ]
     },
     "execution_count": 96,
     "metadata": {},
     "output_type": "execute_result"
    }
   ],
   "source": [
    "ro.list_resources()"
   ]
  },
  {
   "cell_type": "markdown",
   "id": "aaa9727e-afd7-43d3-a940-3d0014138d92",
   "metadata": {
    "tags": []
   },
   "source": [
    "### Add Python Script"
   ]
  },
  {
   "cell_type": "code",
   "execution_count": null,
   "id": "58062793-53e1-4680-bba6-c895d956bae8",
   "metadata": {},
   "outputs": [],
   "source": [
    "import pathlib\n",
    "resi_file_path='DEMO_ROcreator.ipynb'\n",
    "resi_folder=myfolders.loc[3,\"identifier\"]"
   ]
  },
  {
   "cell_type": "code",
   "execution_count": null,
   "id": "3d791af0-c918-4a2e-bdb8-87f1117838bc",
   "metadata": {},
   "outputs": [],
   "source": [
    "if pathlib.Path(resi_file_path).exists():\n",
    "    resi_res_type=\"Python Script\"\n",
    "    resi_title=\"Create a new RO using Python Jupyter Notebook through EGI\"\n",
    "    resi_description= resi_title\n",
    "    ro.add_internal_resource(res_type=resi_res_type,file_path=resi_file_path, title=resi_title, description=resi_description)"
   ]
  },
  {
   "cell_type": "markdown",
   "id": "28434c78-d0b1-4bc8-a083-3695c2b233b1",
   "metadata": {},
   "source": [
    "# Aggregate external resources from the EGI datahub"
   ]
  },
  {
   "cell_type": "markdown",
   "id": "95f07340-7b98-4cd1-bb21-d4126cd5bb03",
   "metadata": {},
   "source": [
    "###  Get shared link from datahub\n",
    "1. Retrieve your client identifier, client secret and refresh token from https://aai.egi.eu/fedcloud/\n",
    "2. Create a new file in your HOME area for instance using nano (keep the `$` character in front of HOME; this is meant to be an environment variable):\n",
    "```\n",
    "nano $HOME/egi_fedcloud.cfg\n",
    "```\n",
    "3. Paste your client identifier, client secret and refresh token using the following syntax (do not forget `{` and `}` as well as comma `,` and columns `:`\n",
    "```\n",
    "{\n",
    "\"id\": \"XXXXXXXXXXXXXXXXX\",\n",
    "\"secret\": \"YYYYYYYYYYYYYYYYYYYYYYYYYYYYYYY\",\n",
    "\"token\": \"ffffffffffffffffffffffff\"\n",
    "}\n",
    "```\n",
    "\n",
    "\n",
    "4a.NOTE: New refresh tokens expire in 13 months.\n",
    "To generate access tokens from this refresh token use the following curl command:\n",
    "curl -X POST -u 'f33e824a-078d-497b-b700-25b0df7fc5b7':'B80vPK0LVbYuvwRj0Aexs8y0rKgk5XHwYRRq3BCr33ejj33385bzDVcPmSTUkqA2QjMiwWKJDTxvOou7yVV8EA'  -d 'grant_type=refresh_token&refresh_token=eyJhbGciOiJub25lIn0.eyJleHAiOjE2Nzg3MjI0MTgsImp0aSI6Ijg5NDg5NTYwLTJkOWEtNGQ3OS05M2IwLWQ4ZDAxNTA3NWVmNiJ9.&scope=openid%20email%20profile%20eduperson_entitlement' 'https://aai.egi.eu/oidc/token' | python -m json.tool;\n",
    "NOTE: New access tokens expire in 1 hour.\n",
    "You can manage your refresh tokens in the following link: https://aai.egi.eu/oidc/manage/user/services\n",
    "\n",
    "4b. You are ready to go. If you have issues, check first that the syntax is correct in your egi_fedcloud.cfg, that this file is located in the correct folder and then finally that your refresh token is still valid (check on https://aai.egi.eu/fedcloud/)"
   ]
  },
  {
   "cell_type": "markdown",
   "id": "cc11e4a7-c05d-454b-a3d7-2ac65bb21cdc",
   "metadata": {
    "tags": []
   },
   "source": [
    "#### EGI Datahub functions to initialize EGI datahub and get shared link"
   ]
  },
  {
   "cell_type": "code",
   "execution_count": 98,
   "id": "514f21e2-62df-46ee-b4a5-32180a183314",
   "metadata": {
    "tags": []
   },
   "outputs": [],
   "source": [
    "def egi_datahub_init():\n",
    "    OIDC_ENDPOINT=\"https://aai.egi.eu/oidc/\"\n",
    "    ONEZONE_ENDPOINT=\"https://datahub.egi.eu/api/v3/onezone/\"\n",
    "    ONEPROVIDER_ENDPOINT=\"https://cesnet-oneprovider-01.datahub.egi.eu/api/v3/oneprovider/\"\n",
    "\n",
    "    egi_fedcloud_filename = os.path.join(os.environ['HOME'], 'egi_fedcloud.cfg')\n",
    "    with open(egi_fedcloud_filename, 'r') as convert_file:\n",
    "        tmp = convert_file.read()\n",
    "        egi_fedcloud_auth = json.loads(tmp)\n",
    "        try:\n",
    "            # Retrieving an OIDC token from Check-in\n",
    "            data = {\n",
    "                'client_id': egi_fedcloud_auth['id'],\n",
    "                'client_secret': egi_fedcloud_auth['secret'],\n",
    "                'refresh_token': egi_fedcloud_auth['token'],\n",
    "                #'scope': 'openid email profile',\n",
    "                'scope': 'openid email profile eduperson_entitlement',\n",
    "                'grant_type': 'refresh_token'\n",
    "            }\n",
    "            response = requests.post(OIDC_ENDPOINT+'token', data=data, auth=(egi_fedcloud_auth['id'], \n",
    "                                                                                       egi_fedcloud_auth['secret']))\n",
    "            #print(json.dumps(response.json(), indent=2))\n",
    "            EGItoken = response.json()['access_token']\n",
    "            headers = {\n",
    "                'X-Auth-Token': f\"egi:\" + EGItoken,\n",
    "                'Content-type': 'application/json',\n",
    "            }\n",
    "            # get current timestamp\n",
    "            ts = datetime.datetime.now().timestamp()\n",
    "            data = json.dumps({ \n",
    "                'name': 'REST and CDMI access token ' + str(ts), \n",
    "                'type': { \n",
    "                    'accessToken': {} \n",
    "                }, \n",
    "                'caveats': [ { \n",
    "                    'type': 'interface', \n",
    "                    'interface': 'rest' \n",
    "                }] \n",
    "            })\n",
    "\n",
    "            response = requests.post(ONEZONE_ENDPOINT+'user/tokens/named', headers=headers, data=data)\n",
    "            DATAHUB_TOKEN = response.json()['token']\n",
    "            return DATAHUB_TOKEN\n",
    "        except:\n",
    "            print(\"EGI Datahub Authentication problem: check your credentials\")"
   ]
  },
  {
   "cell_type": "code",
   "execution_count": 99,
   "id": "af81732e-c9eb-44f0-98d0-656c11bb08ff",
   "metadata": {
    "tags": []
   },
   "outputs": [],
   "source": [
    "def egi_datahub_getlink(datahub_token, filename):\n",
    "    OIDC_ENDPOINT=\"https://aai.egi.eu/oidc/\"\n",
    "    ONEZONE_ENDPOINT=\"https://datahub.egi.eu/api/v3/onezone/\"\n",
    "    ONEPROVIDER_ENDPOINT=\"https://cesnet-oneprovider-01.datahub.egi.eu/api/v3/oneprovider/\"\n",
    "    \n",
    "    bname = os.path.basename(filename)\n",
    "    hname = filename.split('datahub/')[1]\n",
    "    ## get file id\n",
    "    headers = { \n",
    "        'X-Auth-Token': datahub_token \n",
    "    }\n",
    "    response = requests.post(ONEPROVIDER_ENDPOINT+'lookup-file-id/'+hname, headers=headers)\n",
    "    dh_fileid = response.json()['fileId']\n",
    "    ## get shared link \n",
    "    headers = { 'X-Auth-Token': datahub_token, 'Content-Type': 'application/json',}\n",
    "    data = json.dumps({ \n",
    "        'name': bname,\n",
    "        'fileId': dh_fileid\n",
    "    })\n",
    "    response = requests.post(ONEPROVIDER_ENDPOINT+'shares', headers=headers, data=data)\n",
    "    shareIdGenerated=response.json()['shareId']\n",
    "    # get shared link details\n",
    "    headers = {\n",
    "        'X-Auth-Token': datahub_token\n",
    "    }\n",
    "    response = requests.get(ONEPROVIDER_ENDPOINT+'shares/'+shareIdGenerated, headers=headers)\n",
    "    publicURL=response.json()['publicUrl'] #publicURL is nice link but to webpage where you can download file, not the actual file\n",
    "    contentURL= ONEZONE_ENDPOINT+'shares/data/'+response.json()['rootFileId']+'/content' #use this link to aggregate Jupyter Notebooks\n",
    "    return (publicURL, contentURL)"
   ]
  },
  {
   "cell_type": "markdown",
   "id": "e217b492-691b-47d7-9751-9cffff1a5105",
   "metadata": {},
   "source": [
    "### EGI DataHub initialization "
   ]
  },
  {
   "cell_type": "code",
   "execution_count": 100,
   "id": "bf989e8a-8d5c-4c75-beaf-a919f2e8d400",
   "metadata": {},
   "outputs": [],
   "source": [
    "DATAHUB_TOKEN = egi_datahub_init()"
   ]
  },
  {
   "cell_type": "markdown",
   "id": "f6d6e08b-7eb0-4db7-9b5d-73a0aa4ddc55",
   "metadata": {},
   "source": [
    "## Tool"
   ]
  },
  {
   "cell_type": "code",
   "execution_count": 107,
   "id": "96785d50-4684-4ae7-abe1-35134907bb5f",
   "metadata": {},
   "outputs": [
    {
     "name": "stdout",
     "output_type": "stream",
     "text": [
      "/home/jovyan/datahub/Reliance/Geohazard_Santorini2/tool/VSM_Santo_datahub.ipynb\n"
     ]
    }
   ],
   "source": [
    "myfilename = 'ADD NAME NOTEBOOK'\n",
    "shared_res_path = os.path.join(TOOL_DATA_DIR, myfilename)\n",
    "print(shared_res_path)\n"
   ]
  },
  {
   "cell_type": "code",
   "execution_count": 108,
   "id": "ce137bc8-6679-4843-8b33-c524e55d6ff9",
   "metadata": {},
   "outputs": [
    {
     "name": "stdout",
     "output_type": "stream",
     "text": [
      "https://datahub.egi.eu/api/v3/onezone/shares/data/00000000007EA412736861726547756964236263666465323337623438616464356432313236613730653731643138646262636830373531233732356634616233366362323664306662666330633132346337373565666565636865653439236162643837393636323763613933333536646263343432623734623263616436636831363030/content\n"
     ]
    }
   ],
   "source": [
    "links = egi_datahub_getlink(DATAHUB_TOKEN, shared_res_path)\n",
    "res_file_url = links[1]\n",
    "\n",
    "print (res_file_url)"
   ]
  },
  {
   "cell_type": "code",
   "execution_count": 109,
   "id": "44cabf3f-5a54-494a-aa66-46734473fb37",
   "metadata": {
    "tags": []
   },
   "outputs": [
    {
     "name": "stdout",
     "output_type": "stream",
     "text": [
      "Resource was successfully created with id = cd79ed15-5aa1-4548-9e06-730095fea961\n"
     ]
    },
    {
     "data": {
      "text/plain": [
       "Resource(identifier=cd79ed15-5aa1-4548-9e06-730095fea961, post_request=False)"
      ]
     },
     "execution_count": 109,
     "metadata": {},
     "output_type": "execute_result"
    }
   ],
   "source": [
    "#res_file_url = egi_datahub_getlink(DATAHUB_TOKEN, shared_res_path)\n",
    "res_type=\"Jupyter Notebook\"\n",
    "res_title=\"ADD TITLE\"\n",
    "res_description=\"ADD DESCRIPTION\"\n",
    "res_folder='tool'\n",
    "ro.add_external_resource(res_type=res_type,\n",
    "                         input_url=res_file_url,\n",
    "                         title=res_title, \n",
    "                         description=res_description, \n",
    "                         folder=res_folder)"
   ]
  }
 ],
 "metadata": {
  "kernelspec": {
   "display_name": "Python 3",
   "language": "python",
   "name": "python3"
  },
  "language_info": {
   "codemirror_mode": {
    "name": "ipython",
    "version": 3
   },
   "file_extension": ".py",
   "mimetype": "text/x-python",
   "name": "python",
   "nbconvert_exporter": "python",
   "pygments_lexer": "ipython3",
   "version": "3.8.8"
  }
 },
 "nbformat": 4,
 "nbformat_minor": 5
}
